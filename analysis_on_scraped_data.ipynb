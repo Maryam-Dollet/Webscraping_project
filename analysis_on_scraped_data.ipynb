{
 "cells": [
  {
   "cell_type": "code",
   "execution_count": 1,
   "metadata": {},
   "outputs": [],
   "source": [
    "import pandas as pd\n",
    "import numpy as np\n",
    "import matplotlib.pyplot as plt\n",
    "from deep_translator import GoogleTranslator as translator\n",
    "import pickle\n",
    "import plotly.express as px"
   ]
  },
  {
   "cell_type": "markdown",
   "metadata": {},
   "source": [
    "### Translation of Medals data"
   ]
  },
  {
   "cell_type": "code",
   "execution_count": 2,
   "metadata": {},
   "outputs": [
    {
     "data": {
      "text/html": [
       "<div>\n",
       "<style scoped>\n",
       "    .dataframe tbody tr th:only-of-type {\n",
       "        vertical-align: middle;\n",
       "    }\n",
       "\n",
       "    .dataframe tbody tr th {\n",
       "        vertical-align: top;\n",
       "    }\n",
       "\n",
       "    .dataframe thead th {\n",
       "        text-align: right;\n",
       "    }\n",
       "</style>\n",
       "<table border=\"1\" class=\"dataframe\">\n",
       "  <thead>\n",
       "    <tr style=\"text-align: right;\">\n",
       "      <th></th>\n",
       "      <th>Place</th>\n",
       "      <th>Pays</th>\n",
       "      <th>Or</th>\n",
       "      <th>Argent</th>\n",
       "      <th>Bronze</th>\n",
       "      <th>Total</th>\n",
       "      <th>Lieu</th>\n",
       "      <th>Annee</th>\n",
       "    </tr>\n",
       "  </thead>\n",
       "  <tbody>\n",
       "    <tr>\n",
       "      <th>0</th>\n",
       "      <td>1</td>\n",
       "      <td>Etats Unis</td>\n",
       "      <td>38</td>\n",
       "      <td>41</td>\n",
       "      <td>34</td>\n",
       "      <td>113</td>\n",
       "      <td>Tokyo</td>\n",
       "      <td>2021</td>\n",
       "    </tr>\n",
       "    <tr>\n",
       "      <th>1</th>\n",
       "      <td>2</td>\n",
       "      <td>Chine</td>\n",
       "      <td>36</td>\n",
       "      <td>32</td>\n",
       "      <td>18</td>\n",
       "      <td>86</td>\n",
       "      <td>Tokyo</td>\n",
       "      <td>2021</td>\n",
       "    </tr>\n",
       "    <tr>\n",
       "      <th>2</th>\n",
       "      <td>3</td>\n",
       "      <td>Japon</td>\n",
       "      <td>27</td>\n",
       "      <td>12</td>\n",
       "      <td>16</td>\n",
       "      <td>55</td>\n",
       "      <td>Tokyo</td>\n",
       "      <td>2021</td>\n",
       "    </tr>\n",
       "    <tr>\n",
       "      <th>3</th>\n",
       "      <td>4</td>\n",
       "      <td>Grande Bretagne</td>\n",
       "      <td>22</td>\n",
       "      <td>21</td>\n",
       "      <td>22</td>\n",
       "      <td>65</td>\n",
       "      <td>Tokyo</td>\n",
       "      <td>2021</td>\n",
       "    </tr>\n",
       "    <tr>\n",
       "      <th>4</th>\n",
       "      <td>5</td>\n",
       "      <td>Russie</td>\n",
       "      <td>20</td>\n",
       "      <td>28</td>\n",
       "      <td>23</td>\n",
       "      <td>71</td>\n",
       "      <td>Tokyo</td>\n",
       "      <td>2021</td>\n",
       "    </tr>\n",
       "  </tbody>\n",
       "</table>\n",
       "</div>"
      ],
      "text/plain": [
       "   Place             Pays  Or  Argent  Bronze  Total   Lieu  Annee\n",
       "0      1       Etats Unis  38      41      34    113  Tokyo   2021\n",
       "1      2            Chine  36      32      18     86  Tokyo   2021\n",
       "2      3            Japon  27      12      16     55  Tokyo   2021\n",
       "3      4  Grande Bretagne  22      21      22     65  Tokyo   2021\n",
       "4      5           Russie  20      28      23     71  Tokyo   2021"
      ]
     },
     "execution_count": 2,
     "metadata": {},
     "output_type": "execute_result"
    }
   ],
   "source": [
    "medals = pd.read_csv(\"data_csv/medailles.csv\")\n",
    "medals.head()"
   ]
  },
  {
   "cell_type": "code",
   "execution_count": 3,
   "metadata": {},
   "outputs": [
    {
     "data": {
      "text/html": [
       "<div>\n",
       "<style scoped>\n",
       "    .dataframe tbody tr th:only-of-type {\n",
       "        vertical-align: middle;\n",
       "    }\n",
       "\n",
       "    .dataframe tbody tr th {\n",
       "        vertical-align: top;\n",
       "    }\n",
       "\n",
       "    .dataframe thead th {\n",
       "        text-align: right;\n",
       "    }\n",
       "</style>\n",
       "<table border=\"1\" class=\"dataframe\">\n",
       "  <thead>\n",
       "    <tr style=\"text-align: right;\">\n",
       "      <th></th>\n",
       "      <th>Place</th>\n",
       "      <th>Country</th>\n",
       "      <th>Gold</th>\n",
       "      <th>Silver</th>\n",
       "      <th>Bronze</th>\n",
       "      <th>Total</th>\n",
       "      <th>Location</th>\n",
       "      <th>Year</th>\n",
       "    </tr>\n",
       "  </thead>\n",
       "  <tbody>\n",
       "    <tr>\n",
       "      <th>0</th>\n",
       "      <td>1</td>\n",
       "      <td>Etats Unis</td>\n",
       "      <td>38</td>\n",
       "      <td>41</td>\n",
       "      <td>34</td>\n",
       "      <td>113</td>\n",
       "      <td>Tokyo</td>\n",
       "      <td>2021</td>\n",
       "    </tr>\n",
       "    <tr>\n",
       "      <th>1</th>\n",
       "      <td>2</td>\n",
       "      <td>Chine</td>\n",
       "      <td>36</td>\n",
       "      <td>32</td>\n",
       "      <td>18</td>\n",
       "      <td>86</td>\n",
       "      <td>Tokyo</td>\n",
       "      <td>2021</td>\n",
       "    </tr>\n",
       "    <tr>\n",
       "      <th>2</th>\n",
       "      <td>3</td>\n",
       "      <td>Japon</td>\n",
       "      <td>27</td>\n",
       "      <td>12</td>\n",
       "      <td>16</td>\n",
       "      <td>55</td>\n",
       "      <td>Tokyo</td>\n",
       "      <td>2021</td>\n",
       "    </tr>\n",
       "    <tr>\n",
       "      <th>3</th>\n",
       "      <td>4</td>\n",
       "      <td>Grande Bretagne</td>\n",
       "      <td>22</td>\n",
       "      <td>21</td>\n",
       "      <td>22</td>\n",
       "      <td>65</td>\n",
       "      <td>Tokyo</td>\n",
       "      <td>2021</td>\n",
       "    </tr>\n",
       "    <tr>\n",
       "      <th>4</th>\n",
       "      <td>5</td>\n",
       "      <td>Russie</td>\n",
       "      <td>20</td>\n",
       "      <td>28</td>\n",
       "      <td>23</td>\n",
       "      <td>71</td>\n",
       "      <td>Tokyo</td>\n",
       "      <td>2021</td>\n",
       "    </tr>\n",
       "    <tr>\n",
       "      <th>5</th>\n",
       "      <td>6</td>\n",
       "      <td>Australie</td>\n",
       "      <td>17</td>\n",
       "      <td>7</td>\n",
       "      <td>21</td>\n",
       "      <td>45</td>\n",
       "      <td>Tokyo</td>\n",
       "      <td>2021</td>\n",
       "    </tr>\n",
       "    <tr>\n",
       "      <th>6</th>\n",
       "      <td>7</td>\n",
       "      <td>Pays-Bas</td>\n",
       "      <td>10</td>\n",
       "      <td>12</td>\n",
       "      <td>14</td>\n",
       "      <td>36</td>\n",
       "      <td>Tokyo</td>\n",
       "      <td>2021</td>\n",
       "    </tr>\n",
       "    <tr>\n",
       "      <th>7</th>\n",
       "      <td>8</td>\n",
       "      <td>France</td>\n",
       "      <td>10</td>\n",
       "      <td>12</td>\n",
       "      <td>11</td>\n",
       "      <td>33</td>\n",
       "      <td>Tokyo</td>\n",
       "      <td>2021</td>\n",
       "    </tr>\n",
       "    <tr>\n",
       "      <th>8</th>\n",
       "      <td>9</td>\n",
       "      <td>Italie</td>\n",
       "      <td>10</td>\n",
       "      <td>10</td>\n",
       "      <td>20</td>\n",
       "      <td>40</td>\n",
       "      <td>Tokyo</td>\n",
       "      <td>2021</td>\n",
       "    </tr>\n",
       "    <tr>\n",
       "      <th>9</th>\n",
       "      <td>10</td>\n",
       "      <td>Allemagne</td>\n",
       "      <td>10</td>\n",
       "      <td>10</td>\n",
       "      <td>16</td>\n",
       "      <td>36</td>\n",
       "      <td>Tokyo</td>\n",
       "      <td>2021</td>\n",
       "    </tr>\n",
       "    <tr>\n",
       "      <th>10</th>\n",
       "      <td>11</td>\n",
       "      <td>Canada</td>\n",
       "      <td>7</td>\n",
       "      <td>6</td>\n",
       "      <td>11</td>\n",
       "      <td>24</td>\n",
       "      <td>Tokyo</td>\n",
       "      <td>2021</td>\n",
       "    </tr>\n",
       "    <tr>\n",
       "      <th>11</th>\n",
       "      <td>12</td>\n",
       "      <td>Brésil</td>\n",
       "      <td>7</td>\n",
       "      <td>6</td>\n",
       "      <td>8</td>\n",
       "      <td>21</td>\n",
       "      <td>Tokyo</td>\n",
       "      <td>2021</td>\n",
       "    </tr>\n",
       "    <tr>\n",
       "      <th>12</th>\n",
       "      <td>13</td>\n",
       "      <td>Nouvelle-Zélande</td>\n",
       "      <td>7</td>\n",
       "      <td>6</td>\n",
       "      <td>7</td>\n",
       "      <td>20</td>\n",
       "      <td>Tokyo</td>\n",
       "      <td>2021</td>\n",
       "    </tr>\n",
       "    <tr>\n",
       "      <th>13</th>\n",
       "      <td>14</td>\n",
       "      <td>Cuba</td>\n",
       "      <td>7</td>\n",
       "      <td>3</td>\n",
       "      <td>5</td>\n",
       "      <td>15</td>\n",
       "      <td>Tokyo</td>\n",
       "      <td>2021</td>\n",
       "    </tr>\n",
       "    <tr>\n",
       "      <th>14</th>\n",
       "      <td>15</td>\n",
       "      <td>Hongrie</td>\n",
       "      <td>6</td>\n",
       "      <td>7</td>\n",
       "      <td>7</td>\n",
       "      <td>20</td>\n",
       "      <td>Tokyo</td>\n",
       "      <td>2021</td>\n",
       "    </tr>\n",
       "  </tbody>\n",
       "</table>\n",
       "</div>"
      ],
      "text/plain": [
       "    Place           Country  Gold  Silver  Bronze  Total Location  Year\n",
       "0       1        Etats Unis    38      41      34    113    Tokyo  2021\n",
       "1       2             Chine    36      32      18     86    Tokyo  2021\n",
       "2       3             Japon    27      12      16     55    Tokyo  2021\n",
       "3       4   Grande Bretagne    22      21      22     65    Tokyo  2021\n",
       "4       5            Russie    20      28      23     71    Tokyo  2021\n",
       "5       6         Australie    17       7      21     45    Tokyo  2021\n",
       "6       7          Pays-Bas    10      12      14     36    Tokyo  2021\n",
       "7       8            France    10      12      11     33    Tokyo  2021\n",
       "8       9            Italie    10      10      20     40    Tokyo  2021\n",
       "9      10         Allemagne    10      10      16     36    Tokyo  2021\n",
       "10     11            Canada     7       6      11     24    Tokyo  2021\n",
       "11     12            Brésil     7       6       8     21    Tokyo  2021\n",
       "12     13  Nouvelle-Zélande     7       6       7     20    Tokyo  2021\n",
       "13     14              Cuba     7       3       5     15    Tokyo  2021\n",
       "14     15           Hongrie     6       7       7     20    Tokyo  2021"
      ]
     },
     "execution_count": 3,
     "metadata": {},
     "output_type": "execute_result"
    }
   ],
   "source": [
    "# let's change the column names of the medals dataframe to Place, Country, Gold, Silver, Bronze, Total, Location, Year\n",
    "medals.columns = ['Place', 'Country', 'Gold', 'Silver', 'Bronze', 'Total', 'Location', 'Year']\n",
    "medals.head(15)"
   ]
  },
  {
   "cell_type": "code",
   "execution_count": 4,
   "metadata": {},
   "outputs": [
    {
     "name": "stdout",
     "output_type": "stream",
     "text": [
      "{'Etats Unis': 'Etats Unis', 'Chine': 'Chine', 'Japon': 'Japon', 'Grande Bretagne': 'Grande Bretagne', 'Russie': 'Russie', 'Australie': 'Australie', 'Pays-Bas': 'Pays-Bas', 'France': 'France', 'Italie': 'Italie', 'Allemagne': 'Allemagne', 'Canada': 'Canada', 'Brésil': 'Brésil', 'Nouvelle-Zélande': 'Nouvelle-Zélande', 'Cuba': 'Cuba', 'Hongrie': 'Hongrie', 'Corée du Sud': 'Corée du Sud', 'Pologne': 'Pologne', 'République Tchèque': 'République Tchèque', 'Kenya': 'Kenya', 'Norvège': 'Norvège', 'Jamaïque': 'Jamaïque', 'Espagne': 'Espagne', 'Suède': 'Suède', 'Suisse': 'Suisse', 'Danemark': 'Danemark', 'Croatie': 'Croatie', 'Iran': 'Iran', 'Serbie': 'Serbie', 'Belgique': 'Belgique', 'Slovénie': 'Slovénie', 'Ouzbékistan': 'Ouzbékistan', 'Géorgie': 'Géorgie', 'Taïwan': 'Taïwan', 'Turquie': 'Turquie', 'Bulgarie': 'Bulgarie', 'Grèce': 'Grèce', 'Ouganda': 'Ouganda', 'Equateur': 'Equateur', 'Irlande': 'Irlande', 'Israël': 'Israël', 'Lettonie': 'Lettonie', 'Qatar': 'Qatar', 'Bahamas': 'Bahamas', 'Kosovo': 'Kosovo', 'Ukraine': 'Ukraine', 'Biélorussie': 'Biélorussie', 'Roumanie': 'Roumanie', 'Venezuela': 'Venezuela', 'Inde': 'Inde', 'Hong-Kong': 'Hong-Kong', 'Philippines': 'Philippines', 'Slovaquie': 'Slovaquie', 'Afrique du Sud': 'Afrique du Sud', 'Autriche': 'Autriche', 'Egypte': 'Egypte', 'Indonésie': 'Indonésie', 'Ethiopie': 'Ethiopie', 'Portugal': 'Portugal', 'Tunisie': 'Tunisie', 'Estonie': 'Estonie', 'Fidji': 'Fidji', 'Thaïlande': 'Thaïlande', 'Bermudes': 'Bermudes', 'Maroc': 'Maroc', 'Porto Rico': 'Porto Rico', 'Colombie': 'Colombie', 'Azerbaïdjan': 'Azerbaïdjan', 'République Dominicaine': 'République Dominicaine', 'Arménie': 'Arménie', 'Kirghizistan': 'Kirghizistan', 'Mongolie': 'Mongolie', 'Argentine': 'Argentine', 'Saint-Marin': 'Saint-Marin', 'Jordanie': 'Jordanie', 'Malaisie': 'Malaisie', 'Nigéria': 'Nigéria', 'Arabie Saoudite': 'Arabie Saoudite', 'Bahreïn': 'Bahreïn', 'Lituanie': 'Lituanie', 'Macédoine du Nord': 'Macédoine du Nord', 'Namibie': 'Namibie', 'Turkménistan': 'Turkménistan', 'Kazakhstan': 'Kazakhstan', 'Mexique': 'Mexique', 'Finlande': 'Finlande', 'Botswana': 'Botswana', 'Burkina Faso': 'Burkina Faso', 'CIO': 'CIO', \"Côte d'Ivoire\": \"Côte d'Ivoire\", 'Ghana': 'Ghana', 'Grenade': 'Grenade', 'Moldavie': 'Moldavie', 'Syrie': 'Syrie', 'Corée du Nord': 'Corée du Nord', 'Viêt Nam': 'Viêt Nam', 'Singapour': 'Singapour', 'Tadjikistan': 'Tadjikistan', 'Algérie': 'Algérie', 'Burundi': 'Burundi', 'Niger': 'Niger', 'Emirats Arabes Unis': 'Emirats Arabes Unis', 'Trinité-et-Tobago': 'Trinité-et-Tobago', 'Chypre': 'Chypre', 'Gabon': 'Gabon', 'Guatemala': 'Guatemala', 'Monténégro': 'Monténégro', 'Afghanistan': 'Afghanistan', 'Cameroun': 'Cameroun', 'Zimbabwe': 'Zimbabwe', 'Panama': 'Panama', 'Chili': 'Chili', 'Islande': 'Islande', 'Samoa': 'Samoa', 'Soudan': 'Soudan', 'Ile Maurice': 'Ile Maurice', 'Togo': 'Togo', 'Paraguay': 'Paraguay', 'Erythrée': 'Erythrée', 'Yougoslavie': 'Yougoslavie', 'Mozambique': 'Mozambique', 'Sri Lanka': 'Sri Lanka', 'Uruguay': 'Uruguay', 'Costa Rica': 'Costa Rica', 'Barbade': 'Barbade', 'Koweït': 'Koweït', 'Tonga': 'Tonga', 'Zambie': 'Zambie', 'Communauté des États indépendants': 'Communauté des États indépendants', 'Tchécoslovaquie': 'Tchécoslovaquie', 'International': 'International', 'Pérou': 'Pérou', 'Pakistan': 'Pakistan', 'Suriname': 'Suriname', 'U.R.S.S.': 'U.R.S.S.', \"Allemagne de l'Est\": \"Allemagne de l'Est\", \"Allemagne de l'Ouest\": \"Allemagne de l'Ouest\", 'Antilles Néerlandaises': 'Antilles Néerlandaises', 'Iles Vierges Américaines': 'Iles Vierges Américaines', 'Sénégal': 'Sénégal', 'Djibouti': 'Djibouti', 'Tanzanie': 'Tanzanie', 'Guyana': 'Guyana', 'Liban': 'Liban', 'Indes Occidentales': 'Indes Occidentales', 'Irak': 'Irak', 'Luxembourg': 'Luxembourg', 'Haïti': 'Haïti', 'Australasie': 'Australasie', 'Bohême': 'Bohême', 'Empire Ottoman': 'Empire Ottoman', 'Tokyo': 'Tokyo', 'Rio de Janeiro': 'Rio de Janeiro', 'Londres': 'Londres', 'Pékin': 'Pékin', 'Athènes': 'Athènes', 'Sydney': 'Sydney', 'Atlanta': 'Atlanta', 'Barcelone': 'Barcelone', 'Séoul': 'Séoul', 'Los Angeles': 'Los Angeles', 'Moscou': 'Moscou', 'Montréal': 'Montréal', 'Munich': 'Munich', 'Mexico': 'Mexico', 'Rome': 'Rome', 'Melbourne': 'Melbourne', 'Helsinki': 'Helsinki', 'Berlin': 'Berlin', 'Amsterdam': 'Amsterdam', 'Paris': 'Paris', 'Anvers': 'Anvers', 'Stockholm': 'Stockholm', 'Saint Louis': 'Saint Louis'}\n"
     ]
    }
   ],
   "source": [
    "# Create a Translator object\n",
    "#translator = Translator(to_lang=\"en\", from_lang=\"fr\")\n",
    "\n",
    "# Extract unique values from 'Country' and 'Location' columns\n",
    "unique_countries = medals['Country'].unique()\n",
    "unique_locations = medals['Location'].unique()\n",
    "\n",
    "# Create an empty dictionary to store translations\n",
    "translations_dict = {}\n",
    "\n",
    "# Translate unique countries\n",
    "for country in unique_countries:\n",
    "    try:\n",
    "        translation = translator.translate(country)\n",
    "        translations_dict[country] = translation\n",
    "    except Exception as e:\n",
    "        translations_dict[country] = country  # Use the original word if translation fails\n",
    "\n",
    "# Translate unique locations\n",
    "for location in unique_locations:\n",
    "    try:\n",
    "        translation = translator.translate(location)\n",
    "        translations_dict[location] = translation\n",
    "    except Exception as e:\n",
    "        translations_dict[location] = location  # Use the original word if translation fails\n",
    "\n",
    "# Display the translations dictionary\n",
    "print(translations_dict)\n"
   ]
  },
  {
   "cell_type": "code",
   "execution_count": 5,
   "metadata": {},
   "outputs": [],
   "source": [
    "# we create a pickle to save the translation dictionary\n",
    "with open('pickles/translations_dict.pickle', 'wb') as handle:\n",
    "    pickle.dump(translations_dict, handle, protocol=pickle.HIGHEST_PROTOCOL)"
   ]
  },
  {
   "cell_type": "code",
   "execution_count": 6,
   "metadata": {},
   "outputs": [],
   "source": [
    "# we load the pickle\n",
    "with open('pickles/translations_dict.pickle', 'rb') as handle:\n",
    "    translations_dict = pickle.load(handle)"
   ]
  },
  {
   "cell_type": "code",
   "execution_count": 7,
   "metadata": {},
   "outputs": [
    {
     "data": {
      "text/html": [
       "<div>\n",
       "<style scoped>\n",
       "    .dataframe tbody tr th:only-of-type {\n",
       "        vertical-align: middle;\n",
       "    }\n",
       "\n",
       "    .dataframe tbody tr th {\n",
       "        vertical-align: top;\n",
       "    }\n",
       "\n",
       "    .dataframe thead th {\n",
       "        text-align: right;\n",
       "    }\n",
       "</style>\n",
       "<table border=\"1\" class=\"dataframe\">\n",
       "  <thead>\n",
       "    <tr style=\"text-align: right;\">\n",
       "      <th></th>\n",
       "      <th>Place</th>\n",
       "      <th>Country</th>\n",
       "      <th>Gold</th>\n",
       "      <th>Silver</th>\n",
       "      <th>Bronze</th>\n",
       "      <th>Total</th>\n",
       "      <th>Location</th>\n",
       "      <th>Year</th>\n",
       "    </tr>\n",
       "  </thead>\n",
       "  <tbody>\n",
       "    <tr>\n",
       "      <th>0</th>\n",
       "      <td>1</td>\n",
       "      <td>Etats Unis</td>\n",
       "      <td>38</td>\n",
       "      <td>41</td>\n",
       "      <td>34</td>\n",
       "      <td>113</td>\n",
       "      <td>Tokyo</td>\n",
       "      <td>2021</td>\n",
       "    </tr>\n",
       "    <tr>\n",
       "      <th>1</th>\n",
       "      <td>2</td>\n",
       "      <td>Chine</td>\n",
       "      <td>36</td>\n",
       "      <td>32</td>\n",
       "      <td>18</td>\n",
       "      <td>86</td>\n",
       "      <td>Tokyo</td>\n",
       "      <td>2021</td>\n",
       "    </tr>\n",
       "    <tr>\n",
       "      <th>2</th>\n",
       "      <td>3</td>\n",
       "      <td>Japon</td>\n",
       "      <td>27</td>\n",
       "      <td>12</td>\n",
       "      <td>16</td>\n",
       "      <td>55</td>\n",
       "      <td>Tokyo</td>\n",
       "      <td>2021</td>\n",
       "    </tr>\n",
       "    <tr>\n",
       "      <th>3</th>\n",
       "      <td>4</td>\n",
       "      <td>Grande Bretagne</td>\n",
       "      <td>22</td>\n",
       "      <td>21</td>\n",
       "      <td>22</td>\n",
       "      <td>65</td>\n",
       "      <td>Tokyo</td>\n",
       "      <td>2021</td>\n",
       "    </tr>\n",
       "    <tr>\n",
       "      <th>4</th>\n",
       "      <td>5</td>\n",
       "      <td>Russie</td>\n",
       "      <td>20</td>\n",
       "      <td>28</td>\n",
       "      <td>23</td>\n",
       "      <td>71</td>\n",
       "      <td>Tokyo</td>\n",
       "      <td>2021</td>\n",
       "    </tr>\n",
       "    <tr>\n",
       "      <th>5</th>\n",
       "      <td>6</td>\n",
       "      <td>Australie</td>\n",
       "      <td>17</td>\n",
       "      <td>7</td>\n",
       "      <td>21</td>\n",
       "      <td>45</td>\n",
       "      <td>Tokyo</td>\n",
       "      <td>2021</td>\n",
       "    </tr>\n",
       "    <tr>\n",
       "      <th>6</th>\n",
       "      <td>7</td>\n",
       "      <td>Pays-Bas</td>\n",
       "      <td>10</td>\n",
       "      <td>12</td>\n",
       "      <td>14</td>\n",
       "      <td>36</td>\n",
       "      <td>Tokyo</td>\n",
       "      <td>2021</td>\n",
       "    </tr>\n",
       "    <tr>\n",
       "      <th>7</th>\n",
       "      <td>8</td>\n",
       "      <td>France</td>\n",
       "      <td>10</td>\n",
       "      <td>12</td>\n",
       "      <td>11</td>\n",
       "      <td>33</td>\n",
       "      <td>Tokyo</td>\n",
       "      <td>2021</td>\n",
       "    </tr>\n",
       "    <tr>\n",
       "      <th>8</th>\n",
       "      <td>9</td>\n",
       "      <td>Italie</td>\n",
       "      <td>10</td>\n",
       "      <td>10</td>\n",
       "      <td>20</td>\n",
       "      <td>40</td>\n",
       "      <td>Tokyo</td>\n",
       "      <td>2021</td>\n",
       "    </tr>\n",
       "    <tr>\n",
       "      <th>9</th>\n",
       "      <td>10</td>\n",
       "      <td>Allemagne</td>\n",
       "      <td>10</td>\n",
       "      <td>10</td>\n",
       "      <td>16</td>\n",
       "      <td>36</td>\n",
       "      <td>Tokyo</td>\n",
       "      <td>2021</td>\n",
       "    </tr>\n",
       "    <tr>\n",
       "      <th>10</th>\n",
       "      <td>11</td>\n",
       "      <td>Canada</td>\n",
       "      <td>7</td>\n",
       "      <td>6</td>\n",
       "      <td>11</td>\n",
       "      <td>24</td>\n",
       "      <td>Tokyo</td>\n",
       "      <td>2021</td>\n",
       "    </tr>\n",
       "    <tr>\n",
       "      <th>11</th>\n",
       "      <td>12</td>\n",
       "      <td>Brésil</td>\n",
       "      <td>7</td>\n",
       "      <td>6</td>\n",
       "      <td>8</td>\n",
       "      <td>21</td>\n",
       "      <td>Tokyo</td>\n",
       "      <td>2021</td>\n",
       "    </tr>\n",
       "    <tr>\n",
       "      <th>12</th>\n",
       "      <td>13</td>\n",
       "      <td>Nouvelle-Zélande</td>\n",
       "      <td>7</td>\n",
       "      <td>6</td>\n",
       "      <td>7</td>\n",
       "      <td>20</td>\n",
       "      <td>Tokyo</td>\n",
       "      <td>2021</td>\n",
       "    </tr>\n",
       "    <tr>\n",
       "      <th>13</th>\n",
       "      <td>14</td>\n",
       "      <td>Cuba</td>\n",
       "      <td>7</td>\n",
       "      <td>3</td>\n",
       "      <td>5</td>\n",
       "      <td>15</td>\n",
       "      <td>Tokyo</td>\n",
       "      <td>2021</td>\n",
       "    </tr>\n",
       "    <tr>\n",
       "      <th>14</th>\n",
       "      <td>15</td>\n",
       "      <td>Hongrie</td>\n",
       "      <td>6</td>\n",
       "      <td>7</td>\n",
       "      <td>7</td>\n",
       "      <td>20</td>\n",
       "      <td>Tokyo</td>\n",
       "      <td>2021</td>\n",
       "    </tr>\n",
       "  </tbody>\n",
       "</table>\n",
       "</div>"
      ],
      "text/plain": [
       "    Place           Country  Gold  Silver  Bronze  Total Location  Year\n",
       "0       1        Etats Unis    38      41      34    113    Tokyo  2021\n",
       "1       2             Chine    36      32      18     86    Tokyo  2021\n",
       "2       3             Japon    27      12      16     55    Tokyo  2021\n",
       "3       4   Grande Bretagne    22      21      22     65    Tokyo  2021\n",
       "4       5            Russie    20      28      23     71    Tokyo  2021\n",
       "5       6         Australie    17       7      21     45    Tokyo  2021\n",
       "6       7          Pays-Bas    10      12      14     36    Tokyo  2021\n",
       "7       8            France    10      12      11     33    Tokyo  2021\n",
       "8       9            Italie    10      10      20     40    Tokyo  2021\n",
       "9      10         Allemagne    10      10      16     36    Tokyo  2021\n",
       "10     11            Canada     7       6      11     24    Tokyo  2021\n",
       "11     12            Brésil     7       6       8     21    Tokyo  2021\n",
       "12     13  Nouvelle-Zélande     7       6       7     20    Tokyo  2021\n",
       "13     14              Cuba     7       3       5     15    Tokyo  2021\n",
       "14     15           Hongrie     6       7       7     20    Tokyo  2021"
      ]
     },
     "execution_count": 7,
     "metadata": {},
     "output_type": "execute_result"
    }
   ],
   "source": [
    "# let's apply the translation to all the elements of the Country and Location columns\n",
    "medals['Country'] = medals['Country'].apply(lambda x: translations_dict[x])\n",
    "medals['Location'] = medals['Location'].apply(lambda x: translations_dict[x])\n",
    "medals.head(15)"
   ]
  },
  {
   "cell_type": "markdown",
   "metadata": {},
   "source": [
    "### Data Analysis from Medals data"
   ]
  },
  {
   "cell_type": "code",
   "execution_count": 8,
   "metadata": {},
   "outputs": [
    {
     "data": {
      "text/plain": [
       "array([], dtype=object)"
      ]
     },
     "execution_count": 8,
     "metadata": {},
     "output_type": "execute_result"
    }
   ],
   "source": [
    "# we search every country with \"Germany\" in the name\n",
    "medals[medals['Country'].str.contains('Germany')][\"Country\"].unique()"
   ]
  },
  {
   "cell_type": "code",
   "execution_count": 9,
   "metadata": {},
   "outputs": [
    {
     "data": {
      "text/plain": [
       "array([], dtype=object)"
      ]
     },
     "execution_count": 9,
     "metadata": {},
     "output_type": "execute_result"
    }
   ],
   "source": [
    "# we replace every \"East Germany\" or \"West Germany\" or \"Statement in intervention submitted by Germany\" with \"Germany\n",
    "medals['Country'] = medals['Country'].replace(['East Germany', 'West Germany', 'Statement in intervention submitted by Germany', 'Germany, Empire'], 'Germany')\n",
    "medals[medals['Country'].str.contains('Germany')][\"Country\"].unique()"
   ]
  },
  {
   "cell_type": "code",
   "execution_count": 10,
   "metadata": {},
   "outputs": [
    {
     "data": {
      "application/vnd.plotly.v1+json": {
       "config": {
        "plotlyServerURL": "https://plot.ly"
       },
       "data": [
        {
         "alignmentgroup": "True",
         "hovertemplate": "Country=%{x}<br>Total Medals=%{y}<extra></extra>",
         "legendgroup": "",
         "marker": {
          "color": "#636efa",
          "pattern": {
           "shape": ""
          }
         },
         "name": "",
         "offsetgroup": "",
         "orientation": "v",
         "showlegend": false,
         "textposition": "auto",
         "type": "bar",
         "x": [
          "Etats Unis",
          "U.R.S.S.",
          "Grande Bretagne",
          "Allemagne",
          "France",
          "Italie",
          "Chine",
          "Australie",
          "Hongrie",
          "Suède"
         ],
         "xaxis": "x",
         "y": [
          2667,
          1006,
          921,
          794,
          785,
          634,
          627,
          545,
          521,
          517
         ],
         "yaxis": "y"
        }
       ],
       "layout": {
        "barmode": "relative",
        "legend": {
         "tracegroupgap": 0
        },
        "margin": {
         "t": 60
        },
        "template": {
         "data": {
          "bar": [
           {
            "error_x": {
             "color": "#2a3f5f"
            },
            "error_y": {
             "color": "#2a3f5f"
            },
            "marker": {
             "line": {
              "color": "#E5ECF6",
              "width": 0.5
             },
             "pattern": {
              "fillmode": "overlay",
              "size": 10,
              "solidity": 0.2
             }
            },
            "type": "bar"
           }
          ],
          "barpolar": [
           {
            "marker": {
             "line": {
              "color": "#E5ECF6",
              "width": 0.5
             },
             "pattern": {
              "fillmode": "overlay",
              "size": 10,
              "solidity": 0.2
             }
            },
            "type": "barpolar"
           }
          ],
          "carpet": [
           {
            "aaxis": {
             "endlinecolor": "#2a3f5f",
             "gridcolor": "white",
             "linecolor": "white",
             "minorgridcolor": "white",
             "startlinecolor": "#2a3f5f"
            },
            "baxis": {
             "endlinecolor": "#2a3f5f",
             "gridcolor": "white",
             "linecolor": "white",
             "minorgridcolor": "white",
             "startlinecolor": "#2a3f5f"
            },
            "type": "carpet"
           }
          ],
          "choropleth": [
           {
            "colorbar": {
             "outlinewidth": 0,
             "ticks": ""
            },
            "type": "choropleth"
           }
          ],
          "contour": [
           {
            "colorbar": {
             "outlinewidth": 0,
             "ticks": ""
            },
            "colorscale": [
             [
              0,
              "#0d0887"
             ],
             [
              0.1111111111111111,
              "#46039f"
             ],
             [
              0.2222222222222222,
              "#7201a8"
             ],
             [
              0.3333333333333333,
              "#9c179e"
             ],
             [
              0.4444444444444444,
              "#bd3786"
             ],
             [
              0.5555555555555556,
              "#d8576b"
             ],
             [
              0.6666666666666666,
              "#ed7953"
             ],
             [
              0.7777777777777778,
              "#fb9f3a"
             ],
             [
              0.8888888888888888,
              "#fdca26"
             ],
             [
              1,
              "#f0f921"
             ]
            ],
            "type": "contour"
           }
          ],
          "contourcarpet": [
           {
            "colorbar": {
             "outlinewidth": 0,
             "ticks": ""
            },
            "type": "contourcarpet"
           }
          ],
          "heatmap": [
           {
            "colorbar": {
             "outlinewidth": 0,
             "ticks": ""
            },
            "colorscale": [
             [
              0,
              "#0d0887"
             ],
             [
              0.1111111111111111,
              "#46039f"
             ],
             [
              0.2222222222222222,
              "#7201a8"
             ],
             [
              0.3333333333333333,
              "#9c179e"
             ],
             [
              0.4444444444444444,
              "#bd3786"
             ],
             [
              0.5555555555555556,
              "#d8576b"
             ],
             [
              0.6666666666666666,
              "#ed7953"
             ],
             [
              0.7777777777777778,
              "#fb9f3a"
             ],
             [
              0.8888888888888888,
              "#fdca26"
             ],
             [
              1,
              "#f0f921"
             ]
            ],
            "type": "heatmap"
           }
          ],
          "heatmapgl": [
           {
            "colorbar": {
             "outlinewidth": 0,
             "ticks": ""
            },
            "colorscale": [
             [
              0,
              "#0d0887"
             ],
             [
              0.1111111111111111,
              "#46039f"
             ],
             [
              0.2222222222222222,
              "#7201a8"
             ],
             [
              0.3333333333333333,
              "#9c179e"
             ],
             [
              0.4444444444444444,
              "#bd3786"
             ],
             [
              0.5555555555555556,
              "#d8576b"
             ],
             [
              0.6666666666666666,
              "#ed7953"
             ],
             [
              0.7777777777777778,
              "#fb9f3a"
             ],
             [
              0.8888888888888888,
              "#fdca26"
             ],
             [
              1,
              "#f0f921"
             ]
            ],
            "type": "heatmapgl"
           }
          ],
          "histogram": [
           {
            "marker": {
             "pattern": {
              "fillmode": "overlay",
              "size": 10,
              "solidity": 0.2
             }
            },
            "type": "histogram"
           }
          ],
          "histogram2d": [
           {
            "colorbar": {
             "outlinewidth": 0,
             "ticks": ""
            },
            "colorscale": [
             [
              0,
              "#0d0887"
             ],
             [
              0.1111111111111111,
              "#46039f"
             ],
             [
              0.2222222222222222,
              "#7201a8"
             ],
             [
              0.3333333333333333,
              "#9c179e"
             ],
             [
              0.4444444444444444,
              "#bd3786"
             ],
             [
              0.5555555555555556,
              "#d8576b"
             ],
             [
              0.6666666666666666,
              "#ed7953"
             ],
             [
              0.7777777777777778,
              "#fb9f3a"
             ],
             [
              0.8888888888888888,
              "#fdca26"
             ],
             [
              1,
              "#f0f921"
             ]
            ],
            "type": "histogram2d"
           }
          ],
          "histogram2dcontour": [
           {
            "colorbar": {
             "outlinewidth": 0,
             "ticks": ""
            },
            "colorscale": [
             [
              0,
              "#0d0887"
             ],
             [
              0.1111111111111111,
              "#46039f"
             ],
             [
              0.2222222222222222,
              "#7201a8"
             ],
             [
              0.3333333333333333,
              "#9c179e"
             ],
             [
              0.4444444444444444,
              "#bd3786"
             ],
             [
              0.5555555555555556,
              "#d8576b"
             ],
             [
              0.6666666666666666,
              "#ed7953"
             ],
             [
              0.7777777777777778,
              "#fb9f3a"
             ],
             [
              0.8888888888888888,
              "#fdca26"
             ],
             [
              1,
              "#f0f921"
             ]
            ],
            "type": "histogram2dcontour"
           }
          ],
          "mesh3d": [
           {
            "colorbar": {
             "outlinewidth": 0,
             "ticks": ""
            },
            "type": "mesh3d"
           }
          ],
          "parcoords": [
           {
            "line": {
             "colorbar": {
              "outlinewidth": 0,
              "ticks": ""
             }
            },
            "type": "parcoords"
           }
          ],
          "pie": [
           {
            "automargin": true,
            "type": "pie"
           }
          ],
          "scatter": [
           {
            "fillpattern": {
             "fillmode": "overlay",
             "size": 10,
             "solidity": 0.2
            },
            "type": "scatter"
           }
          ],
          "scatter3d": [
           {
            "line": {
             "colorbar": {
              "outlinewidth": 0,
              "ticks": ""
             }
            },
            "marker": {
             "colorbar": {
              "outlinewidth": 0,
              "ticks": ""
             }
            },
            "type": "scatter3d"
           }
          ],
          "scattercarpet": [
           {
            "marker": {
             "colorbar": {
              "outlinewidth": 0,
              "ticks": ""
             }
            },
            "type": "scattercarpet"
           }
          ],
          "scattergeo": [
           {
            "marker": {
             "colorbar": {
              "outlinewidth": 0,
              "ticks": ""
             }
            },
            "type": "scattergeo"
           }
          ],
          "scattergl": [
           {
            "marker": {
             "colorbar": {
              "outlinewidth": 0,
              "ticks": ""
             }
            },
            "type": "scattergl"
           }
          ],
          "scattermapbox": [
           {
            "marker": {
             "colorbar": {
              "outlinewidth": 0,
              "ticks": ""
             }
            },
            "type": "scattermapbox"
           }
          ],
          "scatterpolar": [
           {
            "marker": {
             "colorbar": {
              "outlinewidth": 0,
              "ticks": ""
             }
            },
            "type": "scatterpolar"
           }
          ],
          "scatterpolargl": [
           {
            "marker": {
             "colorbar": {
              "outlinewidth": 0,
              "ticks": ""
             }
            },
            "type": "scatterpolargl"
           }
          ],
          "scatterternary": [
           {
            "marker": {
             "colorbar": {
              "outlinewidth": 0,
              "ticks": ""
             }
            },
            "type": "scatterternary"
           }
          ],
          "surface": [
           {
            "colorbar": {
             "outlinewidth": 0,
             "ticks": ""
            },
            "colorscale": [
             [
              0,
              "#0d0887"
             ],
             [
              0.1111111111111111,
              "#46039f"
             ],
             [
              0.2222222222222222,
              "#7201a8"
             ],
             [
              0.3333333333333333,
              "#9c179e"
             ],
             [
              0.4444444444444444,
              "#bd3786"
             ],
             [
              0.5555555555555556,
              "#d8576b"
             ],
             [
              0.6666666666666666,
              "#ed7953"
             ],
             [
              0.7777777777777778,
              "#fb9f3a"
             ],
             [
              0.8888888888888888,
              "#fdca26"
             ],
             [
              1,
              "#f0f921"
             ]
            ],
            "type": "surface"
           }
          ],
          "table": [
           {
            "cells": {
             "fill": {
              "color": "#EBF0F8"
             },
             "line": {
              "color": "white"
             }
            },
            "header": {
             "fill": {
              "color": "#C8D4E3"
             },
             "line": {
              "color": "white"
             }
            },
            "type": "table"
           }
          ]
         },
         "layout": {
          "annotationdefaults": {
           "arrowcolor": "#2a3f5f",
           "arrowhead": 0,
           "arrowwidth": 1
          },
          "autotypenumbers": "strict",
          "coloraxis": {
           "colorbar": {
            "outlinewidth": 0,
            "ticks": ""
           }
          },
          "colorscale": {
           "diverging": [
            [
             0,
             "#8e0152"
            ],
            [
             0.1,
             "#c51b7d"
            ],
            [
             0.2,
             "#de77ae"
            ],
            [
             0.3,
             "#f1b6da"
            ],
            [
             0.4,
             "#fde0ef"
            ],
            [
             0.5,
             "#f7f7f7"
            ],
            [
             0.6,
             "#e6f5d0"
            ],
            [
             0.7,
             "#b8e186"
            ],
            [
             0.8,
             "#7fbc41"
            ],
            [
             0.9,
             "#4d9221"
            ],
            [
             1,
             "#276419"
            ]
           ],
           "sequential": [
            [
             0,
             "#0d0887"
            ],
            [
             0.1111111111111111,
             "#46039f"
            ],
            [
             0.2222222222222222,
             "#7201a8"
            ],
            [
             0.3333333333333333,
             "#9c179e"
            ],
            [
             0.4444444444444444,
             "#bd3786"
            ],
            [
             0.5555555555555556,
             "#d8576b"
            ],
            [
             0.6666666666666666,
             "#ed7953"
            ],
            [
             0.7777777777777778,
             "#fb9f3a"
            ],
            [
             0.8888888888888888,
             "#fdca26"
            ],
            [
             1,
             "#f0f921"
            ]
           ],
           "sequentialminus": [
            [
             0,
             "#0d0887"
            ],
            [
             0.1111111111111111,
             "#46039f"
            ],
            [
             0.2222222222222222,
             "#7201a8"
            ],
            [
             0.3333333333333333,
             "#9c179e"
            ],
            [
             0.4444444444444444,
             "#bd3786"
            ],
            [
             0.5555555555555556,
             "#d8576b"
            ],
            [
             0.6666666666666666,
             "#ed7953"
            ],
            [
             0.7777777777777778,
             "#fb9f3a"
            ],
            [
             0.8888888888888888,
             "#fdca26"
            ],
            [
             1,
             "#f0f921"
            ]
           ]
          },
          "colorway": [
           "#636efa",
           "#EF553B",
           "#00cc96",
           "#ab63fa",
           "#FFA15A",
           "#19d3f3",
           "#FF6692",
           "#B6E880",
           "#FF97FF",
           "#FECB52"
          ],
          "font": {
           "color": "#2a3f5f"
          },
          "geo": {
           "bgcolor": "white",
           "lakecolor": "white",
           "landcolor": "#E5ECF6",
           "showlakes": true,
           "showland": true,
           "subunitcolor": "white"
          },
          "hoverlabel": {
           "align": "left"
          },
          "hovermode": "closest",
          "mapbox": {
           "style": "light"
          },
          "paper_bgcolor": "white",
          "plot_bgcolor": "#E5ECF6",
          "polar": {
           "angularaxis": {
            "gridcolor": "white",
            "linecolor": "white",
            "ticks": ""
           },
           "bgcolor": "#E5ECF6",
           "radialaxis": {
            "gridcolor": "white",
            "linecolor": "white",
            "ticks": ""
           }
          },
          "scene": {
           "xaxis": {
            "backgroundcolor": "#E5ECF6",
            "gridcolor": "white",
            "gridwidth": 2,
            "linecolor": "white",
            "showbackground": true,
            "ticks": "",
            "zerolinecolor": "white"
           },
           "yaxis": {
            "backgroundcolor": "#E5ECF6",
            "gridcolor": "white",
            "gridwidth": 2,
            "linecolor": "white",
            "showbackground": true,
            "ticks": "",
            "zerolinecolor": "white"
           },
           "zaxis": {
            "backgroundcolor": "#E5ECF6",
            "gridcolor": "white",
            "gridwidth": 2,
            "linecolor": "white",
            "showbackground": true,
            "ticks": "",
            "zerolinecolor": "white"
           }
          },
          "shapedefaults": {
           "line": {
            "color": "#2a3f5f"
           }
          },
          "ternary": {
           "aaxis": {
            "gridcolor": "white",
            "linecolor": "white",
            "ticks": ""
           },
           "baxis": {
            "gridcolor": "white",
            "linecolor": "white",
            "ticks": ""
           },
           "bgcolor": "#E5ECF6",
           "caxis": {
            "gridcolor": "white",
            "linecolor": "white",
            "ticks": ""
           }
          },
          "title": {
           "x": 0.05
          },
          "xaxis": {
           "automargin": true,
           "gridcolor": "white",
           "linecolor": "white",
           "ticks": "",
           "title": {
            "standoff": 15
           },
           "zerolinecolor": "white",
           "zerolinewidth": 2
          },
          "yaxis": {
           "automargin": true,
           "gridcolor": "white",
           "linecolor": "white",
           "ticks": "",
           "title": {
            "standoff": 15
           },
           "zerolinecolor": "white",
           "zerolinewidth": 2
          }
         }
        },
        "xaxis": {
         "anchor": "y",
         "domain": [
          0,
          1
         ],
         "title": {
          "text": "Country"
         }
        },
        "yaxis": {
         "anchor": "x",
         "domain": [
          0,
          1
         ],
         "title": {
          "text": "Total Medals"
         }
        }
       }
      }
     },
     "metadata": {},
     "output_type": "display_data"
    }
   ],
   "source": [
    "# the top 10 countries that won the most medals in the history of the olympics\n",
    "medals.groupby('Country')['Total'].sum().sort_values(ascending=False).head(10)\n",
    "\n",
    "# on a bar chart px countries in the x axis and total medals in the y axis\n",
    "fig = px.bar(medals.groupby('Country')['Total'].sum().sort_values(ascending=False).head(10),\n",
    "             x=medals.groupby('Country')['Total'].sum().sort_values(ascending=False).head(10).index,\n",
    "             y=medals.groupby('Country')['Total'].sum().sort_values(ascending=False).head(10).values,\n",
    "             labels={'x': 'Country', 'y': 'Total Medals'})\n",
    "fig.show()\n"
   ]
  },
  {
   "cell_type": "code",
   "execution_count": 11,
   "metadata": {},
   "outputs": [
    {
     "data": {
      "application/vnd.plotly.v1+json": {
       "config": {
        "plotlyServerURL": "https://plot.ly"
       },
       "data": [
        {
         "hovertemplate": "Year=%{x}<br>Total Medals=%{y}<extra></extra>",
         "legendgroup": "",
         "line": {
          "color": "#636efa",
          "dash": "solid"
         },
         "marker": {
          "symbol": "circle"
         },
         "mode": "lines",
         "name": "",
         "orientation": "v",
         "showlegend": false,
         "type": "scatter",
         "x": [
          1896,
          1900,
          1904,
          1906,
          1908,
          1912,
          1920,
          1924,
          1928,
          1932,
          1936,
          1948,
          1952,
          1956,
          1960,
          1964,
          1968,
          1972,
          1976,
          1980,
          1984,
          1988,
          1992,
          1996,
          2000,
          2004,
          2008,
          2012,
          2016,
          2021
         ],
         "xaxis": "x",
         "y": [
          122,
          255,
          274,
          233,
          305,
          308,
          439,
          378,
          327,
          346,
          388,
          411,
          459,
          469,
          461,
          504,
          527,
          600,
          613,
          631,
          688,
          738,
          813,
          842,
          926,
          942,
          1004,
          952,
          973,
          1072
         ],
         "yaxis": "y"
        }
       ],
       "layout": {
        "legend": {
         "tracegroupgap": 0
        },
        "margin": {
         "t": 60
        },
        "template": {
         "data": {
          "bar": [
           {
            "error_x": {
             "color": "#2a3f5f"
            },
            "error_y": {
             "color": "#2a3f5f"
            },
            "marker": {
             "line": {
              "color": "#E5ECF6",
              "width": 0.5
             },
             "pattern": {
              "fillmode": "overlay",
              "size": 10,
              "solidity": 0.2
             }
            },
            "type": "bar"
           }
          ],
          "barpolar": [
           {
            "marker": {
             "line": {
              "color": "#E5ECF6",
              "width": 0.5
             },
             "pattern": {
              "fillmode": "overlay",
              "size": 10,
              "solidity": 0.2
             }
            },
            "type": "barpolar"
           }
          ],
          "carpet": [
           {
            "aaxis": {
             "endlinecolor": "#2a3f5f",
             "gridcolor": "white",
             "linecolor": "white",
             "minorgridcolor": "white",
             "startlinecolor": "#2a3f5f"
            },
            "baxis": {
             "endlinecolor": "#2a3f5f",
             "gridcolor": "white",
             "linecolor": "white",
             "minorgridcolor": "white",
             "startlinecolor": "#2a3f5f"
            },
            "type": "carpet"
           }
          ],
          "choropleth": [
           {
            "colorbar": {
             "outlinewidth": 0,
             "ticks": ""
            },
            "type": "choropleth"
           }
          ],
          "contour": [
           {
            "colorbar": {
             "outlinewidth": 0,
             "ticks": ""
            },
            "colorscale": [
             [
              0,
              "#0d0887"
             ],
             [
              0.1111111111111111,
              "#46039f"
             ],
             [
              0.2222222222222222,
              "#7201a8"
             ],
             [
              0.3333333333333333,
              "#9c179e"
             ],
             [
              0.4444444444444444,
              "#bd3786"
             ],
             [
              0.5555555555555556,
              "#d8576b"
             ],
             [
              0.6666666666666666,
              "#ed7953"
             ],
             [
              0.7777777777777778,
              "#fb9f3a"
             ],
             [
              0.8888888888888888,
              "#fdca26"
             ],
             [
              1,
              "#f0f921"
             ]
            ],
            "type": "contour"
           }
          ],
          "contourcarpet": [
           {
            "colorbar": {
             "outlinewidth": 0,
             "ticks": ""
            },
            "type": "contourcarpet"
           }
          ],
          "heatmap": [
           {
            "colorbar": {
             "outlinewidth": 0,
             "ticks": ""
            },
            "colorscale": [
             [
              0,
              "#0d0887"
             ],
             [
              0.1111111111111111,
              "#46039f"
             ],
             [
              0.2222222222222222,
              "#7201a8"
             ],
             [
              0.3333333333333333,
              "#9c179e"
             ],
             [
              0.4444444444444444,
              "#bd3786"
             ],
             [
              0.5555555555555556,
              "#d8576b"
             ],
             [
              0.6666666666666666,
              "#ed7953"
             ],
             [
              0.7777777777777778,
              "#fb9f3a"
             ],
             [
              0.8888888888888888,
              "#fdca26"
             ],
             [
              1,
              "#f0f921"
             ]
            ],
            "type": "heatmap"
           }
          ],
          "heatmapgl": [
           {
            "colorbar": {
             "outlinewidth": 0,
             "ticks": ""
            },
            "colorscale": [
             [
              0,
              "#0d0887"
             ],
             [
              0.1111111111111111,
              "#46039f"
             ],
             [
              0.2222222222222222,
              "#7201a8"
             ],
             [
              0.3333333333333333,
              "#9c179e"
             ],
             [
              0.4444444444444444,
              "#bd3786"
             ],
             [
              0.5555555555555556,
              "#d8576b"
             ],
             [
              0.6666666666666666,
              "#ed7953"
             ],
             [
              0.7777777777777778,
              "#fb9f3a"
             ],
             [
              0.8888888888888888,
              "#fdca26"
             ],
             [
              1,
              "#f0f921"
             ]
            ],
            "type": "heatmapgl"
           }
          ],
          "histogram": [
           {
            "marker": {
             "pattern": {
              "fillmode": "overlay",
              "size": 10,
              "solidity": 0.2
             }
            },
            "type": "histogram"
           }
          ],
          "histogram2d": [
           {
            "colorbar": {
             "outlinewidth": 0,
             "ticks": ""
            },
            "colorscale": [
             [
              0,
              "#0d0887"
             ],
             [
              0.1111111111111111,
              "#46039f"
             ],
             [
              0.2222222222222222,
              "#7201a8"
             ],
             [
              0.3333333333333333,
              "#9c179e"
             ],
             [
              0.4444444444444444,
              "#bd3786"
             ],
             [
              0.5555555555555556,
              "#d8576b"
             ],
             [
              0.6666666666666666,
              "#ed7953"
             ],
             [
              0.7777777777777778,
              "#fb9f3a"
             ],
             [
              0.8888888888888888,
              "#fdca26"
             ],
             [
              1,
              "#f0f921"
             ]
            ],
            "type": "histogram2d"
           }
          ],
          "histogram2dcontour": [
           {
            "colorbar": {
             "outlinewidth": 0,
             "ticks": ""
            },
            "colorscale": [
             [
              0,
              "#0d0887"
             ],
             [
              0.1111111111111111,
              "#46039f"
             ],
             [
              0.2222222222222222,
              "#7201a8"
             ],
             [
              0.3333333333333333,
              "#9c179e"
             ],
             [
              0.4444444444444444,
              "#bd3786"
             ],
             [
              0.5555555555555556,
              "#d8576b"
             ],
             [
              0.6666666666666666,
              "#ed7953"
             ],
             [
              0.7777777777777778,
              "#fb9f3a"
             ],
             [
              0.8888888888888888,
              "#fdca26"
             ],
             [
              1,
              "#f0f921"
             ]
            ],
            "type": "histogram2dcontour"
           }
          ],
          "mesh3d": [
           {
            "colorbar": {
             "outlinewidth": 0,
             "ticks": ""
            },
            "type": "mesh3d"
           }
          ],
          "parcoords": [
           {
            "line": {
             "colorbar": {
              "outlinewidth": 0,
              "ticks": ""
             }
            },
            "type": "parcoords"
           }
          ],
          "pie": [
           {
            "automargin": true,
            "type": "pie"
           }
          ],
          "scatter": [
           {
            "fillpattern": {
             "fillmode": "overlay",
             "size": 10,
             "solidity": 0.2
            },
            "type": "scatter"
           }
          ],
          "scatter3d": [
           {
            "line": {
             "colorbar": {
              "outlinewidth": 0,
              "ticks": ""
             }
            },
            "marker": {
             "colorbar": {
              "outlinewidth": 0,
              "ticks": ""
             }
            },
            "type": "scatter3d"
           }
          ],
          "scattercarpet": [
           {
            "marker": {
             "colorbar": {
              "outlinewidth": 0,
              "ticks": ""
             }
            },
            "type": "scattercarpet"
           }
          ],
          "scattergeo": [
           {
            "marker": {
             "colorbar": {
              "outlinewidth": 0,
              "ticks": ""
             }
            },
            "type": "scattergeo"
           }
          ],
          "scattergl": [
           {
            "marker": {
             "colorbar": {
              "outlinewidth": 0,
              "ticks": ""
             }
            },
            "type": "scattergl"
           }
          ],
          "scattermapbox": [
           {
            "marker": {
             "colorbar": {
              "outlinewidth": 0,
              "ticks": ""
             }
            },
            "type": "scattermapbox"
           }
          ],
          "scatterpolar": [
           {
            "marker": {
             "colorbar": {
              "outlinewidth": 0,
              "ticks": ""
             }
            },
            "type": "scatterpolar"
           }
          ],
          "scatterpolargl": [
           {
            "marker": {
             "colorbar": {
              "outlinewidth": 0,
              "ticks": ""
             }
            },
            "type": "scatterpolargl"
           }
          ],
          "scatterternary": [
           {
            "marker": {
             "colorbar": {
              "outlinewidth": 0,
              "ticks": ""
             }
            },
            "type": "scatterternary"
           }
          ],
          "surface": [
           {
            "colorbar": {
             "outlinewidth": 0,
             "ticks": ""
            },
            "colorscale": [
             [
              0,
              "#0d0887"
             ],
             [
              0.1111111111111111,
              "#46039f"
             ],
             [
              0.2222222222222222,
              "#7201a8"
             ],
             [
              0.3333333333333333,
              "#9c179e"
             ],
             [
              0.4444444444444444,
              "#bd3786"
             ],
             [
              0.5555555555555556,
              "#d8576b"
             ],
             [
              0.6666666666666666,
              "#ed7953"
             ],
             [
              0.7777777777777778,
              "#fb9f3a"
             ],
             [
              0.8888888888888888,
              "#fdca26"
             ],
             [
              1,
              "#f0f921"
             ]
            ],
            "type": "surface"
           }
          ],
          "table": [
           {
            "cells": {
             "fill": {
              "color": "#EBF0F8"
             },
             "line": {
              "color": "white"
             }
            },
            "header": {
             "fill": {
              "color": "#C8D4E3"
             },
             "line": {
              "color": "white"
             }
            },
            "type": "table"
           }
          ]
         },
         "layout": {
          "annotationdefaults": {
           "arrowcolor": "#2a3f5f",
           "arrowhead": 0,
           "arrowwidth": 1
          },
          "autotypenumbers": "strict",
          "coloraxis": {
           "colorbar": {
            "outlinewidth": 0,
            "ticks": ""
           }
          },
          "colorscale": {
           "diverging": [
            [
             0,
             "#8e0152"
            ],
            [
             0.1,
             "#c51b7d"
            ],
            [
             0.2,
             "#de77ae"
            ],
            [
             0.3,
             "#f1b6da"
            ],
            [
             0.4,
             "#fde0ef"
            ],
            [
             0.5,
             "#f7f7f7"
            ],
            [
             0.6,
             "#e6f5d0"
            ],
            [
             0.7,
             "#b8e186"
            ],
            [
             0.8,
             "#7fbc41"
            ],
            [
             0.9,
             "#4d9221"
            ],
            [
             1,
             "#276419"
            ]
           ],
           "sequential": [
            [
             0,
             "#0d0887"
            ],
            [
             0.1111111111111111,
             "#46039f"
            ],
            [
             0.2222222222222222,
             "#7201a8"
            ],
            [
             0.3333333333333333,
             "#9c179e"
            ],
            [
             0.4444444444444444,
             "#bd3786"
            ],
            [
             0.5555555555555556,
             "#d8576b"
            ],
            [
             0.6666666666666666,
             "#ed7953"
            ],
            [
             0.7777777777777778,
             "#fb9f3a"
            ],
            [
             0.8888888888888888,
             "#fdca26"
            ],
            [
             1,
             "#f0f921"
            ]
           ],
           "sequentialminus": [
            [
             0,
             "#0d0887"
            ],
            [
             0.1111111111111111,
             "#46039f"
            ],
            [
             0.2222222222222222,
             "#7201a8"
            ],
            [
             0.3333333333333333,
             "#9c179e"
            ],
            [
             0.4444444444444444,
             "#bd3786"
            ],
            [
             0.5555555555555556,
             "#d8576b"
            ],
            [
             0.6666666666666666,
             "#ed7953"
            ],
            [
             0.7777777777777778,
             "#fb9f3a"
            ],
            [
             0.8888888888888888,
             "#fdca26"
            ],
            [
             1,
             "#f0f921"
            ]
           ]
          },
          "colorway": [
           "#636efa",
           "#EF553B",
           "#00cc96",
           "#ab63fa",
           "#FFA15A",
           "#19d3f3",
           "#FF6692",
           "#B6E880",
           "#FF97FF",
           "#FECB52"
          ],
          "font": {
           "color": "#2a3f5f"
          },
          "geo": {
           "bgcolor": "white",
           "lakecolor": "white",
           "landcolor": "#E5ECF6",
           "showlakes": true,
           "showland": true,
           "subunitcolor": "white"
          },
          "hoverlabel": {
           "align": "left"
          },
          "hovermode": "closest",
          "mapbox": {
           "style": "light"
          },
          "paper_bgcolor": "white",
          "plot_bgcolor": "#E5ECF6",
          "polar": {
           "angularaxis": {
            "gridcolor": "white",
            "linecolor": "white",
            "ticks": ""
           },
           "bgcolor": "#E5ECF6",
           "radialaxis": {
            "gridcolor": "white",
            "linecolor": "white",
            "ticks": ""
           }
          },
          "scene": {
           "xaxis": {
            "backgroundcolor": "#E5ECF6",
            "gridcolor": "white",
            "gridwidth": 2,
            "linecolor": "white",
            "showbackground": true,
            "ticks": "",
            "zerolinecolor": "white"
           },
           "yaxis": {
            "backgroundcolor": "#E5ECF6",
            "gridcolor": "white",
            "gridwidth": 2,
            "linecolor": "white",
            "showbackground": true,
            "ticks": "",
            "zerolinecolor": "white"
           },
           "zaxis": {
            "backgroundcolor": "#E5ECF6",
            "gridcolor": "white",
            "gridwidth": 2,
            "linecolor": "white",
            "showbackground": true,
            "ticks": "",
            "zerolinecolor": "white"
           }
          },
          "shapedefaults": {
           "line": {
            "color": "#2a3f5f"
           }
          },
          "ternary": {
           "aaxis": {
            "gridcolor": "white",
            "linecolor": "white",
            "ticks": ""
           },
           "baxis": {
            "gridcolor": "white",
            "linecolor": "white",
            "ticks": ""
           },
           "bgcolor": "#E5ECF6",
           "caxis": {
            "gridcolor": "white",
            "linecolor": "white",
            "ticks": ""
           }
          },
          "title": {
           "x": 0.05
          },
          "xaxis": {
           "automargin": true,
           "gridcolor": "white",
           "linecolor": "white",
           "ticks": "",
           "title": {
            "standoff": 15
           },
           "zerolinecolor": "white",
           "zerolinewidth": 2
          },
          "yaxis": {
           "automargin": true,
           "gridcolor": "white",
           "linecolor": "white",
           "ticks": "",
           "title": {
            "standoff": 15
           },
           "zerolinecolor": "white",
           "zerolinewidth": 2
          }
         }
        },
        "xaxis": {
         "anchor": "y",
         "domain": [
          0,
          1
         ],
         "title": {
          "text": "Year"
         }
        },
        "yaxis": {
         "anchor": "x",
         "domain": [
          0,
          1
         ],
         "title": {
          "text": "Total Medals"
         }
        }
       }
      }
     },
     "metadata": {},
     "output_type": "display_data"
    }
   ],
   "source": [
    "# evolution of total medals distributed over the years\n",
    "fig = px.line(medals.groupby('Year')['Total'].sum(),\n",
    "              x=medals.groupby('Year')['Total'].sum().index,\n",
    "              y=medals.groupby('Year')['Total'].sum().values,\n",
    "              labels={'x': 'Year', 'y': 'Total Medals'})\n",
    "fig.show()"
   ]
  },
  {
   "cell_type": "code",
   "execution_count": 12,
   "metadata": {},
   "outputs": [
    {
     "data": {
      "application/vnd.plotly.v1+json": {
       "config": {
        "plotlyServerURL": "https://plot.ly"
       },
       "data": [
        {
         "hovertemplate": "Country=Allemagne<br>Year=%{x}<br>Total=%{marker.size}<extra></extra>",
         "legendgroup": "Allemagne",
         "marker": {
          "color": "#636efa",
          "size": [
           14,
           8,
           13,
           15,
           13,
           25,
           31,
           20,
           89,
           24,
           26,
           42,
           50,
           3,
           1,
           1,
           3,
           83,
           64,
           56,
           49,
           42,
           44,
           42,
           36
          ],
          "sizemode": "area",
          "sizeref": 0.6025,
          "symbol": "circle"
         },
         "mode": "markers",
         "name": "Allemagne",
         "showlegend": true,
         "type": "scattergl",
         "x": [
          1896,
          1900,
          1904,
          1906,
          1908,
          1912,
          1928,
          1932,
          1936,
          1952,
          1956,
          1960,
          1964,
          1972,
          1980,
          1984,
          1988,
          1992,
          1996,
          2000,
          2004,
          2008,
          2012,
          2016,
          2021
         ],
         "xaxis": "x",
         "y": [
          14,
          8,
          13,
          15,
          13,
          25,
          31,
          20,
          89,
          24,
          26,
          42,
          50,
          3,
          1,
          1,
          3,
          83,
          64,
          56,
          49,
          42,
          44,
          42,
          36
         ],
         "yaxis": "y"
        },
        {
         "hovertemplate": "Country=Australie<br>Year=%{x}<br>Total=%{marker.size}<extra></extra>",
         "legendgroup": "Australie",
         "marker": {
          "color": "#EF553B",
          "size": [
           3,
           5,
           3,
           3,
           6,
           4,
           5,
           1,
           13,
           11,
           35,
           22,
           18,
           17,
           17,
           4,
           9,
           24,
           13,
           27,
           41,
           58,
           50,
           47,
           35,
           29,
           45
          ],
          "sizemode": "area",
          "sizeref": 0.6025,
          "symbol": "circle"
         },
         "mode": "markers",
         "name": "Australie",
         "showlegend": true,
         "type": "scattergl",
         "x": [
          1896,
          1900,
          1906,
          1920,
          1924,
          1928,
          1932,
          1936,
          1948,
          1952,
          1956,
          1960,
          1964,
          1968,
          1972,
          1976,
          1980,
          1984,
          1988,
          1992,
          1996,
          2000,
          2004,
          2008,
          2012,
          2016,
          2021
         ],
         "xaxis": "x",
         "y": [
          3,
          5,
          3,
          3,
          6,
          4,
          5,
          1,
          13,
          11,
          35,
          22,
          18,
          17,
          17,
          4,
          9,
          24,
          13,
          27,
          41,
          58,
          50,
          47,
          35,
          29,
          45
         ],
         "yaxis": "y"
        },
        {
         "hovertemplate": "Country=Autriche<br>Year=%{x}<br>Total=%{marker.size}<extra></extra>",
         "legendgroup": "Autriche",
         "marker": {
          "color": "#00cc96",
          "size": [
           5,
           6,
           1,
           8,
           1,
           4,
           4,
           3,
           5,
           13,
           4,
           2,
           2,
           2,
           4,
           3,
           1,
           4,
           3,
           1,
           2,
           3,
           3,
           7,
           4,
           1,
           6
          ],
          "sizemode": "area",
          "sizeref": 0.6025,
          "symbol": "circle"
         },
         "mode": "markers",
         "name": "Autriche",
         "showlegend": true,
         "type": "scattergl",
         "x": [
          1896,
          1900,
          1904,
          1906,
          1908,
          1912,
          1924,
          1928,
          1932,
          1936,
          1948,
          1952,
          1956,
          1960,
          1968,
          1972,
          1976,
          1980,
          1984,
          1988,
          1992,
          1996,
          2000,
          2004,
          2008,
          2016,
          2021
         ],
         "xaxis": "x",
         "y": [
          5,
          6,
          1,
          8,
          1,
          4,
          4,
          3,
          5,
          13,
          4,
          2,
          2,
          2,
          4,
          3,
          1,
          4,
          3,
          1,
          2,
          3,
          3,
          7,
          4,
          1,
          6
         ],
         "yaxis": "y"
        },
        {
         "hovertemplate": "Country=Danemark<br>Year=%{x}<br>Total=%{marker.size}<extra></extra>",
         "legendgroup": "Danemark",
         "marker": {
          "color": "#ab63fa",
          "size": [
           6,
           6,
           5,
           5,
           12,
           13,
           9,
           6,
           6,
           5,
           20,
           6,
           4,
           6,
           6,
           8,
           1,
           3,
           5,
           6,
           4,
           6,
           6,
           6,
           8,
           7,
           9,
           15,
           11
          ],
          "sizemode": "area",
          "sizeref": 0.6025,
          "symbol": "circle"
         },
         "mode": "markers",
         "name": "Danemark",
         "showlegend": true,
         "type": "scattergl",
         "x": [
          1896,
          1900,
          1906,
          1908,
          1912,
          1920,
          1924,
          1928,
          1932,
          1936,
          1948,
          1952,
          1956,
          1960,
          1964,
          1968,
          1972,
          1976,
          1980,
          1984,
          1988,
          1992,
          1996,
          2000,
          2004,
          2008,
          2012,
          2016,
          2021
         ],
         "xaxis": "x",
         "y": [
          6,
          6,
          5,
          5,
          12,
          13,
          9,
          6,
          6,
          5,
          20,
          6,
          4,
          6,
          6,
          8,
          1,
          3,
          5,
          6,
          4,
          6,
          6,
          6,
          8,
          7,
          9,
          15,
          11
         ],
         "yaxis": "y"
        },
        {
         "hovertemplate": "Country=Etats Unis<br>Year=%{x}<br>Total=%{marker.size}<extra></extra>",
         "legendgroup": "Etats Unis",
         "marker": {
          "color": "#FFA15A",
          "size": [
           20,
           49,
           241,
           24,
           46,
           63,
           95,
           99,
           56,
           102,
           56,
           84,
           76,
           75,
           71,
           90,
           107,
           93,
           96,
           174,
           94,
           107,
           102,
           93,
           103,
           114,
           103,
           121,
           113
          ],
          "sizemode": "area",
          "sizeref": 0.6025,
          "symbol": "circle"
         },
         "mode": "markers",
         "name": "Etats Unis",
         "showlegend": true,
         "type": "scattergl",
         "x": [
          1896,
          1900,
          1904,
          1906,
          1908,
          1912,
          1920,
          1924,
          1928,
          1932,
          1936,
          1948,
          1952,
          1956,
          1960,
          1964,
          1968,
          1972,
          1976,
          1984,
          1988,
          1992,
          1996,
          2000,
          2004,
          2008,
          2012,
          2016,
          2021
         ],
         "xaxis": "x",
         "y": [
          20,
          49,
          241,
          24,
          46,
          63,
          95,
          99,
          56,
          102,
          56,
          84,
          76,
          75,
          71,
          90,
          107,
          93,
          96,
          174,
          94,
          107,
          102,
          93,
          103,
          114,
          103,
          121,
          113
         ],
         "yaxis": "y"
        },
        {
         "hovertemplate": "Country=France<br>Year=%{x}<br>Total=%{marker.size}<extra></extra>",
         "legendgroup": "France",
         "marker": {
          "color": "#19d3f3",
          "size": [
           11,
           95,
           1,
           40,
           18,
           14,
           41,
           38,
           21,
           19,
           19,
           29,
           18,
           14,
           5,
           13,
           15,
           14,
           9,
           14,
           28,
           16,
           29,
           38,
           38,
           34,
           44,
           35,
           42,
           33
          ],
          "sizemode": "area",
          "sizeref": 0.6025,
          "symbol": "circle"
         },
         "mode": "markers",
         "name": "France",
         "showlegend": true,
         "type": "scattergl",
         "x": [
          1896,
          1900,
          1904,
          1906,
          1908,
          1912,
          1920,
          1924,
          1928,
          1932,
          1936,
          1948,
          1952,
          1956,
          1960,
          1964,
          1968,
          1972,
          1976,
          1980,
          1984,
          1988,
          1992,
          1996,
          2000,
          2004,
          2008,
          2012,
          2016,
          2021
         ],
         "xaxis": "x",
         "y": [
          11,
          95,
          1,
          40,
          18,
          14,
          41,
          38,
          21,
          19,
          19,
          29,
          18,
          14,
          5,
          13,
          15,
          14,
          9,
          14,
          28,
          16,
          29,
          38,
          38,
          34,
          44,
          35,
          42,
          33
         ],
         "yaxis": "y"
        },
        {
         "hovertemplate": "Country=Grande Bretagne<br>Year=%{x}<br>Total=%{marker.size}<extra></extra>",
         "legendgroup": "Grande Bretagne",
         "marker": {
          "color": "#FF6692",
          "size": [
           7,
           30,
           2,
           23,
           129,
           41,
           43,
           34,
           20,
           16,
           14,
           23,
           11,
           24,
           20,
           19,
           13,
           17,
           13,
           21,
           37,
           24,
           20,
           15,
           28,
           30,
           50,
           65,
           67,
           65
          ],
          "sizemode": "area",
          "sizeref": 0.6025,
          "symbol": "circle"
         },
         "mode": "markers",
         "name": "Grande Bretagne",
         "showlegend": true,
         "type": "scattergl",
         "x": [
          1896,
          1900,
          1904,
          1906,
          1908,
          1912,
          1920,
          1924,
          1928,
          1932,
          1936,
          1948,
          1952,
          1956,
          1960,
          1964,
          1968,
          1972,
          1976,
          1980,
          1984,
          1988,
          1992,
          1996,
          2000,
          2004,
          2008,
          2012,
          2016,
          2021
         ],
         "xaxis": "x",
         "y": [
          7,
          30,
          2,
          23,
          129,
          41,
          43,
          34,
          20,
          16,
          14,
          23,
          11,
          24,
          20,
          19,
          13,
          17,
          13,
          21,
          37,
          24,
          20,
          15,
          28,
          30,
          50,
          65,
          67,
          65
         ],
         "yaxis": "y"
        },
        {
         "hovertemplate": "Country=Grèce<br>Year=%{x}<br>Total=%{marker.size}<extra></extra>",
         "legendgroup": "Grèce",
         "marker": {
          "color": "#B6E880",
          "size": [
           47,
           2,
           34,
           3,
           2,
           1,
           1,
           1,
           1,
           2,
           3,
           2,
           1,
           2,
           8,
           13,
           18,
           4,
           2,
           6,
           4
          ],
          "sizemode": "area",
          "sizeref": 0.6025,
          "symbol": "circle"
         },
         "mode": "markers",
         "name": "Grèce",
         "showlegend": true,
         "type": "scattergl",
         "x": [
          1896,
          1904,
          1906,
          1908,
          1912,
          1920,
          1956,
          1960,
          1968,
          1972,
          1980,
          1984,
          1988,
          1992,
          1996,
          2000,
          2004,
          2008,
          2012,
          2016,
          2021
         ],
         "xaxis": "x",
         "y": [
          47,
          2,
          34,
          3,
          2,
          1,
          1,
          1,
          1,
          2,
          3,
          2,
          1,
          2,
          8,
          13,
          18,
          4,
          2,
          6,
          4
         ],
         "yaxis": "y"
        },
        {
         "hovertemplate": "Country=Hongrie<br>Year=%{x}<br>Total=%{marker.size}<extra></extra>",
         "legendgroup": "Hongrie",
         "marker": {
          "color": "#FF97FF",
          "size": [
           6,
           5,
           4,
           10,
           9,
           8,
           9,
           9,
           15,
           16,
           27,
           42,
           26,
           21,
           22,
           32,
           35,
           22,
           32,
           23,
           31,
           20,
           17,
           17,
           10,
           18,
           15,
           20
          ],
          "sizemode": "area",
          "sizeref": 0.6025,
          "symbol": "circle"
         },
         "mode": "markers",
         "name": "Hongrie",
         "showlegend": true,
         "type": "scattergl",
         "x": [
          1896,
          1900,
          1904,
          1906,
          1908,
          1912,
          1924,
          1928,
          1932,
          1936,
          1948,
          1952,
          1956,
          1960,
          1964,
          1968,
          1972,
          1976,
          1980,
          1988,
          1992,
          1996,
          2000,
          2004,
          2008,
          2012,
          2016,
          2021
         ],
         "xaxis": "x",
         "y": [
          6,
          5,
          4,
          10,
          9,
          8,
          9,
          9,
          15,
          16,
          27,
          42,
          26,
          21,
          22,
          32,
          35,
          22,
          32,
          23,
          31,
          20,
          17,
          17,
          10,
          18,
          15,
          20
         ],
         "yaxis": "y"
        },
        {
         "hovertemplate": "Country=Suisse<br>Year=%{x}<br>Total=%{marker.size}<extra></extra>",
         "legendgroup": "Suisse",
         "marker": {
          "color": "#FECB52",
          "size": [
           3,
           9,
           2,
           15,
           11,
           25,
           15,
           1,
           15,
           20,
           14,
           1,
           6,
           4,
           5,
           3,
           5,
           2,
           8,
           4,
           1,
           7,
           9,
           5,
           8,
           4,
           7,
           13
          ],
          "sizemode": "area",
          "sizeref": 0.6025,
          "symbol": "circle"
         },
         "mode": "markers",
         "name": "Suisse",
         "showlegend": true,
         "type": "scattergl",
         "x": [
          1896,
          1900,
          1904,
          1906,
          1920,
          1924,
          1928,
          1932,
          1936,
          1948,
          1952,
          1956,
          1960,
          1964,
          1968,
          1972,
          1976,
          1980,
          1984,
          1988,
          1992,
          1996,
          2000,
          2004,
          2008,
          2012,
          2016,
          2021
         ],
         "xaxis": "x",
         "y": [
          3,
          9,
          2,
          15,
          11,
          25,
          15,
          1,
          15,
          20,
          14,
          1,
          6,
          4,
          5,
          3,
          5,
          2,
          8,
          4,
          1,
          7,
          9,
          5,
          8,
          4,
          7,
          13
         ],
         "yaxis": "y"
        },
        {
         "hovertemplate": "Country=Belgique<br>Year=%{x}<br>Total=%{marker.size}<extra></extra>",
         "legendgroup": "Belgique",
         "marker": {
          "color": "#636efa",
          "size": [
           15,
           7,
           8,
           6,
           36,
           13,
           3,
           2,
           7,
           4,
           2,
           4,
           3,
           2,
           2,
           6,
           1,
           4,
           2,
           3,
           6,
           5,
           3,
           2,
           3,
           6,
           7
          ],
          "sizemode": "area",
          "sizeref": 0.6025,
          "symbol": "circle"
         },
         "mode": "markers",
         "name": "Belgique",
         "showlegend": true,
         "type": "scattergl",
         "x": [
          1900,
          1906,
          1908,
          1912,
          1920,
          1924,
          1928,
          1936,
          1948,
          1952,
          1956,
          1960,
          1964,
          1968,
          1972,
          1976,
          1980,
          1984,
          1988,
          1992,
          1996,
          2000,
          2004,
          2008,
          2012,
          2016,
          2021
         ],
         "xaxis": "x",
         "y": [
          15,
          7,
          8,
          6,
          36,
          13,
          3,
          2,
          7,
          4,
          2,
          4,
          3,
          2,
          2,
          6,
          1,
          4,
          2,
          3,
          6,
          5,
          3,
          2,
          3,
          6,
          7
         ],
         "yaxis": "y"
        },
        {
         "hovertemplate": "Country=Bohême<br>Year=%{x}<br>Total=%{marker.size}<extra></extra>",
         "legendgroup": "Bohême",
         "marker": {
          "color": "#EF553B",
          "size": [
           3,
           2,
           2
          ],
          "sizemode": "area",
          "sizeref": 0.6025,
          "symbol": "circle"
         },
         "mode": "markers",
         "name": "Bohême",
         "showlegend": true,
         "type": "scattergl",
         "x": [
          1900,
          1906,
          1908
         ],
         "xaxis": "x",
         "y": [
          3,
          2,
          2
         ],
         "yaxis": "y"
        },
        {
         "hovertemplate": "Country=Canada<br>Year=%{x}<br>Total=%{marker.size}<extra></extra>",
         "legendgroup": "Canada",
         "marker": {
          "color": "#00cc96",
          "size": [
           2,
           4,
           2,
           15,
           7,
           9,
           4,
           15,
           15,
           9,
           3,
           3,
           6,
           1,
           4,
           5,
           5,
           12,
           45,
           10,
           18,
           22,
           14,
           12,
           21,
           18,
           22,
           24
          ],
          "sizemode": "area",
          "sizeref": 0.6025,
          "symbol": "circle"
         },
         "mode": "markers",
         "name": "Canada",
         "showlegend": true,
         "type": "scattergl",
         "x": [
          1900,
          1904,
          1906,
          1908,
          1912,
          1920,
          1924,
          1928,
          1932,
          1936,
          1948,
          1952,
          1956,
          1960,
          1964,
          1968,
          1972,
          1976,
          1984,
          1988,
          1992,
          1996,
          2000,
          2004,
          2008,
          2012,
          2016,
          2021
         ],
         "xaxis": "x",
         "y": [
          2,
          4,
          2,
          15,
          7,
          9,
          4,
          15,
          15,
          9,
          3,
          3,
          6,
          1,
          4,
          5,
          5,
          12,
          45,
          10,
          18,
          22,
          14,
          12,
          21,
          18,
          22,
          24
         ],
         "yaxis": "y"
        },
        {
         "hovertemplate": "Country=Cuba<br>Year=%{x}<br>Total=%{marker.size}<extra></extra>",
         "legendgroup": "Cuba",
         "marker": {
          "color": "#ab63fa",
          "size": [
           2,
           4,
           1,
           1,
           4,
           8,
           13,
           20,
           31,
           24,
           29,
           28,
           31,
           14,
           11,
           15
          ],
          "sizemode": "area",
          "sizeref": 0.6025,
          "symbol": "circle"
         },
         "mode": "markers",
         "name": "Cuba",
         "showlegend": true,
         "type": "scattergl",
         "x": [
          1900,
          1904,
          1948,
          1964,
          1968,
          1972,
          1976,
          1980,
          1992,
          1996,
          2000,
          2004,
          2008,
          2012,
          2016,
          2021
         ],
         "xaxis": "x",
         "y": [
          2,
          4,
          1,
          1,
          4,
          8,
          13,
          20,
          31,
          24,
          29,
          28,
          31,
          14,
          11,
          15
         ],
         "yaxis": "y"
        },
        {
         "hovertemplate": "Country=Inde<br>Year=%{x}<br>Total=%{marker.size}<extra></extra>",
         "legendgroup": "Inde",
         "marker": {
          "color": "#FFA15A",
          "size": [
           2,
           1,
           1,
           1,
           1,
           2,
           1,
           1,
           1,
           1,
           1,
           1,
           1,
           1,
           1,
           3,
           6,
           2,
           7
          ],
          "sizemode": "area",
          "sizeref": 0.6025,
          "symbol": "circle"
         },
         "mode": "markers",
         "name": "Inde",
         "showlegend": true,
         "type": "scattergl",
         "x": [
          1900,
          1928,
          1932,
          1936,
          1948,
          1952,
          1956,
          1960,
          1964,
          1968,
          1972,
          1980,
          1996,
          2000,
          2004,
          2008,
          2012,
          2016,
          2021
         ],
         "xaxis": "x",
         "y": [
          2,
          1,
          1,
          1,
          1,
          2,
          1,
          1,
          1,
          1,
          1,
          1,
          1,
          1,
          1,
          3,
          6,
          2,
          7
         ],
         "yaxis": "y"
        },
        {
         "hovertemplate": "Country=International<br>Year=%{x}<br>Total=%{marker.size}<extra></extra>",
         "legendgroup": "International",
         "marker": {
          "color": "#19d3f3",
          "size": [
           2,
           3
          ],
          "sizemode": "area",
          "sizeref": 0.6025,
          "symbol": "circle"
         },
         "mode": "markers",
         "name": "International",
         "showlegend": true,
         "type": "scattergl",
         "x": [
          1900,
          1992
         ],
         "xaxis": "x",
         "y": [
          2,
          3
         ],
         "yaxis": "y"
        },
        {
         "hovertemplate": "Country=Italie<br>Year=%{x}<br>Total=%{marker.size}<extra></extra>",
         "legendgroup": "Italie",
         "marker": {
          "color": "#FF6692",
          "size": [
           4,
           16,
           4,
           6,
           23,
           16,
           19,
           36,
           22,
           27,
           21,
           25,
           36,
           27,
           16,
           18,
           13,
           15,
           31,
           14,
           19,
           35,
           34,
           32,
           29,
           28,
           28,
           40
          ],
          "sizemode": "area",
          "sizeref": 0.6025,
          "symbol": "circle"
         },
         "mode": "markers",
         "name": "Italie",
         "showlegend": true,
         "type": "scattergl",
         "x": [
          1900,
          1906,
          1908,
          1912,
          1920,
          1924,
          1928,
          1932,
          1936,
          1948,
          1952,
          1956,
          1960,
          1964,
          1968,
          1972,
          1976,
          1980,
          1984,
          1988,
          1992,
          1996,
          2000,
          2004,
          2008,
          2012,
          2016,
          2021
         ],
         "xaxis": "x",
         "y": [
          4,
          16,
          4,
          6,
          23,
          16,
          19,
          36,
          22,
          27,
          21,
          25,
          36,
          27,
          16,
          18,
          13,
          15,
          31,
          14,
          19,
          35,
          34,
          32,
          29,
          28,
          28,
          40
         ],
         "yaxis": "y"
        },
        {
         "hovertemplate": "Country=Mexique<br>Year=%{x}<br>Total=%{marker.size}<extra></extra>",
         "legendgroup": "Mexique",
         "marker": {
          "color": "#B6E880",
          "size": [
           1,
           2,
           3,
           5,
           1,
           2,
           1,
           1,
           9,
           1,
           2,
           4,
           5,
           2,
           1,
           1,
           6,
           5,
           6,
           8,
           5,
           4
          ],
          "sizemode": "area",
          "sizeref": 0.6025,
          "symbol": "circle"
         },
         "mode": "markers",
         "name": "Mexique",
         "showlegend": true,
         "type": "scattergl",
         "x": [
          1900,
          1932,
          1936,
          1948,
          1952,
          1956,
          1960,
          1964,
          1968,
          1972,
          1976,
          1980,
          1984,
          1988,
          1992,
          1996,
          2000,
          2004,
          2008,
          2012,
          2016,
          2021
         ],
         "xaxis": "x",
         "y": [
          1,
          2,
          3,
          5,
          1,
          2,
          1,
          1,
          9,
          1,
          2,
          4,
          5,
          2,
          1,
          1,
          6,
          5,
          6,
          8,
          5,
          4
         ],
         "yaxis": "y"
        },
        {
         "hovertemplate": "Country=Norvège<br>Year=%{x}<br>Total=%{marker.size}<extra></extra>",
         "legendgroup": "Norvège",
         "marker": {
          "color": "#FF97FF",
          "size": [
           5,
           7,
           8,
           9,
           31,
           10,
           4,
           6,
           7,
           5,
           3,
           1,
           2,
           4,
           2,
           3,
           5,
           7,
           7,
           10,
           6,
           10,
           4,
           4,
           8
          ],
          "sizemode": "area",
          "sizeref": 0.6025,
          "symbol": "circle"
         },
         "mode": "markers",
         "name": "Norvège",
         "showlegend": true,
         "type": "scattergl",
         "x": [
          1900,
          1906,
          1908,
          1912,
          1920,
          1924,
          1928,
          1936,
          1948,
          1952,
          1956,
          1960,
          1968,
          1972,
          1976,
          1984,
          1988,
          1992,
          1996,
          2000,
          2004,
          2008,
          2012,
          2016,
          2021
         ],
         "xaxis": "x",
         "y": [
          5,
          7,
          8,
          9,
          31,
          10,
          4,
          6,
          7,
          5,
          3,
          1,
          2,
          4,
          2,
          3,
          5,
          7,
          7,
          10,
          6,
          10,
          4,
          4,
          8
         ],
         "yaxis": "y"
        },
        {
         "hovertemplate": "Country=Pays-Bas<br>Year=%{x}<br>Total=%{marker.size}<extra></extra>",
         "legendgroup": "Pays-Bas",
         "marker": {
          "color": "#FECB52",
          "size": [
           5,
           3,
           2,
           3,
           11,
           10,
           19,
           7,
           17,
           16,
           5,
           3,
           10,
           7,
           5,
           5,
           3,
           13,
           9,
           15,
           19,
           25,
           22,
           20,
           20,
           19,
           36
          ],
          "sizemode": "area",
          "sizeref": 0.6025,
          "symbol": "circle"
         },
         "mode": "markers",
         "name": "Pays-Bas",
         "showlegend": true,
         "type": "scattergl",
         "x": [
          1900,
          1906,
          1908,
          1912,
          1920,
          1924,
          1928,
          1932,
          1936,
          1948,
          1952,
          1960,
          1964,
          1968,
          1972,
          1976,
          1980,
          1984,
          1988,
          1992,
          1996,
          2000,
          2004,
          2008,
          2012,
          2016,
          2021
         ],
         "xaxis": "x",
         "y": [
          5,
          3,
          2,
          3,
          11,
          10,
          19,
          7,
          17,
          16,
          5,
          3,
          10,
          7,
          5,
          5,
          3,
          13,
          9,
          15,
          19,
          25,
          22,
          20,
          20,
          19,
          36
         ],
         "yaxis": "y"
        },
        {
         "hovertemplate": "Country=Suède<br>Year=%{x}<br>Total=%{marker.size}<extra></extra>",
         "legendgroup": "Suède",
         "marker": {
          "color": "#636efa",
          "size": [
           1,
           14,
           25,
           64,
           64,
           29,
           25,
           23,
           20,
           44,
           35,
           19,
           6,
           8,
           4,
           16,
           5,
           12,
           18,
           11,
           12,
           9,
           13,
           7,
           5,
           8,
           11,
           9
          ],
          "sizemode": "area",
          "sizeref": 0.6025,
          "symbol": "circle"
         },
         "mode": "markers",
         "name": "Suède",
         "showlegend": true,
         "type": "scattergl",
         "x": [
          1900,
          1906,
          1908,
          1912,
          1920,
          1924,
          1928,
          1932,
          1936,
          1948,
          1952,
          1956,
          1960,
          1964,
          1968,
          1972,
          1976,
          1980,
          1984,
          1988,
          1992,
          1996,
          2000,
          2004,
          2008,
          2012,
          2016,
          2021
         ],
         "xaxis": "x",
         "y": [
          1,
          14,
          25,
          64,
          64,
          29,
          25,
          23,
          20,
          44,
          35,
          19,
          6,
          8,
          4,
          16,
          5,
          12,
          18,
          11,
          12,
          9,
          13,
          7,
          5,
          8,
          11,
          9
         ],
         "yaxis": "y"
        },
        {
         "hovertemplate": "Country=Australasie<br>Year=%{x}<br>Total=%{marker.size}<extra></extra>",
         "legendgroup": "Australasie",
         "marker": {
          "color": "#EF553B",
          "size": [
           1,
           5,
           6
          ],
          "sizemode": "area",
          "sizeref": 0.6025,
          "symbol": "circle"
         },
         "mode": "markers",
         "name": "Australasie",
         "showlegend": true,
         "type": "scattergl",
         "x": [
          1906,
          1908,
          1912
         ],
         "xaxis": "x",
         "y": [
          1,
          5,
          6
         ],
         "yaxis": "y"
        },
        {
         "hovertemplate": "Country=Empire Ottoman<br>Year=%{x}<br>Total=%{marker.size}<extra></extra>",
         "legendgroup": "Empire Ottoman",
         "marker": {
          "color": "#00cc96",
          "size": [
           1
          ],
          "sizemode": "area",
          "sizeref": 0.6025,
          "symbol": "circle"
         },
         "mode": "markers",
         "name": "Empire Ottoman",
         "showlegend": true,
         "type": "scattergl",
         "x": [
          1906
         ],
         "xaxis": "x",
         "y": [
          1
         ],
         "yaxis": "y"
        },
        {
         "hovertemplate": "Country=Finlande<br>Year=%{x}<br>Total=%{marker.size}<extra></extra>",
         "legendgroup": "Finlande",
         "marker": {
          "color": "#ab63fa",
          "size": [
           3,
           5,
           26,
           34,
           37,
           25,
           25,
           19,
           20,
           22,
           15,
           5,
           5,
           4,
           8,
           6,
           8,
           12,
           4,
           5,
           4,
           4,
           2,
           4,
           3,
           1,
           2
          ],
          "sizemode": "area",
          "sizeref": 0.6025,
          "symbol": "circle"
         },
         "mode": "markers",
         "name": "Finlande",
         "showlegend": true,
         "type": "scattergl",
         "x": [
          1906,
          1908,
          1912,
          1920,
          1924,
          1928,
          1932,
          1936,
          1948,
          1952,
          1956,
          1960,
          1964,
          1968,
          1972,
          1976,
          1980,
          1984,
          1988,
          1992,
          1996,
          2000,
          2004,
          2008,
          2012,
          2016,
          2021
         ],
         "xaxis": "x",
         "y": [
          3,
          5,
          26,
          34,
          37,
          25,
          25,
          19,
          20,
          22,
          15,
          5,
          5,
          4,
          8,
          6,
          8,
          12,
          4,
          5,
          4,
          4,
          2,
          4,
          3,
          1,
          2
         ],
         "yaxis": "y"
        },
        {
         "hovertemplate": "Country=Afrique du Sud<br>Year=%{x}<br>Total=%{marker.size}<extra></extra>",
         "legendgroup": "Afrique du Sud",
         "marker": {
          "color": "#FFA15A",
          "size": [
           2,
           6,
           10,
           3,
           3,
           5,
           1,
           4,
           10,
           4,
           3,
           2,
           5,
           5,
           6,
           1,
           6,
           10,
           3
          ],
          "sizemode": "area",
          "sizeref": 0.6025,
          "symbol": "circle"
         },
         "mode": "markers",
         "name": "Afrique du Sud",
         "showlegend": true,
         "type": "scattergl",
         "x": [
          1908,
          1912,
          1920,
          1924,
          1928,
          1932,
          1936,
          1948,
          1952,
          1956,
          1960,
          1992,
          1996,
          2000,
          2004,
          2008,
          2012,
          2016,
          2021
         ],
         "xaxis": "x",
         "y": [
          2,
          6,
          10,
          3,
          3,
          5,
          1,
          4,
          10,
          4,
          3,
          2,
          5,
          5,
          6,
          1,
          6,
          10,
          3
         ],
         "yaxis": "y"
        },
        {
         "hovertemplate": "Country=Guyana<br>Year=%{x}<br>Total=%{marker.size}<extra></extra>",
         "legendgroup": "Guyana",
         "marker": {
          "color": "#19d3f3",
          "size": [
           1,
           1
          ],
          "sizemode": "area",
          "sizeref": 0.6025,
          "symbol": "circle"
         },
         "mode": "markers",
         "name": "Guyana",
         "showlegend": true,
         "type": "scattergl",
         "x": [
          1908,
          1980
         ],
         "xaxis": "x",
         "y": [
          1,
          1
         ],
         "yaxis": "y"
        },
        {
         "hovertemplate": "Country=Irlande<br>Year=%{x}<br>Total=%{marker.size}<extra></extra>",
         "legendgroup": "Irlande",
         "marker": {
          "color": "#FF6692",
          "size": [
           2,
           1,
           2,
           1,
           5,
           1,
           2,
           1,
           2,
           4,
           1,
           3,
           5,
           2,
           4
          ],
          "sizemode": "area",
          "sizeref": 0.6025,
          "symbol": "circle"
         },
         "mode": "markers",
         "name": "Irlande",
         "showlegend": true,
         "type": "scattergl",
         "x": [
          1908,
          1928,
          1932,
          1952,
          1956,
          1964,
          1980,
          1984,
          1992,
          1996,
          2000,
          2008,
          2012,
          2016,
          2021
         ],
         "xaxis": "x",
         "y": [
          2,
          1,
          2,
          1,
          5,
          1,
          2,
          1,
          2,
          4,
          1,
          3,
          5,
          2,
          4
         ],
         "yaxis": "y"
        },
        {
         "hovertemplate": "Country=Russie<br>Year=%{x}<br>Total=%{marker.size}<extra></extra>",
         "legendgroup": "Russie",
         "marker": {
          "color": "#B6E880",
          "size": [
           2,
           5,
           62,
           88,
           91,
           61,
           72,
           55,
           71
          ],
          "sizemode": "area",
          "sizeref": 0.6025,
          "symbol": "circle"
         },
         "mode": "markers",
         "name": "Russie",
         "showlegend": true,
         "type": "scattergl",
         "x": [
          1908,
          1912,
          1996,
          2000,
          2004,
          2008,
          2012,
          2016,
          2021
         ],
         "xaxis": "x",
         "y": [
          2,
          5,
          62,
          88,
          91,
          61,
          72,
          55,
          71
         ],
         "yaxis": "y"
        },
        {
         "hovertemplate": "Country=Nouvelle-Zélande<br>Year=%{x}<br>Total=%{marker.size}<extra></extra>",
         "legendgroup": "Nouvelle-Zélande",
         "marker": {
          "color": "#FF97FF",
          "size": [
           1,
           1,
           1,
           1,
           1,
           1,
           3,
           2,
           3,
           5,
           3,
           3,
           4,
           11,
           13,
           10,
           6,
           4,
           5,
           9,
           13,
           18,
           20
          ],
          "sizemode": "area",
          "sizeref": 0.6025,
          "symbol": "circle"
         },
         "mode": "markers",
         "name": "Nouvelle-Zélande",
         "showlegend": true,
         "type": "scattergl",
         "x": [
          1912,
          1920,
          1924,
          1928,
          1932,
          1936,
          1952,
          1956,
          1960,
          1964,
          1968,
          1972,
          1976,
          1984,
          1988,
          1992,
          1996,
          2000,
          2004,
          2008,
          2012,
          2016,
          2021
         ],
         "xaxis": "x",
         "y": [
          1,
          1,
          1,
          1,
          1,
          1,
          3,
          2,
          3,
          5,
          3,
          3,
          4,
          11,
          13,
          10,
          6,
          4,
          5,
          9,
          13,
          18,
          20
         ],
         "yaxis": "y"
        },
        {
         "hovertemplate": "Country=Brésil<br>Year=%{x}<br>Total=%{marker.size}<extra></extra>",
         "legendgroup": "Brésil",
         "marker": {
          "color": "#FECB52",
          "size": [
           3,
           1,
           3,
           1,
           2,
           1,
           3,
           2,
           2,
           4,
           8,
           6,
           3,
           15,
           12,
           10,
           20,
           17,
           19,
           21
          ],
          "sizemode": "area",
          "sizeref": 0.6025,
          "symbol": "circle"
         },
         "mode": "markers",
         "name": "Brésil",
         "showlegend": true,
         "type": "scattergl",
         "x": [
          1920,
          1948,
          1952,
          1956,
          1960,
          1964,
          1968,
          1972,
          1976,
          1980,
          1984,
          1988,
          1992,
          1996,
          2000,
          2004,
          2008,
          2012,
          2016,
          2021
         ],
         "xaxis": "x",
         "y": [
          3,
          1,
          3,
          1,
          2,
          1,
          3,
          2,
          2,
          4,
          8,
          6,
          3,
          15,
          12,
          10,
          20,
          17,
          19,
          21
         ],
         "yaxis": "y"
        },
        {
         "hovertemplate": "Country=Espagne<br>Year=%{x}<br>Total=%{marker.size}<extra></extra>",
         "legendgroup": "Espagne",
         "marker": {
          "color": "#636efa",
          "size": [
           2,
           1,
           1,
           1,
           1,
           1,
           1,
           2,
           6,
           5,
           4,
           22,
           17,
           11,
           19,
           19,
           18,
           17,
           17
          ],
          "sizemode": "area",
          "sizeref": 0.6025,
          "symbol": "circle"
         },
         "mode": "markers",
         "name": "Espagne",
         "showlegend": true,
         "type": "scattergl",
         "x": [
          1920,
          1928,
          1932,
          1948,
          1952,
          1960,
          1972,
          1976,
          1980,
          1984,
          1988,
          1992,
          1996,
          2000,
          2004,
          2008,
          2012,
          2016,
          2021
         ],
         "xaxis": "x",
         "y": [
          2,
          1,
          1,
          1,
          1,
          1,
          1,
          2,
          6,
          5,
          4,
          22,
          17,
          11,
          19,
          19,
          18,
          17,
          17
         ],
         "yaxis": "y"
        },
        {
         "hovertemplate": "Country=Estonie<br>Year=%{x}<br>Total=%{marker.size}<extra></extra>",
         "legendgroup": "Estonie",
         "marker": {
          "color": "#EF553B",
          "size": [
           3,
           6,
           5,
           7,
           1,
           3,
           3,
           2,
           2,
           1,
           2
          ],
          "sizemode": "area",
          "sizeref": 0.6025,
          "symbol": "circle"
         },
         "mode": "markers",
         "name": "Estonie",
         "showlegend": true,
         "type": "scattergl",
         "x": [
          1920,
          1924,
          1928,
          1936,
          1992,
          2000,
          2004,
          2008,
          2012,
          2016,
          2021
         ],
         "xaxis": "x",
         "y": [
          3,
          6,
          5,
          7,
          1,
          3,
          3,
          2,
          2,
          1,
          2
         ],
         "yaxis": "y"
        },
        {
         "hovertemplate": "Country=Japon<br>Year=%{x}<br>Total=%{marker.size}<extra></extra>",
         "legendgroup": "Japon",
         "marker": {
          "color": "#00cc96",
          "size": [
           2,
           1,
           5,
           18,
           18,
           9,
           19,
           18,
           29,
           25,
           29,
           23,
           32,
           15,
           22,
           14,
           18,
           37,
           29,
           38,
           41,
           55
          ],
          "sizemode": "area",
          "sizeref": 0.6025,
          "symbol": "circle"
         },
         "mode": "markers",
         "name": "Japon",
         "showlegend": true,
         "type": "scattergl",
         "x": [
          1920,
          1924,
          1928,
          1932,
          1936,
          1952,
          1956,
          1960,
          1964,
          1968,
          1972,
          1976,
          1984,
          1988,
          1992,
          1996,
          2000,
          2004,
          2008,
          2012,
          2016,
          2021
         ],
         "xaxis": "x",
         "y": [
          2,
          1,
          5,
          18,
          18,
          9,
          19,
          18,
          29,
          25,
          29,
          23,
          32,
          15,
          22,
          14,
          18,
          37,
          29,
          38,
          41,
          55
         ],
         "yaxis": "y"
        },
        {
         "hovertemplate": "Country=Luxembourg<br>Year=%{x}<br>Total=%{marker.size}<extra></extra>",
         "legendgroup": "Luxembourg",
         "marker": {
          "color": "#ab63fa",
          "size": [
           1,
           1
          ],
          "sizemode": "area",
          "sizeref": 0.6025,
          "symbol": "circle"
         },
         "mode": "markers",
         "name": "Luxembourg",
         "showlegend": true,
         "type": "scattergl",
         "x": [
          1920,
          1952
         ],
         "xaxis": "x",
         "y": [
          1,
          1
         ],
         "yaxis": "y"
        },
        {
         "hovertemplate": "Country=Tchécoslovaquie<br>Year=%{x}<br>Total=%{marker.size}<extra></extra>",
         "legendgroup": "Tchécoslovaquie",
         "marker": {
          "color": "#FFA15A",
          "size": [
           2,
           10,
           9,
           4,
           8,
           11,
           13,
           5,
           8,
           14,
           13,
           8,
           8,
           14,
           8,
           7
          ],
          "sizemode": "area",
          "sizeref": 0.6025,
          "symbol": "circle"
         },
         "mode": "markers",
         "name": "Tchécoslovaquie",
         "showlegend": true,
         "type": "scattergl",
         "x": [
          1920,
          1924,
          1928,
          1932,
          1936,
          1948,
          1952,
          1956,
          1960,
          1964,
          1968,
          1972,
          1976,
          1980,
          1988,
          1992
         ],
         "xaxis": "x",
         "y": [
          2,
          10,
          9,
          4,
          8,
          11,
          13,
          5,
          8,
          14,
          13,
          8,
          8,
          14,
          8,
          7
         ],
         "yaxis": "y"
        },
        {
         "hovertemplate": "Country=Argentine<br>Year=%{x}<br>Total=%{marker.size}<extra></extra>",
         "legendgroup": "Argentine",
         "marker": {
          "color": "#19d3f3",
          "size": [
           6,
           7,
           4,
           7,
           7,
           5,
           2,
           2,
           1,
           2,
           1,
           2,
           1,
           3,
           4,
           6,
           7,
           4,
           4,
           3
          ],
          "sizemode": "area",
          "sizeref": 0.6025,
          "symbol": "circle"
         },
         "mode": "markers",
         "name": "Argentine",
         "showlegend": true,
         "type": "scattergl",
         "x": [
          1924,
          1928,
          1932,
          1936,
          1948,
          1952,
          1956,
          1960,
          1964,
          1968,
          1972,
          1988,
          1992,
          1996,
          2000,
          2004,
          2008,
          2012,
          2016,
          2021
         ],
         "xaxis": "x",
         "y": [
          6,
          7,
          4,
          7,
          7,
          5,
          2,
          2,
          1,
          2,
          1,
          2,
          1,
          3,
          4,
          6,
          7,
          4,
          4,
          3
         ],
         "yaxis": "y"
        },
        {
         "hovertemplate": "Country=Haïti<br>Year=%{x}<br>Total=%{marker.size}<extra></extra>",
         "legendgroup": "Haïti",
         "marker": {
          "color": "#FF6692",
          "size": [
           1,
           1
          ],
          "sizemode": "area",
          "sizeref": 0.6025,
          "symbol": "circle"
         },
         "mode": "markers",
         "name": "Haïti",
         "showlegend": true,
         "type": "scattergl",
         "x": [
          1924,
          1928
         ],
         "xaxis": "x",
         "y": [
          1,
          1
         ],
         "yaxis": "y"
        },
        {
         "hovertemplate": "Country=Pologne<br>Year=%{x}<br>Total=%{marker.size}<extra></extra>",
         "legendgroup": "Pologne",
         "marker": {
          "color": "#B6E880",
          "size": [
           2,
           5,
           7,
           6,
           1,
           4,
           9,
           21,
           22,
           18,
           21,
           26,
           32,
           16,
           19,
           17,
           14,
           10,
           11,
           11,
           11,
           14
          ],
          "sizemode": "area",
          "sizeref": 0.6025,
          "symbol": "circle"
         },
         "mode": "markers",
         "name": "Pologne",
         "showlegend": true,
         "type": "scattergl",
         "x": [
          1924,
          1928,
          1932,
          1936,
          1948,
          1952,
          1956,
          1960,
          1964,
          1968,
          1972,
          1976,
          1980,
          1988,
          1992,
          1996,
          2000,
          2004,
          2008,
          2012,
          2016,
          2021
         ],
         "xaxis": "x",
         "y": [
          2,
          5,
          7,
          6,
          1,
          4,
          9,
          21,
          22,
          18,
          21,
          26,
          32,
          16,
          19,
          17,
          14,
          10,
          11,
          11,
          11,
          14
         ],
         "yaxis": "y"
        },
        {
         "hovertemplate": "Country=Portugal<br>Year=%{x}<br>Total=%{marker.size}<extra></extra>",
         "legendgroup": "Portugal",
         "marker": {
          "color": "#FF97FF",
          "size": [
           1,
           1,
           1,
           1,
           2,
           1,
           1,
           2,
           3,
           1,
           2,
           2,
           3,
           2,
           1,
           1,
           4
          ],
          "sizemode": "area",
          "sizeref": 0.6025,
          "symbol": "circle"
         },
         "mode": "markers",
         "name": "Portugal",
         "showlegend": true,
         "type": "scattergl",
         "x": [
          1924,
          1928,
          1932,
          1936,
          1948,
          1952,
          1960,
          1976,
          1984,
          1988,
          1996,
          2000,
          2004,
          2008,
          2012,
          2016,
          2021
         ],
         "xaxis": "x",
         "y": [
          1,
          1,
          1,
          1,
          2,
          1,
          1,
          2,
          3,
          1,
          2,
          2,
          3,
          2,
          1,
          1,
          4
         ],
         "yaxis": "y"
        },
        {
         "hovertemplate": "Country=Roumanie<br>Year=%{x}<br>Total=%{marker.size}<extra></extra>",
         "legendgroup": "Roumanie",
         "marker": {
          "color": "#FECB52",
          "size": [
           1,
           1,
           4,
           13,
           10,
           12,
           15,
           15,
           27,
           25,
           53,
           24,
           17,
           21,
           26,
           19,
           8,
           7,
           4,
           4
          ],
          "sizemode": "area",
          "sizeref": 0.6025,
          "symbol": "circle"
         },
         "mode": "markers",
         "name": "Roumanie",
         "showlegend": true,
         "type": "scattergl",
         "x": [
          1924,
          1936,
          1952,
          1956,
          1960,
          1964,
          1968,
          1972,
          1976,
          1980,
          1984,
          1988,
          1992,
          1996,
          2000,
          2004,
          2008,
          2012,
          2016,
          2021
         ],
         "xaxis": "x",
         "y": [
          1,
          1,
          4,
          13,
          10,
          12,
          15,
          15,
          27,
          25,
          53,
          24,
          17,
          21,
          26,
          19,
          8,
          7,
          4,
          4
         ],
         "yaxis": "y"
        },
        {
         "hovertemplate": "Country=Uruguay<br>Year=%{x}<br>Total=%{marker.size}<extra></extra>",
         "legendgroup": "Uruguay",
         "marker": {
          "color": "#636efa",
          "size": [
           1,
           1,
           1,
           2,
           2,
           1,
           1,
           1
          ],
          "sizemode": "area",
          "sizeref": 0.6025,
          "symbol": "circle"
         },
         "mode": "markers",
         "name": "Uruguay",
         "showlegend": true,
         "type": "scattergl",
         "x": [
          1924,
          1928,
          1932,
          1948,
          1952,
          1956,
          1964,
          2000
         ],
         "xaxis": "x",
         "y": [
          1,
          1,
          1,
          2,
          2,
          1,
          1,
          1
         ],
         "yaxis": "y"
        },
        {
         "hovertemplate": "Country=Yougoslavie<br>Year=%{x}<br>Total=%{marker.size}<extra></extra>",
         "legendgroup": "Yougoslavie",
         "marker": {
          "color": "#EF553B",
          "size": [
           2,
           5,
           1,
           2,
           3,
           3,
           2,
           5,
           8,
           5,
           8,
           9,
           18,
           9,
           4,
           3
          ],
          "sizemode": "area",
          "sizeref": 0.6025,
          "symbol": "circle"
         },
         "mode": "markers",
         "name": "Yougoslavie",
         "showlegend": true,
         "type": "scattergl",
         "x": [
          1924,
          1928,
          1936,
          1948,
          1952,
          1956,
          1960,
          1964,
          1968,
          1972,
          1976,
          1980,
          1984,
          1988,
          1996,
          2000
         ],
         "xaxis": "x",
         "y": [
          2,
          5,
          1,
          2,
          3,
          3,
          2,
          5,
          8,
          5,
          8,
          9,
          18,
          9,
          4,
          3
         ],
         "yaxis": "y"
        },
        {
         "hovertemplate": "Country=Chili<br>Year=%{x}<br>Total=%{marker.size}<extra></extra>",
         "legendgroup": "Chili",
         "marker": {
          "color": "#00cc96",
          "size": [
           1,
           2,
           4,
           1,
           1,
           3,
           1
          ],
          "sizemode": "area",
          "sizeref": 0.6025,
          "symbol": "circle"
         },
         "mode": "markers",
         "name": "Chili",
         "showlegend": true,
         "type": "scattergl",
         "x": [
          1928,
          1952,
          1956,
          1988,
          2000,
          2004,
          2008
         ],
         "xaxis": "x",
         "y": [
          1,
          2,
          4,
          1,
          1,
          3,
          1
         ],
         "yaxis": "y"
        },
        {
         "hovertemplate": "Country=Egypte<br>Year=%{x}<br>Total=%{marker.size}<extra></extra>",
         "legendgroup": "Egypte",
         "marker": {
          "color": "#ab63fa",
          "size": [
           4,
           5,
           5,
           1,
           2,
           1,
           6,
           3,
           4,
           3,
           6
          ],
          "sizemode": "area",
          "sizeref": 0.6025,
          "symbol": "circle"
         },
         "mode": "markers",
         "name": "Egypte",
         "showlegend": true,
         "type": "scattergl",
         "x": [
          1928,
          1936,
          1948,
          1952,
          1960,
          1984,
          2004,
          2008,
          2012,
          2016,
          2021
         ],
         "xaxis": "x",
         "y": [
          4,
          5,
          5,
          1,
          2,
          1,
          6,
          3,
          4,
          3,
          6
         ],
         "yaxis": "y"
        },
        {
         "hovertemplate": "Country=Philippines<br>Year=%{x}<br>Total=%{marker.size}<extra></extra>",
         "legendgroup": "Philippines",
         "marker": {
          "color": "#FFA15A",
          "size": [
           1,
           3,
           1,
           1,
           1,
           1,
           1,
           1,
           4
          ],
          "sizemode": "area",
          "sizeref": 0.6025,
          "symbol": "circle"
         },
         "mode": "markers",
         "name": "Philippines",
         "showlegend": true,
         "type": "scattergl",
         "x": [
          1928,
          1932,
          1936,
          1964,
          1988,
          1992,
          1996,
          2016,
          2021
         ],
         "xaxis": "x",
         "y": [
          1,
          3,
          1,
          1,
          1,
          1,
          1,
          1,
          4
         ],
         "yaxis": "y"
        },
        {
         "hovertemplate": "Country=Lettonie<br>Year=%{x}<br>Total=%{marker.size}<extra></extra>",
         "legendgroup": "Lettonie",
         "marker": {
          "color": "#19d3f3",
          "size": [
           1,
           2,
           3,
           1,
           3,
           4,
           3,
           2,
           3
          ],
          "sizemode": "area",
          "sizeref": 0.6025,
          "symbol": "circle"
         },
         "mode": "markers",
         "name": "Lettonie",
         "showlegend": true,
         "type": "scattergl",
         "x": [
          1932,
          1936,
          1992,
          1996,
          2000,
          2004,
          2008,
          2012,
          2021
         ],
         "xaxis": "x",
         "y": [
          1,
          2,
          3,
          1,
          3,
          4,
          3,
          2,
          3
         ],
         "yaxis": "y"
        },
        {
         "hovertemplate": "Country=Turquie<br>Year=%{x}<br>Total=%{marker.size}<extra></extra>",
         "legendgroup": "Turquie",
         "marker": {
          "color": "#FF6692",
          "size": [
           2,
           12,
           3,
           7,
           9,
           6,
           2,
           1,
           3,
           2,
           6,
           6,
           5,
           12,
           7,
           3,
           8,
           13
          ],
          "sizemode": "area",
          "sizeref": 0.6025,
          "symbol": "circle"
         },
         "mode": "markers",
         "name": "Turquie",
         "showlegend": true,
         "type": "scattergl",
         "x": [
          1936,
          1948,
          1952,
          1956,
          1960,
          1964,
          1968,
          1972,
          1984,
          1988,
          1992,
          1996,
          2000,
          2004,
          2008,
          2012,
          2016,
          2021
         ],
         "xaxis": "x",
         "y": [
          2,
          12,
          3,
          7,
          9,
          6,
          2,
          1,
          3,
          2,
          6,
          6,
          5,
          12,
          7,
          3,
          8,
          13
         ],
         "yaxis": "y"
        },
        {
         "hovertemplate": "Country=Corée du Sud<br>Year=%{x}<br>Total=%{marker.size}<extra></extra>",
         "legendgroup": "Corée du Sud",
         "marker": {
          "color": "#B6E880",
          "size": [
           2,
           2,
           2,
           3,
           2,
           1,
           6,
           19,
           33,
           28,
           27,
           28,
           32,
           38,
           30,
           21,
           20
          ],
          "sizemode": "area",
          "sizeref": 0.6025,
          "symbol": "circle"
         },
         "mode": "markers",
         "name": "Corée du Sud",
         "showlegend": true,
         "type": "scattergl",
         "x": [
          1948,
          1952,
          1956,
          1964,
          1968,
          1972,
          1976,
          1984,
          1988,
          1992,
          1996,
          2000,
          2004,
          2008,
          2012,
          2016,
          2021
         ],
         "xaxis": "x",
         "y": [
          2,
          2,
          2,
          3,
          2,
          1,
          6,
          19,
          33,
          28,
          27,
          28,
          32,
          38,
          30,
          21,
          20
         ],
         "yaxis": "y"
        },
        {
         "hovertemplate": "Country=Iran<br>Year=%{x}<br>Total=%{marker.size}<extra></extra>",
         "legendgroup": "Iran",
         "marker": {
          "color": "#FF97FF",
          "size": [
           1,
           7,
           5,
           4,
           2,
           5,
           3,
           2,
           1,
           3,
           3,
           4,
           7,
           3,
           13,
           8,
           7
          ],
          "sizemode": "area",
          "sizeref": 0.6025,
          "symbol": "circle"
         },
         "mode": "markers",
         "name": "Iran",
         "showlegend": true,
         "type": "scattergl",
         "x": [
          1948,
          1952,
          1956,
          1960,
          1964,
          1968,
          1972,
          1976,
          1988,
          1992,
          1996,
          2000,
          2004,
          2008,
          2012,
          2016,
          2021
         ],
         "xaxis": "x",
         "y": [
          1,
          7,
          5,
          4,
          2,
          5,
          3,
          2,
          1,
          3,
          3,
          4,
          7,
          3,
          13,
          8,
          7
         ],
         "yaxis": "y"
        },
        {
         "hovertemplate": "Country=Jamaïque<br>Year=%{x}<br>Total=%{marker.size}<extra></extra>",
         "legendgroup": "Jamaïque",
         "marker": {
          "color": "#FECB52",
          "size": [
           3,
           5,
           1,
           1,
           2,
           3,
           3,
           2,
           4,
           6,
           9,
           5,
           10,
           12,
           11,
           9
          ],
          "sizemode": "area",
          "sizeref": 0.6025,
          "symbol": "circle"
         },
         "mode": "markers",
         "name": "Jamaïque",
         "showlegend": true,
         "type": "scattergl",
         "x": [
          1948,
          1952,
          1968,
          1972,
          1976,
          1980,
          1984,
          1988,
          1992,
          1996,
          2000,
          2004,
          2008,
          2012,
          2016,
          2021
         ],
         "xaxis": "x",
         "y": [
          3,
          5,
          1,
          1,
          2,
          3,
          3,
          2,
          4,
          6,
          9,
          5,
          10,
          12,
          11,
          9
         ],
         "yaxis": "y"
        },
        {
         "hovertemplate": "Country=Panama<br>Year=%{x}<br>Total=%{marker.size}<extra></extra>",
         "legendgroup": "Panama",
         "marker": {
          "color": "#636efa",
          "size": [
           2,
           1
          ],
          "sizemode": "area",
          "sizeref": 0.6025,
          "symbol": "circle"
         },
         "mode": "markers",
         "name": "Panama",
         "showlegend": true,
         "type": "scattergl",
         "x": [
          1948,
          2008
         ],
         "xaxis": "x",
         "y": [
          2,
          1
         ],
         "yaxis": "y"
        },
        {
         "hovertemplate": "Country=Porto Rico<br>Year=%{x}<br>Total=%{marker.size}<extra></extra>",
         "legendgroup": "Porto Rico",
         "marker": {
          "color": "#EF553B",
          "size": [
           1,
           1,
           2,
           2,
           2,
           2,
           1,
           1
          ],
          "sizemode": "area",
          "sizeref": 0.6025,
          "symbol": "circle"
         },
         "mode": "markers",
         "name": "Porto Rico",
         "showlegend": true,
         "type": "scattergl",
         "x": [
          1948,
          1976,
          1984,
          1992,
          1996,
          2012,
          2016,
          2021
         ],
         "xaxis": "x",
         "y": [
          1,
          1,
          2,
          2,
          2,
          2,
          1,
          1
         ],
         "yaxis": "y"
        },
        {
         "hovertemplate": "Country=Pérou<br>Year=%{x}<br>Total=%{marker.size}<extra></extra>",
         "legendgroup": "Pérou",
         "marker": {
          "color": "#00cc96",
          "size": [
           1,
           1,
           1,
           1
          ],
          "sizemode": "area",
          "sizeref": 0.6025,
          "symbol": "circle"
         },
         "mode": "markers",
         "name": "Pérou",
         "showlegend": true,
         "type": "scattergl",
         "x": [
          1948,
          1984,
          1988,
          1992
         ],
         "xaxis": "x",
         "y": [
          1,
          1,
          1,
          1
         ],
         "yaxis": "y"
        },
        {
         "hovertemplate": "Country=Sri Lanka<br>Year=%{x}<br>Total=%{marker.size}<extra></extra>",
         "legendgroup": "Sri Lanka",
         "marker": {
          "color": "#ab63fa",
          "size": [
           1,
           1
          ],
          "sizemode": "area",
          "sizeref": 0.6025,
          "symbol": "circle"
         },
         "mode": "markers",
         "name": "Sri Lanka",
         "showlegend": true,
         "type": "scattergl",
         "x": [
          1948,
          2000
         ],
         "xaxis": "x",
         "y": [
          1,
          1
         ],
         "yaxis": "y"
        },
        {
         "hovertemplate": "Country=Trinité-et-Tobago<br>Year=%{x}<br>Total=%{marker.size}<extra></extra>",
         "legendgroup": "Trinité-et-Tobago",
         "marker": {
          "color": "#FFA15A",
          "size": [
           1,
           2,
           3,
           1,
           2,
           2,
           1,
           2,
           4,
           1
          ],
          "sizemode": "area",
          "sizeref": 0.6025,
          "symbol": "circle"
         },
         "mode": "markers",
         "name": "Trinité-et-Tobago",
         "showlegend": true,
         "type": "scattergl",
         "x": [
          1948,
          1952,
          1964,
          1976,
          1996,
          2000,
          2004,
          2008,
          2012,
          2016
         ],
         "xaxis": "x",
         "y": [
          1,
          2,
          3,
          1,
          2,
          2,
          1,
          2,
          4,
          1
         ],
         "yaxis": "y"
        },
        {
         "hovertemplate": "Country=Bulgarie<br>Year=%{x}<br>Total=%{marker.size}<extra></extra>",
         "legendgroup": "Bulgarie",
         "marker": {
          "color": "#19d3f3",
          "size": [
           1,
           5,
           7,
           10,
           9,
           21,
           22,
           41,
           35,
           16,
           15,
           13,
           13,
           5,
           3,
           3,
           5
          ],
          "sizemode": "area",
          "sizeref": 0.6025,
          "symbol": "circle"
         },
         "mode": "markers",
         "name": "Bulgarie",
         "showlegend": true,
         "type": "scattergl",
         "x": [
          1952,
          1956,
          1960,
          1964,
          1968,
          1972,
          1976,
          1980,
          1988,
          1992,
          1996,
          2000,
          2004,
          2008,
          2012,
          2016,
          2021
         ],
         "xaxis": "x",
         "y": [
          1,
          5,
          7,
          10,
          9,
          21,
          22,
          41,
          35,
          16,
          15,
          13,
          13,
          5,
          3,
          3,
          5
         ],
         "yaxis": "y"
        },
        {
         "hovertemplate": "Country=Liban<br>Year=%{x}<br>Total=%{marker.size}<extra></extra>",
         "legendgroup": "Liban",
         "marker": {
          "color": "#FF6692",
          "size": [
           2,
           1,
           1
          ],
          "sizemode": "area",
          "sizeref": 0.6025,
          "symbol": "circle"
         },
         "mode": "markers",
         "name": "Liban",
         "showlegend": true,
         "type": "scattergl",
         "x": [
          1952,
          1972,
          1980
         ],
         "xaxis": "x",
         "y": [
          2,
          1,
          1
         ],
         "yaxis": "y"
        },
        {
         "hovertemplate": "Country=U.R.S.S.<br>Year=%{x}<br>Total=%{marker.size}<extra></extra>",
         "legendgroup": "U.R.S.S.",
         "marker": {
          "color": "#B6E880",
          "size": [
           71,
           98,
           103,
           98,
           91,
           99,
           124,
           194,
           1,
           127
          ],
          "sizemode": "area",
          "sizeref": 0.6025,
          "symbol": "circle"
         },
         "mode": "markers",
         "name": "U.R.S.S.",
         "showlegend": true,
         "type": "scattergl",
         "x": [
          1952,
          1956,
          1960,
          1964,
          1968,
          1972,
          1976,
          1980,
          1984,
          1988
         ],
         "xaxis": "x",
         "y": [
          71,
          98,
          103,
          98,
          91,
          99,
          124,
          194,
          1,
          127
         ],
         "yaxis": "y"
        },
        {
         "hovertemplate": "Country=Venezuela<br>Year=%{x}<br>Total=%{marker.size}<extra></extra>",
         "legendgroup": "Venezuela",
         "marker": {
          "color": "#FF97FF",
          "size": [
           1,
           1,
           1,
           1,
           1,
           3,
           3,
           2,
           1,
           3,
           4
          ],
          "sizemode": "area",
          "sizeref": 0.6025,
          "symbol": "circle"
         },
         "mode": "markers",
         "name": "Venezuela",
         "showlegend": true,
         "type": "scattergl",
         "x": [
          1952,
          1960,
          1968,
          1976,
          1980,
          1984,
          2004,
          2008,
          2012,
          2016,
          2021
         ],
         "xaxis": "x",
         "y": [
          1,
          1,
          1,
          1,
          1,
          3,
          3,
          2,
          1,
          3,
          4
         ],
         "yaxis": "y"
        },
        {
         "hovertemplate": "Country=Bahamas<br>Year=%{x}<br>Total=%{marker.size}<extra></extra>",
         "legendgroup": "Bahamas",
         "marker": {
          "color": "#FECB52",
          "size": [
           1,
           1,
           1,
           1,
           3,
           2,
           2,
           1,
           2,
           2
          ],
          "sizemode": "area",
          "sizeref": 0.6025,
          "symbol": "circle"
         },
         "mode": "markers",
         "name": "Bahamas",
         "showlegend": true,
         "type": "scattergl",
         "x": [
          1956,
          1964,
          1992,
          1996,
          2000,
          2004,
          2008,
          2012,
          2016,
          2021
         ],
         "xaxis": "x",
         "y": [
          1,
          1,
          1,
          1,
          3,
          2,
          2,
          1,
          2,
          2
         ],
         "yaxis": "y"
        },
        {
         "hovertemplate": "Country=Islande<br>Year=%{x}<br>Total=%{marker.size}<extra></extra>",
         "legendgroup": "Islande",
         "marker": {
          "color": "#636efa",
          "size": [
           1,
           1,
           1,
           1
          ],
          "sizemode": "area",
          "sizeref": 0.6025,
          "symbol": "circle"
         },
         "mode": "markers",
         "name": "Islande",
         "showlegend": true,
         "type": "scattergl",
         "x": [
          1956,
          1984,
          2000,
          2008
         ],
         "xaxis": "x",
         "y": [
          1,
          1,
          1,
          1
         ],
         "yaxis": "y"
        },
        {
         "hovertemplate": "Country=Pakistan<br>Year=%{x}<br>Total=%{marker.size}<extra></extra>",
         "legendgroup": "Pakistan",
         "marker": {
          "color": "#EF553B",
          "size": [
           1,
           2,
           1,
           1,
           1,
           1,
           1,
           1,
           1
          ],
          "sizemode": "area",
          "sizeref": 0.6025,
          "symbol": "circle"
         },
         "mode": "markers",
         "name": "Pakistan",
         "showlegend": true,
         "type": "scattergl",
         "x": [
          1956,
          1960,
          1964,
          1968,
          1972,
          1976,
          1984,
          1988,
          1992
         ],
         "xaxis": "x",
         "y": [
          1,
          2,
          1,
          1,
          1,
          1,
          1,
          1,
          1
         ],
         "yaxis": "y"
        },
        {
         "hovertemplate": "Country=Ethiopie<br>Year=%{x}<br>Total=%{marker.size}<extra></extra>",
         "legendgroup": "Ethiopie",
         "marker": {
          "color": "#00cc96",
          "size": [
           1,
           1,
           2,
           2,
           4,
           3,
           3,
           8,
           7,
           7,
           7,
           8,
           4
          ],
          "sizemode": "area",
          "sizeref": 0.6025,
          "symbol": "circle"
         },
         "mode": "markers",
         "name": "Ethiopie",
         "showlegend": true,
         "type": "scattergl",
         "x": [
          1960,
          1964,
          1968,
          1972,
          1980,
          1992,
          1996,
          2000,
          2004,
          2008,
          2012,
          2016,
          2021
         ],
         "xaxis": "x",
         "y": [
          1,
          1,
          2,
          2,
          4,
          3,
          3,
          8,
          7,
          7,
          7,
          8,
          4
         ],
         "yaxis": "y"
        },
        {
         "hovertemplate": "Country=Ghana<br>Year=%{x}<br>Total=%{marker.size}<extra></extra>",
         "legendgroup": "Ghana",
         "marker": {
          "color": "#ab63fa",
          "size": [
           1,
           1,
           1,
           1,
           1
          ],
          "sizemode": "area",
          "sizeref": 0.6025,
          "symbol": "circle"
         },
         "mode": "markers",
         "name": "Ghana",
         "showlegend": true,
         "type": "scattergl",
         "x": [
          1960,
          1964,
          1972,
          1992,
          2021
         ],
         "xaxis": "x",
         "y": [
          1,
          1,
          1,
          1,
          1
         ],
         "yaxis": "y"
        },
        {
         "hovertemplate": "Country=Indes Occidentales<br>Year=%{x}<br>Total=%{marker.size}<extra></extra>",
         "legendgroup": "Indes Occidentales",
         "marker": {
          "color": "#FFA15A",
          "size": [
           2
          ],
          "sizemode": "area",
          "sizeref": 0.6025,
          "symbol": "circle"
         },
         "mode": "markers",
         "name": "Indes Occidentales",
         "showlegend": true,
         "type": "scattergl",
         "x": [
          1960
         ],
         "xaxis": "x",
         "y": [
          2
         ],
         "yaxis": "y"
        },
        {
         "hovertemplate": "Country=Irak<br>Year=%{x}<br>Total=%{marker.size}<extra></extra>",
         "legendgroup": "Irak",
         "marker": {
          "color": "#19d3f3",
          "size": [
           1
          ],
          "sizemode": "area",
          "sizeref": 0.6025,
          "symbol": "circle"
         },
         "mode": "markers",
         "name": "Irak",
         "showlegend": true,
         "type": "scattergl",
         "x": [
          1960
         ],
         "xaxis": "x",
         "y": [
          1
         ],
         "yaxis": "y"
        },
        {
         "hovertemplate": "Country=Maroc<br>Year=%{x}<br>Total=%{marker.size}<extra></extra>",
         "legendgroup": "Maroc",
         "marker": {
          "color": "#FF6692",
          "size": [
           1,
           2,
           3,
           3,
           2,
           5,
           3,
           2,
           1,
           1,
           1
          ],
          "sizemode": "area",
          "sizeref": 0.6025,
          "symbol": "circle"
         },
         "mode": "markers",
         "name": "Maroc",
         "showlegend": true,
         "type": "scattergl",
         "x": [
          1960,
          1984,
          1988,
          1992,
          1996,
          2000,
          2004,
          2008,
          2012,
          2016,
          2021
         ],
         "xaxis": "x",
         "y": [
          1,
          2,
          3,
          3,
          2,
          5,
          3,
          2,
          1,
          1,
          1
         ],
         "yaxis": "y"
        },
        {
         "hovertemplate": "Country=Singapour<br>Year=%{x}<br>Total=%{marker.size}<extra></extra>",
         "legendgroup": "Singapour",
         "marker": {
          "color": "#B6E880",
          "size": [
           1,
           1,
           2,
           1
          ],
          "sizemode": "area",
          "sizeref": 0.6025,
          "symbol": "circle"
         },
         "mode": "markers",
         "name": "Singapour",
         "showlegend": true,
         "type": "scattergl",
         "x": [
          1960,
          2008,
          2012,
          2016
         ],
         "xaxis": "x",
         "y": [
          1,
          1,
          2,
          1
         ],
         "yaxis": "y"
        },
        {
         "hovertemplate": "Country=Taïwan<br>Year=%{x}<br>Total=%{marker.size}<extra></extra>",
         "legendgroup": "Taïwan",
         "marker": {
          "color": "#FF97FF",
          "size": [
           1,
           1,
           1,
           1,
           1,
           5,
           7,
           6,
           2,
           3,
           12
          ],
          "sizemode": "area",
          "sizeref": 0.6025,
          "symbol": "circle"
         },
         "mode": "markers",
         "name": "Taïwan",
         "showlegend": true,
         "type": "scattergl",
         "x": [
          1960,
          1968,
          1984,
          1992,
          1996,
          2000,
          2004,
          2008,
          2012,
          2016,
          2021
         ],
         "xaxis": "x",
         "y": [
          1,
          1,
          1,
          1,
          1,
          5,
          7,
          6,
          2,
          3,
          12
         ],
         "yaxis": "y"
        },
        {
         "hovertemplate": "Country=Kenya<br>Year=%{x}<br>Total=%{marker.size}<extra></extra>",
         "legendgroup": "Kenya",
         "marker": {
          "color": "#FECB52",
          "size": [
           1,
           9,
           9,
           3,
           9,
           8,
           7,
           6,
           7,
           14,
           12,
           13,
           10
          ],
          "sizemode": "area",
          "sizeref": 0.6025,
          "symbol": "circle"
         },
         "mode": "markers",
         "name": "Kenya",
         "showlegend": true,
         "type": "scattergl",
         "x": [
          1964,
          1968,
          1972,
          1984,
          1988,
          1992,
          1996,
          2000,
          2004,
          2008,
          2012,
          2016,
          2021
         ],
         "xaxis": "x",
         "y": [
          1,
          9,
          9,
          3,
          9,
          8,
          7,
          6,
          7,
          14,
          12,
          13,
          10
         ],
         "yaxis": "y"
        },
        {
         "hovertemplate": "Country=Nigéria<br>Year=%{x}<br>Total=%{marker.size}<extra></extra>",
         "legendgroup": "Nigéria",
         "marker": {
          "color": "#636efa",
          "size": [
           1,
           1,
           2,
           4,
           6,
           3,
           2,
           6,
           1,
           2
          ],
          "sizemode": "area",
          "sizeref": 0.6025,
          "symbol": "circle"
         },
         "mode": "markers",
         "name": "Nigéria",
         "showlegend": true,
         "type": "scattergl",
         "x": [
          1964,
          1972,
          1984,
          1992,
          1996,
          2000,
          2004,
          2008,
          2016,
          2021
         ],
         "xaxis": "x",
         "y": [
          1,
          1,
          2,
          4,
          6,
          3,
          2,
          6,
          1,
          2
         ],
         "yaxis": "y"
        },
        {
         "hovertemplate": "Country=Tunisie<br>Year=%{x}<br>Total=%{marker.size}<extra></extra>",
         "legendgroup": "Tunisie",
         "marker": {
          "color": "#EF553B",
          "size": [
           2,
           2,
           1,
           1,
           1,
           3,
           3,
           2
          ],
          "sizemode": "area",
          "sizeref": 0.6025,
          "symbol": "circle"
         },
         "mode": "markers",
         "name": "Tunisie",
         "showlegend": true,
         "type": "scattergl",
         "x": [
          1964,
          1968,
          1972,
          1996,
          2008,
          2012,
          2016,
          2021
         ],
         "xaxis": "x",
         "y": [
          2,
          2,
          1,
          1,
          1,
          3,
          3,
          2
         ],
         "yaxis": "y"
        },
        {
         "hovertemplate": "Country=Allemagne de l'Est<br>Year=%{x}<br>Total=%{marker.size}<extra></extra>",
         "legendgroup": "Allemagne de l'Est",
         "marker": {
          "color": "#00cc96",
          "size": [
           25,
           65,
           90,
           126,
           2,
           102
          ],
          "sizemode": "area",
          "sizeref": 0.6025,
          "symbol": "circle"
         },
         "mode": "markers",
         "name": "Allemagne de l'Est",
         "showlegend": true,
         "type": "scattergl",
         "x": [
          1968,
          1972,
          1976,
          1980,
          1984,
          1988
         ],
         "xaxis": "x",
         "y": [
          25,
          65,
          90,
          126,
          2,
          102
         ],
         "yaxis": "y"
        },
        {
         "hovertemplate": "Country=Allemagne de l'Ouest<br>Year=%{x}<br>Total=%{marker.size}<extra></extra>",
         "legendgroup": "Allemagne de l'Ouest",
         "marker": {
          "color": "#ab63fa",
          "size": [
           26,
           39,
           39,
           58,
           37
          ],
          "sizemode": "area",
          "sizeref": 0.6025,
          "symbol": "circle"
         },
         "mode": "markers",
         "name": "Allemagne de l'Ouest",
         "showlegend": true,
         "type": "scattergl",
         "x": [
          1968,
          1972,
          1976,
          1984,
          1988
         ],
         "xaxis": "x",
         "y": [
          26,
          39,
          39,
          58,
          37
         ],
         "yaxis": "y"
        },
        {
         "hovertemplate": "Country=Cameroun<br>Year=%{x}<br>Total=%{marker.size}<extra></extra>",
         "legendgroup": "Cameroun",
         "marker": {
          "color": "#FFA15A",
          "size": [
           1,
           1,
           1,
           1,
           1,
           1
          ],
          "sizemode": "area",
          "sizeref": 0.6025,
          "symbol": "circle"
         },
         "mode": "markers",
         "name": "Cameroun",
         "showlegend": true,
         "type": "scattergl",
         "x": [
          1968,
          1984,
          2000,
          2004,
          2008,
          2012
         ],
         "xaxis": "x",
         "y": [
          1,
          1,
          1,
          1,
          1,
          1
         ],
         "yaxis": "y"
        },
        {
         "hovertemplate": "Country=Mongolie<br>Year=%{x}<br>Total=%{marker.size}<extra></extra>",
         "legendgroup": "Mongolie",
         "marker": {
          "color": "#19d3f3",
          "size": [
           4,
           1,
           1,
           4,
           1,
           1,
           1,
           1,
           5,
           5,
           2,
           4
          ],
          "sizemode": "area",
          "sizeref": 0.6025,
          "symbol": "circle"
         },
         "mode": "markers",
         "name": "Mongolie",
         "showlegend": true,
         "type": "scattergl",
         "x": [
          1968,
          1972,
          1976,
          1980,
          1988,
          1992,
          1996,
          2004,
          2008,
          2012,
          2016,
          2021
         ],
         "xaxis": "x",
         "y": [
          4,
          1,
          1,
          4,
          1,
          1,
          1,
          1,
          5,
          5,
          2,
          4
         ],
         "yaxis": "y"
        },
        {
         "hovertemplate": "Country=Ouganda<br>Year=%{x}<br>Total=%{marker.size}<extra></extra>",
         "legendgroup": "Ouganda",
         "marker": {
          "color": "#FF6692",
          "size": [
           2,
           2,
           1,
           1,
           1,
           4
          ],
          "sizemode": "area",
          "sizeref": 0.6025,
          "symbol": "circle"
         },
         "mode": "markers",
         "name": "Ouganda",
         "showlegend": true,
         "type": "scattergl",
         "x": [
          1968,
          1972,
          1980,
          1996,
          2012,
          2021
         ],
         "xaxis": "x",
         "y": [
          2,
          2,
          1,
          1,
          1,
          4
         ],
         "yaxis": "y"
        },
        {
         "hovertemplate": "Country=Colombie<br>Year=%{x}<br>Total=%{marker.size}<extra></extra>",
         "legendgroup": "Colombie",
         "marker": {
          "color": "#B6E880",
          "size": [
           3,
           1,
           1,
           1,
           1,
           1,
           3,
           8,
           8,
           5
          ],
          "sizemode": "area",
          "sizeref": 0.6025,
          "symbol": "circle"
         },
         "mode": "markers",
         "name": "Colombie",
         "showlegend": true,
         "type": "scattergl",
         "x": [
          1972,
          1984,
          1988,
          1992,
          2000,
          2004,
          2008,
          2012,
          2016,
          2021
         ],
         "xaxis": "x",
         "y": [
          3,
          1,
          1,
          1,
          1,
          1,
          3,
          8,
          8,
          5
         ],
         "yaxis": "y"
        },
        {
         "hovertemplate": "Country=Corée du Nord<br>Year=%{x}<br>Total=%{marker.size}<extra></extra>",
         "legendgroup": "Corée du Nord",
         "marker": {
          "color": "#FF97FF",
          "size": [
           5,
           2,
           5,
           9,
           5,
           4,
           5,
           6,
           6,
           7
          ],
          "sizemode": "area",
          "sizeref": 0.6025,
          "symbol": "circle"
         },
         "mode": "markers",
         "name": "Corée du Nord",
         "showlegend": true,
         "type": "scattergl",
         "x": [
          1972,
          1976,
          1980,
          1992,
          1996,
          2000,
          2004,
          2008,
          2012,
          2016
         ],
         "xaxis": "x",
         "y": [
          5,
          2,
          5,
          9,
          5,
          4,
          5,
          6,
          6,
          7
         ],
         "yaxis": "y"
        },
        {
         "hovertemplate": "Country=Moldavie<br>Year=%{x}<br>Total=%{marker.size}<extra></extra>",
         "legendgroup": "Moldavie",
         "marker": {
          "color": "#FECB52",
          "size": [
           1,
           2,
           2,
           1,
           1,
           1
          ],
          "sizemode": "area",
          "sizeref": 0.6025,
          "symbol": "circle"
         },
         "mode": "markers",
         "name": "Moldavie",
         "showlegend": true,
         "type": "scattergl",
         "x": [
          1972,
          1996,
          2000,
          2008,
          2016,
          2021
         ],
         "xaxis": "x",
         "y": [
          1,
          2,
          2,
          1,
          1,
          1
         ],
         "yaxis": "y"
        },
        {
         "hovertemplate": "Country=Niger<br>Year=%{x}<br>Total=%{marker.size}<extra></extra>",
         "legendgroup": "Niger",
         "marker": {
          "color": "#636efa",
          "size": [
           1,
           1
          ],
          "sizemode": "area",
          "sizeref": 0.6025,
          "symbol": "circle"
         },
         "mode": "markers",
         "name": "Niger",
         "showlegend": true,
         "type": "scattergl",
         "x": [
          1972,
          2016
         ],
         "xaxis": "x",
         "y": [
          1,
          1
         ],
         "yaxis": "y"
        },
        {
         "hovertemplate": "Country=Bermudes<br>Year=%{x}<br>Total=%{marker.size}<extra></extra>",
         "legendgroup": "Bermudes",
         "marker": {
          "color": "#EF553B",
          "size": [
           1,
           1
          ],
          "sizemode": "area",
          "sizeref": 0.6025,
          "symbol": "circle"
         },
         "mode": "markers",
         "name": "Bermudes",
         "showlegend": true,
         "type": "scattergl",
         "x": [
          1976,
          2021
         ],
         "xaxis": "x",
         "y": [
          1,
          1
         ],
         "yaxis": "y"
        },
        {
         "hovertemplate": "Country=Thaïlande<br>Year=%{x}<br>Total=%{marker.size}<extra></extra>",
         "legendgroup": "Thaïlande",
         "marker": {
          "color": "#00cc96",
          "size": [
           1,
           1,
           1,
           2,
           3,
           3,
           9,
           7,
           4,
           6,
           2
          ],
          "sizemode": "area",
          "sizeref": 0.6025,
          "symbol": "circle"
         },
         "mode": "markers",
         "name": "Thaïlande",
         "showlegend": true,
         "type": "scattergl",
         "x": [
          1976,
          1984,
          1988,
          1992,
          1996,
          2000,
          2004,
          2008,
          2012,
          2016,
          2021
         ],
         "xaxis": "x",
         "y": [
          1,
          1,
          1,
          2,
          3,
          3,
          9,
          7,
          4,
          6,
          2
         ],
         "yaxis": "y"
        },
        {
         "hovertemplate": "Country=Tanzanie<br>Year=%{x}<br>Total=%{marker.size}<extra></extra>",
         "legendgroup": "Tanzanie",
         "marker": {
          "color": "#ab63fa",
          "size": [
           2
          ],
          "sizemode": "area",
          "sizeref": 0.6025,
          "symbol": "circle"
         },
         "mode": "markers",
         "name": "Tanzanie",
         "showlegend": true,
         "type": "scattergl",
         "x": [
          1980
         ],
         "xaxis": "x",
         "y": [
          2
         ],
         "yaxis": "y"
        },
        {
         "hovertemplate": "Country=Zimbabwe<br>Year=%{x}<br>Total=%{marker.size}<extra></extra>",
         "legendgroup": "Zimbabwe",
         "marker": {
          "color": "#FFA15A",
          "size": [
           1,
           3,
           4
          ],
          "sizemode": "area",
          "sizeref": 0.6025,
          "symbol": "circle"
         },
         "mode": "markers",
         "name": "Zimbabwe",
         "showlegend": true,
         "type": "scattergl",
         "x": [
          1980,
          2004,
          2008
         ],
         "xaxis": "x",
         "y": [
          1,
          3,
          4
         ],
         "yaxis": "y"
        },
        {
         "hovertemplate": "Country=Algérie<br>Year=%{x}<br>Total=%{marker.size}<extra></extra>",
         "legendgroup": "Algérie",
         "marker": {
          "color": "#19d3f3",
          "size": [
           2,
           2,
           3,
           5,
           2,
           1,
           2
          ],
          "sizemode": "area",
          "sizeref": 0.6025,
          "symbol": "circle"
         },
         "mode": "markers",
         "name": "Algérie",
         "showlegend": true,
         "type": "scattergl",
         "x": [
          1984,
          1992,
          1996,
          2000,
          2008,
          2012,
          2016
         ],
         "xaxis": "x",
         "y": [
          2,
          2,
          3,
          5,
          2,
          1,
          2
         ],
         "yaxis": "y"
        },
        {
         "hovertemplate": "Country=Chine<br>Year=%{x}<br>Total=%{marker.size}<extra></extra>",
         "legendgroup": "Chine",
         "marker": {
          "color": "#FF6692",
          "size": [
           31,
           28,
           52,
           48,
           58,
           65,
           100,
           89,
           70,
           86
          ],
          "sizemode": "area",
          "sizeref": 0.6025,
          "symbol": "circle"
         },
         "mode": "markers",
         "name": "Chine",
         "showlegend": true,
         "type": "scattergl",
         "x": [
          1984,
          1988,
          1992,
          1996,
          2000,
          2004,
          2008,
          2012,
          2016,
          2021
         ],
         "xaxis": "x",
         "y": [
          31,
          28,
          52,
          48,
          58,
          65,
          100,
          89,
          70,
          86
         ],
         "yaxis": "y"
        },
        {
         "hovertemplate": "Country=Côte d'Ivoire<br>Year=%{x}<br>Total=%{marker.size}<extra></extra>",
         "legendgroup": "Côte d'Ivoire",
         "marker": {
          "color": "#B6E880",
          "size": [
           1,
           2,
           1
          ],
          "sizemode": "area",
          "sizeref": 0.6025,
          "symbol": "circle"
         },
         "mode": "markers",
         "name": "Côte d'Ivoire",
         "showlegend": true,
         "type": "scattergl",
         "x": [
          1984,
          2016,
          2021
         ],
         "xaxis": "x",
         "y": [
          1,
          2,
          1
         ],
         "yaxis": "y"
        },
        {
         "hovertemplate": "Country=République Dominicaine<br>Year=%{x}<br>Total=%{marker.size}<extra></extra>",
         "legendgroup": "République Dominicaine",
         "marker": {
          "color": "#FF97FF",
          "size": [
           1,
           1,
           3,
           2,
           1,
           5
          ],
          "sizemode": "area",
          "sizeref": 0.6025,
          "symbol": "circle"
         },
         "mode": "markers",
         "name": "République Dominicaine",
         "showlegend": true,
         "type": "scattergl",
         "x": [
          1984,
          2004,
          2008,
          2012,
          2016,
          2021
         ],
         "xaxis": "x",
         "y": [
          1,
          1,
          3,
          2,
          1,
          5
         ],
         "yaxis": "y"
        },
        {
         "hovertemplate": "Country=Syrie<br>Year=%{x}<br>Total=%{marker.size}<extra></extra>",
         "legendgroup": "Syrie",
         "marker": {
          "color": "#FECB52",
          "size": [
           1,
           1,
           1,
           1
          ],
          "sizemode": "area",
          "sizeref": 0.6025,
          "symbol": "circle"
         },
         "mode": "markers",
         "name": "Syrie",
         "showlegend": true,
         "type": "scattergl",
         "x": [
          1984,
          1996,
          2004,
          2021
         ],
         "xaxis": "x",
         "y": [
          1,
          1,
          1,
          1
         ],
         "yaxis": "y"
        },
        {
         "hovertemplate": "Country=Zambie<br>Year=%{x}<br>Total=%{marker.size}<extra></extra>",
         "legendgroup": "Zambie",
         "marker": {
          "color": "#636efa",
          "size": [
           1,
           1
          ],
          "sizemode": "area",
          "sizeref": 0.6025,
          "symbol": "circle"
         },
         "mode": "markers",
         "name": "Zambie",
         "showlegend": true,
         "type": "scattergl",
         "x": [
          1984,
          1996
         ],
         "xaxis": "x",
         "y": [
          1,
          1
         ],
         "yaxis": "y"
        },
        {
         "hovertemplate": "Country=Antilles Néerlandaises<br>Year=%{x}<br>Total=%{marker.size}<extra></extra>",
         "legendgroup": "Antilles Néerlandaises",
         "marker": {
          "color": "#EF553B",
          "size": [
           1
          ],
          "sizemode": "area",
          "sizeref": 0.6025,
          "symbol": "circle"
         },
         "mode": "markers",
         "name": "Antilles Néerlandaises",
         "showlegend": true,
         "type": "scattergl",
         "x": [
          1988
         ],
         "xaxis": "x",
         "y": [
          1
         ],
         "yaxis": "y"
        },
        {
         "hovertemplate": "Country=Communauté des États indépendants<br>Year=%{x}<br>Total=%{marker.size}<extra></extra>",
         "legendgroup": "Communauté des États indépendants",
         "marker": {
          "color": "#00cc96",
          "size": [
           4,
           113
          ],
          "sizemode": "area",
          "sizeref": 0.6025,
          "symbol": "circle"
         },
         "mode": "markers",
         "name": "Communauté des États indépendants",
         "showlegend": true,
         "type": "scattergl",
         "x": [
          1988,
          1992
         ],
         "xaxis": "x",
         "y": [
          4,
          113
         ],
         "yaxis": "y"
        },
        {
         "hovertemplate": "Country=Costa Rica<br>Year=%{x}<br>Total=%{marker.size}<extra></extra>",
         "legendgroup": "Costa Rica",
         "marker": {
          "color": "#ab63fa",
          "size": [
           1,
           1,
           2
          ],
          "sizemode": "area",
          "sizeref": 0.6025,
          "symbol": "circle"
         },
         "mode": "markers",
         "name": "Costa Rica",
         "showlegend": true,
         "type": "scattergl",
         "x": [
          1988,
          1996,
          2000
         ],
         "xaxis": "x",
         "y": [
          1,
          1,
          2
         ],
         "yaxis": "y"
        },
        {
         "hovertemplate": "Country=Djibouti<br>Year=%{x}<br>Total=%{marker.size}<extra></extra>",
         "legendgroup": "Djibouti",
         "marker": {
          "color": "#FFA15A",
          "size": [
           1
          ],
          "sizemode": "area",
          "sizeref": 0.6025,
          "symbol": "circle"
         },
         "mode": "markers",
         "name": "Djibouti",
         "showlegend": true,
         "type": "scattergl",
         "x": [
          1988
         ],
         "xaxis": "x",
         "y": [
          1
         ],
         "yaxis": "y"
        },
        {
         "hovertemplate": "Country=Iles Vierges Américaines<br>Year=%{x}<br>Total=%{marker.size}<extra></extra>",
         "legendgroup": "Iles Vierges Américaines",
         "marker": {
          "color": "#19d3f3",
          "size": [
           1
          ],
          "sizemode": "area",
          "sizeref": 0.6025,
          "symbol": "circle"
         },
         "mode": "markers",
         "name": "Iles Vierges Américaines",
         "showlegend": true,
         "type": "scattergl",
         "x": [
          1988
         ],
         "xaxis": "x",
         "y": [
          1
         ],
         "yaxis": "y"
        },
        {
         "hovertemplate": "Country=Indonésie<br>Year=%{x}<br>Total=%{marker.size}<extra></extra>",
         "legendgroup": "Indonésie",
         "marker": {
          "color": "#FF6692",
          "size": [
           1,
           5,
           4,
           6,
           4,
           6,
           3,
           3,
           5
          ],
          "sizemode": "area",
          "sizeref": 0.6025,
          "symbol": "circle"
         },
         "mode": "markers",
         "name": "Indonésie",
         "showlegend": true,
         "type": "scattergl",
         "x": [
          1988,
          1992,
          1996,
          2000,
          2004,
          2008,
          2012,
          2016,
          2021
         ],
         "xaxis": "x",
         "y": [
          1,
          5,
          4,
          6,
          4,
          6,
          3,
          3,
          5
         ],
         "yaxis": "y"
        },
        {
         "hovertemplate": "Country=Serbie<br>Year=%{x}<br>Total=%{marker.size}<extra></extra>",
         "legendgroup": "Serbie",
         "marker": {
          "color": "#B6E880",
          "size": [
           3,
           2,
           3,
           4,
           8,
           9
          ],
          "sizemode": "area",
          "sizeref": 0.6025,
          "symbol": "circle"
         },
         "mode": "markers",
         "name": "Serbie",
         "showlegend": true,
         "type": "scattergl",
         "x": [
          1988,
          2004,
          2008,
          2012,
          2016,
          2021
         ],
         "xaxis": "x",
         "y": [
          3,
          2,
          3,
          4,
          8,
          9
         ],
         "yaxis": "y"
        },
        {
         "hovertemplate": "Country=Suriname<br>Year=%{x}<br>Total=%{marker.size}<extra></extra>",
         "legendgroup": "Suriname",
         "marker": {
          "color": "#FF97FF",
          "size": [
           1,
           1
          ],
          "sizemode": "area",
          "sizeref": 0.6025,
          "symbol": "circle"
         },
         "mode": "markers",
         "name": "Suriname",
         "showlegend": true,
         "type": "scattergl",
         "x": [
          1988,
          1992
         ],
         "xaxis": "x",
         "y": [
          1,
          1
         ],
         "yaxis": "y"
        },
        {
         "hovertemplate": "Country=Sénégal<br>Year=%{x}<br>Total=%{marker.size}<extra></extra>",
         "legendgroup": "Sénégal",
         "marker": {
          "color": "#FECB52",
          "size": [
           1
          ],
          "sizemode": "area",
          "sizeref": 0.6025,
          "symbol": "circle"
         },
         "mode": "markers",
         "name": "Sénégal",
         "showlegend": true,
         "type": "scattergl",
         "x": [
          1988
         ],
         "xaxis": "x",
         "y": [
          1
         ],
         "yaxis": "y"
        },
        {
         "hovertemplate": "Country=Croatie<br>Year=%{x}<br>Total=%{marker.size}<extra></extra>",
         "legendgroup": "Croatie",
         "marker": {
          "color": "#636efa",
          "size": [
           3,
           2,
           2,
           4,
           7,
           6,
           10,
           8
          ],
          "sizemode": "area",
          "sizeref": 0.6025,
          "symbol": "circle"
         },
         "mode": "markers",
         "name": "Croatie",
         "showlegend": true,
         "type": "scattergl",
         "x": [
          1992,
          1996,
          2000,
          2004,
          2008,
          2012,
          2016,
          2021
         ],
         "xaxis": "x",
         "y": [
          3,
          2,
          2,
          4,
          7,
          6,
          10,
          8
         ],
         "yaxis": "y"
        },
        {
         "hovertemplate": "Country=Israël<br>Year=%{x}<br>Total=%{marker.size}<extra></extra>",
         "legendgroup": "Israël",
         "marker": {
          "color": "#EF553B",
          "size": [
           2,
           1,
           1,
           2,
           1,
           2,
           4
          ],
          "sizemode": "area",
          "sizeref": 0.6025,
          "symbol": "circle"
         },
         "mode": "markers",
         "name": "Israël",
         "showlegend": true,
         "type": "scattergl",
         "x": [
          1992,
          1996,
          2000,
          2004,
          2008,
          2016,
          2021
         ],
         "xaxis": "x",
         "y": [
          2,
          1,
          1,
          2,
          1,
          2,
          4
         ],
         "yaxis": "y"
        },
        {
         "hovertemplate": "Country=Lituanie<br>Year=%{x}<br>Total=%{marker.size}<extra></extra>",
         "legendgroup": "Lituanie",
         "marker": {
          "color": "#00cc96",
          "size": [
           2,
           1,
           5,
           3,
           5,
           5,
           4,
           1
          ],
          "sizemode": "area",
          "sizeref": 0.6025,
          "symbol": "circle"
         },
         "mode": "markers",
         "name": "Lituanie",
         "showlegend": true,
         "type": "scattergl",
         "x": [
          1992,
          1996,
          2000,
          2004,
          2008,
          2012,
          2016,
          2021
         ],
         "xaxis": "x",
         "y": [
          2,
          1,
          5,
          3,
          5,
          5,
          4,
          1
         ],
         "yaxis": "y"
        },
        {
         "hovertemplate": "Country=Malaisie<br>Year=%{x}<br>Total=%{marker.size}<extra></extra>",
         "legendgroup": "Malaisie",
         "marker": {
          "color": "#ab63fa",
          "size": [
           1,
           2,
           1,
           2,
           5,
           2
          ],
          "sizemode": "area",
          "sizeref": 0.6025,
          "symbol": "circle"
         },
         "mode": "markers",
         "name": "Malaisie",
         "showlegend": true,
         "type": "scattergl",
         "x": [
          1992,
          1996,
          2008,
          2012,
          2016,
          2021
         ],
         "xaxis": "x",
         "y": [
          1,
          2,
          1,
          2,
          5,
          2
         ],
         "yaxis": "y"
        },
        {
         "hovertemplate": "Country=Namibie<br>Year=%{x}<br>Total=%{marker.size}<extra></extra>",
         "legendgroup": "Namibie",
         "marker": {
          "color": "#FFA15A",
          "size": [
           2,
           2,
           1
          ],
          "sizemode": "area",
          "sizeref": 0.6025,
          "symbol": "circle"
         },
         "mode": "markers",
         "name": "Namibie",
         "showlegend": true,
         "type": "scattergl",
         "x": [
          1992,
          1996,
          2021
         ],
         "xaxis": "x",
         "y": [
          2,
          2,
          1
         ],
         "yaxis": "y"
        },
        {
         "hovertemplate": "Country=Qatar<br>Year=%{x}<br>Total=%{marker.size}<extra></extra>",
         "legendgroup": "Qatar",
         "marker": {
          "color": "#19d3f3",
          "size": [
           1,
           1,
           2,
           1,
           3
          ],
          "sizemode": "area",
          "sizeref": 0.6025,
          "symbol": "circle"
         },
         "mode": "markers",
         "name": "Qatar",
         "showlegend": true,
         "type": "scattergl",
         "x": [
          1992,
          2000,
          2012,
          2016,
          2021
         ],
         "xaxis": "x",
         "y": [
          1,
          1,
          2,
          1,
          3
         ],
         "yaxis": "y"
        },
        {
         "hovertemplate": "Country=Slovénie<br>Year=%{x}<br>Total=%{marker.size}<extra></extra>",
         "legendgroup": "Slovénie",
         "marker": {
          "color": "#FF6692",
          "size": [
           2,
           2,
           2,
           4,
           6,
           4,
           4,
           5
          ],
          "sizemode": "area",
          "sizeref": 0.6025,
          "symbol": "circle"
         },
         "mode": "markers",
         "name": "Slovénie",
         "showlegend": true,
         "type": "scattergl",
         "x": [
          1992,
          1996,
          2000,
          2004,
          2008,
          2012,
          2016,
          2021
         ],
         "xaxis": "x",
         "y": [
          2,
          2,
          2,
          4,
          6,
          4,
          4,
          5
         ],
         "yaxis": "y"
        },
        {
         "hovertemplate": "Country=Arménie<br>Year=%{x}<br>Total=%{marker.size}<extra></extra>",
         "legendgroup": "Arménie",
         "marker": {
          "color": "#B6E880",
          "size": [
           2,
           1,
           5,
           2,
           4,
           4
          ],
          "sizemode": "area",
          "sizeref": 0.6025,
          "symbol": "circle"
         },
         "mode": "markers",
         "name": "Arménie",
         "showlegend": true,
         "type": "scattergl",
         "x": [
          1996,
          2000,
          2008,
          2012,
          2016,
          2021
         ],
         "xaxis": "x",
         "y": [
          2,
          1,
          5,
          2,
          4,
          4
         ],
         "yaxis": "y"
        },
        {
         "hovertemplate": "Country=Azerbaïdjan<br>Year=%{x}<br>Total=%{marker.size}<extra></extra>",
         "legendgroup": "Azerbaïdjan",
         "marker": {
          "color": "#FF97FF",
          "size": [
           1,
           3,
           5,
           6,
           9,
           18,
           7
          ],
          "sizemode": "area",
          "sizeref": 0.6025,
          "symbol": "circle"
         },
         "mode": "markers",
         "name": "Azerbaïdjan",
         "showlegend": true,
         "type": "scattergl",
         "x": [
          1996,
          2000,
          2004,
          2008,
          2012,
          2016,
          2021
         ],
         "xaxis": "x",
         "y": [
          1,
          3,
          5,
          6,
          9,
          18,
          7
         ],
         "yaxis": "y"
        },
        {
         "hovertemplate": "Country=Biélorussie<br>Year=%{x}<br>Total=%{marker.size}<extra></extra>",
         "legendgroup": "Biélorussie",
         "marker": {
          "color": "#FECB52",
          "size": [
           15,
           16,
           12,
           13,
           10,
           9,
           7
          ],
          "sizemode": "area",
          "sizeref": 0.6025,
          "symbol": "circle"
         },
         "mode": "markers",
         "name": "Biélorussie",
         "showlegend": true,
         "type": "scattergl",
         "x": [
          1996,
          2000,
          2004,
          2008,
          2012,
          2016,
          2021
         ],
         "xaxis": "x",
         "y": [
          15,
          16,
          12,
          13,
          10,
          9,
          7
         ],
         "yaxis": "y"
        },
        {
         "hovertemplate": "Country=Burundi<br>Year=%{x}<br>Total=%{marker.size}<extra></extra>",
         "legendgroup": "Burundi",
         "marker": {
          "color": "#636efa",
          "size": [
           1,
           1
          ],
          "sizemode": "area",
          "sizeref": 0.6025,
          "symbol": "circle"
         },
         "mode": "markers",
         "name": "Burundi",
         "showlegend": true,
         "type": "scattergl",
         "x": [
          1996,
          2016
         ],
         "xaxis": "x",
         "y": [
          1,
          1
         ],
         "yaxis": "y"
        },
        {
         "hovertemplate": "Country=Equateur<br>Year=%{x}<br>Total=%{marker.size}<extra></extra>",
         "legendgroup": "Equateur",
         "marker": {
          "color": "#EF553B",
          "size": [
           1,
           1,
           3
          ],
          "sizemode": "area",
          "sizeref": 0.6025,
          "symbol": "circle"
         },
         "mode": "markers",
         "name": "Equateur",
         "showlegend": true,
         "type": "scattergl",
         "x": [
          1996,
          2008,
          2021
         ],
         "xaxis": "x",
         "y": [
          1,
          1,
          3
         ],
         "yaxis": "y"
        },
        {
         "hovertemplate": "Country=Géorgie<br>Year=%{x}<br>Total=%{marker.size}<extra></extra>",
         "legendgroup": "Géorgie",
         "marker": {
          "color": "#00cc96",
          "size": [
           2,
           6,
           4,
           8,
           6,
           7,
           8
          ],
          "sizemode": "area",
          "sizeref": 0.6025,
          "symbol": "circle"
         },
         "mode": "markers",
         "name": "Géorgie",
         "showlegend": true,
         "type": "scattergl",
         "x": [
          1996,
          2000,
          2004,
          2008,
          2012,
          2016,
          2021
         ],
         "xaxis": "x",
         "y": [
          2,
          6,
          4,
          8,
          6,
          7,
          8
         ],
         "yaxis": "y"
        },
        {
         "hovertemplate": "Country=Hong-Kong<br>Year=%{x}<br>Total=%{marker.size}<extra></extra>",
         "legendgroup": "Hong-Kong",
         "marker": {
          "color": "#ab63fa",
          "size": [
           1,
           1,
           1,
           5
          ],
          "sizemode": "area",
          "sizeref": 0.6025,
          "symbol": "circle"
         },
         "mode": "markers",
         "name": "Hong-Kong",
         "showlegend": true,
         "type": "scattergl",
         "x": [
          1996,
          2004,
          2012,
          2021
         ],
         "xaxis": "x",
         "y": [
          1,
          1,
          1,
          5
         ],
         "yaxis": "y"
        },
        {
         "hovertemplate": "Country=Kazakhstan<br>Year=%{x}<br>Total=%{marker.size}<extra></extra>",
         "legendgroup": "Kazakhstan",
         "marker": {
          "color": "#FFA15A",
          "size": [
           11,
           8,
           9,
           11,
           10,
           18,
           8
          ],
          "sizemode": "area",
          "sizeref": 0.6025,
          "symbol": "circle"
         },
         "mode": "markers",
         "name": "Kazakhstan",
         "showlegend": true,
         "type": "scattergl",
         "x": [
          1996,
          2000,
          2004,
          2008,
          2012,
          2016,
          2021
         ],
         "xaxis": "x",
         "y": [
          11,
          8,
          9,
          11,
          10,
          18,
          8
         ],
         "yaxis": "y"
        },
        {
         "hovertemplate": "Country=Mozambique<br>Year=%{x}<br>Total=%{marker.size}<extra></extra>",
         "legendgroup": "Mozambique",
         "marker": {
          "color": "#19d3f3",
          "size": [
           1,
           1
          ],
          "sizemode": "area",
          "sizeref": 0.6025,
          "symbol": "circle"
         },
         "mode": "markers",
         "name": "Mozambique",
         "showlegend": true,
         "type": "scattergl",
         "x": [
          1996,
          2000
         ],
         "xaxis": "x",
         "y": [
          1,
          1
         ],
         "yaxis": "y"
        },
        {
         "hovertemplate": "Country=Ouzbékistan<br>Year=%{x}<br>Total=%{marker.size}<extra></extra>",
         "legendgroup": "Ouzbékistan",
         "marker": {
          "color": "#FF6692",
          "size": [
           2,
           4,
           4,
           5,
           4,
           13,
           5
          ],
          "sizemode": "area",
          "sizeref": 0.6025,
          "symbol": "circle"
         },
         "mode": "markers",
         "name": "Ouzbékistan",
         "showlegend": true,
         "type": "scattergl",
         "x": [
          1996,
          2000,
          2004,
          2008,
          2012,
          2016,
          2021
         ],
         "xaxis": "x",
         "y": [
          2,
          4,
          4,
          5,
          4,
          13,
          5
         ],
         "yaxis": "y"
        },
        {
         "hovertemplate": "Country=République Tchèque<br>Year=%{x}<br>Total=%{marker.size}<extra></extra>",
         "legendgroup": "République Tchèque",
         "marker": {
          "color": "#B6E880",
          "size": [
           11,
           8,
           8,
           6,
           10,
           10,
           12
          ],
          "sizemode": "area",
          "sizeref": 0.6025,
          "symbol": "circle"
         },
         "mode": "markers",
         "name": "République Tchèque",
         "showlegend": true,
         "type": "scattergl",
         "x": [
          1996,
          2000,
          2004,
          2008,
          2012,
          2016,
          2021
         ],
         "xaxis": "x",
         "y": [
          11,
          8,
          8,
          6,
          10,
          10,
          12
         ],
         "yaxis": "y"
        },
        {
         "hovertemplate": "Country=Slovaquie<br>Year=%{x}<br>Total=%{marker.size}<extra></extra>",
         "legendgroup": "Slovaquie",
         "marker": {
          "color": "#FF97FF",
          "size": [
           3,
           5,
           6,
           6,
           4,
           4,
           4
          ],
          "sizemode": "area",
          "sizeref": 0.6025,
          "symbol": "circle"
         },
         "mode": "markers",
         "name": "Slovaquie",
         "showlegend": true,
         "type": "scattergl",
         "x": [
          1996,
          2000,
          2004,
          2008,
          2012,
          2016,
          2021
         ],
         "xaxis": "x",
         "y": [
          3,
          5,
          6,
          6,
          4,
          4,
          4
         ],
         "yaxis": "y"
        },
        {
         "hovertemplate": "Country=Tonga<br>Year=%{x}<br>Total=%{marker.size}<extra></extra>",
         "legendgroup": "Tonga",
         "marker": {
          "color": "#FECB52",
          "size": [
           1
          ],
          "sizemode": "area",
          "sizeref": 0.6025,
          "symbol": "circle"
         },
         "mode": "markers",
         "name": "Tonga",
         "showlegend": true,
         "type": "scattergl",
         "x": [
          1996
         ],
         "xaxis": "x",
         "y": [
          1
         ],
         "yaxis": "y"
        },
        {
         "hovertemplate": "Country=Ukraine<br>Year=%{x}<br>Total=%{marker.size}<extra></extra>",
         "legendgroup": "Ukraine",
         "marker": {
          "color": "#636efa",
          "size": [
           24,
           23,
           22,
           23,
           19,
           11,
           19
          ],
          "sizemode": "area",
          "sizeref": 0.6025,
          "symbol": "circle"
         },
         "mode": "markers",
         "name": "Ukraine",
         "showlegend": true,
         "type": "scattergl",
         "x": [
          1996,
          2000,
          2004,
          2008,
          2012,
          2016,
          2021
         ],
         "xaxis": "x",
         "y": [
          24,
          23,
          22,
          23,
          19,
          11,
          19
         ],
         "yaxis": "y"
        },
        {
         "hovertemplate": "Country=Arabie Saoudite<br>Year=%{x}<br>Total=%{marker.size}<extra></extra>",
         "legendgroup": "Arabie Saoudite",
         "marker": {
          "color": "#EF553B",
          "size": [
           2,
           1,
           1
          ],
          "sizemode": "area",
          "sizeref": 0.6025,
          "symbol": "circle"
         },
         "mode": "markers",
         "name": "Arabie Saoudite",
         "showlegend": true,
         "type": "scattergl",
         "x": [
          2000,
          2012,
          2021
         ],
         "xaxis": "x",
         "y": [
          2,
          1,
          1
         ],
         "yaxis": "y"
        },
        {
         "hovertemplate": "Country=Barbade<br>Year=%{x}<br>Total=%{marker.size}<extra></extra>",
         "legendgroup": "Barbade",
         "marker": {
          "color": "#00cc96",
          "size": [
           1
          ],
          "sizemode": "area",
          "sizeref": 0.6025,
          "symbol": "circle"
         },
         "mode": "markers",
         "name": "Barbade",
         "showlegend": true,
         "type": "scattergl",
         "x": [
          2000
         ],
         "xaxis": "x",
         "y": [
          1
         ],
         "yaxis": "y"
        },
        {
         "hovertemplate": "Country=Kirghizistan<br>Year=%{x}<br>Total=%{marker.size}<extra></extra>",
         "legendgroup": "Kirghizistan",
         "marker": {
          "color": "#ab63fa",
          "size": [
           1,
           2,
           3
          ],
          "sizemode": "area",
          "sizeref": 0.6025,
          "symbol": "circle"
         },
         "mode": "markers",
         "name": "Kirghizistan",
         "showlegend": true,
         "type": "scattergl",
         "x": [
          2000,
          2008,
          2021
         ],
         "xaxis": "x",
         "y": [
          1,
          2,
          3
         ],
         "yaxis": "y"
        },
        {
         "hovertemplate": "Country=Koweït<br>Year=%{x}<br>Total=%{marker.size}<extra></extra>",
         "legendgroup": "Koweït",
         "marker": {
          "color": "#FFA15A",
          "size": [
           1
          ],
          "sizemode": "area",
          "sizeref": 0.6025,
          "symbol": "circle"
         },
         "mode": "markers",
         "name": "Koweït",
         "showlegend": true,
         "type": "scattergl",
         "x": [
          2000
         ],
         "xaxis": "x",
         "y": [
          1
         ],
         "yaxis": "y"
        },
        {
         "hovertemplate": "Country=Macédoine du Nord<br>Year=%{x}<br>Total=%{marker.size}<extra></extra>",
         "legendgroup": "Macédoine du Nord",
         "marker": {
          "color": "#19d3f3",
          "size": [
           1,
           1
          ],
          "sizemode": "area",
          "sizeref": 0.6025,
          "symbol": "circle"
         },
         "mode": "markers",
         "name": "Macédoine du Nord",
         "showlegend": true,
         "type": "scattergl",
         "x": [
          2000,
          2021
         ],
         "xaxis": "x",
         "y": [
          1,
          1
         ],
         "yaxis": "y"
        },
        {
         "hovertemplate": "Country=Viêt Nam<br>Year=%{x}<br>Total=%{marker.size}<extra></extra>",
         "legendgroup": "Viêt Nam",
         "marker": {
          "color": "#FF6692",
          "size": [
           1,
           1,
           1,
           2
          ],
          "sizemode": "area",
          "sizeref": 0.6025,
          "symbol": "circle"
         },
         "mode": "markers",
         "name": "Viêt Nam",
         "showlegend": true,
         "type": "scattergl",
         "x": [
          2000,
          2008,
          2012,
          2016
         ],
         "xaxis": "x",
         "y": [
          1,
          1,
          1,
          2
         ],
         "yaxis": "y"
        },
        {
         "hovertemplate": "Country=Emirats Arabes Unis<br>Year=%{x}<br>Total=%{marker.size}<extra></extra>",
         "legendgroup": "Emirats Arabes Unis",
         "marker": {
          "color": "#B6E880",
          "size": [
           1,
           1
          ],
          "sizemode": "area",
          "sizeref": 0.6025,
          "symbol": "circle"
         },
         "mode": "markers",
         "name": "Emirats Arabes Unis",
         "showlegend": true,
         "type": "scattergl",
         "x": [
          2004,
          2016
         ],
         "xaxis": "x",
         "y": [
          1,
          1
         ],
         "yaxis": "y"
        },
        {
         "hovertemplate": "Country=Erythrée<br>Year=%{x}<br>Total=%{marker.size}<extra></extra>",
         "legendgroup": "Erythrée",
         "marker": {
          "color": "#FF97FF",
          "size": [
           1
          ],
          "sizemode": "area",
          "sizeref": 0.6025,
          "symbol": "circle"
         },
         "mode": "markers",
         "name": "Erythrée",
         "showlegend": true,
         "type": "scattergl",
         "x": [
          2004
         ],
         "xaxis": "x",
         "y": [
          1
         ],
         "yaxis": "y"
        },
        {
         "hovertemplate": "Country=Paraguay<br>Year=%{x}<br>Total=%{marker.size}<extra></extra>",
         "legendgroup": "Paraguay",
         "marker": {
          "color": "#FECB52",
          "size": [
           1
          ],
          "sizemode": "area",
          "sizeref": 0.6025,
          "symbol": "circle"
         },
         "mode": "markers",
         "name": "Paraguay",
         "showlegend": true,
         "type": "scattergl",
         "x": [
          2004
         ],
         "xaxis": "x",
         "y": [
          1
         ],
         "yaxis": "y"
        },
        {
         "hovertemplate": "Country=Afghanistan<br>Year=%{x}<br>Total=%{marker.size}<extra></extra>",
         "legendgroup": "Afghanistan",
         "marker": {
          "color": "#636efa",
          "size": [
           2,
           1
          ],
          "sizemode": "area",
          "sizeref": 0.6025,
          "symbol": "circle"
         },
         "mode": "markers",
         "name": "Afghanistan",
         "showlegend": true,
         "type": "scattergl",
         "x": [
          2008,
          2012
         ],
         "xaxis": "x",
         "y": [
          2,
          1
         ],
         "yaxis": "y"
        },
        {
         "hovertemplate": "Country=Ile Maurice<br>Year=%{x}<br>Total=%{marker.size}<extra></extra>",
         "legendgroup": "Ile Maurice",
         "marker": {
          "color": "#EF553B",
          "size": [
           1
          ],
          "sizemode": "area",
          "sizeref": 0.6025,
          "symbol": "circle"
         },
         "mode": "markers",
         "name": "Ile Maurice",
         "showlegend": true,
         "type": "scattergl",
         "x": [
          2008
         ],
         "xaxis": "x",
         "y": [
          1
         ],
         "yaxis": "y"
        },
        {
         "hovertemplate": "Country=Samoa<br>Year=%{x}<br>Total=%{marker.size}<extra></extra>",
         "legendgroup": "Samoa",
         "marker": {
          "color": "#00cc96",
          "size": [
           1
          ],
          "sizemode": "area",
          "sizeref": 0.6025,
          "symbol": "circle"
         },
         "mode": "markers",
         "name": "Samoa",
         "showlegend": true,
         "type": "scattergl",
         "x": [
          2008
         ],
         "xaxis": "x",
         "y": [
          1
         ],
         "yaxis": "y"
        },
        {
         "hovertemplate": "Country=Soudan<br>Year=%{x}<br>Total=%{marker.size}<extra></extra>",
         "legendgroup": "Soudan",
         "marker": {
          "color": "#ab63fa",
          "size": [
           1
          ],
          "sizemode": "area",
          "sizeref": 0.6025,
          "symbol": "circle"
         },
         "mode": "markers",
         "name": "Soudan",
         "showlegend": true,
         "type": "scattergl",
         "x": [
          2008
         ],
         "xaxis": "x",
         "y": [
          1
         ],
         "yaxis": "y"
        },
        {
         "hovertemplate": "Country=Tadjikistan<br>Year=%{x}<br>Total=%{marker.size}<extra></extra>",
         "legendgroup": "Tadjikistan",
         "marker": {
          "color": "#FFA15A",
          "size": [
           2,
           1,
           1
          ],
          "sizemode": "area",
          "sizeref": 0.6025,
          "symbol": "circle"
         },
         "mode": "markers",
         "name": "Tadjikistan",
         "showlegend": true,
         "type": "scattergl",
         "x": [
          2008,
          2012,
          2016
         ],
         "xaxis": "x",
         "y": [
          2,
          1,
          1
         ],
         "yaxis": "y"
        },
        {
         "hovertemplate": "Country=Togo<br>Year=%{x}<br>Total=%{marker.size}<extra></extra>",
         "legendgroup": "Togo",
         "marker": {
          "color": "#19d3f3",
          "size": [
           1
          ],
          "sizemode": "area",
          "sizeref": 0.6025,
          "symbol": "circle"
         },
         "mode": "markers",
         "name": "Togo",
         "showlegend": true,
         "type": "scattergl",
         "x": [
          2008
         ],
         "xaxis": "x",
         "y": [
          1
         ],
         "yaxis": "y"
        },
        {
         "hovertemplate": "Country=Bahreïn<br>Year=%{x}<br>Total=%{marker.size}<extra></extra>",
         "legendgroup": "Bahreïn",
         "marker": {
          "color": "#FF6692",
          "size": [
           1,
           2,
           1
          ],
          "sizemode": "area",
          "sizeref": 0.6025,
          "symbol": "circle"
         },
         "mode": "markers",
         "name": "Bahreïn",
         "showlegend": true,
         "type": "scattergl",
         "x": [
          2012,
          2016,
          2021
         ],
         "xaxis": "x",
         "y": [
          1,
          2,
          1
         ],
         "yaxis": "y"
        },
        {
         "hovertemplate": "Country=Botswana<br>Year=%{x}<br>Total=%{marker.size}<extra></extra>",
         "legendgroup": "Botswana",
         "marker": {
          "color": "#B6E880",
          "size": [
           1,
           1
          ],
          "sizemode": "area",
          "sizeref": 0.6025,
          "symbol": "circle"
         },
         "mode": "markers",
         "name": "Botswana",
         "showlegend": true,
         "type": "scattergl",
         "x": [
          2012,
          2021
         ],
         "xaxis": "x",
         "y": [
          1,
          1
         ],
         "yaxis": "y"
        },
        {
         "hovertemplate": "Country=Chypre<br>Year=%{x}<br>Total=%{marker.size}<extra></extra>",
         "legendgroup": "Chypre",
         "marker": {
          "color": "#FF97FF",
          "size": [
           1
          ],
          "sizemode": "area",
          "sizeref": 0.6025,
          "symbol": "circle"
         },
         "mode": "markers",
         "name": "Chypre",
         "showlegend": true,
         "type": "scattergl",
         "x": [
          2012
         ],
         "xaxis": "x",
         "y": [
          1
         ],
         "yaxis": "y"
        },
        {
         "hovertemplate": "Country=Gabon<br>Year=%{x}<br>Total=%{marker.size}<extra></extra>",
         "legendgroup": "Gabon",
         "marker": {
          "color": "#FECB52",
          "size": [
           1
          ],
          "sizemode": "area",
          "sizeref": 0.6025,
          "symbol": "circle"
         },
         "mode": "markers",
         "name": "Gabon",
         "showlegend": true,
         "type": "scattergl",
         "x": [
          2012
         ],
         "xaxis": "x",
         "y": [
          1
         ],
         "yaxis": "y"
        },
        {
         "hovertemplate": "Country=Grenade<br>Year=%{x}<br>Total=%{marker.size}<extra></extra>",
         "legendgroup": "Grenade",
         "marker": {
          "color": "#636efa",
          "size": [
           1,
           1,
           1
          ],
          "sizemode": "area",
          "sizeref": 0.6025,
          "symbol": "circle"
         },
         "mode": "markers",
         "name": "Grenade",
         "showlegend": true,
         "type": "scattergl",
         "x": [
          2012,
          2016,
          2021
         ],
         "xaxis": "x",
         "y": [
          1,
          1,
          1
         ],
         "yaxis": "y"
        },
        {
         "hovertemplate": "Country=Guatemala<br>Year=%{x}<br>Total=%{marker.size}<extra></extra>",
         "legendgroup": "Guatemala",
         "marker": {
          "color": "#EF553B",
          "size": [
           1
          ],
          "sizemode": "area",
          "sizeref": 0.6025,
          "symbol": "circle"
         },
         "mode": "markers",
         "name": "Guatemala",
         "showlegend": true,
         "type": "scattergl",
         "x": [
          2012
         ],
         "xaxis": "x",
         "y": [
          1
         ],
         "yaxis": "y"
        },
        {
         "hovertemplate": "Country=Monténégro<br>Year=%{x}<br>Total=%{marker.size}<extra></extra>",
         "legendgroup": "Monténégro",
         "marker": {
          "color": "#00cc96",
          "size": [
           1
          ],
          "sizemode": "area",
          "sizeref": 0.6025,
          "symbol": "circle"
         },
         "mode": "markers",
         "name": "Monténégro",
         "showlegend": true,
         "type": "scattergl",
         "x": [
          2012
         ],
         "xaxis": "x",
         "y": [
          1
         ],
         "yaxis": "y"
        },
        {
         "hovertemplate": "Country=CIO<br>Year=%{x}<br>Total=%{marker.size}<extra></extra>",
         "legendgroup": "CIO",
         "marker": {
          "color": "#ab63fa",
          "size": [
           2,
           1
          ],
          "sizemode": "area",
          "sizeref": 0.6025,
          "symbol": "circle"
         },
         "mode": "markers",
         "name": "CIO",
         "showlegend": true,
         "type": "scattergl",
         "x": [
          2016,
          2021
         ],
         "xaxis": "x",
         "y": [
          2,
          1
         ],
         "yaxis": "y"
        },
        {
         "hovertemplate": "Country=Fidji<br>Year=%{x}<br>Total=%{marker.size}<extra></extra>",
         "legendgroup": "Fidji",
         "marker": {
          "color": "#FFA15A",
          "size": [
           1,
           2
          ],
          "sizemode": "area",
          "sizeref": 0.6025,
          "symbol": "circle"
         },
         "mode": "markers",
         "name": "Fidji",
         "showlegend": true,
         "type": "scattergl",
         "x": [
          2016,
          2021
         ],
         "xaxis": "x",
         "y": [
          1,
          2
         ],
         "yaxis": "y"
        },
        {
         "hovertemplate": "Country=Jordanie<br>Year=%{x}<br>Total=%{marker.size}<extra></extra>",
         "legendgroup": "Jordanie",
         "marker": {
          "color": "#19d3f3",
          "size": [
           1,
           2
          ],
          "sizemode": "area",
          "sizeref": 0.6025,
          "symbol": "circle"
         },
         "mode": "markers",
         "name": "Jordanie",
         "showlegend": true,
         "type": "scattergl",
         "x": [
          2016,
          2021
         ],
         "xaxis": "x",
         "y": [
          1,
          2
         ],
         "yaxis": "y"
        },
        {
         "hovertemplate": "Country=Kosovo<br>Year=%{x}<br>Total=%{marker.size}<extra></extra>",
         "legendgroup": "Kosovo",
         "marker": {
          "color": "#FF6692",
          "size": [
           1,
           2
          ],
          "sizemode": "area",
          "sizeref": 0.6025,
          "symbol": "circle"
         },
         "mode": "markers",
         "name": "Kosovo",
         "showlegend": true,
         "type": "scattergl",
         "x": [
          2016,
          2021
         ],
         "xaxis": "x",
         "y": [
          1,
          2
         ],
         "yaxis": "y"
        },
        {
         "hovertemplate": "Country=Burkina Faso<br>Year=%{x}<br>Total=%{marker.size}<extra></extra>",
         "legendgroup": "Burkina Faso",
         "marker": {
          "color": "#B6E880",
          "size": [
           1
          ],
          "sizemode": "area",
          "sizeref": 0.6025,
          "symbol": "circle"
         },
         "mode": "markers",
         "name": "Burkina Faso",
         "showlegend": true,
         "type": "scattergl",
         "x": [
          2021
         ],
         "xaxis": "x",
         "y": [
          1
         ],
         "yaxis": "y"
        },
        {
         "hovertemplate": "Country=Saint-Marin<br>Year=%{x}<br>Total=%{marker.size}<extra></extra>",
         "legendgroup": "Saint-Marin",
         "marker": {
          "color": "#FF97FF",
          "size": [
           3
          ],
          "sizemode": "area",
          "sizeref": 0.6025,
          "symbol": "circle"
         },
         "mode": "markers",
         "name": "Saint-Marin",
         "showlegend": true,
         "type": "scattergl",
         "x": [
          2021
         ],
         "xaxis": "x",
         "y": [
          3
         ],
         "yaxis": "y"
        },
        {
         "hovertemplate": "Country=Turkménistan<br>Year=%{x}<br>Total=%{marker.size}<extra></extra>",
         "legendgroup": "Turkménistan",
         "marker": {
          "color": "#FECB52",
          "size": [
           1
          ],
          "sizemode": "area",
          "sizeref": 0.6025,
          "symbol": "circle"
         },
         "mode": "markers",
         "name": "Turkménistan",
         "showlegend": true,
         "type": "scattergl",
         "x": [
          2021
         ],
         "xaxis": "x",
         "y": [
          1
         ],
         "yaxis": "y"
        }
       ],
       "layout": {
        "legend": {
         "itemsizing": "constant",
         "title": {
          "text": "Country"
         },
         "tracegroupgap": 0
        },
        "margin": {
         "t": 60
        },
        "template": {
         "data": {
          "bar": [
           {
            "error_x": {
             "color": "#2a3f5f"
            },
            "error_y": {
             "color": "#2a3f5f"
            },
            "marker": {
             "line": {
              "color": "#E5ECF6",
              "width": 0.5
             },
             "pattern": {
              "fillmode": "overlay",
              "size": 10,
              "solidity": 0.2
             }
            },
            "type": "bar"
           }
          ],
          "barpolar": [
           {
            "marker": {
             "line": {
              "color": "#E5ECF6",
              "width": 0.5
             },
             "pattern": {
              "fillmode": "overlay",
              "size": 10,
              "solidity": 0.2
             }
            },
            "type": "barpolar"
           }
          ],
          "carpet": [
           {
            "aaxis": {
             "endlinecolor": "#2a3f5f",
             "gridcolor": "white",
             "linecolor": "white",
             "minorgridcolor": "white",
             "startlinecolor": "#2a3f5f"
            },
            "baxis": {
             "endlinecolor": "#2a3f5f",
             "gridcolor": "white",
             "linecolor": "white",
             "minorgridcolor": "white",
             "startlinecolor": "#2a3f5f"
            },
            "type": "carpet"
           }
          ],
          "choropleth": [
           {
            "colorbar": {
             "outlinewidth": 0,
             "ticks": ""
            },
            "type": "choropleth"
           }
          ],
          "contour": [
           {
            "colorbar": {
             "outlinewidth": 0,
             "ticks": ""
            },
            "colorscale": [
             [
              0,
              "#0d0887"
             ],
             [
              0.1111111111111111,
              "#46039f"
             ],
             [
              0.2222222222222222,
              "#7201a8"
             ],
             [
              0.3333333333333333,
              "#9c179e"
             ],
             [
              0.4444444444444444,
              "#bd3786"
             ],
             [
              0.5555555555555556,
              "#d8576b"
             ],
             [
              0.6666666666666666,
              "#ed7953"
             ],
             [
              0.7777777777777778,
              "#fb9f3a"
             ],
             [
              0.8888888888888888,
              "#fdca26"
             ],
             [
              1,
              "#f0f921"
             ]
            ],
            "type": "contour"
           }
          ],
          "contourcarpet": [
           {
            "colorbar": {
             "outlinewidth": 0,
             "ticks": ""
            },
            "type": "contourcarpet"
           }
          ],
          "heatmap": [
           {
            "colorbar": {
             "outlinewidth": 0,
             "ticks": ""
            },
            "colorscale": [
             [
              0,
              "#0d0887"
             ],
             [
              0.1111111111111111,
              "#46039f"
             ],
             [
              0.2222222222222222,
              "#7201a8"
             ],
             [
              0.3333333333333333,
              "#9c179e"
             ],
             [
              0.4444444444444444,
              "#bd3786"
             ],
             [
              0.5555555555555556,
              "#d8576b"
             ],
             [
              0.6666666666666666,
              "#ed7953"
             ],
             [
              0.7777777777777778,
              "#fb9f3a"
             ],
             [
              0.8888888888888888,
              "#fdca26"
             ],
             [
              1,
              "#f0f921"
             ]
            ],
            "type": "heatmap"
           }
          ],
          "heatmapgl": [
           {
            "colorbar": {
             "outlinewidth": 0,
             "ticks": ""
            },
            "colorscale": [
             [
              0,
              "#0d0887"
             ],
             [
              0.1111111111111111,
              "#46039f"
             ],
             [
              0.2222222222222222,
              "#7201a8"
             ],
             [
              0.3333333333333333,
              "#9c179e"
             ],
             [
              0.4444444444444444,
              "#bd3786"
             ],
             [
              0.5555555555555556,
              "#d8576b"
             ],
             [
              0.6666666666666666,
              "#ed7953"
             ],
             [
              0.7777777777777778,
              "#fb9f3a"
             ],
             [
              0.8888888888888888,
              "#fdca26"
             ],
             [
              1,
              "#f0f921"
             ]
            ],
            "type": "heatmapgl"
           }
          ],
          "histogram": [
           {
            "marker": {
             "pattern": {
              "fillmode": "overlay",
              "size": 10,
              "solidity": 0.2
             }
            },
            "type": "histogram"
           }
          ],
          "histogram2d": [
           {
            "colorbar": {
             "outlinewidth": 0,
             "ticks": ""
            },
            "colorscale": [
             [
              0,
              "#0d0887"
             ],
             [
              0.1111111111111111,
              "#46039f"
             ],
             [
              0.2222222222222222,
              "#7201a8"
             ],
             [
              0.3333333333333333,
              "#9c179e"
             ],
             [
              0.4444444444444444,
              "#bd3786"
             ],
             [
              0.5555555555555556,
              "#d8576b"
             ],
             [
              0.6666666666666666,
              "#ed7953"
             ],
             [
              0.7777777777777778,
              "#fb9f3a"
             ],
             [
              0.8888888888888888,
              "#fdca26"
             ],
             [
              1,
              "#f0f921"
             ]
            ],
            "type": "histogram2d"
           }
          ],
          "histogram2dcontour": [
           {
            "colorbar": {
             "outlinewidth": 0,
             "ticks": ""
            },
            "colorscale": [
             [
              0,
              "#0d0887"
             ],
             [
              0.1111111111111111,
              "#46039f"
             ],
             [
              0.2222222222222222,
              "#7201a8"
             ],
             [
              0.3333333333333333,
              "#9c179e"
             ],
             [
              0.4444444444444444,
              "#bd3786"
             ],
             [
              0.5555555555555556,
              "#d8576b"
             ],
             [
              0.6666666666666666,
              "#ed7953"
             ],
             [
              0.7777777777777778,
              "#fb9f3a"
             ],
             [
              0.8888888888888888,
              "#fdca26"
             ],
             [
              1,
              "#f0f921"
             ]
            ],
            "type": "histogram2dcontour"
           }
          ],
          "mesh3d": [
           {
            "colorbar": {
             "outlinewidth": 0,
             "ticks": ""
            },
            "type": "mesh3d"
           }
          ],
          "parcoords": [
           {
            "line": {
             "colorbar": {
              "outlinewidth": 0,
              "ticks": ""
             }
            },
            "type": "parcoords"
           }
          ],
          "pie": [
           {
            "automargin": true,
            "type": "pie"
           }
          ],
          "scatter": [
           {
            "fillpattern": {
             "fillmode": "overlay",
             "size": 10,
             "solidity": 0.2
            },
            "type": "scatter"
           }
          ],
          "scatter3d": [
           {
            "line": {
             "colorbar": {
              "outlinewidth": 0,
              "ticks": ""
             }
            },
            "marker": {
             "colorbar": {
              "outlinewidth": 0,
              "ticks": ""
             }
            },
            "type": "scatter3d"
           }
          ],
          "scattercarpet": [
           {
            "marker": {
             "colorbar": {
              "outlinewidth": 0,
              "ticks": ""
             }
            },
            "type": "scattercarpet"
           }
          ],
          "scattergeo": [
           {
            "marker": {
             "colorbar": {
              "outlinewidth": 0,
              "ticks": ""
             }
            },
            "type": "scattergeo"
           }
          ],
          "scattergl": [
           {
            "marker": {
             "colorbar": {
              "outlinewidth": 0,
              "ticks": ""
             }
            },
            "type": "scattergl"
           }
          ],
          "scattermapbox": [
           {
            "marker": {
             "colorbar": {
              "outlinewidth": 0,
              "ticks": ""
             }
            },
            "type": "scattermapbox"
           }
          ],
          "scatterpolar": [
           {
            "marker": {
             "colorbar": {
              "outlinewidth": 0,
              "ticks": ""
             }
            },
            "type": "scatterpolar"
           }
          ],
          "scatterpolargl": [
           {
            "marker": {
             "colorbar": {
              "outlinewidth": 0,
              "ticks": ""
             }
            },
            "type": "scatterpolargl"
           }
          ],
          "scatterternary": [
           {
            "marker": {
             "colorbar": {
              "outlinewidth": 0,
              "ticks": ""
             }
            },
            "type": "scatterternary"
           }
          ],
          "surface": [
           {
            "colorbar": {
             "outlinewidth": 0,
             "ticks": ""
            },
            "colorscale": [
             [
              0,
              "#0d0887"
             ],
             [
              0.1111111111111111,
              "#46039f"
             ],
             [
              0.2222222222222222,
              "#7201a8"
             ],
             [
              0.3333333333333333,
              "#9c179e"
             ],
             [
              0.4444444444444444,
              "#bd3786"
             ],
             [
              0.5555555555555556,
              "#d8576b"
             ],
             [
              0.6666666666666666,
              "#ed7953"
             ],
             [
              0.7777777777777778,
              "#fb9f3a"
             ],
             [
              0.8888888888888888,
              "#fdca26"
             ],
             [
              1,
              "#f0f921"
             ]
            ],
            "type": "surface"
           }
          ],
          "table": [
           {
            "cells": {
             "fill": {
              "color": "#EBF0F8"
             },
             "line": {
              "color": "white"
             }
            },
            "header": {
             "fill": {
              "color": "#C8D4E3"
             },
             "line": {
              "color": "white"
             }
            },
            "type": "table"
           }
          ]
         },
         "layout": {
          "annotationdefaults": {
           "arrowcolor": "#2a3f5f",
           "arrowhead": 0,
           "arrowwidth": 1
          },
          "autotypenumbers": "strict",
          "coloraxis": {
           "colorbar": {
            "outlinewidth": 0,
            "ticks": ""
           }
          },
          "colorscale": {
           "diverging": [
            [
             0,
             "#8e0152"
            ],
            [
             0.1,
             "#c51b7d"
            ],
            [
             0.2,
             "#de77ae"
            ],
            [
             0.3,
             "#f1b6da"
            ],
            [
             0.4,
             "#fde0ef"
            ],
            [
             0.5,
             "#f7f7f7"
            ],
            [
             0.6,
             "#e6f5d0"
            ],
            [
             0.7,
             "#b8e186"
            ],
            [
             0.8,
             "#7fbc41"
            ],
            [
             0.9,
             "#4d9221"
            ],
            [
             1,
             "#276419"
            ]
           ],
           "sequential": [
            [
             0,
             "#0d0887"
            ],
            [
             0.1111111111111111,
             "#46039f"
            ],
            [
             0.2222222222222222,
             "#7201a8"
            ],
            [
             0.3333333333333333,
             "#9c179e"
            ],
            [
             0.4444444444444444,
             "#bd3786"
            ],
            [
             0.5555555555555556,
             "#d8576b"
            ],
            [
             0.6666666666666666,
             "#ed7953"
            ],
            [
             0.7777777777777778,
             "#fb9f3a"
            ],
            [
             0.8888888888888888,
             "#fdca26"
            ],
            [
             1,
             "#f0f921"
            ]
           ],
           "sequentialminus": [
            [
             0,
             "#0d0887"
            ],
            [
             0.1111111111111111,
             "#46039f"
            ],
            [
             0.2222222222222222,
             "#7201a8"
            ],
            [
             0.3333333333333333,
             "#9c179e"
            ],
            [
             0.4444444444444444,
             "#bd3786"
            ],
            [
             0.5555555555555556,
             "#d8576b"
            ],
            [
             0.6666666666666666,
             "#ed7953"
            ],
            [
             0.7777777777777778,
             "#fb9f3a"
            ],
            [
             0.8888888888888888,
             "#fdca26"
            ],
            [
             1,
             "#f0f921"
            ]
           ]
          },
          "colorway": [
           "#636efa",
           "#EF553B",
           "#00cc96",
           "#ab63fa",
           "#FFA15A",
           "#19d3f3",
           "#FF6692",
           "#B6E880",
           "#FF97FF",
           "#FECB52"
          ],
          "font": {
           "color": "#2a3f5f"
          },
          "geo": {
           "bgcolor": "white",
           "lakecolor": "white",
           "landcolor": "#E5ECF6",
           "showlakes": true,
           "showland": true,
           "subunitcolor": "white"
          },
          "hoverlabel": {
           "align": "left"
          },
          "hovermode": "closest",
          "mapbox": {
           "style": "light"
          },
          "paper_bgcolor": "white",
          "plot_bgcolor": "#E5ECF6",
          "polar": {
           "angularaxis": {
            "gridcolor": "white",
            "linecolor": "white",
            "ticks": ""
           },
           "bgcolor": "#E5ECF6",
           "radialaxis": {
            "gridcolor": "white",
            "linecolor": "white",
            "ticks": ""
           }
          },
          "scene": {
           "xaxis": {
            "backgroundcolor": "#E5ECF6",
            "gridcolor": "white",
            "gridwidth": 2,
            "linecolor": "white",
            "showbackground": true,
            "ticks": "",
            "zerolinecolor": "white"
           },
           "yaxis": {
            "backgroundcolor": "#E5ECF6",
            "gridcolor": "white",
            "gridwidth": 2,
            "linecolor": "white",
            "showbackground": true,
            "ticks": "",
            "zerolinecolor": "white"
           },
           "zaxis": {
            "backgroundcolor": "#E5ECF6",
            "gridcolor": "white",
            "gridwidth": 2,
            "linecolor": "white",
            "showbackground": true,
            "ticks": "",
            "zerolinecolor": "white"
           }
          },
          "shapedefaults": {
           "line": {
            "color": "#2a3f5f"
           }
          },
          "ternary": {
           "aaxis": {
            "gridcolor": "white",
            "linecolor": "white",
            "ticks": ""
           },
           "baxis": {
            "gridcolor": "white",
            "linecolor": "white",
            "ticks": ""
           },
           "bgcolor": "#E5ECF6",
           "caxis": {
            "gridcolor": "white",
            "linecolor": "white",
            "ticks": ""
           }
          },
          "title": {
           "x": 0.05
          },
          "xaxis": {
           "automargin": true,
           "gridcolor": "white",
           "linecolor": "white",
           "ticks": "",
           "title": {
            "standoff": 15
           },
           "zerolinecolor": "white",
           "zerolinewidth": 2
          },
          "yaxis": {
           "automargin": true,
           "gridcolor": "white",
           "linecolor": "white",
           "ticks": "",
           "title": {
            "standoff": 15
           },
           "zerolinecolor": "white",
           "zerolinewidth": 2
          }
         }
        },
        "xaxis": {
         "anchor": "y",
         "domain": [
          0,
          1
         ],
         "title": {
          "text": "Year"
         }
        },
        "yaxis": {
         "anchor": "x",
         "domain": [
          0,
          1
         ],
         "title": {
          "text": "Total"
         }
        }
       }
      }
     },
     "metadata": {},
     "output_type": "display_data"
    }
   ],
   "source": [
    "# Plot a scatter plot with the x-axis representing the year and y-axis representing the total number of medals for each country.\n",
    "# The size of the points should be the total number of medals won by the country.\n",
    "# The color of the points should be the country name.\n",
    "fig = px.scatter(medals.groupby(['Year', 'Country'])['Total'].sum().reset_index(),\n",
    "                 x='Year',\n",
    "                 y='Total',\n",
    "                 size='Total',\n",
    "                 color='Country',\n",
    "                 labels={'x': 'Year', 'y': 'Total Medals'})\n",
    "fig.show()"
   ]
  },
  {
   "cell_type": "code",
   "execution_count": 13,
   "metadata": {},
   "outputs": [
    {
     "data": {
      "application/vnd.plotly.v1+json": {
       "config": {
        "plotlyServerURL": "https://plot.ly"
       },
       "data": [
        {
         "alignmentgroup": "True",
         "hovertemplate": "Medal Type=Gold<br>Country=%{x}<br>Number of Medals=%{y}<extra></extra>",
         "legendgroup": "Gold",
         "marker": {
          "color": "gold",
          "pattern": {
           "shape": ""
          }
         },
         "name": "Gold",
         "offsetgroup": "Gold",
         "orientation": "v",
         "showlegend": true,
         "textposition": "auto",
         "type": "bar",
         "x": [
          "Etats Unis",
          "Chine",
          "Japon",
          "Grande Bretagne",
          "Russie",
          "Australie",
          "Pays-Bas",
          "France",
          "Italie",
          "Allemagne",
          "Canada",
          "Brésil",
          "Nouvelle-Zélande",
          "Cuba",
          "Hongrie",
          "Corée du Sud",
          "Pologne",
          "République Tchèque",
          "Kenya",
          "Norvège",
          "Jamaïque",
          "Espagne",
          "Suède",
          "Suisse",
          "Danemark",
          "Croatie",
          "Iran",
          "Serbie",
          "Belgique",
          "Slovénie",
          "Ouzbékistan",
          "Géorgie",
          "Taïwan",
          "Turquie",
          "Bulgarie",
          "Grèce",
          "Ouganda",
          "Equateur",
          "Irlande",
          "Israël",
          "Lettonie",
          "Qatar",
          "Bahamas",
          "Kosovo",
          "Ukraine",
          "Biélorussie",
          "Roumanie",
          "Venezuela",
          "Inde",
          "Hong-Kong",
          "Philippines",
          "Slovaquie",
          "Afrique du Sud",
          "Autriche",
          "Egypte",
          "Indonésie",
          "Ethiopie",
          "Portugal",
          "Tunisie",
          "Estonie",
          "Fidji",
          "Thaïlande",
          "Bermudes",
          "Maroc",
          "Porto Rico",
          "Colombie",
          "Azerbaïdjan",
          "République Dominicaine",
          "Arménie",
          "Kirghizistan",
          "Mongolie",
          "Argentine",
          "Saint-Marin",
          "Jordanie",
          "Malaisie",
          "Nigéria",
          "Arabie Saoudite",
          "Bahreïn",
          "Lituanie",
          "Macédoine du Nord",
          "Namibie",
          "Turkménistan",
          "Kazakhstan",
          "Mexique",
          "Finlande",
          "Botswana",
          "Burkina Faso",
          "CIO",
          "Côte d'Ivoire",
          "Ghana",
          "Grenade",
          "Moldavie",
          "Syrie",
          "Etats Unis",
          "Grande Bretagne",
          "Chine",
          "Russie",
          "Allemagne",
          "Japon",
          "France",
          "Corée du Sud",
          "Italie",
          "Australie",
          "Pays-Bas",
          "Hongrie",
          "Brésil",
          "Espagne",
          "Kenya",
          "Jamaïque",
          "Croatie",
          "Cuba",
          "Nouvelle-Zélande",
          "Canada",
          "Ouzbékistan",
          "Kazakhstan",
          "Colombie",
          "Suisse",
          "Iran",
          "Grèce",
          "Argentine",
          "Danemark",
          "Suède",
          "Afrique du Sud",
          "Ukraine",
          "Serbie",
          "Pologne",
          "Corée du Nord",
          "Belgique",
          "Thaïlande",
          "Slovaquie",
          "Géorgie",
          "Azerbaïdjan",
          "Biélorussie",
          "Turquie",
          "Arménie",
          "République Tchèque",
          "Ethiopie",
          "Slovénie",
          "Indonésie",
          "Roumanie",
          "Bahreïn",
          "Viêt Nam",
          "Taïwan",
          "Bahamas",
          "CIO",
          "Côte d'Ivoire",
          "Fidji",
          "Jordanie",
          "Kosovo",
          "Porto Rico",
          "Singapour",
          "Tadjikistan",
          "Malaisie",
          "Mexique",
          "Algérie",
          "Irlande",
          "Lituanie",
          "Bulgarie",
          "Venezuela",
          "Inde",
          "Mongolie",
          "Burundi",
          "Grenade",
          "Niger",
          "Philippines",
          "Qatar",
          "Norvège",
          "Egypte",
          "Tunisie",
          "Israël",
          "Autriche",
          "Emirats Arabes Unis",
          "Estonie",
          "Finlande",
          "Maroc",
          "Moldavie",
          "Nigéria",
          "Portugal",
          "République Dominicaine",
          "Trinité-et-Tobago",
          "Etats Unis",
          "Chine",
          "Grande Bretagne",
          "Russie",
          "Corée du Sud",
          "Allemagne",
          "France",
          "Italie",
          "Hongrie",
          "Australie",
          "Japon",
          "Pays-Bas",
          "Iran",
          "Nouvelle-Zélande",
          "Ukraine",
          "Cuba",
          "Espagne",
          "Jamaïque",
          "République Tchèque",
          "Corée du Nord",
          "Brésil",
          "Pologne",
          "Ethiopie",
          "Afrique du Sud",
          "Kazakhstan",
          "Croatie",
          "Canada",
          "Biélorussie",
          "Kenya",
          "Danemark",
          "Roumanie",
          "Azerbaïdjan",
          "Suisse",
          "Lituanie",
          "Norvège",
          "Tunisie",
          "Suède",
          "Colombie",
          "Mexique",
          "Géorgie",
          "Irlande",
          "Argentine",
          "Serbie",
          "Slovénie",
          "Trinité-et-Tobago",
          "Turquie",
          "République Dominicaine",
          "Ouzbékistan",
          "Lettonie",
          "Taïwan",
          "Algérie",
          "Bahamas",
          "Grenade",
          "Ouganda",
          "Venezuela",
          "Egypte",
          "Inde",
          "Mongolie",
          "Thaïlande",
          "Bulgarie",
          "Slovaquie",
          "Belgique",
          "Finlande",
          "Indonésie",
          "Arménie",
          "Estonie",
          "Malaisie",
          "Porto Rico",
          "Botswana",
          "Chypre",
          "Gabon",
          "Guatemala",
          "Monténégro",
          "Portugal",
          "Grèce",
          "Qatar",
          "Singapour",
          "Afghanistan",
          "Arabie Saoudite",
          "Bahreïn",
          "Cameroun",
          "Hong-Kong",
          "Maroc",
          "Tadjikistan",
          "Viêt Nam",
          "Chine",
          "Etats Unis",
          "Russie",
          "Grande Bretagne",
          "Corée du Sud",
          "Allemagne",
          "Australie",
          "Japon",
          "Italie",
          "France",
          "Pays-Bas",
          "Ukraine",
          "Kenya",
          "Espagne",
          "Jamaïque",
          "Pologne",
          "Géorgie",
          "Roumanie",
          "Ethiopie",
          "Mexique",
          "Canada",
          "Cuba",
          "Norvège",
          "Hongrie",
          "Brésil",
          "Biélorussie",
          "République Tchèque",
          "Nouvelle-Zélande",
          "Slovaquie",
          "Mongolie",
          "Thaïlande",
          "Kazakhstan",
          "Danemark",
          "Corée du Nord",
          "Suisse",
          "Argentine",
          "Iran",
          "Belgique",
          "Zimbabwe",
          "Turquie",
          "Slovénie",
          "République Dominicaine",
          "Azerbaïdjan",
          "Indonésie",
          "Taïwan",
          "Bulgarie",
          "Finlande",
          "Lettonie",
          "Estonie",
          "Portugal",
          "Inde",
          "Cameroun",
          "Panama",
          "Tunisie",
          "Suède",
          "Grèce",
          "Croatie",
          "Nigéria",
          "Lituanie",
          "Autriche",
          "Colombie",
          "Trinité-et-Tobago",
          "Arménie",
          "Ouzbékistan",
          "Irlande",
          "Serbie",
          "Algérie",
          "Bahamas",
          "Kirghizistan",
          "Maroc",
          "Tadjikistan",
          "Afrique du Sud",
          "Chili",
          "Equateur",
          "Islande",
          "Malaisie",
          "Samoa",
          "Singapour",
          "Soudan",
          "Viêt Nam",
          "Egypte",
          "Afghanistan",
          "Venezuela",
          "Ile Maurice",
          "Israël",
          "Moldavie",
          "Togo",
          "Etats Unis",
          "Chine",
          "Russie",
          "Australie",
          "Japon",
          "Allemagne",
          "France",
          "Italie",
          "Corée du Sud",
          "Grande Bretagne",
          "Cuba",
          "Hongrie",
          "Ukraine",
          "Roumanie",
          "Grèce",
          "Brésil",
          "Norvège",
          "Pays-Bas",
          "Suède",
          "Taïwan",
          "Espagne",
          "Canada",
          "Turquie",
          "Pologne",
          "Iran",
          "Nouvelle-Zélande",
          "Thaïlande",
          "Biélorussie",
          "Autriche",
          "Ethiopie",
          "Slovaquie",
          "Géorgie",
          "Bulgarie",
          "Jamaïque",
          "Maroc",
          "Danemark",
          "Argentine",
          "Ouzbékistan",
          "Chili",
          "Kazakhstan",
          "Kenya",
          "République Tchèque",
          "Afrique du Sud",
          "Croatie",
          "Lituanie",
          "Egypte",
          "Suisse",
          "Indonésie",
          "Zimbabwe",
          "Azerbaïdjan",
          "Belgique",
          "Bahamas",
          "Israël",
          "Cameroun",
          "Emirats Arabes Unis",
          "République Dominicaine",
          "Corée du Nord",
          "Lettonie",
          "Mexique",
          "Portugal",
          "Finlande",
          "Serbie",
          "Slovénie",
          "Estonie",
          "Hong-Kong",
          "Inde",
          "Paraguay",
          "Venezuela",
          "Nigéria",
          "Colombie",
          "Erythrée",
          "Mongolie",
          "Syrie",
          "Trinité-et-Tobago",
          "Etats Unis",
          "Russie",
          "Chine",
          "Australie",
          "Allemagne",
          "France",
          "Italie",
          "Pays-Bas",
          "Cuba",
          "Grande Bretagne",
          "Roumanie",
          "Corée du Sud",
          "Hongrie",
          "Pologne",
          "Japon",
          "Bulgarie",
          "Grèce",
          "Suède",
          "Norvège",
          "Ethiopie",
          "Ukraine",
          "Kazakhstan",
          "Biélorussie",
          "Canada",
          "Espagne",
          "Turquie",
          "Iran",
          "République Tchèque",
          "Danemark",
          "Kenya",
          "Finlande",
          "Autriche",
          "Lituanie",
          "Azerbaïdjan",
          "Bahamas",
          "Slovénie",
          "Suisse",
          "Indonésie",
          "Slovaquie",
          "Mexique",
          "Nigéria",
          "Algérie",
          "Ouzbékistan",
          "Lettonie",
          "Yougoslavie",
          "Nouvelle-Zélande",
          "Estonie",
          "Thaïlande",
          "Croatie",
          "Cameroun",
          "Colombie",
          "Mozambique",
          "Brésil",
          "Jamaïque",
          "Afrique du Sud",
          "Belgique",
          "Argentine",
          "Maroc",
          "Taïwan",
          "Corée du Nord",
          "Arabie Saoudite",
          "Moldavie",
          "Trinité-et-Tobago",
          "Irlande",
          "Sri Lanka",
          "Uruguay",
          "Viêt Nam",
          "Géorgie",
          "Costa Rica",
          "Portugal",
          "Arménie",
          "Barbade",
          "Chili",
          "Inde",
          "Islande",
          "Israël",
          "Kirghizistan",
          "Koweït",
          "Macédoine du Nord",
          "Qatar",
          "Etats Unis",
          "Russie",
          "Allemagne",
          "Chine",
          "France",
          "Italie",
          "Australie",
          "Cuba",
          "Ukraine",
          "Corée du Sud",
          "Pologne",
          "Hongrie",
          "Espagne",
          "Roumanie",
          "Pays-Bas",
          "Grèce",
          "République Tchèque",
          "Suisse",
          "Danemark",
          "Turquie",
          "Canada",
          "Bulgarie",
          "Japon",
          "Kazakhstan",
          "Brésil",
          "Nouvelle-Zélande",
          "Afrique du Sud",
          "Irlande",
          "Suède",
          "Norvège",
          "Belgique",
          "Nigéria",
          "Corée du Nord",
          "Algérie",
          "Ethiopie",
          "Grande Bretagne",
          "Biélorussie",
          "Kenya",
          "Jamaïque",
          "Finlande",
          "Indonésie",
          "Yougoslavie",
          "Iran",
          "Slovaquie",
          "Arménie",
          "Croatie",
          "Thaïlande",
          "Porto Rico",
          "Portugal",
          "Burundi",
          "Costa Rica",
          "Equateur",
          "Hong-Kong",
          "Syrie",
          "Argentine",
          "Namibie",
          "Slovénie",
          "Autriche",
          "Malaisie",
          "Moldavie",
          "Ouzbékistan",
          "Azerbaïdjan",
          "Bahamas",
          "Lettonie",
          "Philippines",
          "Taïwan",
          "Tonga",
          "Zambie",
          "Géorgie",
          "Maroc",
          "Trinité-et-Tobago",
          "Inde",
          "Israël",
          "Lituanie",
          "Mexique",
          "Mongolie",
          "Mozambique",
          "Ouganda",
          "Tunisie",
          "Communauté des États indépendants",
          "Etats Unis",
          "Allemagne",
          "Chine",
          "Cuba",
          "Espagne",
          "Corée du Sud",
          "Hongrie",
          "France",
          "Australie",
          "Canada",
          "Italie",
          "Grande Bretagne",
          "Roumanie",
          "Tchécoslovaquie",
          "Corée du Nord",
          "Japon",
          "Bulgarie",
          "Pologne",
          "Pays-Bas",
          "Kenya",
          "Norvège",
          "Turquie",
          "Indonésie",
          "Brésil",
          "Grèce",
          "Suède",
          "Nouvelle-Zélande",
          "Finlande",
          "Danemark",
          "Maroc",
          "Irlande",
          "Ethiopie",
          "Algérie",
          "Lituanie",
          "Porto Rico",
          "Suisse",
          "Jamaïque",
          "Nigéria",
          "Lettonie",
          "Afrique du Sud",
          "Autriche",
          "Namibie",
          "Belgique",
          "Croatie",
          "International",
          "Iran",
          "Israël",
          "Thaïlande",
          "Mexique",
          "Pérou",
          "Taïwan",
          "Slovénie",
          "Argentine",
          "Bahamas",
          "Colombie",
          "Communauté des États indépendants",
          "Estonie",
          "Ghana",
          "Malaisie",
          "Mongolie",
          "Pakistan",
          "Philippines",
          "Qatar",
          "Suriname",
          "U.R.S.S.",
          "Allemagne de l'Est",
          "Etats Unis",
          "Corée du Sud",
          "Hongrie",
          "Allemagne de l'Ouest",
          "Bulgarie",
          "Roumanie",
          "France",
          "Italie",
          "Chine",
          "Grande Bretagne",
          "Kenya",
          "Japon",
          "Australie",
          "Tchécoslovaquie",
          "Nouvelle-Zélande",
          "Canada",
          "Pologne",
          "Norvège",
          "Pays-Bas",
          "Danemark",
          "Communauté des États indépendants",
          "Allemagne",
          "Serbie",
          "Yougoslavie",
          "Brésil",
          "Espagne",
          "Finlande",
          "Turquie",
          "Maroc",
          "Autriche",
          "Portugal",
          "Suriname",
          "Suède",
          "Suisse",
          "Jamaïque",
          "Argentine",
          "Antilles Néerlandaises",
          "Chili",
          "Costa Rica",
          "Iles Vierges Américaines",
          "Indonésie",
          "Iran",
          "Pérou",
          "Sénégal",
          "Belgique",
          "Mexique",
          "Colombie",
          "Djibouti",
          "Grèce",
          "Mongolie",
          "Pakistan",
          "Philippines",
          "Thaïlande",
          "Etats Unis",
          "Roumanie",
          "Allemagne de l'Ouest",
          "Chine",
          "Italie",
          "Canada",
          "Japon",
          "Nouvelle-Zélande",
          "Yougoslavie",
          "Corée du Sud",
          "Grande Bretagne",
          "France",
          "Pays-Bas",
          "Australie",
          "Finlande",
          "Suède",
          "Maroc",
          "Brésil",
          "Mexique",
          "Espagne",
          "Belgique",
          "Autriche",
          "Kenya",
          "Portugal",
          "Pakistan",
          "U.R.S.S.",
          "Suisse",
          "Danemark",
          "Jamaïque",
          "Norvège",
          "Allemagne de l'Est",
          "Grèce",
          "Nigéria",
          "Porto Rico",
          "Colombie",
          "Côte d'Ivoire",
          "Egypte",
          "Irlande",
          "Pérou",
          "Syrie",
          "Thaïlande",
          "Turquie",
          "Venezuela",
          "Algérie",
          "Allemagne",
          "Cameroun",
          "Islande",
          "République Dominicaine",
          "Taïwan",
          "Zambie",
          "U.R.S.S.",
          "Allemagne de l'Est",
          "Bulgarie",
          "Cuba",
          "Italie",
          "Hongrie",
          "Roumanie",
          "France",
          "Grande Bretagne",
          "Pologne",
          "Suède",
          "Finlande",
          "Tchécoslovaquie",
          "Yougoslavie",
          "Australie",
          "Danemark",
          "Brésil",
          "Ethiopie",
          "Suisse",
          "Espagne",
          "Autriche",
          "Grèce",
          "Belgique",
          "Inde",
          "Zimbabwe",
          "Corée du Nord",
          "Mongolie",
          "Tanzanie",
          "Mexique",
          "Pays-Bas",
          "Irlande",
          "Allemagne",
          "Ouganda",
          "Venezuela",
          "Jamaïque",
          "Guyana",
          "Liban",
          "U.R.S.S.",
          "Allemagne de l'Est",
          "Etats Unis",
          "Allemagne de l'Ouest",
          "Japon",
          "Pologne",
          "Bulgarie",
          "Cuba",
          "Roumanie",
          "Hongrie",
          "Finlande",
          "Suède",
          "Grande Bretagne",
          "Italie",
          "France",
          "Yougoslavie",
          "Tchécoslovaquie",
          "Suisse",
          "Nouvelle-Zélande",
          "Corée du Sud",
          "Corée du Nord",
          "Jamaïque",
          "Norvège",
          "Danemark",
          "Mexique",
          "Trinité-et-Tobago",
          "Canada",
          "Belgique",
          "Pays-Bas",
          "Espagne",
          "Portugal",
          "Australie",
          "Iran",
          "Mongolie",
          "Venezuela",
          "Brésil",
          "Autriche",
          "Bermudes",
          "Pakistan",
          "Porto Rico",
          "Thaïlande",
          "U.R.S.S.",
          "Etats Unis",
          "Allemagne de l'Est",
          "Allemagne de l'Ouest",
          "Japon",
          "Australie",
          "Pologne",
          "Hongrie",
          "Bulgarie",
          "Italie",
          "Suède",
          "Grande Bretagne",
          "Roumanie",
          "Cuba",
          "Finlande",
          "Pays-Bas",
          "France",
          "Tchécoslovaquie",
          "Kenya",
          "Yougoslavie",
          "Norvège",
          "Corée du Nord",
          "Nouvelle-Zélande",
          "Ouganda",
          "Danemark",
          "Suisse",
          "Canada",
          "Iran",
          "Belgique",
          "Grèce",
          "Autriche",
          "Colombie",
          "Argentine",
          "Corée du Sud",
          "Liban",
          "Mexique",
          "Mongolie",
          "Pakistan",
          "Tunisie",
          "Turquie",
          "Allemagne",
          "Brésil",
          "Ethiopie",
          "Espagne",
          "Ghana",
          "Inde",
          "Jamaïque",
          "Moldavie",
          "Niger",
          "Nigéria",
          "Etats Unis",
          "U.R.S.S.",
          "Japon",
          "Hongrie",
          "Allemagne de l'Est",
          "France",
          "Tchécoslovaquie",
          "Allemagne de l'Ouest",
          "Australie",
          "Grande Bretagne",
          "Pologne",
          "Roumanie",
          "Italie",
          "Kenya",
          "Mexique",
          "Yougoslavie",
          "Pays-Bas",
          "Bulgarie",
          "Iran",
          "Suède",
          "Turquie",
          "Danemark",
          "Canada",
          "Finlande",
          "Ethiopie",
          "Norvège",
          "Nouvelle-Zélande",
          "Tunisie",
          "Pakistan",
          "Venezuela",
          "Cuba",
          "Autriche",
          "Suisse",
          "Mongolie",
          "Brésil",
          "Belgique",
          "Corée du Sud",
          "Ouganda",
          "Cameroun",
          "Jamaïque",
          "Argentine",
          "Grèce",
          "Inde",
          "Taïwan",
          "Etats Unis",
          "U.R.S.S.",
          "Japon",
          "Allemagne",
          "Italie",
          "Hongrie",
          "Pologne",
          "Australie",
          "Tchécoslovaquie",
          "Grande Bretagne",
          "Bulgarie",
          "Finlande",
          "Nouvelle-Zélande",
          "Roumanie",
          "Pays-Bas",
          "Turquie",
          "Suède",
          "Danemark",
          "Yougoslavie",
          "Belgique",
          "France",
          "Canada",
          "Suisse",
          "Bahamas",
          "Ethiopie",
          "Inde",
          "Corée du Sud",
          "Trinité-et-Tobago",
          "Tunisie",
          "Argentine",
          "Cuba",
          "Pakistan",
          "Philippines",
          "Iran",
          "Brésil",
          "Ghana",
          "Irlande",
          "Kenya",
          "Mexique",
          "Nigéria",
          "Uruguay",
          "U.R.S.S.",
          "Etats Unis",
          "Italie",
          "Allemagne",
          "Australie",
          "Turquie",
          "Hongrie",
          "Japon",
          "Pologne",
          "Tchécoslovaquie",
          "Roumanie",
          "Grande Bretagne",
          "Danemark",
          "Nouvelle-Zélande",
          "Bulgarie",
          "Suède",
          "Finlande",
          "Autriche",
          "Yougoslavie",
          "Pakistan",
          "Ethiopie",
          "Grèce",
          "Norvège",
          "Suisse",
          "France",
          "Belgique",
          "Iran",
          "Afrique du Sud",
          "Pays-Bas",
          "Argentine",
          "Egypte",
          "Canada",
          "Ghana",
          "Inde",
          "Maroc",
          "Portugal",
          "Singapour",
          "Taïwan",
          "Brésil",
          "Indes Occidentales",
          "Espagne",
          "Irak",
          "Mexique",
          "Venezuela",
          "U.R.S.S.",
          "Etats Unis",
          "Australie",
          "Hongrie",
          "Italie",
          "Suède",
          "Allemagne",
          "Grande Bretagne",
          "Roumanie",
          "Japon",
          "France",
          "Turquie",
          "Finlande",
          "Iran",
          "Canada",
          "Nouvelle-Zélande",
          "Pologne",
          "Bulgarie",
          "Danemark",
          "Irlande",
          "Norvège",
          "Mexique",
          "Brésil",
          "Inde",
          "Tchécoslovaquie",
          "Yougoslavie",
          "Chili",
          "Belgique",
          "Argentine",
          "Corée du Sud",
          "Islande",
          "Pakistan",
          "Afrique du Sud",
          "Autriche",
          "Bahamas",
          "Grèce",
          "Suisse",
          "Uruguay",
          "Etats Unis",
          "U.R.S.S.",
          "Hongrie",
          "Suède",
          "Italie",
          "Tchécoslovaquie",
          "France",
          "Finlande",
          "Australie",
          "Norvège",
          "Suisse",
          "Afrique du Sud",
          "Jamaïque",
          "Belgique",
          "Danemark",
          "Turquie",
          "Japon",
          "Grande Bretagne",
          "Argentine",
          "Pologne",
          "Canada",
          "Yougoslavie",
          "Roumanie",
          "Brésil",
          "Nouvelle-Zélande",
          "Inde",
          "Luxembourg",
          "Allemagne",
          "Pays-Bas",
          "Iran",
          "Chili",
          "Autriche",
          "Liban",
          "Espagne",
          "Irlande",
          "Mexique",
          "Corée du Sud",
          "Trinité-et-Tobago",
          "Uruguay",
          "Bulgarie",
          "Egypte",
          "Portugal",
          "Venezuela",
          "Etats Unis",
          "Suède",
          "France",
          "Hongrie",
          "Italie",
          "Finlande",
          "Turquie",
          "Tchécoslovaquie",
          "Suisse",
          "Danemark",
          "Pays-Bas",
          "Grande Bretagne",
          "Argentine",
          "Australie",
          "Belgique",
          "Egypte",
          "Mexique",
          "Afrique du Sud",
          "Norvège",
          "Jamaïque",
          "Autriche",
          "Inde",
          "Pérou",
          "Yougoslavie",
          "Canada",
          "Portugal",
          "Uruguay",
          "Cuba",
          "Espagne",
          "Sri Lanka",
          "Trinité-et-Tobago",
          "Corée du Sud",
          "Panama",
          "Brésil",
          "Iran",
          "Pologne",
          "Porto Rico",
          "Allemagne",
          "Etats Unis",
          "Hongrie",
          "Italie",
          "Finlande",
          "France",
          "Suède",
          "Japon",
          "Pays-Bas",
          "Grande Bretagne",
          "Autriche",
          "Tchécoslovaquie",
          "Argentine",
          "Estonie",
          "Egypte",
          "Suisse",
          "Canada",
          "Norvège",
          "Turquie",
          "Inde",
          "Nouvelle-Zélande",
          "Pologne",
          "Danemark",
          "Lettonie",
          "Afrique du Sud",
          "Roumanie",
          "Yougoslavie",
          "Mexique",
          "Belgique",
          "Australie",
          "Philippines",
          "Portugal",
          "Etats Unis",
          "Italie",
          "France",
          "Suède",
          "Japon",
          "Hongrie",
          "Finlande",
          "Grande Bretagne",
          "Allemagne",
          "Australie",
          "Argentine",
          "Canada",
          "Pays-Bas",
          "Pologne",
          "Afrique du Sud",
          "Irlande",
          "Tchécoslovaquie",
          "Autriche",
          "Inde",
          "Danemark",
          "Mexique",
          "Lettonie",
          "Nouvelle-Zélande",
          "Suisse",
          "Philippines",
          "Espagne",
          "Portugal",
          "Uruguay",
          "Etats Unis",
          "Allemagne",
          "Finlande",
          "Suède",
          "Italie",
          "Suisse",
          "France",
          "Pays-Bas",
          "Hongrie",
          "Canada",
          "Grande Bretagne",
          "Argentine",
          "Danemark",
          "Tchécoslovaquie",
          "Japon",
          "Estonie",
          "Egypte",
          "Autriche",
          "Australie",
          "Norvège",
          "Pologne",
          "Yougoslavie",
          "Afrique du Sud",
          "Espagne",
          "Inde",
          "Irlande",
          "Nouvelle-Zélande",
          "Uruguay",
          "Belgique",
          "Chili",
          "Haïti",
          "Philippines",
          "Portugal",
          "Etats Unis",
          "Finlande",
          "France",
          "Grande Bretagne",
          "Italie",
          "Suisse",
          "Norvège",
          "Suède",
          "Pays-Bas",
          "Belgique",
          "Australie",
          "Danemark",
          "Hongrie",
          "Yougoslavie",
          "Tchécoslovaquie",
          "Argentine",
          "Estonie",
          "Afrique du Sud",
          "Uruguay",
          "Autriche",
          "Canada",
          "Pologne",
          "Haïti",
          "Japon",
          "Nouvelle-Zélande",
          "Portugal",
          "Roumanie",
          "Etats Unis",
          "Suède",
          "Grande Bretagne",
          "Finlande",
          "Belgique",
          "Norvège",
          "Italie",
          "France",
          "Pays-Bas",
          "Danemark",
          "Afrique du Sud",
          "Canada",
          "Suisse",
          "Estonie",
          "Brésil",
          "Australie",
          "Espagne",
          "Japon",
          "Grèce",
          "Luxembourg",
          "Tchécoslovaquie",
          "Nouvelle-Zélande",
          "Etats Unis",
          "Suède",
          "Grande Bretagne",
          "Finlande",
          "France",
          "Allemagne",
          "Afrique du Sud",
          "Norvège",
          "Hongrie",
          "Canada",
          "Italie",
          "Australasie",
          "Belgique",
          "Danemark",
          "Grèce",
          "Russie",
          "Autriche",
          "Pays-Bas",
          "Nouvelle-Zélande",
          "Grande Bretagne",
          "Etats Unis",
          "Suède",
          "France",
          "Allemagne",
          "Hongrie",
          "Canada",
          "Norvège",
          "Italie",
          "Belgique",
          "Australasie",
          "Finlande",
          "Afrique du Sud",
          "Guyana",
          "Grèce",
          "Danemark",
          "Irlande",
          "Russie",
          "Bohême",
          "Pays-Bas",
          "Autriche",
          "France",
          "Etats Unis",
          "Grèce",
          "Grande Bretagne",
          "Italie",
          "Suisse",
          "Allemagne",
          "Norvège",
          "Autriche",
          "Suède",
          "Hongrie",
          "Belgique",
          "Danemark",
          "Finlande",
          "Canada",
          "Australie",
          "Pays-Bas",
          "Bohême",
          "Australasie",
          "Empire Ottoman",
          "Etats Unis",
          "Allemagne",
          "Cuba",
          "Canada",
          "Hongrie",
          "Grande Bretagne",
          "Grèce",
          "Suisse",
          "France",
          "Autriche",
          "France",
          "Etats Unis",
          "Grande Bretagne",
          "Suisse",
          "Belgique",
          "Allemagne",
          "Italie",
          "Australie",
          "Danemark",
          "Hongrie",
          "Pays-Bas",
          "Cuba",
          "International",
          "Canada",
          "Autriche",
          "Norvège",
          "Inde",
          "Bohême",
          "Mexique",
          "Suède",
          "Etats Unis",
          "Grèce",
          "Allemagne",
          "France",
          "Grande Bretagne",
          "Hongrie",
          "Autriche",
          "Australie",
          "Danemark",
          "Suisse"
         ],
         "xaxis": "x",
         "y": [
          38,
          36,
          27,
          22,
          20,
          17,
          10,
          10,
          10,
          10,
          7,
          7,
          7,
          7,
          6,
          6,
          4,
          4,
          4,
          4,
          4,
          3,
          3,
          3,
          3,
          3,
          3,
          3,
          3,
          3,
          3,
          2,
          2,
          2,
          2,
          2,
          2,
          2,
          2,
          2,
          2,
          2,
          2,
          2,
          1,
          1,
          1,
          1,
          1,
          1,
          1,
          1,
          1,
          1,
          1,
          1,
          1,
          1,
          1,
          1,
          1,
          1,
          1,
          1,
          1,
          0,
          0,
          0,
          0,
          0,
          0,
          0,
          0,
          0,
          0,
          0,
          0,
          0,
          0,
          0,
          0,
          0,
          0,
          0,
          0,
          0,
          0,
          0,
          0,
          0,
          0,
          0,
          0,
          46,
          27,
          26,
          19,
          17,
          12,
          10,
          9,
          8,
          8,
          8,
          8,
          7,
          7,
          6,
          6,
          5,
          5,
          4,
          4,
          4,
          3,
          3,
          3,
          3,
          3,
          3,
          2,
          2,
          2,
          2,
          2,
          2,
          2,
          2,
          2,
          2,
          2,
          1,
          1,
          1,
          1,
          1,
          1,
          1,
          1,
          1,
          1,
          1,
          1,
          1,
          1,
          1,
          1,
          1,
          1,
          1,
          1,
          1,
          0,
          0,
          0,
          0,
          0,
          0,
          0,
          0,
          0,
          0,
          0,
          0,
          0,
          0,
          0,
          0,
          0,
          0,
          0,
          0,
          0,
          0,
          0,
          0,
          0,
          0,
          0,
          0,
          46,
          38,
          29,
          22,
          13,
          11,
          11,
          8,
          8,
          7,
          7,
          6,
          6,
          6,
          5,
          5,
          4,
          4,
          4,
          4,
          3,
          3,
          3,
          3,
          3,
          3,
          2,
          2,
          2,
          2,
          2,
          2,
          2,
          2,
          2,
          2,
          1,
          1,
          1,
          1,
          1,
          1,
          1,
          1,
          1,
          1,
          1,
          1,
          1,
          1,
          1,
          1,
          1,
          1,
          1,
          0,
          0,
          0,
          0,
          0,
          0,
          0,
          0,
          0,
          0,
          0,
          0,
          0,
          0,
          0,
          0,
          0,
          0,
          0,
          0,
          0,
          0,
          0,
          0,
          0,
          0,
          0,
          0,
          0,
          0,
          50,
          36,
          23,
          19,
          17,
          17,
          15,
          13,
          9,
          7,
          7,
          7,
          6,
          5,
          5,
          4,
          4,
          4,
          4,
          4,
          3,
          3,
          3,
          3,
          3,
          3,
          3,
          3,
          3,
          3,
          2,
          2,
          2,
          2,
          2,
          2,
          2,
          2,
          1,
          1,
          1,
          1,
          1,
          1,
          1,
          1,
          1,
          1,
          1,
          1,
          1,
          1,
          1,
          1,
          0,
          0,
          0,
          0,
          0,
          0,
          0,
          0,
          0,
          0,
          0,
          0,
          0,
          0,
          0,
          0,
          0,
          0,
          0,
          0,
          0,
          0,
          0,
          0,
          0,
          0,
          0,
          0,
          0,
          0,
          0,
          0,
          0,
          36,
          34,
          28,
          17,
          16,
          13,
          11,
          10,
          9,
          9,
          9,
          8,
          8,
          8,
          6,
          5,
          5,
          4,
          4,
          4,
          3,
          3,
          3,
          3,
          3,
          3,
          3,
          2,
          2,
          2,
          2,
          2,
          2,
          2,
          2,
          2,
          2,
          2,
          2,
          1,
          1,
          1,
          1,
          1,
          1,
          1,
          1,
          1,
          1,
          1,
          1,
          1,
          1,
          1,
          1,
          1,
          0,
          0,
          0,
          0,
          0,
          0,
          0,
          0,
          0,
          0,
          0,
          0,
          0,
          0,
          0,
          0,
          0,
          0,
          37,
          32,
          28,
          16,
          13,
          13,
          13,
          12,
          11,
          11,
          11,
          8,
          8,
          6,
          5,
          5,
          4,
          4,
          4,
          4,
          3,
          3,
          3,
          3,
          3,
          3,
          3,
          2,
          2,
          2,
          2,
          2,
          2,
          2,
          2,
          2,
          1,
          1,
          1,
          1,
          1,
          1,
          1,
          1,
          1,
          1,
          1,
          1,
          1,
          1,
          1,
          1,
          0,
          0,
          0,
          0,
          0,
          0,
          0,
          0,
          0,
          0,
          0,
          0,
          0,
          0,
          0,
          0,
          0,
          0,
          0,
          0,
          0,
          0,
          0,
          0,
          0,
          0,
          0,
          0,
          44,
          26,
          19,
          16,
          15,
          13,
          9,
          9,
          9,
          7,
          7,
          7,
          5,
          4,
          4,
          4,
          4,
          4,
          4,
          4,
          3,
          3,
          3,
          3,
          3,
          3,
          3,
          3,
          2,
          2,
          2,
          2,
          2,
          2,
          2,
          1,
          1,
          1,
          1,
          1,
          1,
          1,
          1,
          1,
          1,
          1,
          1,
          1,
          1,
          1,
          1,
          1,
          1,
          1,
          0,
          0,
          0,
          0,
          0,
          0,
          0,
          0,
          0,
          0,
          0,
          0,
          0,
          0,
          0,
          0,
          0,
          0,
          0,
          0,
          0,
          0,
          0,
          0,
          0,
          45,
          36,
          34,
          16,
          14,
          13,
          12,
          11,
          8,
          7,
          7,
          5,
          5,
          4,
          4,
          4,
          3,
          3,
          3,
          2,
          2,
          2,
          2,
          2,
          2,
          2,
          1,
          1,
          1,
          1,
          1,
          1,
          1,
          1,
          1,
          1,
          1,
          0,
          0,
          0,
          0,
          0,
          0,
          0,
          0,
          0,
          0,
          0,
          0,
          0,
          0,
          0,
          0,
          0,
          0,
          0,
          0,
          0,
          0,
          0,
          0,
          0,
          0,
          0,
          0,
          51,
          37,
          36,
          12,
          11,
          10,
          10,
          7,
          6,
          6,
          5,
          5,
          5,
          4,
          3,
          3,
          3,
          3,
          2,
          2,
          2,
          2,
          2,
          2,
          2,
          1,
          1,
          1,
          1,
          1,
          1,
          1,
          1,
          1,
          0,
          0,
          0,
          0,
          0,
          0,
          0,
          0,
          0,
          0,
          0,
          0,
          0,
          0,
          0,
          0,
          0,
          0,
          0,
          0,
          0,
          83,
          20,
          17,
          14,
          14,
          11,
          10,
          8,
          7,
          6,
          5,
          5,
          5,
          4,
          4,
          2,
          2,
          1,
          1,
          1,
          1,
          1,
          1,
          1,
          1,
          1,
          0,
          0,
          0,
          0,
          0,
          0,
          0,
          0,
          0,
          0,
          0,
          0,
          0,
          0,
          0,
          0,
          0,
          0,
          0,
          0,
          0,
          0,
          0,
          0,
          80,
          47,
          8,
          8,
          8,
          7,
          6,
          6,
          5,
          3,
          3,
          3,
          2,
          2,
          2,
          2,
          2,
          2,
          2,
          1,
          1,
          1,
          1,
          1,
          1,
          0,
          0,
          0,
          0,
          0,
          0,
          0,
          0,
          0,
          0,
          0,
          0,
          48,
          40,
          34,
          10,
          9,
          7,
          6,
          6,
          4,
          4,
          4,
          4,
          3,
          2,
          2,
          2,
          2,
          2,
          2,
          1,
          1,
          1,
          1,
          1,
          1,
          1,
          0,
          0,
          0,
          0,
          0,
          0,
          0,
          0,
          0,
          0,
          0,
          0,
          0,
          0,
          0,
          50,
          33,
          20,
          13,
          13,
          8,
          7,
          6,
          6,
          5,
          4,
          4,
          3,
          3,
          3,
          3,
          2,
          2,
          2,
          2,
          2,
          1,
          1,
          1,
          1,
          0,
          0,
          0,
          0,
          0,
          0,
          0,
          0,
          0,
          0,
          0,
          0,
          0,
          0,
          0,
          0,
          0,
          0,
          0,
          0,
          0,
          0,
          0,
          0,
          0,
          45,
          29,
          11,
          10,
          9,
          7,
          7,
          5,
          5,
          5,
          5,
          4,
          3,
          3,
          3,
          3,
          3,
          2,
          2,
          2,
          2,
          1,
          1,
          1,
          1,
          1,
          1,
          1,
          1,
          1,
          0,
          0,
          0,
          0,
          0,
          0,
          0,
          0,
          0,
          0,
          0,
          0,
          0,
          0,
          36,
          31,
          16,
          10,
          10,
          10,
          6,
          6,
          5,
          4,
          3,
          3,
          3,
          2,
          2,
          2,
          2,
          2,
          2,
          2,
          1,
          1,
          1,
          1,
          1,
          1,
          0,
          0,
          0,
          0,
          0,
          0,
          0,
          0,
          0,
          0,
          0,
          0,
          0,
          0,
          0,
          43,
          34,
          13,
          12,
          8,
          7,
          6,
          4,
          4,
          3,
          3,
          2,
          2,
          2,
          1,
          1,
          1,
          1,
          1,
          1,
          1,
          1,
          1,
          0,
          0,
          0,
          0,
          0,
          0,
          0,
          0,
          0,
          0,
          0,
          0,
          0,
          0,
          0,
          0,
          0,
          0,
          0,
          0,
          0,
          37,
          33,
          13,
          9,
          8,
          8,
          6,
          6,
          5,
          4,
          4,
          3,
          3,
          2,
          2,
          2,
          1,
          1,
          1,
          1,
          1,
          1,
          1,
          1,
          0,
          0,
          0,
          0,
          0,
          0,
          0,
          0,
          0,
          0,
          0,
          0,
          0,
          0,
          40,
          22,
          16,
          12,
          8,
          7,
          6,
          6,
          6,
          3,
          2,
          2,
          2,
          2,
          2,
          2,
          1,
          1,
          1,
          1,
          1,
          1,
          1,
          1,
          1,
          1,
          1,
          0,
          0,
          0,
          0,
          0,
          0,
          0,
          0,
          0,
          0,
          0,
          0,
          0,
          0,
          0,
          0,
          38,
          16,
          10,
          10,
          8,
          8,
          6,
          6,
          5,
          5,
          5,
          3,
          3,
          2,
          2,
          2,
          2,
          2,
          1,
          1,
          1,
          1,
          1,
          0,
          0,
          0,
          0,
          0,
          0,
          0,
          0,
          0,
          0,
          0,
          0,
          0,
          0,
          33,
          24,
          10,
          8,
          7,
          7,
          6,
          6,
          6,
          4,
          4,
          3,
          2,
          2,
          2,
          1,
          1,
          1,
          1,
          1,
          1,
          0,
          0,
          0,
          0,
          0,
          0,
          0,
          0,
          0,
          0,
          0,
          41,
          13,
          9,
          9,
          7,
          6,
          5,
          4,
          3,
          3,
          3,
          2,
          2,
          2,
          2,
          2,
          1,
          1,
          1,
          0,
          0,
          0,
          0,
          0,
          0,
          0,
          0,
          0,
          22,
          10,
          8,
          7,
          7,
          7,
          6,
          6,
          4,
          4,
          3,
          3,
          3,
          2,
          2,
          2,
          2,
          2,
          1,
          1,
          1,
          1,
          1,
          1,
          1,
          1,
          1,
          1,
          0,
          0,
          0,
          0,
          0,
          45,
          14,
          13,
          9,
          8,
          7,
          5,
          4,
          4,
          3,
          3,
          2,
          2,
          2,
          1,
          1,
          1,
          1,
          1,
          0,
          0,
          0,
          0,
          0,
          0,
          0,
          0,
          41,
          19,
          15,
          15,
          14,
          13,
          13,
          9,
          4,
          3,
          3,
          3,
          2,
          1,
          1,
          0,
          0,
          0,
          0,
          0,
          0,
          0,
          25,
          23,
          10,
          9,
          7,
          5,
          4,
          3,
          3,
          3,
          3,
          2,
          2,
          1,
          1,
          0,
          0,
          0,
          0,
          51,
          22,
          8,
          4,
          3,
          3,
          2,
          2,
          2,
          1,
          1,
          1,
          1,
          1,
          0,
          0,
          0,
          0,
          0,
          0,
          0,
          15,
          12,
          8,
          8,
          7,
          5,
          4,
          4,
          3,
          2,
          2,
          2,
          2,
          2,
          1,
          0,
          0,
          0,
          0,
          0,
          80,
          4,
          4,
          3,
          2,
          1,
          1,
          1,
          0,
          0,
          25,
          19,
          16,
          6,
          5,
          4,
          2,
          2,
          1,
          1,
          1,
          1,
          1,
          1,
          0,
          0,
          0,
          0,
          0,
          0,
          11,
          10,
          7,
          5,
          2,
          2,
          2,
          2,
          1,
          1
         ],
         "yaxis": "y"
        },
        {
         "alignmentgroup": "True",
         "hovertemplate": "Medal Type=Silver<br>Country=%{x}<br>Number of Medals=%{y}<extra></extra>",
         "legendgroup": "Silver",
         "marker": {
          "color": "silver",
          "pattern": {
           "shape": ""
          }
         },
         "name": "Silver",
         "offsetgroup": "Silver",
         "orientation": "v",
         "showlegend": true,
         "textposition": "auto",
         "type": "bar",
         "x": [
          "Etats Unis",
          "Chine",
          "Japon",
          "Grande Bretagne",
          "Russie",
          "Australie",
          "Pays-Bas",
          "France",
          "Italie",
          "Allemagne",
          "Canada",
          "Brésil",
          "Nouvelle-Zélande",
          "Cuba",
          "Hongrie",
          "Corée du Sud",
          "Pologne",
          "République Tchèque",
          "Kenya",
          "Norvège",
          "Jamaïque",
          "Espagne",
          "Suède",
          "Suisse",
          "Danemark",
          "Croatie",
          "Iran",
          "Serbie",
          "Belgique",
          "Slovénie",
          "Ouzbékistan",
          "Géorgie",
          "Taïwan",
          "Turquie",
          "Bulgarie",
          "Grèce",
          "Ouganda",
          "Equateur",
          "Irlande",
          "Israël",
          "Lettonie",
          "Qatar",
          "Bahamas",
          "Kosovo",
          "Ukraine",
          "Biélorussie",
          "Roumanie",
          "Venezuela",
          "Inde",
          "Hong-Kong",
          "Philippines",
          "Slovaquie",
          "Afrique du Sud",
          "Autriche",
          "Egypte",
          "Indonésie",
          "Ethiopie",
          "Portugal",
          "Tunisie",
          "Estonie",
          "Fidji",
          "Thaïlande",
          "Bermudes",
          "Maroc",
          "Porto Rico",
          "Colombie",
          "Azerbaïdjan",
          "République Dominicaine",
          "Arménie",
          "Kirghizistan",
          "Mongolie",
          "Argentine",
          "Saint-Marin",
          "Jordanie",
          "Malaisie",
          "Nigéria",
          "Arabie Saoudite",
          "Bahreïn",
          "Lituanie",
          "Macédoine du Nord",
          "Namibie",
          "Turkménistan",
          "Kazakhstan",
          "Mexique",
          "Finlande",
          "Botswana",
          "Burkina Faso",
          "CIO",
          "Côte d'Ivoire",
          "Ghana",
          "Grenade",
          "Moldavie",
          "Syrie",
          "Etats Unis",
          "Grande Bretagne",
          "Chine",
          "Russie",
          "Allemagne",
          "Japon",
          "France",
          "Corée du Sud",
          "Italie",
          "Australie",
          "Pays-Bas",
          "Hongrie",
          "Brésil",
          "Espagne",
          "Kenya",
          "Jamaïque",
          "Croatie",
          "Cuba",
          "Nouvelle-Zélande",
          "Canada",
          "Ouzbékistan",
          "Kazakhstan",
          "Colombie",
          "Suisse",
          "Iran",
          "Grèce",
          "Argentine",
          "Danemark",
          "Suède",
          "Afrique du Sud",
          "Ukraine",
          "Serbie",
          "Pologne",
          "Corée du Nord",
          "Belgique",
          "Thaïlande",
          "Slovaquie",
          "Géorgie",
          "Azerbaïdjan",
          "Biélorussie",
          "Turquie",
          "Arménie",
          "République Tchèque",
          "Ethiopie",
          "Slovénie",
          "Indonésie",
          "Roumanie",
          "Bahreïn",
          "Viêt Nam",
          "Taïwan",
          "Bahamas",
          "CIO",
          "Côte d'Ivoire",
          "Fidji",
          "Jordanie",
          "Kosovo",
          "Porto Rico",
          "Singapour",
          "Tadjikistan",
          "Malaisie",
          "Mexique",
          "Algérie",
          "Irlande",
          "Lituanie",
          "Bulgarie",
          "Venezuela",
          "Inde",
          "Mongolie",
          "Burundi",
          "Grenade",
          "Niger",
          "Philippines",
          "Qatar",
          "Norvège",
          "Egypte",
          "Tunisie",
          "Israël",
          "Autriche",
          "Emirats Arabes Unis",
          "Estonie",
          "Finlande",
          "Maroc",
          "Moldavie",
          "Nigéria",
          "Portugal",
          "République Dominicaine",
          "Trinité-et-Tobago",
          "Etats Unis",
          "Chine",
          "Grande Bretagne",
          "Russie",
          "Corée du Sud",
          "Allemagne",
          "France",
          "Italie",
          "Hongrie",
          "Australie",
          "Japon",
          "Pays-Bas",
          "Iran",
          "Nouvelle-Zélande",
          "Ukraine",
          "Cuba",
          "Espagne",
          "Jamaïque",
          "République Tchèque",
          "Corée du Nord",
          "Brésil",
          "Pologne",
          "Ethiopie",
          "Afrique du Sud",
          "Kazakhstan",
          "Croatie",
          "Canada",
          "Biélorussie",
          "Kenya",
          "Danemark",
          "Roumanie",
          "Azerbaïdjan",
          "Suisse",
          "Lituanie",
          "Norvège",
          "Tunisie",
          "Suède",
          "Colombie",
          "Mexique",
          "Géorgie",
          "Irlande",
          "Argentine",
          "Serbie",
          "Slovénie",
          "Trinité-et-Tobago",
          "Turquie",
          "République Dominicaine",
          "Ouzbékistan",
          "Lettonie",
          "Taïwan",
          "Algérie",
          "Bahamas",
          "Grenade",
          "Ouganda",
          "Venezuela",
          "Egypte",
          "Inde",
          "Mongolie",
          "Thaïlande",
          "Bulgarie",
          "Slovaquie",
          "Belgique",
          "Finlande",
          "Indonésie",
          "Arménie",
          "Estonie",
          "Malaisie",
          "Porto Rico",
          "Botswana",
          "Chypre",
          "Gabon",
          "Guatemala",
          "Monténégro",
          "Portugal",
          "Grèce",
          "Qatar",
          "Singapour",
          "Afghanistan",
          "Arabie Saoudite",
          "Bahreïn",
          "Cameroun",
          "Hong-Kong",
          "Maroc",
          "Tadjikistan",
          "Viêt Nam",
          "Chine",
          "Etats Unis",
          "Russie",
          "Grande Bretagne",
          "Corée du Sud",
          "Allemagne",
          "Australie",
          "Japon",
          "Italie",
          "France",
          "Pays-Bas",
          "Ukraine",
          "Kenya",
          "Espagne",
          "Jamaïque",
          "Pologne",
          "Géorgie",
          "Roumanie",
          "Ethiopie",
          "Mexique",
          "Canada",
          "Cuba",
          "Norvège",
          "Hongrie",
          "Brésil",
          "Biélorussie",
          "République Tchèque",
          "Nouvelle-Zélande",
          "Slovaquie",
          "Mongolie",
          "Thaïlande",
          "Kazakhstan",
          "Danemark",
          "Corée du Nord",
          "Suisse",
          "Argentine",
          "Iran",
          "Belgique",
          "Zimbabwe",
          "Turquie",
          "Slovénie",
          "République Dominicaine",
          "Azerbaïdjan",
          "Indonésie",
          "Taïwan",
          "Bulgarie",
          "Finlande",
          "Lettonie",
          "Estonie",
          "Portugal",
          "Inde",
          "Cameroun",
          "Panama",
          "Tunisie",
          "Suède",
          "Grèce",
          "Croatie",
          "Nigéria",
          "Lituanie",
          "Autriche",
          "Colombie",
          "Trinité-et-Tobago",
          "Arménie",
          "Ouzbékistan",
          "Irlande",
          "Serbie",
          "Algérie",
          "Bahamas",
          "Kirghizistan",
          "Maroc",
          "Tadjikistan",
          "Afrique du Sud",
          "Chili",
          "Equateur",
          "Islande",
          "Malaisie",
          "Samoa",
          "Singapour",
          "Soudan",
          "Viêt Nam",
          "Egypte",
          "Afghanistan",
          "Venezuela",
          "Ile Maurice",
          "Israël",
          "Moldavie",
          "Togo",
          "Etats Unis",
          "Chine",
          "Russie",
          "Australie",
          "Japon",
          "Allemagne",
          "France",
          "Italie",
          "Corée du Sud",
          "Grande Bretagne",
          "Cuba",
          "Hongrie",
          "Ukraine",
          "Roumanie",
          "Grèce",
          "Brésil",
          "Norvège",
          "Pays-Bas",
          "Suède",
          "Taïwan",
          "Espagne",
          "Canada",
          "Turquie",
          "Pologne",
          "Iran",
          "Nouvelle-Zélande",
          "Thaïlande",
          "Biélorussie",
          "Autriche",
          "Ethiopie",
          "Slovaquie",
          "Géorgie",
          "Bulgarie",
          "Jamaïque",
          "Maroc",
          "Danemark",
          "Argentine",
          "Ouzbékistan",
          "Chili",
          "Kazakhstan",
          "Kenya",
          "République Tchèque",
          "Afrique du Sud",
          "Croatie",
          "Lituanie",
          "Egypte",
          "Suisse",
          "Indonésie",
          "Zimbabwe",
          "Azerbaïdjan",
          "Belgique",
          "Bahamas",
          "Israël",
          "Cameroun",
          "Emirats Arabes Unis",
          "République Dominicaine",
          "Corée du Nord",
          "Lettonie",
          "Mexique",
          "Portugal",
          "Finlande",
          "Serbie",
          "Slovénie",
          "Estonie",
          "Hong-Kong",
          "Inde",
          "Paraguay",
          "Venezuela",
          "Nigéria",
          "Colombie",
          "Erythrée",
          "Mongolie",
          "Syrie",
          "Trinité-et-Tobago",
          "Etats Unis",
          "Russie",
          "Chine",
          "Australie",
          "Allemagne",
          "France",
          "Italie",
          "Pays-Bas",
          "Cuba",
          "Grande Bretagne",
          "Roumanie",
          "Corée du Sud",
          "Hongrie",
          "Pologne",
          "Japon",
          "Bulgarie",
          "Grèce",
          "Suède",
          "Norvège",
          "Ethiopie",
          "Ukraine",
          "Kazakhstan",
          "Biélorussie",
          "Canada",
          "Espagne",
          "Turquie",
          "Iran",
          "République Tchèque",
          "Danemark",
          "Kenya",
          "Finlande",
          "Autriche",
          "Lituanie",
          "Azerbaïdjan",
          "Bahamas",
          "Slovénie",
          "Suisse",
          "Indonésie",
          "Slovaquie",
          "Mexique",
          "Nigéria",
          "Algérie",
          "Ouzbékistan",
          "Lettonie",
          "Yougoslavie",
          "Nouvelle-Zélande",
          "Estonie",
          "Thaïlande",
          "Croatie",
          "Cameroun",
          "Colombie",
          "Mozambique",
          "Brésil",
          "Jamaïque",
          "Afrique du Sud",
          "Belgique",
          "Argentine",
          "Maroc",
          "Taïwan",
          "Corée du Nord",
          "Arabie Saoudite",
          "Moldavie",
          "Trinité-et-Tobago",
          "Irlande",
          "Sri Lanka",
          "Uruguay",
          "Viêt Nam",
          "Géorgie",
          "Costa Rica",
          "Portugal",
          "Arménie",
          "Barbade",
          "Chili",
          "Inde",
          "Islande",
          "Israël",
          "Kirghizistan",
          "Koweït",
          "Macédoine du Nord",
          "Qatar",
          "Etats Unis",
          "Russie",
          "Allemagne",
          "Chine",
          "France",
          "Italie",
          "Australie",
          "Cuba",
          "Ukraine",
          "Corée du Sud",
          "Pologne",
          "Hongrie",
          "Espagne",
          "Roumanie",
          "Pays-Bas",
          "Grèce",
          "République Tchèque",
          "Suisse",
          "Danemark",
          "Turquie",
          "Canada",
          "Bulgarie",
          "Japon",
          "Kazakhstan",
          "Brésil",
          "Nouvelle-Zélande",
          "Afrique du Sud",
          "Irlande",
          "Suède",
          "Norvège",
          "Belgique",
          "Nigéria",
          "Corée du Nord",
          "Algérie",
          "Ethiopie",
          "Grande Bretagne",
          "Biélorussie",
          "Kenya",
          "Jamaïque",
          "Finlande",
          "Indonésie",
          "Yougoslavie",
          "Iran",
          "Slovaquie",
          "Arménie",
          "Croatie",
          "Thaïlande",
          "Porto Rico",
          "Portugal",
          "Burundi",
          "Costa Rica",
          "Equateur",
          "Hong-Kong",
          "Syrie",
          "Argentine",
          "Namibie",
          "Slovénie",
          "Autriche",
          "Malaisie",
          "Moldavie",
          "Ouzbékistan",
          "Azerbaïdjan",
          "Bahamas",
          "Lettonie",
          "Philippines",
          "Taïwan",
          "Tonga",
          "Zambie",
          "Géorgie",
          "Maroc",
          "Trinité-et-Tobago",
          "Inde",
          "Israël",
          "Lituanie",
          "Mexique",
          "Mongolie",
          "Mozambique",
          "Ouganda",
          "Tunisie",
          "Communauté des États indépendants",
          "Etats Unis",
          "Allemagne",
          "Chine",
          "Cuba",
          "Espagne",
          "Corée du Sud",
          "Hongrie",
          "France",
          "Australie",
          "Canada",
          "Italie",
          "Grande Bretagne",
          "Roumanie",
          "Tchécoslovaquie",
          "Corée du Nord",
          "Japon",
          "Bulgarie",
          "Pologne",
          "Pays-Bas",
          "Kenya",
          "Norvège",
          "Turquie",
          "Indonésie",
          "Brésil",
          "Grèce",
          "Suède",
          "Nouvelle-Zélande",
          "Finlande",
          "Danemark",
          "Maroc",
          "Irlande",
          "Ethiopie",
          "Algérie",
          "Lituanie",
          "Porto Rico",
          "Suisse",
          "Jamaïque",
          "Nigéria",
          "Lettonie",
          "Afrique du Sud",
          "Autriche",
          "Namibie",
          "Belgique",
          "Croatie",
          "International",
          "Iran",
          "Israël",
          "Thaïlande",
          "Mexique",
          "Pérou",
          "Taïwan",
          "Slovénie",
          "Argentine",
          "Bahamas",
          "Colombie",
          "Communauté des États indépendants",
          "Estonie",
          "Ghana",
          "Malaisie",
          "Mongolie",
          "Pakistan",
          "Philippines",
          "Qatar",
          "Suriname",
          "U.R.S.S.",
          "Allemagne de l'Est",
          "Etats Unis",
          "Corée du Sud",
          "Hongrie",
          "Allemagne de l'Ouest",
          "Bulgarie",
          "Roumanie",
          "France",
          "Italie",
          "Chine",
          "Grande Bretagne",
          "Kenya",
          "Japon",
          "Australie",
          "Tchécoslovaquie",
          "Nouvelle-Zélande",
          "Canada",
          "Pologne",
          "Norvège",
          "Pays-Bas",
          "Danemark",
          "Communauté des États indépendants",
          "Allemagne",
          "Serbie",
          "Yougoslavie",
          "Brésil",
          "Espagne",
          "Finlande",
          "Turquie",
          "Maroc",
          "Autriche",
          "Portugal",
          "Suriname",
          "Suède",
          "Suisse",
          "Jamaïque",
          "Argentine",
          "Antilles Néerlandaises",
          "Chili",
          "Costa Rica",
          "Iles Vierges Américaines",
          "Indonésie",
          "Iran",
          "Pérou",
          "Sénégal",
          "Belgique",
          "Mexique",
          "Colombie",
          "Djibouti",
          "Grèce",
          "Mongolie",
          "Pakistan",
          "Philippines",
          "Thaïlande",
          "Etats Unis",
          "Roumanie",
          "Allemagne de l'Ouest",
          "Chine",
          "Italie",
          "Canada",
          "Japon",
          "Nouvelle-Zélande",
          "Yougoslavie",
          "Corée du Sud",
          "Grande Bretagne",
          "France",
          "Pays-Bas",
          "Australie",
          "Finlande",
          "Suède",
          "Maroc",
          "Brésil",
          "Mexique",
          "Espagne",
          "Belgique",
          "Autriche",
          "Kenya",
          "Portugal",
          "Pakistan",
          "U.R.S.S.",
          "Suisse",
          "Danemark",
          "Jamaïque",
          "Norvège",
          "Allemagne de l'Est",
          "Grèce",
          "Nigéria",
          "Porto Rico",
          "Colombie",
          "Côte d'Ivoire",
          "Egypte",
          "Irlande",
          "Pérou",
          "Syrie",
          "Thaïlande",
          "Turquie",
          "Venezuela",
          "Algérie",
          "Allemagne",
          "Cameroun",
          "Islande",
          "République Dominicaine",
          "Taïwan",
          "Zambie",
          "U.R.S.S.",
          "Allemagne de l'Est",
          "Bulgarie",
          "Cuba",
          "Italie",
          "Hongrie",
          "Roumanie",
          "France",
          "Grande Bretagne",
          "Pologne",
          "Suède",
          "Finlande",
          "Tchécoslovaquie",
          "Yougoslavie",
          "Australie",
          "Danemark",
          "Brésil",
          "Ethiopie",
          "Suisse",
          "Espagne",
          "Autriche",
          "Grèce",
          "Belgique",
          "Inde",
          "Zimbabwe",
          "Corée du Nord",
          "Mongolie",
          "Tanzanie",
          "Mexique",
          "Pays-Bas",
          "Irlande",
          "Allemagne",
          "Ouganda",
          "Venezuela",
          "Jamaïque",
          "Guyana",
          "Liban",
          "U.R.S.S.",
          "Allemagne de l'Est",
          "Etats Unis",
          "Allemagne de l'Ouest",
          "Japon",
          "Pologne",
          "Bulgarie",
          "Cuba",
          "Roumanie",
          "Hongrie",
          "Finlande",
          "Suède",
          "Grande Bretagne",
          "Italie",
          "France",
          "Yougoslavie",
          "Tchécoslovaquie",
          "Suisse",
          "Nouvelle-Zélande",
          "Corée du Sud",
          "Corée du Nord",
          "Jamaïque",
          "Norvège",
          "Danemark",
          "Mexique",
          "Trinité-et-Tobago",
          "Canada",
          "Belgique",
          "Pays-Bas",
          "Espagne",
          "Portugal",
          "Australie",
          "Iran",
          "Mongolie",
          "Venezuela",
          "Brésil",
          "Autriche",
          "Bermudes",
          "Pakistan",
          "Porto Rico",
          "Thaïlande",
          "U.R.S.S.",
          "Etats Unis",
          "Allemagne de l'Est",
          "Allemagne de l'Ouest",
          "Japon",
          "Australie",
          "Pologne",
          "Hongrie",
          "Bulgarie",
          "Italie",
          "Suède",
          "Grande Bretagne",
          "Roumanie",
          "Cuba",
          "Finlande",
          "Pays-Bas",
          "France",
          "Tchécoslovaquie",
          "Kenya",
          "Yougoslavie",
          "Norvège",
          "Corée du Nord",
          "Nouvelle-Zélande",
          "Ouganda",
          "Danemark",
          "Suisse",
          "Canada",
          "Iran",
          "Belgique",
          "Grèce",
          "Autriche",
          "Colombie",
          "Argentine",
          "Corée du Sud",
          "Liban",
          "Mexique",
          "Mongolie",
          "Pakistan",
          "Tunisie",
          "Turquie",
          "Allemagne",
          "Brésil",
          "Ethiopie",
          "Espagne",
          "Ghana",
          "Inde",
          "Jamaïque",
          "Moldavie",
          "Niger",
          "Nigéria",
          "Etats Unis",
          "U.R.S.S.",
          "Japon",
          "Hongrie",
          "Allemagne de l'Est",
          "France",
          "Tchécoslovaquie",
          "Allemagne de l'Ouest",
          "Australie",
          "Grande Bretagne",
          "Pologne",
          "Roumanie",
          "Italie",
          "Kenya",
          "Mexique",
          "Yougoslavie",
          "Pays-Bas",
          "Bulgarie",
          "Iran",
          "Suède",
          "Turquie",
          "Danemark",
          "Canada",
          "Finlande",
          "Ethiopie",
          "Norvège",
          "Nouvelle-Zélande",
          "Tunisie",
          "Pakistan",
          "Venezuela",
          "Cuba",
          "Autriche",
          "Suisse",
          "Mongolie",
          "Brésil",
          "Belgique",
          "Corée du Sud",
          "Ouganda",
          "Cameroun",
          "Jamaïque",
          "Argentine",
          "Grèce",
          "Inde",
          "Taïwan",
          "Etats Unis",
          "U.R.S.S.",
          "Japon",
          "Allemagne",
          "Italie",
          "Hongrie",
          "Pologne",
          "Australie",
          "Tchécoslovaquie",
          "Grande Bretagne",
          "Bulgarie",
          "Finlande",
          "Nouvelle-Zélande",
          "Roumanie",
          "Pays-Bas",
          "Turquie",
          "Suède",
          "Danemark",
          "Yougoslavie",
          "Belgique",
          "France",
          "Canada",
          "Suisse",
          "Bahamas",
          "Ethiopie",
          "Inde",
          "Corée du Sud",
          "Trinité-et-Tobago",
          "Tunisie",
          "Argentine",
          "Cuba",
          "Pakistan",
          "Philippines",
          "Iran",
          "Brésil",
          "Ghana",
          "Irlande",
          "Kenya",
          "Mexique",
          "Nigéria",
          "Uruguay",
          "U.R.S.S.",
          "Etats Unis",
          "Italie",
          "Allemagne",
          "Australie",
          "Turquie",
          "Hongrie",
          "Japon",
          "Pologne",
          "Tchécoslovaquie",
          "Roumanie",
          "Grande Bretagne",
          "Danemark",
          "Nouvelle-Zélande",
          "Bulgarie",
          "Suède",
          "Finlande",
          "Autriche",
          "Yougoslavie",
          "Pakistan",
          "Ethiopie",
          "Grèce",
          "Norvège",
          "Suisse",
          "France",
          "Belgique",
          "Iran",
          "Afrique du Sud",
          "Pays-Bas",
          "Argentine",
          "Egypte",
          "Canada",
          "Ghana",
          "Inde",
          "Maroc",
          "Portugal",
          "Singapour",
          "Taïwan",
          "Brésil",
          "Indes Occidentales",
          "Espagne",
          "Irak",
          "Mexique",
          "Venezuela",
          "U.R.S.S.",
          "Etats Unis",
          "Australie",
          "Hongrie",
          "Italie",
          "Suède",
          "Allemagne",
          "Grande Bretagne",
          "Roumanie",
          "Japon",
          "France",
          "Turquie",
          "Finlande",
          "Iran",
          "Canada",
          "Nouvelle-Zélande",
          "Pologne",
          "Bulgarie",
          "Danemark",
          "Irlande",
          "Norvège",
          "Mexique",
          "Brésil",
          "Inde",
          "Tchécoslovaquie",
          "Yougoslavie",
          "Chili",
          "Belgique",
          "Argentine",
          "Corée du Sud",
          "Islande",
          "Pakistan",
          "Afrique du Sud",
          "Autriche",
          "Bahamas",
          "Grèce",
          "Suisse",
          "Uruguay",
          "Etats Unis",
          "U.R.S.S.",
          "Hongrie",
          "Suède",
          "Italie",
          "Tchécoslovaquie",
          "France",
          "Finlande",
          "Australie",
          "Norvège",
          "Suisse",
          "Afrique du Sud",
          "Jamaïque",
          "Belgique",
          "Danemark",
          "Turquie",
          "Japon",
          "Grande Bretagne",
          "Argentine",
          "Pologne",
          "Canada",
          "Yougoslavie",
          "Roumanie",
          "Brésil",
          "Nouvelle-Zélande",
          "Inde",
          "Luxembourg",
          "Allemagne",
          "Pays-Bas",
          "Iran",
          "Chili",
          "Autriche",
          "Liban",
          "Espagne",
          "Irlande",
          "Mexique",
          "Corée du Sud",
          "Trinité-et-Tobago",
          "Uruguay",
          "Bulgarie",
          "Egypte",
          "Portugal",
          "Venezuela",
          "Etats Unis",
          "Suède",
          "France",
          "Hongrie",
          "Italie",
          "Finlande",
          "Turquie",
          "Tchécoslovaquie",
          "Suisse",
          "Danemark",
          "Pays-Bas",
          "Grande Bretagne",
          "Argentine",
          "Australie",
          "Belgique",
          "Egypte",
          "Mexique",
          "Afrique du Sud",
          "Norvège",
          "Jamaïque",
          "Autriche",
          "Inde",
          "Pérou",
          "Yougoslavie",
          "Canada",
          "Portugal",
          "Uruguay",
          "Cuba",
          "Espagne",
          "Sri Lanka",
          "Trinité-et-Tobago",
          "Corée du Sud",
          "Panama",
          "Brésil",
          "Iran",
          "Pologne",
          "Porto Rico",
          "Allemagne",
          "Etats Unis",
          "Hongrie",
          "Italie",
          "Finlande",
          "France",
          "Suède",
          "Japon",
          "Pays-Bas",
          "Grande Bretagne",
          "Autriche",
          "Tchécoslovaquie",
          "Argentine",
          "Estonie",
          "Egypte",
          "Suisse",
          "Canada",
          "Norvège",
          "Turquie",
          "Inde",
          "Nouvelle-Zélande",
          "Pologne",
          "Danemark",
          "Lettonie",
          "Afrique du Sud",
          "Roumanie",
          "Yougoslavie",
          "Mexique",
          "Belgique",
          "Australie",
          "Philippines",
          "Portugal",
          "Etats Unis",
          "Italie",
          "France",
          "Suède",
          "Japon",
          "Hongrie",
          "Finlande",
          "Grande Bretagne",
          "Allemagne",
          "Australie",
          "Argentine",
          "Canada",
          "Pays-Bas",
          "Pologne",
          "Afrique du Sud",
          "Irlande",
          "Tchécoslovaquie",
          "Autriche",
          "Inde",
          "Danemark",
          "Mexique",
          "Lettonie",
          "Nouvelle-Zélande",
          "Suisse",
          "Philippines",
          "Espagne",
          "Portugal",
          "Uruguay",
          "Etats Unis",
          "Allemagne",
          "Finlande",
          "Suède",
          "Italie",
          "Suisse",
          "France",
          "Pays-Bas",
          "Hongrie",
          "Canada",
          "Grande Bretagne",
          "Argentine",
          "Danemark",
          "Tchécoslovaquie",
          "Japon",
          "Estonie",
          "Egypte",
          "Autriche",
          "Australie",
          "Norvège",
          "Pologne",
          "Yougoslavie",
          "Afrique du Sud",
          "Espagne",
          "Inde",
          "Irlande",
          "Nouvelle-Zélande",
          "Uruguay",
          "Belgique",
          "Chili",
          "Haïti",
          "Philippines",
          "Portugal",
          "Etats Unis",
          "Finlande",
          "France",
          "Grande Bretagne",
          "Italie",
          "Suisse",
          "Norvège",
          "Suède",
          "Pays-Bas",
          "Belgique",
          "Australie",
          "Danemark",
          "Hongrie",
          "Yougoslavie",
          "Tchécoslovaquie",
          "Argentine",
          "Estonie",
          "Afrique du Sud",
          "Uruguay",
          "Autriche",
          "Canada",
          "Pologne",
          "Haïti",
          "Japon",
          "Nouvelle-Zélande",
          "Portugal",
          "Roumanie",
          "Etats Unis",
          "Suède",
          "Grande Bretagne",
          "Finlande",
          "Belgique",
          "Norvège",
          "Italie",
          "France",
          "Pays-Bas",
          "Danemark",
          "Afrique du Sud",
          "Canada",
          "Suisse",
          "Estonie",
          "Brésil",
          "Australie",
          "Espagne",
          "Japon",
          "Grèce",
          "Luxembourg",
          "Tchécoslovaquie",
          "Nouvelle-Zélande",
          "Etats Unis",
          "Suède",
          "Grande Bretagne",
          "Finlande",
          "France",
          "Allemagne",
          "Afrique du Sud",
          "Norvège",
          "Hongrie",
          "Canada",
          "Italie",
          "Australasie",
          "Belgique",
          "Danemark",
          "Grèce",
          "Russie",
          "Autriche",
          "Pays-Bas",
          "Nouvelle-Zélande",
          "Grande Bretagne",
          "Etats Unis",
          "Suède",
          "France",
          "Allemagne",
          "Hongrie",
          "Canada",
          "Norvège",
          "Italie",
          "Belgique",
          "Australasie",
          "Finlande",
          "Afrique du Sud",
          "Guyana",
          "Grèce",
          "Danemark",
          "Irlande",
          "Russie",
          "Bohême",
          "Pays-Bas",
          "Autriche",
          "France",
          "Etats Unis",
          "Grèce",
          "Grande Bretagne",
          "Italie",
          "Suisse",
          "Allemagne",
          "Norvège",
          "Autriche",
          "Suède",
          "Hongrie",
          "Belgique",
          "Danemark",
          "Finlande",
          "Canada",
          "Australie",
          "Pays-Bas",
          "Bohême",
          "Australasie",
          "Empire Ottoman",
          "Etats Unis",
          "Allemagne",
          "Cuba",
          "Canada",
          "Hongrie",
          "Grande Bretagne",
          "Grèce",
          "Suisse",
          "France",
          "Autriche",
          "France",
          "Etats Unis",
          "Grande Bretagne",
          "Suisse",
          "Belgique",
          "Allemagne",
          "Italie",
          "Australie",
          "Danemark",
          "Hongrie",
          "Pays-Bas",
          "Cuba",
          "International",
          "Canada",
          "Autriche",
          "Norvège",
          "Inde",
          "Bohême",
          "Mexique",
          "Suède",
          "Etats Unis",
          "Grèce",
          "Allemagne",
          "France",
          "Grande Bretagne",
          "Hongrie",
          "Autriche",
          "Australie",
          "Danemark",
          "Suisse"
         ],
         "xaxis": "x",
         "y": [
          41,
          32,
          12,
          21,
          28,
          7,
          12,
          12,
          10,
          10,
          6,
          6,
          6,
          3,
          7,
          4,
          5,
          5,
          4,
          2,
          1,
          8,
          6,
          4,
          4,
          3,
          2,
          1,
          1,
          1,
          0,
          5,
          4,
          2,
          1,
          1,
          1,
          1,
          0,
          0,
          0,
          0,
          0,
          0,
          6,
          3,
          3,
          3,
          2,
          2,
          2,
          2,
          2,
          1,
          1,
          1,
          1,
          1,
          1,
          0,
          0,
          0,
          0,
          0,
          0,
          4,
          3,
          3,
          2,
          2,
          1,
          1,
          1,
          1,
          1,
          1,
          1,
          1,
          1,
          1,
          1,
          1,
          0,
          0,
          0,
          0,
          0,
          0,
          0,
          0,
          0,
          0,
          0,
          37,
          23,
          18,
          17,
          10,
          8,
          18,
          3,
          12,
          11,
          7,
          3,
          6,
          4,
          6,
          3,
          3,
          2,
          9,
          3,
          2,
          5,
          2,
          2,
          1,
          1,
          1,
          6,
          6,
          6,
          5,
          4,
          3,
          3,
          2,
          2,
          2,
          1,
          7,
          4,
          3,
          3,
          2,
          2,
          2,
          2,
          1,
          1,
          1,
          0,
          0,
          0,
          0,
          0,
          0,
          0,
          0,
          0,
          0,
          4,
          3,
          2,
          2,
          1,
          1,
          1,
          1,
          1,
          1,
          1,
          1,
          1,
          1,
          0,
          0,
          0,
          0,
          0,
          0,
          0,
          0,
          0,
          0,
          0,
          0,
          0,
          0,
          28,
          27,
          17,
          19,
          9,
          20,
          11,
          9,
          4,
          16,
          14,
          6,
          5,
          2,
          4,
          3,
          10,
          5,
          3,
          0,
          5,
          2,
          2,
          2,
          1,
          1,
          5,
          5,
          4,
          4,
          4,
          2,
          2,
          1,
          1,
          0,
          4,
          3,
          3,
          2,
          1,
          1,
          1,
          1,
          1,
          1,
          1,
          0,
          0,
          0,
          0,
          0,
          0,
          0,
          0,
          3,
          2,
          2,
          2,
          2,
          1,
          1,
          1,
          1,
          1,
          1,
          1,
          1,
          1,
          1,
          1,
          1,
          1,
          1,
          0,
          0,
          0,
          0,
          0,
          0,
          0,
          0,
          0,
          0,
          0,
          22,
          39,
          15,
          13,
          13,
          10,
          15,
          6,
          10,
          18,
          5,
          3,
          4,
          11,
          4,
          5,
          1,
          1,
          1,
          0,
          10,
          9,
          6,
          5,
          4,
          3,
          3,
          2,
          2,
          2,
          3,
          2,
          2,
          2,
          1,
          0,
          0,
          0,
          3,
          2,
          2,
          2,
          1,
          1,
          1,
          1,
          1,
          1,
          1,
          1,
          0,
          0,
          0,
          0,
          4,
          3,
          2,
          2,
          2,
          2,
          2,
          2,
          1,
          1,
          1,
          1,
          1,
          1,
          1,
          1,
          1,
          1,
          1,
          1,
          1,
          1,
          1,
          1,
          1,
          1,
          0,
          0,
          0,
          0,
          0,
          0,
          0,
          40,
          17,
          27,
          16,
          9,
          16,
          9,
          11,
          12,
          9,
          8,
          6,
          5,
          5,
          8,
          2,
          0,
          9,
          2,
          2,
          11,
          6,
          4,
          2,
          2,
          2,
          1,
          5,
          4,
          3,
          2,
          2,
          1,
          1,
          1,
          0,
          0,
          0,
          0,
          4,
          4,
          3,
          3,
          2,
          2,
          1,
          1,
          1,
          1,
          0,
          0,
          0,
          0,
          0,
          0,
          0,
          4,
          4,
          3,
          2,
          2,
          2,
          1,
          1,
          1,
          1,
          1,
          0,
          0,
          0,
          0,
          0,
          0,
          0,
          24,
          27,
          16,
          25,
          17,
          14,
          8,
          9,
          11,
          10,
          6,
          10,
          6,
          5,
          8,
          6,
          6,
          6,
          3,
          1,
          10,
          4,
          3,
          3,
          3,
          0,
          0,
          3,
          3,
          2,
          1,
          1,
          0,
          0,
          0,
          0,
          6,
          3,
          3,
          2,
          2,
          1,
          1,
          1,
          1,
          0,
          0,
          0,
          0,
          0,
          0,
          0,
          6,
          6,
          2,
          2,
          2,
          1,
          1,
          1,
          1,
          1,
          1,
          1,
          1,
          1,
          1,
          0,
          0,
          0,
          0,
          0,
          0,
          0,
          0,
          0,
          0,
          0,
          0,
          0,
          33,
          21,
          18,
          21,
          8,
          10,
          9,
          7,
          2,
          15,
          5,
          4,
          6,
          7,
          5,
          4,
          3,
          3,
          1,
          1,
          11,
          7,
          6,
          4,
          3,
          2,
          1,
          0,
          4,
          2,
          2,
          1,
          1,
          0,
          0,
          8,
          6,
          4,
          3,
          2,
          1,
          1,
          1,
          1,
          1,
          1,
          0,
          0,
          0,
          0,
          0,
          0,
          0,
          0,
          2,
          2,
          2,
          1,
          1,
          1,
          1,
          1,
          1,
          1,
          1,
          1,
          1,
          1,
          0,
          0,
          0,
          0,
          0,
          0,
          0,
          0,
          0,
          0,
          0,
          38,
          34,
          20,
          21,
          6,
          7,
          5,
          12,
          5,
          9,
          4,
          6,
          3,
          6,
          2,
          0,
          8,
          7,
          6,
          6,
          4,
          4,
          2,
          2,
          1,
          0,
          7,
          4,
          2,
          1,
          1,
          1,
          0,
          0,
          0,
          0,
          0,
          3,
          3,
          2,
          2,
          2,
          2,
          1,
          1,
          1,
          1,
          1,
          1,
          1,
          1,
          1,
          0,
          0,
          0,
          0,
          0,
          0,
          0,
          0,
          0,
          0,
          0,
          0,
          0,
          32,
          34,
          31,
          10,
          6,
          14,
          12,
          11,
          4,
          4,
          11,
          10,
          2,
          3,
          6,
          3,
          2,
          2,
          5,
          3,
          2,
          1,
          0,
          0,
          0,
          4,
          2,
          1,
          1,
          1,
          0,
          0,
          0,
          0,
          4,
          2,
          2,
          1,
          1,
          1,
          1,
          1,
          1,
          1,
          1,
          1,
          0,
          0,
          0,
          0,
          0,
          0,
          0,
          0,
          0,
          62,
          16,
          19,
          8,
          6,
          18,
          8,
          1,
          4,
          6,
          11,
          7,
          2,
          8,
          2,
          10,
          0,
          5,
          3,
          2,
          1,
          1,
          0,
          0,
          0,
          0,
          4,
          3,
          1,
          1,
          1,
          1,
          1,
          1,
          1,
          1,
          1,
          1,
          1,
          1,
          1,
          0,
          0,
          0,
          0,
          0,
          0,
          0,
          0,
          0,
          68,
          37,
          16,
          7,
          3,
          10,
          6,
          5,
          7,
          14,
          3,
          1,
          3,
          3,
          2,
          1,
          0,
          0,
          0,
          3,
          2,
          0,
          0,
          0,
          0,
          3,
          2,
          2,
          1,
          1,
          1,
          1,
          1,
          1,
          0,
          0,
          0,
          41,
          25,
          36,
          12,
          5,
          6,
          9,
          4,
          9,
          5,
          2,
          1,
          5,
          7,
          3,
          3,
          2,
          1,
          1,
          1,
          1,
          1,
          1,
          0,
          0,
          0,
          5,
          3,
          2,
          2,
          2,
          1,
          1,
          1,
          1,
          0,
          0,
          0,
          0,
          0,
          0,
          27,
          31,
          23,
          11,
          8,
          7,
          5,
          13,
          10,
          3,
          6,
          5,
          6,
          1,
          1,
          1,
          4,
          4,
          3,
          1,
          1,
          1,
          1,
          1,
          0,
          3,
          2,
          2,
          2,
          2,
          1,
          1,
          1,
          1,
          1,
          1,
          1,
          1,
          1,
          1,
          0,
          0,
          0,
          0,
          0,
          0,
          0,
          0,
          0,
          0,
          28,
          32,
          7,
          10,
          9,
          3,
          2,
          11,
          7,
          5,
          2,
          6,
          4,
          4,
          3,
          3,
          3,
          4,
          1,
          1,
          0,
          4,
          3,
          2,
          1,
          1,
          0,
          0,
          0,
          0,
          4,
          2,
          1,
          1,
          1,
          1,
          1,
          1,
          1,
          1,
          0,
          0,
          0,
          0,
          26,
          31,
          5,
          22,
          10,
          7,
          6,
          2,
          6,
          13,
          5,
          0,
          0,
          4,
          4,
          3,
          2,
          1,
          1,
          0,
          7,
          2,
          2,
          0,
          0,
          0,
          2,
          1,
          1,
          1,
          1,
          1,
          1,
          0,
          0,
          0,
          0,
          0,
          0,
          0,
          0,
          29,
          21,
          10,
          19,
          8,
          2,
          8,
          7,
          6,
          2,
          1,
          6,
          3,
          0,
          3,
          2,
          1,
          1,
          1,
          0,
          0,
          0,
          0,
          3,
          2,
          2,
          1,
          1,
          1,
          1,
          1,
          1,
          1,
          1,
          1,
          1,
          1,
          1,
          0,
          0,
          0,
          0,
          0,
          0,
          29,
          25,
          8,
          10,
          8,
          5,
          13,
          7,
          3,
          10,
          4,
          2,
          1,
          2,
          1,
          0,
          4,
          3,
          2,
          1,
          0,
          0,
          0,
          0,
          4,
          3,
          2,
          2,
          1,
          1,
          1,
          1,
          0,
          0,
          0,
          0,
          0,
          0,
          19,
          30,
          10,
          13,
          9,
          3,
          6,
          3,
          2,
          2,
          6,
          4,
          3,
          2,
          1,
          0,
          6,
          2,
          2,
          2,
          2,
          2,
          1,
          0,
          0,
          0,
          0,
          7,
          5,
          3,
          2,
          1,
          1,
          1,
          1,
          1,
          0,
          0,
          0,
          0,
          0,
          0,
          0,
          27,
          11,
          6,
          5,
          11,
          7,
          4,
          2,
          10,
          7,
          2,
          14,
          3,
          6,
          2,
          2,
          1,
          1,
          3,
          2,
          0,
          0,
          0,
          2,
          1,
          1,
          1,
          1,
          1,
          1,
          1,
          0,
          0,
          0,
          0,
          0,
          0,
          26,
          20,
          1,
          9,
          6,
          6,
          5,
          4,
          4,
          7,
          6,
          5,
          2,
          2,
          1,
          9,
          3,
          3,
          0,
          0,
          0,
          3,
          2,
          1,
          1,
          1,
          1,
          0,
          0,
          0,
          0,
          0,
          32,
          11,
          6,
          5,
          7,
          4,
          8,
          7,
          12,
          1,
          1,
          5,
          5,
          1,
          0,
          0,
          2,
          1,
          0,
          3,
          2,
          1,
          1,
          1,
          0,
          0,
          0,
          0,
          18,
          7,
          8,
          6,
          5,
          4,
          10,
          9,
          5,
          4,
          10,
          3,
          1,
          5,
          2,
          1,
          1,
          0,
          2,
          2,
          1,
          1,
          0,
          0,
          0,
          0,
          0,
          0,
          1,
          1,
          1,
          0,
          0,
          27,
          13,
          15,
          13,
          3,
          8,
          2,
          13,
          1,
          7,
          1,
          5,
          3,
          0,
          4,
          3,
          1,
          1,
          0,
          3,
          3,
          1,
          0,
          0,
          0,
          0,
          0,
          27,
          21,
          15,
          10,
          11,
          9,
          5,
          19,
          2,
          9,
          4,
          3,
          2,
          2,
          1,
          2,
          2,
          2,
          1,
          1,
          0,
          0,
          18,
          24,
          15,
          8,
          4,
          13,
          2,
          2,
          2,
          2,
          1,
          2,
          1,
          6,
          0,
          2,
          2,
          0,
          0,
          44,
          12,
          6,
          5,
          5,
          4,
          3,
          3,
          2,
          5,
          2,
          1,
          1,
          0,
          3,
          2,
          2,
          2,
          0,
          0,
          0,
          9,
          6,
          14,
          10,
          6,
          6,
          6,
          2,
          3,
          5,
          5,
          2,
          2,
          0,
          1,
          1,
          1,
          0,
          0,
          0,
          82,
          4,
          0,
          1,
          1,
          1,
          0,
          0,
          1,
          0,
          38,
          15,
          5,
          2,
          5,
          2,
          2,
          0,
          3,
          2,
          1,
          1,
          1,
          0,
          3,
          2,
          2,
          1,
          0,
          0,
          7,
          18,
          5,
          4,
          3,
          1,
          1,
          0,
          2,
          2
         ],
         "yaxis": "y"
        },
        {
         "alignmentgroup": "True",
         "hovertemplate": "Medal Type=Bronze<br>Country=%{x}<br>Number of Medals=%{y}<extra></extra>",
         "legendgroup": "Bronze",
         "marker": {
          "color": "brown",
          "pattern": {
           "shape": ""
          }
         },
         "name": "Bronze",
         "offsetgroup": "Bronze",
         "orientation": "v",
         "showlegend": true,
         "textposition": "auto",
         "type": "bar",
         "x": [
          "Etats Unis",
          "Chine",
          "Japon",
          "Grande Bretagne",
          "Russie",
          "Australie",
          "Pays-Bas",
          "France",
          "Italie",
          "Allemagne",
          "Canada",
          "Brésil",
          "Nouvelle-Zélande",
          "Cuba",
          "Hongrie",
          "Corée du Sud",
          "Pologne",
          "République Tchèque",
          "Kenya",
          "Norvège",
          "Jamaïque",
          "Espagne",
          "Suède",
          "Suisse",
          "Danemark",
          "Croatie",
          "Iran",
          "Serbie",
          "Belgique",
          "Slovénie",
          "Ouzbékistan",
          "Géorgie",
          "Taïwan",
          "Turquie",
          "Bulgarie",
          "Grèce",
          "Ouganda",
          "Equateur",
          "Irlande",
          "Israël",
          "Lettonie",
          "Qatar",
          "Bahamas",
          "Kosovo",
          "Ukraine",
          "Biélorussie",
          "Roumanie",
          "Venezuela",
          "Inde",
          "Hong-Kong",
          "Philippines",
          "Slovaquie",
          "Afrique du Sud",
          "Autriche",
          "Egypte",
          "Indonésie",
          "Ethiopie",
          "Portugal",
          "Tunisie",
          "Estonie",
          "Fidji",
          "Thaïlande",
          "Bermudes",
          "Maroc",
          "Porto Rico",
          "Colombie",
          "Azerbaïdjan",
          "République Dominicaine",
          "Arménie",
          "Kirghizistan",
          "Mongolie",
          "Argentine",
          "Saint-Marin",
          "Jordanie",
          "Malaisie",
          "Nigéria",
          "Arabie Saoudite",
          "Bahreïn",
          "Lituanie",
          "Macédoine du Nord",
          "Namibie",
          "Turkménistan",
          "Kazakhstan",
          "Mexique",
          "Finlande",
          "Botswana",
          "Burkina Faso",
          "CIO",
          "Côte d'Ivoire",
          "Ghana",
          "Grenade",
          "Moldavie",
          "Syrie",
          "Etats Unis",
          "Grande Bretagne",
          "Chine",
          "Russie",
          "Allemagne",
          "Japon",
          "France",
          "Corée du Sud",
          "Italie",
          "Australie",
          "Pays-Bas",
          "Hongrie",
          "Brésil",
          "Espagne",
          "Kenya",
          "Jamaïque",
          "Croatie",
          "Cuba",
          "Nouvelle-Zélande",
          "Canada",
          "Ouzbékistan",
          "Kazakhstan",
          "Colombie",
          "Suisse",
          "Iran",
          "Grèce",
          "Argentine",
          "Danemark",
          "Suède",
          "Afrique du Sud",
          "Ukraine",
          "Serbie",
          "Pologne",
          "Corée du Nord",
          "Belgique",
          "Thaïlande",
          "Slovaquie",
          "Géorgie",
          "Azerbaïdjan",
          "Biélorussie",
          "Turquie",
          "Arménie",
          "République Tchèque",
          "Ethiopie",
          "Slovénie",
          "Indonésie",
          "Roumanie",
          "Bahreïn",
          "Viêt Nam",
          "Taïwan",
          "Bahamas",
          "CIO",
          "Côte d'Ivoire",
          "Fidji",
          "Jordanie",
          "Kosovo",
          "Porto Rico",
          "Singapour",
          "Tadjikistan",
          "Malaisie",
          "Mexique",
          "Algérie",
          "Irlande",
          "Lituanie",
          "Bulgarie",
          "Venezuela",
          "Inde",
          "Mongolie",
          "Burundi",
          "Grenade",
          "Niger",
          "Philippines",
          "Qatar",
          "Norvège",
          "Egypte",
          "Tunisie",
          "Israël",
          "Autriche",
          "Emirats Arabes Unis",
          "Estonie",
          "Finlande",
          "Maroc",
          "Moldavie",
          "Nigéria",
          "Portugal",
          "République Dominicaine",
          "Trinité-et-Tobago",
          "Etats Unis",
          "Chine",
          "Grande Bretagne",
          "Russie",
          "Corée du Sud",
          "Allemagne",
          "France",
          "Italie",
          "Hongrie",
          "Australie",
          "Japon",
          "Pays-Bas",
          "Iran",
          "Nouvelle-Zélande",
          "Ukraine",
          "Cuba",
          "Espagne",
          "Jamaïque",
          "République Tchèque",
          "Corée du Nord",
          "Brésil",
          "Pologne",
          "Ethiopie",
          "Afrique du Sud",
          "Kazakhstan",
          "Croatie",
          "Canada",
          "Biélorussie",
          "Kenya",
          "Danemark",
          "Roumanie",
          "Azerbaïdjan",
          "Suisse",
          "Lituanie",
          "Norvège",
          "Tunisie",
          "Suède",
          "Colombie",
          "Mexique",
          "Géorgie",
          "Irlande",
          "Argentine",
          "Serbie",
          "Slovénie",
          "Trinité-et-Tobago",
          "Turquie",
          "République Dominicaine",
          "Ouzbékistan",
          "Lettonie",
          "Taïwan",
          "Algérie",
          "Bahamas",
          "Grenade",
          "Ouganda",
          "Venezuela",
          "Egypte",
          "Inde",
          "Mongolie",
          "Thaïlande",
          "Bulgarie",
          "Slovaquie",
          "Belgique",
          "Finlande",
          "Indonésie",
          "Arménie",
          "Estonie",
          "Malaisie",
          "Porto Rico",
          "Botswana",
          "Chypre",
          "Gabon",
          "Guatemala",
          "Monténégro",
          "Portugal",
          "Grèce",
          "Qatar",
          "Singapour",
          "Afghanistan",
          "Arabie Saoudite",
          "Bahreïn",
          "Cameroun",
          "Hong-Kong",
          "Maroc",
          "Tadjikistan",
          "Viêt Nam",
          "Chine",
          "Etats Unis",
          "Russie",
          "Grande Bretagne",
          "Corée du Sud",
          "Allemagne",
          "Australie",
          "Japon",
          "Italie",
          "France",
          "Pays-Bas",
          "Ukraine",
          "Kenya",
          "Espagne",
          "Jamaïque",
          "Pologne",
          "Géorgie",
          "Roumanie",
          "Ethiopie",
          "Mexique",
          "Canada",
          "Cuba",
          "Norvège",
          "Hongrie",
          "Brésil",
          "Biélorussie",
          "République Tchèque",
          "Nouvelle-Zélande",
          "Slovaquie",
          "Mongolie",
          "Thaïlande",
          "Kazakhstan",
          "Danemark",
          "Corée du Nord",
          "Suisse",
          "Argentine",
          "Iran",
          "Belgique",
          "Zimbabwe",
          "Turquie",
          "Slovénie",
          "République Dominicaine",
          "Azerbaïdjan",
          "Indonésie",
          "Taïwan",
          "Bulgarie",
          "Finlande",
          "Lettonie",
          "Estonie",
          "Portugal",
          "Inde",
          "Cameroun",
          "Panama",
          "Tunisie",
          "Suède",
          "Grèce",
          "Croatie",
          "Nigéria",
          "Lituanie",
          "Autriche",
          "Colombie",
          "Trinité-et-Tobago",
          "Arménie",
          "Ouzbékistan",
          "Irlande",
          "Serbie",
          "Algérie",
          "Bahamas",
          "Kirghizistan",
          "Maroc",
          "Tadjikistan",
          "Afrique du Sud",
          "Chili",
          "Equateur",
          "Islande",
          "Malaisie",
          "Samoa",
          "Singapour",
          "Soudan",
          "Viêt Nam",
          "Egypte",
          "Afghanistan",
          "Venezuela",
          "Ile Maurice",
          "Israël",
          "Moldavie",
          "Togo",
          "Etats Unis",
          "Chine",
          "Russie",
          "Australie",
          "Japon",
          "Allemagne",
          "France",
          "Italie",
          "Corée du Sud",
          "Grande Bretagne",
          "Cuba",
          "Hongrie",
          "Ukraine",
          "Roumanie",
          "Grèce",
          "Brésil",
          "Norvège",
          "Pays-Bas",
          "Suède",
          "Taïwan",
          "Espagne",
          "Canada",
          "Turquie",
          "Pologne",
          "Iran",
          "Nouvelle-Zélande",
          "Thaïlande",
          "Biélorussie",
          "Autriche",
          "Ethiopie",
          "Slovaquie",
          "Géorgie",
          "Bulgarie",
          "Jamaïque",
          "Maroc",
          "Danemark",
          "Argentine",
          "Ouzbékistan",
          "Chili",
          "Kazakhstan",
          "Kenya",
          "République Tchèque",
          "Afrique du Sud",
          "Croatie",
          "Lituanie",
          "Egypte",
          "Suisse",
          "Indonésie",
          "Zimbabwe",
          "Azerbaïdjan",
          "Belgique",
          "Bahamas",
          "Israël",
          "Cameroun",
          "Emirats Arabes Unis",
          "République Dominicaine",
          "Corée du Nord",
          "Lettonie",
          "Mexique",
          "Portugal",
          "Finlande",
          "Serbie",
          "Slovénie",
          "Estonie",
          "Hong-Kong",
          "Inde",
          "Paraguay",
          "Venezuela",
          "Nigéria",
          "Colombie",
          "Erythrée",
          "Mongolie",
          "Syrie",
          "Trinité-et-Tobago",
          "Etats Unis",
          "Russie",
          "Chine",
          "Australie",
          "Allemagne",
          "France",
          "Italie",
          "Pays-Bas",
          "Cuba",
          "Grande Bretagne",
          "Roumanie",
          "Corée du Sud",
          "Hongrie",
          "Pologne",
          "Japon",
          "Bulgarie",
          "Grèce",
          "Suède",
          "Norvège",
          "Ethiopie",
          "Ukraine",
          "Kazakhstan",
          "Biélorussie",
          "Canada",
          "Espagne",
          "Turquie",
          "Iran",
          "République Tchèque",
          "Danemark",
          "Kenya",
          "Finlande",
          "Autriche",
          "Lituanie",
          "Azerbaïdjan",
          "Bahamas",
          "Slovénie",
          "Suisse",
          "Indonésie",
          "Slovaquie",
          "Mexique",
          "Nigéria",
          "Algérie",
          "Ouzbékistan",
          "Lettonie",
          "Yougoslavie",
          "Nouvelle-Zélande",
          "Estonie",
          "Thaïlande",
          "Croatie",
          "Cameroun",
          "Colombie",
          "Mozambique",
          "Brésil",
          "Jamaïque",
          "Afrique du Sud",
          "Belgique",
          "Argentine",
          "Maroc",
          "Taïwan",
          "Corée du Nord",
          "Arabie Saoudite",
          "Moldavie",
          "Trinité-et-Tobago",
          "Irlande",
          "Sri Lanka",
          "Uruguay",
          "Viêt Nam",
          "Géorgie",
          "Costa Rica",
          "Portugal",
          "Arménie",
          "Barbade",
          "Chili",
          "Inde",
          "Islande",
          "Israël",
          "Kirghizistan",
          "Koweït",
          "Macédoine du Nord",
          "Qatar",
          "Etats Unis",
          "Russie",
          "Allemagne",
          "Chine",
          "France",
          "Italie",
          "Australie",
          "Cuba",
          "Ukraine",
          "Corée du Sud",
          "Pologne",
          "Hongrie",
          "Espagne",
          "Roumanie",
          "Pays-Bas",
          "Grèce",
          "République Tchèque",
          "Suisse",
          "Danemark",
          "Turquie",
          "Canada",
          "Bulgarie",
          "Japon",
          "Kazakhstan",
          "Brésil",
          "Nouvelle-Zélande",
          "Afrique du Sud",
          "Irlande",
          "Suède",
          "Norvège",
          "Belgique",
          "Nigéria",
          "Corée du Nord",
          "Algérie",
          "Ethiopie",
          "Grande Bretagne",
          "Biélorussie",
          "Kenya",
          "Jamaïque",
          "Finlande",
          "Indonésie",
          "Yougoslavie",
          "Iran",
          "Slovaquie",
          "Arménie",
          "Croatie",
          "Thaïlande",
          "Porto Rico",
          "Portugal",
          "Burundi",
          "Costa Rica",
          "Equateur",
          "Hong-Kong",
          "Syrie",
          "Argentine",
          "Namibie",
          "Slovénie",
          "Autriche",
          "Malaisie",
          "Moldavie",
          "Ouzbékistan",
          "Azerbaïdjan",
          "Bahamas",
          "Lettonie",
          "Philippines",
          "Taïwan",
          "Tonga",
          "Zambie",
          "Géorgie",
          "Maroc",
          "Trinité-et-Tobago",
          "Inde",
          "Israël",
          "Lituanie",
          "Mexique",
          "Mongolie",
          "Mozambique",
          "Ouganda",
          "Tunisie",
          "Communauté des États indépendants",
          "Etats Unis",
          "Allemagne",
          "Chine",
          "Cuba",
          "Espagne",
          "Corée du Sud",
          "Hongrie",
          "France",
          "Australie",
          "Canada",
          "Italie",
          "Grande Bretagne",
          "Roumanie",
          "Tchécoslovaquie",
          "Corée du Nord",
          "Japon",
          "Bulgarie",
          "Pologne",
          "Pays-Bas",
          "Kenya",
          "Norvège",
          "Turquie",
          "Indonésie",
          "Brésil",
          "Grèce",
          "Suède",
          "Nouvelle-Zélande",
          "Finlande",
          "Danemark",
          "Maroc",
          "Irlande",
          "Ethiopie",
          "Algérie",
          "Lituanie",
          "Porto Rico",
          "Suisse",
          "Jamaïque",
          "Nigéria",
          "Lettonie",
          "Afrique du Sud",
          "Autriche",
          "Namibie",
          "Belgique",
          "Croatie",
          "International",
          "Iran",
          "Israël",
          "Thaïlande",
          "Mexique",
          "Pérou",
          "Taïwan",
          "Slovénie",
          "Argentine",
          "Bahamas",
          "Colombie",
          "Communauté des États indépendants",
          "Estonie",
          "Ghana",
          "Malaisie",
          "Mongolie",
          "Pakistan",
          "Philippines",
          "Qatar",
          "Suriname",
          "U.R.S.S.",
          "Allemagne de l'Est",
          "Etats Unis",
          "Corée du Sud",
          "Hongrie",
          "Allemagne de l'Ouest",
          "Bulgarie",
          "Roumanie",
          "France",
          "Italie",
          "Chine",
          "Grande Bretagne",
          "Kenya",
          "Japon",
          "Australie",
          "Tchécoslovaquie",
          "Nouvelle-Zélande",
          "Canada",
          "Pologne",
          "Norvège",
          "Pays-Bas",
          "Danemark",
          "Communauté des États indépendants",
          "Allemagne",
          "Serbie",
          "Yougoslavie",
          "Brésil",
          "Espagne",
          "Finlande",
          "Turquie",
          "Maroc",
          "Autriche",
          "Portugal",
          "Suriname",
          "Suède",
          "Suisse",
          "Jamaïque",
          "Argentine",
          "Antilles Néerlandaises",
          "Chili",
          "Costa Rica",
          "Iles Vierges Américaines",
          "Indonésie",
          "Iran",
          "Pérou",
          "Sénégal",
          "Belgique",
          "Mexique",
          "Colombie",
          "Djibouti",
          "Grèce",
          "Mongolie",
          "Pakistan",
          "Philippines",
          "Thaïlande",
          "Etats Unis",
          "Roumanie",
          "Allemagne de l'Ouest",
          "Chine",
          "Italie",
          "Canada",
          "Japon",
          "Nouvelle-Zélande",
          "Yougoslavie",
          "Corée du Sud",
          "Grande Bretagne",
          "France",
          "Pays-Bas",
          "Australie",
          "Finlande",
          "Suède",
          "Maroc",
          "Brésil",
          "Mexique",
          "Espagne",
          "Belgique",
          "Autriche",
          "Kenya",
          "Portugal",
          "Pakistan",
          "U.R.S.S.",
          "Suisse",
          "Danemark",
          "Jamaïque",
          "Norvège",
          "Allemagne de l'Est",
          "Grèce",
          "Nigéria",
          "Porto Rico",
          "Colombie",
          "Côte d'Ivoire",
          "Egypte",
          "Irlande",
          "Pérou",
          "Syrie",
          "Thaïlande",
          "Turquie",
          "Venezuela",
          "Algérie",
          "Allemagne",
          "Cameroun",
          "Islande",
          "République Dominicaine",
          "Taïwan",
          "Zambie",
          "U.R.S.S.",
          "Allemagne de l'Est",
          "Bulgarie",
          "Cuba",
          "Italie",
          "Hongrie",
          "Roumanie",
          "France",
          "Grande Bretagne",
          "Pologne",
          "Suède",
          "Finlande",
          "Tchécoslovaquie",
          "Yougoslavie",
          "Australie",
          "Danemark",
          "Brésil",
          "Ethiopie",
          "Suisse",
          "Espagne",
          "Autriche",
          "Grèce",
          "Belgique",
          "Inde",
          "Zimbabwe",
          "Corée du Nord",
          "Mongolie",
          "Tanzanie",
          "Mexique",
          "Pays-Bas",
          "Irlande",
          "Allemagne",
          "Ouganda",
          "Venezuela",
          "Jamaïque",
          "Guyana",
          "Liban",
          "U.R.S.S.",
          "Allemagne de l'Est",
          "Etats Unis",
          "Allemagne de l'Ouest",
          "Japon",
          "Pologne",
          "Bulgarie",
          "Cuba",
          "Roumanie",
          "Hongrie",
          "Finlande",
          "Suède",
          "Grande Bretagne",
          "Italie",
          "France",
          "Yougoslavie",
          "Tchécoslovaquie",
          "Suisse",
          "Nouvelle-Zélande",
          "Corée du Sud",
          "Corée du Nord",
          "Jamaïque",
          "Norvège",
          "Danemark",
          "Mexique",
          "Trinité-et-Tobago",
          "Canada",
          "Belgique",
          "Pays-Bas",
          "Espagne",
          "Portugal",
          "Australie",
          "Iran",
          "Mongolie",
          "Venezuela",
          "Brésil",
          "Autriche",
          "Bermudes",
          "Pakistan",
          "Porto Rico",
          "Thaïlande",
          "U.R.S.S.",
          "Etats Unis",
          "Allemagne de l'Est",
          "Allemagne de l'Ouest",
          "Japon",
          "Australie",
          "Pologne",
          "Hongrie",
          "Bulgarie",
          "Italie",
          "Suède",
          "Grande Bretagne",
          "Roumanie",
          "Cuba",
          "Finlande",
          "Pays-Bas",
          "France",
          "Tchécoslovaquie",
          "Kenya",
          "Yougoslavie",
          "Norvège",
          "Corée du Nord",
          "Nouvelle-Zélande",
          "Ouganda",
          "Danemark",
          "Suisse",
          "Canada",
          "Iran",
          "Belgique",
          "Grèce",
          "Autriche",
          "Colombie",
          "Argentine",
          "Corée du Sud",
          "Liban",
          "Mexique",
          "Mongolie",
          "Pakistan",
          "Tunisie",
          "Turquie",
          "Allemagne",
          "Brésil",
          "Ethiopie",
          "Espagne",
          "Ghana",
          "Inde",
          "Jamaïque",
          "Moldavie",
          "Niger",
          "Nigéria",
          "Etats Unis",
          "U.R.S.S.",
          "Japon",
          "Hongrie",
          "Allemagne de l'Est",
          "France",
          "Tchécoslovaquie",
          "Allemagne de l'Ouest",
          "Australie",
          "Grande Bretagne",
          "Pologne",
          "Roumanie",
          "Italie",
          "Kenya",
          "Mexique",
          "Yougoslavie",
          "Pays-Bas",
          "Bulgarie",
          "Iran",
          "Suède",
          "Turquie",
          "Danemark",
          "Canada",
          "Finlande",
          "Ethiopie",
          "Norvège",
          "Nouvelle-Zélande",
          "Tunisie",
          "Pakistan",
          "Venezuela",
          "Cuba",
          "Autriche",
          "Suisse",
          "Mongolie",
          "Brésil",
          "Belgique",
          "Corée du Sud",
          "Ouganda",
          "Cameroun",
          "Jamaïque",
          "Argentine",
          "Grèce",
          "Inde",
          "Taïwan",
          "Etats Unis",
          "U.R.S.S.",
          "Japon",
          "Allemagne",
          "Italie",
          "Hongrie",
          "Pologne",
          "Australie",
          "Tchécoslovaquie",
          "Grande Bretagne",
          "Bulgarie",
          "Finlande",
          "Nouvelle-Zélande",
          "Roumanie",
          "Pays-Bas",
          "Turquie",
          "Suède",
          "Danemark",
          "Yougoslavie",
          "Belgique",
          "France",
          "Canada",
          "Suisse",
          "Bahamas",
          "Ethiopie",
          "Inde",
          "Corée du Sud",
          "Trinité-et-Tobago",
          "Tunisie",
          "Argentine",
          "Cuba",
          "Pakistan",
          "Philippines",
          "Iran",
          "Brésil",
          "Ghana",
          "Irlande",
          "Kenya",
          "Mexique",
          "Nigéria",
          "Uruguay",
          "U.R.S.S.",
          "Etats Unis",
          "Italie",
          "Allemagne",
          "Australie",
          "Turquie",
          "Hongrie",
          "Japon",
          "Pologne",
          "Tchécoslovaquie",
          "Roumanie",
          "Grande Bretagne",
          "Danemark",
          "Nouvelle-Zélande",
          "Bulgarie",
          "Suède",
          "Finlande",
          "Autriche",
          "Yougoslavie",
          "Pakistan",
          "Ethiopie",
          "Grèce",
          "Norvège",
          "Suisse",
          "France",
          "Belgique",
          "Iran",
          "Afrique du Sud",
          "Pays-Bas",
          "Argentine",
          "Egypte",
          "Canada",
          "Ghana",
          "Inde",
          "Maroc",
          "Portugal",
          "Singapour",
          "Taïwan",
          "Brésil",
          "Indes Occidentales",
          "Espagne",
          "Irak",
          "Mexique",
          "Venezuela",
          "U.R.S.S.",
          "Etats Unis",
          "Australie",
          "Hongrie",
          "Italie",
          "Suède",
          "Allemagne",
          "Grande Bretagne",
          "Roumanie",
          "Japon",
          "France",
          "Turquie",
          "Finlande",
          "Iran",
          "Canada",
          "Nouvelle-Zélande",
          "Pologne",
          "Bulgarie",
          "Danemark",
          "Irlande",
          "Norvège",
          "Mexique",
          "Brésil",
          "Inde",
          "Tchécoslovaquie",
          "Yougoslavie",
          "Chili",
          "Belgique",
          "Argentine",
          "Corée du Sud",
          "Islande",
          "Pakistan",
          "Afrique du Sud",
          "Autriche",
          "Bahamas",
          "Grèce",
          "Suisse",
          "Uruguay",
          "Etats Unis",
          "U.R.S.S.",
          "Hongrie",
          "Suède",
          "Italie",
          "Tchécoslovaquie",
          "France",
          "Finlande",
          "Australie",
          "Norvège",
          "Suisse",
          "Afrique du Sud",
          "Jamaïque",
          "Belgique",
          "Danemark",
          "Turquie",
          "Japon",
          "Grande Bretagne",
          "Argentine",
          "Pologne",
          "Canada",
          "Yougoslavie",
          "Roumanie",
          "Brésil",
          "Nouvelle-Zélande",
          "Inde",
          "Luxembourg",
          "Allemagne",
          "Pays-Bas",
          "Iran",
          "Chili",
          "Autriche",
          "Liban",
          "Espagne",
          "Irlande",
          "Mexique",
          "Corée du Sud",
          "Trinité-et-Tobago",
          "Uruguay",
          "Bulgarie",
          "Egypte",
          "Portugal",
          "Venezuela",
          "Etats Unis",
          "Suède",
          "France",
          "Hongrie",
          "Italie",
          "Finlande",
          "Turquie",
          "Tchécoslovaquie",
          "Suisse",
          "Danemark",
          "Pays-Bas",
          "Grande Bretagne",
          "Argentine",
          "Australie",
          "Belgique",
          "Egypte",
          "Mexique",
          "Afrique du Sud",
          "Norvège",
          "Jamaïque",
          "Autriche",
          "Inde",
          "Pérou",
          "Yougoslavie",
          "Canada",
          "Portugal",
          "Uruguay",
          "Cuba",
          "Espagne",
          "Sri Lanka",
          "Trinité-et-Tobago",
          "Corée du Sud",
          "Panama",
          "Brésil",
          "Iran",
          "Pologne",
          "Porto Rico",
          "Allemagne",
          "Etats Unis",
          "Hongrie",
          "Italie",
          "Finlande",
          "France",
          "Suède",
          "Japon",
          "Pays-Bas",
          "Grande Bretagne",
          "Autriche",
          "Tchécoslovaquie",
          "Argentine",
          "Estonie",
          "Egypte",
          "Suisse",
          "Canada",
          "Norvège",
          "Turquie",
          "Inde",
          "Nouvelle-Zélande",
          "Pologne",
          "Danemark",
          "Lettonie",
          "Afrique du Sud",
          "Roumanie",
          "Yougoslavie",
          "Mexique",
          "Belgique",
          "Australie",
          "Philippines",
          "Portugal",
          "Etats Unis",
          "Italie",
          "France",
          "Suède",
          "Japon",
          "Hongrie",
          "Finlande",
          "Grande Bretagne",
          "Allemagne",
          "Australie",
          "Argentine",
          "Canada",
          "Pays-Bas",
          "Pologne",
          "Afrique du Sud",
          "Irlande",
          "Tchécoslovaquie",
          "Autriche",
          "Inde",
          "Danemark",
          "Mexique",
          "Lettonie",
          "Nouvelle-Zélande",
          "Suisse",
          "Philippines",
          "Espagne",
          "Portugal",
          "Uruguay",
          "Etats Unis",
          "Allemagne",
          "Finlande",
          "Suède",
          "Italie",
          "Suisse",
          "France",
          "Pays-Bas",
          "Hongrie",
          "Canada",
          "Grande Bretagne",
          "Argentine",
          "Danemark",
          "Tchécoslovaquie",
          "Japon",
          "Estonie",
          "Egypte",
          "Autriche",
          "Australie",
          "Norvège",
          "Pologne",
          "Yougoslavie",
          "Afrique du Sud",
          "Espagne",
          "Inde",
          "Irlande",
          "Nouvelle-Zélande",
          "Uruguay",
          "Belgique",
          "Chili",
          "Haïti",
          "Philippines",
          "Portugal",
          "Etats Unis",
          "Finlande",
          "France",
          "Grande Bretagne",
          "Italie",
          "Suisse",
          "Norvège",
          "Suède",
          "Pays-Bas",
          "Belgique",
          "Australie",
          "Danemark",
          "Hongrie",
          "Yougoslavie",
          "Tchécoslovaquie",
          "Argentine",
          "Estonie",
          "Afrique du Sud",
          "Uruguay",
          "Autriche",
          "Canada",
          "Pologne",
          "Haïti",
          "Japon",
          "Nouvelle-Zélande",
          "Portugal",
          "Roumanie",
          "Etats Unis",
          "Suède",
          "Grande Bretagne",
          "Finlande",
          "Belgique",
          "Norvège",
          "Italie",
          "France",
          "Pays-Bas",
          "Danemark",
          "Afrique du Sud",
          "Canada",
          "Suisse",
          "Estonie",
          "Brésil",
          "Australie",
          "Espagne",
          "Japon",
          "Grèce",
          "Luxembourg",
          "Tchécoslovaquie",
          "Nouvelle-Zélande",
          "Etats Unis",
          "Suède",
          "Grande Bretagne",
          "Finlande",
          "France",
          "Allemagne",
          "Afrique du Sud",
          "Norvège",
          "Hongrie",
          "Canada",
          "Italie",
          "Australasie",
          "Belgique",
          "Danemark",
          "Grèce",
          "Russie",
          "Autriche",
          "Pays-Bas",
          "Nouvelle-Zélande",
          "Grande Bretagne",
          "Etats Unis",
          "Suède",
          "France",
          "Allemagne",
          "Hongrie",
          "Canada",
          "Norvège",
          "Italie",
          "Belgique",
          "Australasie",
          "Finlande",
          "Afrique du Sud",
          "Guyana",
          "Grèce",
          "Danemark",
          "Irlande",
          "Russie",
          "Bohême",
          "Pays-Bas",
          "Autriche",
          "France",
          "Etats Unis",
          "Grèce",
          "Grande Bretagne",
          "Italie",
          "Suisse",
          "Allemagne",
          "Norvège",
          "Autriche",
          "Suède",
          "Hongrie",
          "Belgique",
          "Danemark",
          "Finlande",
          "Canada",
          "Australie",
          "Pays-Bas",
          "Bohême",
          "Australasie",
          "Empire Ottoman",
          "Etats Unis",
          "Allemagne",
          "Cuba",
          "Canada",
          "Hongrie",
          "Grande Bretagne",
          "Grèce",
          "Suisse",
          "France",
          "Autriche",
          "France",
          "Etats Unis",
          "Grande Bretagne",
          "Suisse",
          "Belgique",
          "Allemagne",
          "Italie",
          "Australie",
          "Danemark",
          "Hongrie",
          "Pays-Bas",
          "Cuba",
          "International",
          "Canada",
          "Autriche",
          "Norvège",
          "Inde",
          "Bohême",
          "Mexique",
          "Suède",
          "Etats Unis",
          "Grèce",
          "Allemagne",
          "France",
          "Grande Bretagne",
          "Hongrie",
          "Autriche",
          "Australie",
          "Danemark",
          "Suisse"
         ],
         "xaxis": "x",
         "y": [
          34,
          18,
          16,
          22,
          23,
          21,
          14,
          11,
          20,
          16,
          11,
          8,
          7,
          5,
          7,
          10,
          5,
          3,
          2,
          2,
          4,
          6,
          0,
          6,
          4,
          2,
          2,
          5,
          3,
          1,
          2,
          1,
          6,
          9,
          2,
          1,
          1,
          0,
          2,
          2,
          1,
          1,
          0,
          0,
          12,
          3,
          0,
          0,
          4,
          2,
          1,
          1,
          0,
          4,
          4,
          3,
          2,
          2,
          0,
          1,
          1,
          1,
          0,
          0,
          0,
          1,
          4,
          2,
          2,
          1,
          3,
          2,
          2,
          1,
          1,
          1,
          0,
          0,
          0,
          0,
          0,
          0,
          8,
          4,
          2,
          1,
          1,
          1,
          1,
          1,
          1,
          1,
          1,
          38,
          17,
          26,
          19,
          15,
          21,
          14,
          9,
          8,
          10,
          4,
          4,
          6,
          6,
          1,
          2,
          2,
          4,
          5,
          15,
          7,
          10,
          3,
          2,
          4,
          2,
          0,
          7,
          3,
          2,
          4,
          2,
          6,
          2,
          2,
          2,
          0,
          4,
          10,
          4,
          4,
          0,
          7,
          5,
          1,
          0,
          2,
          0,
          0,
          2,
          1,
          1,
          1,
          0,
          0,
          0,
          0,
          0,
          0,
          1,
          2,
          0,
          0,
          3,
          2,
          2,
          1,
          1,
          0,
          0,
          0,
          0,
          0,
          4,
          3,
          3,
          2,
          1,
          1,
          1,
          1,
          1,
          1,
          1,
          1,
          1,
          1,
          29,
          24,
          19,
          31,
          8,
          13,
          13,
          11,
          6,
          12,
          17,
          8,
          2,
          5,
          10,
          6,
          4,
          3,
          3,
          2,
          9,
          6,
          2,
          1,
          6,
          2,
          11,
          3,
          6,
          3,
          1,
          5,
          0,
          2,
          1,
          1,
          3,
          4,
          4,
          3,
          3,
          2,
          2,
          2,
          2,
          1,
          0,
          3,
          1,
          1,
          0,
          0,
          0,
          0,
          0,
          1,
          4,
          3,
          2,
          1,
          3,
          2,
          2,
          2,
          1,
          1,
          1,
          1,
          0,
          0,
          0,
          0,
          0,
          0,
          2,
          2,
          2,
          1,
          1,
          1,
          1,
          1,
          1,
          1,
          1,
          28,
          39,
          23,
          18,
          8,
          15,
          17,
          10,
          10,
          19,
          8,
          13,
          4,
          3,
          1,
          2,
          3,
          3,
          2,
          2,
          8,
          19,
          1,
          2,
          13,
          7,
          0,
          4,
          1,
          0,
          2,
          7,
          3,
          2,
          5,
          5,
          1,
          0,
          0,
          4,
          3,
          0,
          4,
          4,
          4,
          3,
          2,
          1,
          0,
          0,
          2,
          0,
          0,
          0,
          1,
          1,
          5,
          4,
          3,
          2,
          1,
          0,
          4,
          4,
          2,
          2,
          1,
          1,
          1,
          1,
          1,
          0,
          0,
          0,
          0,
          0,
          0,
          0,
          0,
          0,
          3,
          2,
          2,
          1,
          1,
          1,
          1,
          27,
          14,
          36,
          17,
          12,
          20,
          14,
          11,
          11,
          12,
          11,
          3,
          9,
          6,
          4,
          3,
          1,
          9,
          1,
          1,
          5,
          3,
          5,
          5,
          2,
          0,
          5,
          5,
          1,
          2,
          2,
          0,
          10,
          2,
          0,
          6,
          4,
          2,
          1,
          4,
          2,
          4,
          2,
          1,
          0,
          4,
          3,
          2,
          1,
          4,
          2,
          1,
          1,
          0,
          0,
          0,
          1,
          0,
          2,
          1,
          0,
          0,
          3,
          2,
          0,
          0,
          0,
          3,
          2,
          1,
          1,
          1,
          1,
          1,
          32,
          29,
          14,
          17,
          26,
          11,
          13,
          4,
          7,
          7,
          9,
          10,
          3,
          3,
          5,
          2,
          3,
          3,
          3,
          3,
          10,
          1,
          10,
          8,
          5,
          2,
          1,
          3,
          1,
          2,
          1,
          0,
          3,
          1,
          1,
          0,
          2,
          2,
          1,
          3,
          0,
          3,
          2,
          1,
          1,
          3,
          2,
          2,
          1,
          0,
          0,
          0,
          6,
          3,
          3,
          3,
          2,
          4,
          4,
          3,
          1,
          1,
          1,
          0,
          0,
          0,
          0,
          6,
          2,
          2,
          1,
          1,
          1,
          1,
          1,
          1,
          1,
          1,
          1,
          1,
          25,
          15,
          27,
          11,
          15,
          12,
          23,
          8,
          13,
          5,
          5,
          9,
          6,
          10,
          10,
          0,
          4,
          0,
          1,
          1,
          8,
          5,
          5,
          4,
          9,
          1,
          1,
          1,
          3,
          3,
          2,
          3,
          2,
          1,
          1,
          6,
          8,
          2,
          2,
          1,
          2,
          2,
          1,
          1,
          0,
          0,
          2,
          1,
          1,
          0,
          0,
          0,
          0,
          0,
          1,
          0,
          0,
          2,
          1,
          1,
          1,
          0,
          0,
          0,
          0,
          0,
          0,
          0,
          2,
          2,
          2,
          1,
          1,
          1,
          1,
          1,
          1,
          1,
          1,
          29,
          37,
          29,
          15,
          11,
          2,
          11,
          8,
          16,
          11,
          7,
          8,
          12,
          7,
          1,
          5,
          11,
          6,
          10,
          7,
          2,
          1,
          2,
          1,
          0,
          0,
          4,
          5,
          2,
          4,
          1,
          0,
          2,
          1,
          1,
          1,
          0,
          1,
          1,
          1,
          0,
          0,
          0,
          2,
          2,
          2,
          2,
          1,
          1,
          0,
          0,
          0,
          2,
          1,
          1,
          1,
          1,
          1,
          1,
          1,
          1,
          1,
          1,
          1,
          1,
          44,
          31,
          27,
          11,
          6,
          13,
          13,
          6,
          6,
          4,
          12,
          9,
          2,
          8,
          4,
          2,
          8,
          5,
          9,
          0,
          5,
          1,
          2,
          1,
          1,
          4,
          3,
          2,
          2,
          0,
          2,
          0,
          0,
          0,
          7,
          2,
          0,
          1,
          0,
          0,
          0,
          0,
          0,
          0,
          0,
          0,
          2,
          2,
          1,
          1,
          1,
          1,
          1,
          1,
          1,
          29,
          17,
          22,
          9,
          11,
          16,
          14,
          2,
          7,
          7,
          21,
          16,
          6,
          12,
          6,
          6,
          0,
          2,
          1,
          2,
          2,
          1,
          2,
          2,
          0,
          0,
          4,
          3,
          2,
          2,
          1,
          1,
          1,
          1,
          0,
          0,
          0,
          0,
          0,
          0,
          0,
          3,
          3,
          2,
          1,
          1,
          1,
          1,
          1,
          1,
          46,
          42,
          17,
          5,
          4,
          15,
          13,
          3,
          9,
          15,
          6,
          4,
          9,
          4,
          5,
          2,
          2,
          2,
          0,
          2,
          1,
          2,
          0,
          0,
          0,
          2,
          2,
          0,
          3,
          2,
          1,
          0,
          0,
          0,
          3,
          1,
          1,
          35,
          25,
          26,
          17,
          9,
          13,
          7,
          3,
          14,
          13,
          0,
          0,
          5,
          4,
          4,
          3,
          4,
          2,
          1,
          4,
          0,
          0,
          0,
          2,
          1,
          0,
          7,
          3,
          3,
          0,
          0,
          3,
          1,
          0,
          0,
          2,
          1,
          1,
          1,
          1,
          1,
          22,
          29,
          22,
          15,
          8,
          2,
          9,
          16,
          5,
          10,
          6,
          8,
          6,
          4,
          4,
          1,
          8,
          2,
          4,
          2,
          1,
          3,
          1,
          0,
          0,
          0,
          3,
          1,
          0,
          0,
          2,
          2,
          0,
          0,
          0,
          0,
          0,
          0,
          0,
          0,
          3,
          2,
          2,
          1,
          1,
          1,
          1,
          1,
          1,
          1,
          34,
          30,
          7,
          12,
          7,
          5,
          4,
          10,
          5,
          3,
          11,
          5,
          9,
          2,
          3,
          2,
          1,
          3,
          2,
          1,
          0,
          3,
          1,
          1,
          0,
          0,
          2,
          1,
          0,
          0,
          0,
          2,
          4,
          3,
          2,
          1,
          1,
          1,
          0,
          0,
          2,
          1,
          1,
          1,
          28,
          36,
          8,
          18,
          7,
          5,
          10,
          10,
          3,
          2,
          2,
          2,
          2,
          6,
          4,
          1,
          4,
          3,
          2,
          1,
          5,
          1,
          1,
          0,
          0,
          0,
          1,
          2,
          1,
          0,
          0,
          0,
          0,
          2,
          1,
          1,
          1,
          1,
          1,
          1,
          1,
          31,
          16,
          13,
          11,
          6,
          0,
          7,
          7,
          11,
          3,
          6,
          12,
          1,
          1,
          3,
          3,
          3,
          0,
          0,
          1,
          0,
          0,
          0,
          3,
          3,
          2,
          3,
          2,
          2,
          1,
          1,
          0,
          0,
          0,
          0,
          0,
          0,
          0,
          2,
          2,
          1,
          1,
          1,
          1,
          32,
          17,
          14,
          7,
          9,
          6,
          7,
          11,
          5,
          5,
          6,
          2,
          11,
          1,
          3,
          0,
          4,
          1,
          1,
          3,
          2,
          1,
          0,
          0,
          1,
          0,
          2,
          0,
          1,
          1,
          0,
          0,
          4,
          2,
          1,
          1,
          1,
          1,
          17,
          19,
          16,
          10,
          4,
          3,
          6,
          13,
          3,
          0,
          6,
          4,
          0,
          0,
          3,
          1,
          2,
          8,
          2,
          1,
          0,
          0,
          2,
          2,
          2,
          1,
          0,
          17,
          0,
          4,
          0,
          1,
          1,
          0,
          0,
          0,
          2,
          2,
          2,
          1,
          1,
          1,
          1,
          19,
          17,
          13,
          12,
          8,
          5,
          2,
          3,
          5,
          8,
          9,
          6,
          1,
          5,
          3,
          1,
          2,
          1,
          3,
          0,
          3,
          0,
          0,
          0,
          2,
          1,
          1,
          0,
          0,
          0,
          0,
          2,
          2,
          1,
          1,
          1,
          1,
          30,
          12,
          5,
          5,
          6,
          6,
          9,
          8,
          7,
          3,
          3,
          0,
          3,
          3,
          2,
          5,
          5,
          2,
          1,
          0,
          0,
          3,
          3,
          1,
          0,
          0,
          0,
          3,
          2,
          1,
          1,
          1,
          29,
          12,
          4,
          9,
          4,
          5,
          12,
          5,
          5,
          1,
          0,
          8,
          0,
          4,
          3,
          0,
          1,
          3,
          0,
          3,
          0,
          0,
          0,
          0,
          3,
          1,
          1,
          1,
          16,
          14,
          9,
          12,
          7,
          4,
          5,
          4,
          0,
          7,
          7,
          1,
          2,
          2,
          1,
          2,
          1,
          1,
          1,
          1,
          3,
          3,
          2,
          0,
          0,
          0,
          0,
          0,
          2,
          0,
          0,
          1,
          1,
          27,
          10,
          10,
          12,
          5,
          10,
          3,
          12,
          5,
          3,
          2,
          2,
          4,
          0,
          5,
          2,
          4,
          1,
          0,
          1,
          1,
          1,
          1,
          1,
          1,
          1,
          1,
          27,
          24,
          13,
          9,
          11,
          9,
          5,
          13,
          5,
          1,
          3,
          3,
          7,
          0,
          1,
          1,
          0,
          0,
          0,
          0,
          2,
          1,
          20,
          17,
          16,
          9,
          3,
          7,
          0,
          4,
          3,
          2,
          2,
          2,
          3,
          5,
          1,
          3,
          2,
          3,
          1,
          34,
          12,
          11,
          9,
          5,
          2,
          10,
          3,
          0,
          2,
          2,
          3,
          0,
          0,
          0,
          3,
          0,
          0,
          2,
          2,
          1,
          16,
          6,
          12,
          5,
          3,
          4,
          5,
          1,
          2,
          7,
          3,
          3,
          1,
          1,
          0,
          2,
          2,
          2,
          1,
          1,
          79,
          5,
          0,
          0,
          1,
          0,
          1,
          1,
          0,
          1,
          32,
          15,
          9,
          1,
          5,
          2,
          0,
          3,
          2,
          2,
          3,
          0,
          0,
          1,
          3,
          3,
          0,
          2,
          1,
          1,
          2,
          19,
          2,
          2,
          2,
          3,
          2,
          1,
          3,
          0
         ],
         "yaxis": "y"
        }
       ],
       "layout": {
        "barmode": "group",
        "legend": {
         "title": {
          "text": "Medal Type"
         },
         "tracegroupgap": 0
        },
        "template": {
         "data": {
          "bar": [
           {
            "error_x": {
             "color": "#2a3f5f"
            },
            "error_y": {
             "color": "#2a3f5f"
            },
            "marker": {
             "line": {
              "color": "#E5ECF6",
              "width": 0.5
             },
             "pattern": {
              "fillmode": "overlay",
              "size": 10,
              "solidity": 0.2
             }
            },
            "type": "bar"
           }
          ],
          "barpolar": [
           {
            "marker": {
             "line": {
              "color": "#E5ECF6",
              "width": 0.5
             },
             "pattern": {
              "fillmode": "overlay",
              "size": 10,
              "solidity": 0.2
             }
            },
            "type": "barpolar"
           }
          ],
          "carpet": [
           {
            "aaxis": {
             "endlinecolor": "#2a3f5f",
             "gridcolor": "white",
             "linecolor": "white",
             "minorgridcolor": "white",
             "startlinecolor": "#2a3f5f"
            },
            "baxis": {
             "endlinecolor": "#2a3f5f",
             "gridcolor": "white",
             "linecolor": "white",
             "minorgridcolor": "white",
             "startlinecolor": "#2a3f5f"
            },
            "type": "carpet"
           }
          ],
          "choropleth": [
           {
            "colorbar": {
             "outlinewidth": 0,
             "ticks": ""
            },
            "type": "choropleth"
           }
          ],
          "contour": [
           {
            "colorbar": {
             "outlinewidth": 0,
             "ticks": ""
            },
            "colorscale": [
             [
              0,
              "#0d0887"
             ],
             [
              0.1111111111111111,
              "#46039f"
             ],
             [
              0.2222222222222222,
              "#7201a8"
             ],
             [
              0.3333333333333333,
              "#9c179e"
             ],
             [
              0.4444444444444444,
              "#bd3786"
             ],
             [
              0.5555555555555556,
              "#d8576b"
             ],
             [
              0.6666666666666666,
              "#ed7953"
             ],
             [
              0.7777777777777778,
              "#fb9f3a"
             ],
             [
              0.8888888888888888,
              "#fdca26"
             ],
             [
              1,
              "#f0f921"
             ]
            ],
            "type": "contour"
           }
          ],
          "contourcarpet": [
           {
            "colorbar": {
             "outlinewidth": 0,
             "ticks": ""
            },
            "type": "contourcarpet"
           }
          ],
          "heatmap": [
           {
            "colorbar": {
             "outlinewidth": 0,
             "ticks": ""
            },
            "colorscale": [
             [
              0,
              "#0d0887"
             ],
             [
              0.1111111111111111,
              "#46039f"
             ],
             [
              0.2222222222222222,
              "#7201a8"
             ],
             [
              0.3333333333333333,
              "#9c179e"
             ],
             [
              0.4444444444444444,
              "#bd3786"
             ],
             [
              0.5555555555555556,
              "#d8576b"
             ],
             [
              0.6666666666666666,
              "#ed7953"
             ],
             [
              0.7777777777777778,
              "#fb9f3a"
             ],
             [
              0.8888888888888888,
              "#fdca26"
             ],
             [
              1,
              "#f0f921"
             ]
            ],
            "type": "heatmap"
           }
          ],
          "heatmapgl": [
           {
            "colorbar": {
             "outlinewidth": 0,
             "ticks": ""
            },
            "colorscale": [
             [
              0,
              "#0d0887"
             ],
             [
              0.1111111111111111,
              "#46039f"
             ],
             [
              0.2222222222222222,
              "#7201a8"
             ],
             [
              0.3333333333333333,
              "#9c179e"
             ],
             [
              0.4444444444444444,
              "#bd3786"
             ],
             [
              0.5555555555555556,
              "#d8576b"
             ],
             [
              0.6666666666666666,
              "#ed7953"
             ],
             [
              0.7777777777777778,
              "#fb9f3a"
             ],
             [
              0.8888888888888888,
              "#fdca26"
             ],
             [
              1,
              "#f0f921"
             ]
            ],
            "type": "heatmapgl"
           }
          ],
          "histogram": [
           {
            "marker": {
             "pattern": {
              "fillmode": "overlay",
              "size": 10,
              "solidity": 0.2
             }
            },
            "type": "histogram"
           }
          ],
          "histogram2d": [
           {
            "colorbar": {
             "outlinewidth": 0,
             "ticks": ""
            },
            "colorscale": [
             [
              0,
              "#0d0887"
             ],
             [
              0.1111111111111111,
              "#46039f"
             ],
             [
              0.2222222222222222,
              "#7201a8"
             ],
             [
              0.3333333333333333,
              "#9c179e"
             ],
             [
              0.4444444444444444,
              "#bd3786"
             ],
             [
              0.5555555555555556,
              "#d8576b"
             ],
             [
              0.6666666666666666,
              "#ed7953"
             ],
             [
              0.7777777777777778,
              "#fb9f3a"
             ],
             [
              0.8888888888888888,
              "#fdca26"
             ],
             [
              1,
              "#f0f921"
             ]
            ],
            "type": "histogram2d"
           }
          ],
          "histogram2dcontour": [
           {
            "colorbar": {
             "outlinewidth": 0,
             "ticks": ""
            },
            "colorscale": [
             [
              0,
              "#0d0887"
             ],
             [
              0.1111111111111111,
              "#46039f"
             ],
             [
              0.2222222222222222,
              "#7201a8"
             ],
             [
              0.3333333333333333,
              "#9c179e"
             ],
             [
              0.4444444444444444,
              "#bd3786"
             ],
             [
              0.5555555555555556,
              "#d8576b"
             ],
             [
              0.6666666666666666,
              "#ed7953"
             ],
             [
              0.7777777777777778,
              "#fb9f3a"
             ],
             [
              0.8888888888888888,
              "#fdca26"
             ],
             [
              1,
              "#f0f921"
             ]
            ],
            "type": "histogram2dcontour"
           }
          ],
          "mesh3d": [
           {
            "colorbar": {
             "outlinewidth": 0,
             "ticks": ""
            },
            "type": "mesh3d"
           }
          ],
          "parcoords": [
           {
            "line": {
             "colorbar": {
              "outlinewidth": 0,
              "ticks": ""
             }
            },
            "type": "parcoords"
           }
          ],
          "pie": [
           {
            "automargin": true,
            "type": "pie"
           }
          ],
          "scatter": [
           {
            "fillpattern": {
             "fillmode": "overlay",
             "size": 10,
             "solidity": 0.2
            },
            "type": "scatter"
           }
          ],
          "scatter3d": [
           {
            "line": {
             "colorbar": {
              "outlinewidth": 0,
              "ticks": ""
             }
            },
            "marker": {
             "colorbar": {
              "outlinewidth": 0,
              "ticks": ""
             }
            },
            "type": "scatter3d"
           }
          ],
          "scattercarpet": [
           {
            "marker": {
             "colorbar": {
              "outlinewidth": 0,
              "ticks": ""
             }
            },
            "type": "scattercarpet"
           }
          ],
          "scattergeo": [
           {
            "marker": {
             "colorbar": {
              "outlinewidth": 0,
              "ticks": ""
             }
            },
            "type": "scattergeo"
           }
          ],
          "scattergl": [
           {
            "marker": {
             "colorbar": {
              "outlinewidth": 0,
              "ticks": ""
             }
            },
            "type": "scattergl"
           }
          ],
          "scattermapbox": [
           {
            "marker": {
             "colorbar": {
              "outlinewidth": 0,
              "ticks": ""
             }
            },
            "type": "scattermapbox"
           }
          ],
          "scatterpolar": [
           {
            "marker": {
             "colorbar": {
              "outlinewidth": 0,
              "ticks": ""
             }
            },
            "type": "scatterpolar"
           }
          ],
          "scatterpolargl": [
           {
            "marker": {
             "colorbar": {
              "outlinewidth": 0,
              "ticks": ""
             }
            },
            "type": "scatterpolargl"
           }
          ],
          "scatterternary": [
           {
            "marker": {
             "colorbar": {
              "outlinewidth": 0,
              "ticks": ""
             }
            },
            "type": "scatterternary"
           }
          ],
          "surface": [
           {
            "colorbar": {
             "outlinewidth": 0,
             "ticks": ""
            },
            "colorscale": [
             [
              0,
              "#0d0887"
             ],
             [
              0.1111111111111111,
              "#46039f"
             ],
             [
              0.2222222222222222,
              "#7201a8"
             ],
             [
              0.3333333333333333,
              "#9c179e"
             ],
             [
              0.4444444444444444,
              "#bd3786"
             ],
             [
              0.5555555555555556,
              "#d8576b"
             ],
             [
              0.6666666666666666,
              "#ed7953"
             ],
             [
              0.7777777777777778,
              "#fb9f3a"
             ],
             [
              0.8888888888888888,
              "#fdca26"
             ],
             [
              1,
              "#f0f921"
             ]
            ],
            "type": "surface"
           }
          ],
          "table": [
           {
            "cells": {
             "fill": {
              "color": "#EBF0F8"
             },
             "line": {
              "color": "white"
             }
            },
            "header": {
             "fill": {
              "color": "#C8D4E3"
             },
             "line": {
              "color": "white"
             }
            },
            "type": "table"
           }
          ]
         },
         "layout": {
          "annotationdefaults": {
           "arrowcolor": "#2a3f5f",
           "arrowhead": 0,
           "arrowwidth": 1
          },
          "autotypenumbers": "strict",
          "coloraxis": {
           "colorbar": {
            "outlinewidth": 0,
            "ticks": ""
           }
          },
          "colorscale": {
           "diverging": [
            [
             0,
             "#8e0152"
            ],
            [
             0.1,
             "#c51b7d"
            ],
            [
             0.2,
             "#de77ae"
            ],
            [
             0.3,
             "#f1b6da"
            ],
            [
             0.4,
             "#fde0ef"
            ],
            [
             0.5,
             "#f7f7f7"
            ],
            [
             0.6,
             "#e6f5d0"
            ],
            [
             0.7,
             "#b8e186"
            ],
            [
             0.8,
             "#7fbc41"
            ],
            [
             0.9,
             "#4d9221"
            ],
            [
             1,
             "#276419"
            ]
           ],
           "sequential": [
            [
             0,
             "#0d0887"
            ],
            [
             0.1111111111111111,
             "#46039f"
            ],
            [
             0.2222222222222222,
             "#7201a8"
            ],
            [
             0.3333333333333333,
             "#9c179e"
            ],
            [
             0.4444444444444444,
             "#bd3786"
            ],
            [
             0.5555555555555556,
             "#d8576b"
            ],
            [
             0.6666666666666666,
             "#ed7953"
            ],
            [
             0.7777777777777778,
             "#fb9f3a"
            ],
            [
             0.8888888888888888,
             "#fdca26"
            ],
            [
             1,
             "#f0f921"
            ]
           ],
           "sequentialminus": [
            [
             0,
             "#0d0887"
            ],
            [
             0.1111111111111111,
             "#46039f"
            ],
            [
             0.2222222222222222,
             "#7201a8"
            ],
            [
             0.3333333333333333,
             "#9c179e"
            ],
            [
             0.4444444444444444,
             "#bd3786"
            ],
            [
             0.5555555555555556,
             "#d8576b"
            ],
            [
             0.6666666666666666,
             "#ed7953"
            ],
            [
             0.7777777777777778,
             "#fb9f3a"
            ],
            [
             0.8888888888888888,
             "#fdca26"
            ],
            [
             1,
             "#f0f921"
            ]
           ]
          },
          "colorway": [
           "#636efa",
           "#EF553B",
           "#00cc96",
           "#ab63fa",
           "#FFA15A",
           "#19d3f3",
           "#FF6692",
           "#B6E880",
           "#FF97FF",
           "#FECB52"
          ],
          "font": {
           "color": "#2a3f5f"
          },
          "geo": {
           "bgcolor": "white",
           "lakecolor": "white",
           "landcolor": "#E5ECF6",
           "showlakes": true,
           "showland": true,
           "subunitcolor": "white"
          },
          "hoverlabel": {
           "align": "left"
          },
          "hovermode": "closest",
          "mapbox": {
           "style": "light"
          },
          "paper_bgcolor": "white",
          "plot_bgcolor": "#E5ECF6",
          "polar": {
           "angularaxis": {
            "gridcolor": "white",
            "linecolor": "white",
            "ticks": ""
           },
           "bgcolor": "#E5ECF6",
           "radialaxis": {
            "gridcolor": "white",
            "linecolor": "white",
            "ticks": ""
           }
          },
          "scene": {
           "xaxis": {
            "backgroundcolor": "#E5ECF6",
            "gridcolor": "white",
            "gridwidth": 2,
            "linecolor": "white",
            "showbackground": true,
            "ticks": "",
            "zerolinecolor": "white"
           },
           "yaxis": {
            "backgroundcolor": "#E5ECF6",
            "gridcolor": "white",
            "gridwidth": 2,
            "linecolor": "white",
            "showbackground": true,
            "ticks": "",
            "zerolinecolor": "white"
           },
           "zaxis": {
            "backgroundcolor": "#E5ECF6",
            "gridcolor": "white",
            "gridwidth": 2,
            "linecolor": "white",
            "showbackground": true,
            "ticks": "",
            "zerolinecolor": "white"
           }
          },
          "shapedefaults": {
           "line": {
            "color": "#2a3f5f"
           }
          },
          "ternary": {
           "aaxis": {
            "gridcolor": "white",
            "linecolor": "white",
            "ticks": ""
           },
           "baxis": {
            "gridcolor": "white",
            "linecolor": "white",
            "ticks": ""
           },
           "bgcolor": "#E5ECF6",
           "caxis": {
            "gridcolor": "white",
            "linecolor": "white",
            "ticks": ""
           }
          },
          "title": {
           "x": 0.05
          },
          "xaxis": {
           "automargin": true,
           "gridcolor": "white",
           "linecolor": "white",
           "ticks": "",
           "title": {
            "standoff": 15
           },
           "zerolinecolor": "white",
           "zerolinewidth": 2
          },
          "yaxis": {
           "automargin": true,
           "gridcolor": "white",
           "linecolor": "white",
           "ticks": "",
           "title": {
            "standoff": 15
           },
           "zerolinecolor": "white",
           "zerolinewidth": 2
          }
         }
        },
        "title": {
         "text": "Medals Distribution by Country"
        },
        "xaxis": {
         "anchor": "y",
         "domain": [
          0,
          1
         ],
         "title": {
          "text": "Country"
         }
        },
        "yaxis": {
         "anchor": "x",
         "domain": [
          0,
          1
         ],
         "title": {
          "text": "Number of Medals"
         }
        }
       }
      }
     },
     "metadata": {},
     "output_type": "display_data"
    }
   ],
   "source": [
    "# Group bars by year, showing the distribution of Gold, Silver, and Bronze medals for each year.\n",
    "fig = px.bar(medals, x='Country', y=['Gold', 'Silver', 'Bronze'],\n",
    "             color_discrete_map={'Gold': 'gold', 'Silver': 'silver', 'Bronze': 'brown'},\n",
    "             title='Medals Distribution by Country',\n",
    "             labels={'value': 'Number of Medals', 'variable': 'Medal Type'},\n",
    "             barmode='group')\n",
    "fig.show()"
   ]
  },
  {
   "cell_type": "code",
   "execution_count": 14,
   "metadata": {},
   "outputs": [
    {
     "data": {
      "application/vnd.plotly.v1+json": {
       "config": {
        "plotlyServerURL": "https://plot.ly"
       },
       "data": [
        {
         "alignmentgroup": "True",
         "hovertemplate": "Medal Type=Gold<br>Country=%{x}<br>Number of Medals=%{y}<extra></extra>",
         "legendgroup": "Gold",
         "marker": {
          "color": "gold",
          "pattern": {
           "shape": ""
          }
         },
         "name": "Gold",
         "offsetgroup": "Gold",
         "orientation": "v",
         "showlegend": true,
         "textposition": "auto",
         "type": "bar",
         "x": [
          "Etats Unis",
          "U.R.S.S.",
          "Etats Unis",
          "Grande Bretagne",
          "U.R.S.S.",
          "Allemagne de l'Est",
          "U.R.S.S.",
          "Etats Unis",
          "Etats Unis",
          "Etats Unis"
         ],
         "xaxis": "x",
         "y": [
          80,
          80,
          83,
          51,
          51,
          47,
          48,
          46,
          36,
          38
         ],
         "yaxis": "y"
        },
        {
         "alignmentgroup": "True",
         "hovertemplate": "Medal Type=Silver<br>Country=%{x}<br>Number of Medals=%{y}<extra></extra>",
         "legendgroup": "Silver",
         "marker": {
          "color": "silver",
          "pattern": {
           "shape": ""
          }
         },
         "name": "Silver",
         "offsetgroup": "Silver",
         "orientation": "v",
         "showlegend": true,
         "textposition": "auto",
         "type": "bar",
         "x": [
          "Etats Unis",
          "U.R.S.S.",
          "Etats Unis",
          "Grande Bretagne",
          "U.R.S.S.",
          "Allemagne de l'Est",
          "U.R.S.S.",
          "Etats Unis",
          "Etats Unis",
          "Etats Unis"
         ],
         "xaxis": "x",
         "y": [
          82,
          68,
          62,
          44,
          32,
          37,
          41,
          37,
          39,
          41
         ],
         "yaxis": "y"
        },
        {
         "alignmentgroup": "True",
         "hovertemplate": "Medal Type=Bronze<br>Country=%{x}<br>Number of Medals=%{y}<extra></extra>",
         "legendgroup": "Bronze",
         "marker": {
          "color": "brown",
          "pattern": {
           "shape": ""
          }
         },
         "name": "Bronze",
         "offsetgroup": "Bronze",
         "orientation": "v",
         "showlegend": true,
         "textposition": "auto",
         "type": "bar",
         "x": [
          "Etats Unis",
          "U.R.S.S.",
          "Etats Unis",
          "Grande Bretagne",
          "U.R.S.S.",
          "Allemagne de l'Est",
          "U.R.S.S.",
          "Etats Unis",
          "Etats Unis",
          "Etats Unis"
         ],
         "xaxis": "x",
         "y": [
          79,
          46,
          29,
          34,
          44,
          42,
          35,
          38,
          39,
          34
         ],
         "yaxis": "y"
        }
       ],
       "layout": {
        "barmode": "group",
        "legend": {
         "title": {
          "text": "Medal Type"
         },
         "tracegroupgap": 0
        },
        "template": {
         "data": {
          "bar": [
           {
            "error_x": {
             "color": "#2a3f5f"
            },
            "error_y": {
             "color": "#2a3f5f"
            },
            "marker": {
             "line": {
              "color": "#E5ECF6",
              "width": 0.5
             },
             "pattern": {
              "fillmode": "overlay",
              "size": 10,
              "solidity": 0.2
             }
            },
            "type": "bar"
           }
          ],
          "barpolar": [
           {
            "marker": {
             "line": {
              "color": "#E5ECF6",
              "width": 0.5
             },
             "pattern": {
              "fillmode": "overlay",
              "size": 10,
              "solidity": 0.2
             }
            },
            "type": "barpolar"
           }
          ],
          "carpet": [
           {
            "aaxis": {
             "endlinecolor": "#2a3f5f",
             "gridcolor": "white",
             "linecolor": "white",
             "minorgridcolor": "white",
             "startlinecolor": "#2a3f5f"
            },
            "baxis": {
             "endlinecolor": "#2a3f5f",
             "gridcolor": "white",
             "linecolor": "white",
             "minorgridcolor": "white",
             "startlinecolor": "#2a3f5f"
            },
            "type": "carpet"
           }
          ],
          "choropleth": [
           {
            "colorbar": {
             "outlinewidth": 0,
             "ticks": ""
            },
            "type": "choropleth"
           }
          ],
          "contour": [
           {
            "colorbar": {
             "outlinewidth": 0,
             "ticks": ""
            },
            "colorscale": [
             [
              0,
              "#0d0887"
             ],
             [
              0.1111111111111111,
              "#46039f"
             ],
             [
              0.2222222222222222,
              "#7201a8"
             ],
             [
              0.3333333333333333,
              "#9c179e"
             ],
             [
              0.4444444444444444,
              "#bd3786"
             ],
             [
              0.5555555555555556,
              "#d8576b"
             ],
             [
              0.6666666666666666,
              "#ed7953"
             ],
             [
              0.7777777777777778,
              "#fb9f3a"
             ],
             [
              0.8888888888888888,
              "#fdca26"
             ],
             [
              1,
              "#f0f921"
             ]
            ],
            "type": "contour"
           }
          ],
          "contourcarpet": [
           {
            "colorbar": {
             "outlinewidth": 0,
             "ticks": ""
            },
            "type": "contourcarpet"
           }
          ],
          "heatmap": [
           {
            "colorbar": {
             "outlinewidth": 0,
             "ticks": ""
            },
            "colorscale": [
             [
              0,
              "#0d0887"
             ],
             [
              0.1111111111111111,
              "#46039f"
             ],
             [
              0.2222222222222222,
              "#7201a8"
             ],
             [
              0.3333333333333333,
              "#9c179e"
             ],
             [
              0.4444444444444444,
              "#bd3786"
             ],
             [
              0.5555555555555556,
              "#d8576b"
             ],
             [
              0.6666666666666666,
              "#ed7953"
             ],
             [
              0.7777777777777778,
              "#fb9f3a"
             ],
             [
              0.8888888888888888,
              "#fdca26"
             ],
             [
              1,
              "#f0f921"
             ]
            ],
            "type": "heatmap"
           }
          ],
          "heatmapgl": [
           {
            "colorbar": {
             "outlinewidth": 0,
             "ticks": ""
            },
            "colorscale": [
             [
              0,
              "#0d0887"
             ],
             [
              0.1111111111111111,
              "#46039f"
             ],
             [
              0.2222222222222222,
              "#7201a8"
             ],
             [
              0.3333333333333333,
              "#9c179e"
             ],
             [
              0.4444444444444444,
              "#bd3786"
             ],
             [
              0.5555555555555556,
              "#d8576b"
             ],
             [
              0.6666666666666666,
              "#ed7953"
             ],
             [
              0.7777777777777778,
              "#fb9f3a"
             ],
             [
              0.8888888888888888,
              "#fdca26"
             ],
             [
              1,
              "#f0f921"
             ]
            ],
            "type": "heatmapgl"
           }
          ],
          "histogram": [
           {
            "marker": {
             "pattern": {
              "fillmode": "overlay",
              "size": 10,
              "solidity": 0.2
             }
            },
            "type": "histogram"
           }
          ],
          "histogram2d": [
           {
            "colorbar": {
             "outlinewidth": 0,
             "ticks": ""
            },
            "colorscale": [
             [
              0,
              "#0d0887"
             ],
             [
              0.1111111111111111,
              "#46039f"
             ],
             [
              0.2222222222222222,
              "#7201a8"
             ],
             [
              0.3333333333333333,
              "#9c179e"
             ],
             [
              0.4444444444444444,
              "#bd3786"
             ],
             [
              0.5555555555555556,
              "#d8576b"
             ],
             [
              0.6666666666666666,
              "#ed7953"
             ],
             [
              0.7777777777777778,
              "#fb9f3a"
             ],
             [
              0.8888888888888888,
              "#fdca26"
             ],
             [
              1,
              "#f0f921"
             ]
            ],
            "type": "histogram2d"
           }
          ],
          "histogram2dcontour": [
           {
            "colorbar": {
             "outlinewidth": 0,
             "ticks": ""
            },
            "colorscale": [
             [
              0,
              "#0d0887"
             ],
             [
              0.1111111111111111,
              "#46039f"
             ],
             [
              0.2222222222222222,
              "#7201a8"
             ],
             [
              0.3333333333333333,
              "#9c179e"
             ],
             [
              0.4444444444444444,
              "#bd3786"
             ],
             [
              0.5555555555555556,
              "#d8576b"
             ],
             [
              0.6666666666666666,
              "#ed7953"
             ],
             [
              0.7777777777777778,
              "#fb9f3a"
             ],
             [
              0.8888888888888888,
              "#fdca26"
             ],
             [
              1,
              "#f0f921"
             ]
            ],
            "type": "histogram2dcontour"
           }
          ],
          "mesh3d": [
           {
            "colorbar": {
             "outlinewidth": 0,
             "ticks": ""
            },
            "type": "mesh3d"
           }
          ],
          "parcoords": [
           {
            "line": {
             "colorbar": {
              "outlinewidth": 0,
              "ticks": ""
             }
            },
            "type": "parcoords"
           }
          ],
          "pie": [
           {
            "automargin": true,
            "type": "pie"
           }
          ],
          "scatter": [
           {
            "fillpattern": {
             "fillmode": "overlay",
             "size": 10,
             "solidity": 0.2
            },
            "type": "scatter"
           }
          ],
          "scatter3d": [
           {
            "line": {
             "colorbar": {
              "outlinewidth": 0,
              "ticks": ""
             }
            },
            "marker": {
             "colorbar": {
              "outlinewidth": 0,
              "ticks": ""
             }
            },
            "type": "scatter3d"
           }
          ],
          "scattercarpet": [
           {
            "marker": {
             "colorbar": {
              "outlinewidth": 0,
              "ticks": ""
             }
            },
            "type": "scattercarpet"
           }
          ],
          "scattergeo": [
           {
            "marker": {
             "colorbar": {
              "outlinewidth": 0,
              "ticks": ""
             }
            },
            "type": "scattergeo"
           }
          ],
          "scattergl": [
           {
            "marker": {
             "colorbar": {
              "outlinewidth": 0,
              "ticks": ""
             }
            },
            "type": "scattergl"
           }
          ],
          "scattermapbox": [
           {
            "marker": {
             "colorbar": {
              "outlinewidth": 0,
              "ticks": ""
             }
            },
            "type": "scattermapbox"
           }
          ],
          "scatterpolar": [
           {
            "marker": {
             "colorbar": {
              "outlinewidth": 0,
              "ticks": ""
             }
            },
            "type": "scatterpolar"
           }
          ],
          "scatterpolargl": [
           {
            "marker": {
             "colorbar": {
              "outlinewidth": 0,
              "ticks": ""
             }
            },
            "type": "scatterpolargl"
           }
          ],
          "scatterternary": [
           {
            "marker": {
             "colorbar": {
              "outlinewidth": 0,
              "ticks": ""
             }
            },
            "type": "scatterternary"
           }
          ],
          "surface": [
           {
            "colorbar": {
             "outlinewidth": 0,
             "ticks": ""
            },
            "colorscale": [
             [
              0,
              "#0d0887"
             ],
             [
              0.1111111111111111,
              "#46039f"
             ],
             [
              0.2222222222222222,
              "#7201a8"
             ],
             [
              0.3333333333333333,
              "#9c179e"
             ],
             [
              0.4444444444444444,
              "#bd3786"
             ],
             [
              0.5555555555555556,
              "#d8576b"
             ],
             [
              0.6666666666666666,
              "#ed7953"
             ],
             [
              0.7777777777777778,
              "#fb9f3a"
             ],
             [
              0.8888888888888888,
              "#fdca26"
             ],
             [
              1,
              "#f0f921"
             ]
            ],
            "type": "surface"
           }
          ],
          "table": [
           {
            "cells": {
             "fill": {
              "color": "#EBF0F8"
             },
             "line": {
              "color": "white"
             }
            },
            "header": {
             "fill": {
              "color": "#C8D4E3"
             },
             "line": {
              "color": "white"
             }
            },
            "type": "table"
           }
          ]
         },
         "layout": {
          "annotationdefaults": {
           "arrowcolor": "#2a3f5f",
           "arrowhead": 0,
           "arrowwidth": 1
          },
          "autotypenumbers": "strict",
          "coloraxis": {
           "colorbar": {
            "outlinewidth": 0,
            "ticks": ""
           }
          },
          "colorscale": {
           "diverging": [
            [
             0,
             "#8e0152"
            ],
            [
             0.1,
             "#c51b7d"
            ],
            [
             0.2,
             "#de77ae"
            ],
            [
             0.3,
             "#f1b6da"
            ],
            [
             0.4,
             "#fde0ef"
            ],
            [
             0.5,
             "#f7f7f7"
            ],
            [
             0.6,
             "#e6f5d0"
            ],
            [
             0.7,
             "#b8e186"
            ],
            [
             0.8,
             "#7fbc41"
            ],
            [
             0.9,
             "#4d9221"
            ],
            [
             1,
             "#276419"
            ]
           ],
           "sequential": [
            [
             0,
             "#0d0887"
            ],
            [
             0.1111111111111111,
             "#46039f"
            ],
            [
             0.2222222222222222,
             "#7201a8"
            ],
            [
             0.3333333333333333,
             "#9c179e"
            ],
            [
             0.4444444444444444,
             "#bd3786"
            ],
            [
             0.5555555555555556,
             "#d8576b"
            ],
            [
             0.6666666666666666,
             "#ed7953"
            ],
            [
             0.7777777777777778,
             "#fb9f3a"
            ],
            [
             0.8888888888888888,
             "#fdca26"
            ],
            [
             1,
             "#f0f921"
            ]
           ],
           "sequentialminus": [
            [
             0,
             "#0d0887"
            ],
            [
             0.1111111111111111,
             "#46039f"
            ],
            [
             0.2222222222222222,
             "#7201a8"
            ],
            [
             0.3333333333333333,
             "#9c179e"
            ],
            [
             0.4444444444444444,
             "#bd3786"
            ],
            [
             0.5555555555555556,
             "#d8576b"
            ],
            [
             0.6666666666666666,
             "#ed7953"
            ],
            [
             0.7777777777777778,
             "#fb9f3a"
            ],
            [
             0.8888888888888888,
             "#fdca26"
            ],
            [
             1,
             "#f0f921"
            ]
           ]
          },
          "colorway": [
           "#636efa",
           "#EF553B",
           "#00cc96",
           "#ab63fa",
           "#FFA15A",
           "#19d3f3",
           "#FF6692",
           "#B6E880",
           "#FF97FF",
           "#FECB52"
          ],
          "font": {
           "color": "#2a3f5f"
          },
          "geo": {
           "bgcolor": "white",
           "lakecolor": "white",
           "landcolor": "#E5ECF6",
           "showlakes": true,
           "showland": true,
           "subunitcolor": "white"
          },
          "hoverlabel": {
           "align": "left"
          },
          "hovermode": "closest",
          "mapbox": {
           "style": "light"
          },
          "paper_bgcolor": "white",
          "plot_bgcolor": "#E5ECF6",
          "polar": {
           "angularaxis": {
            "gridcolor": "white",
            "linecolor": "white",
            "ticks": ""
           },
           "bgcolor": "#E5ECF6",
           "radialaxis": {
            "gridcolor": "white",
            "linecolor": "white",
            "ticks": ""
           }
          },
          "scene": {
           "xaxis": {
            "backgroundcolor": "#E5ECF6",
            "gridcolor": "white",
            "gridwidth": 2,
            "linecolor": "white",
            "showbackground": true,
            "ticks": "",
            "zerolinecolor": "white"
           },
           "yaxis": {
            "backgroundcolor": "#E5ECF6",
            "gridcolor": "white",
            "gridwidth": 2,
            "linecolor": "white",
            "showbackground": true,
            "ticks": "",
            "zerolinecolor": "white"
           },
           "zaxis": {
            "backgroundcolor": "#E5ECF6",
            "gridcolor": "white",
            "gridwidth": 2,
            "linecolor": "white",
            "showbackground": true,
            "ticks": "",
            "zerolinecolor": "white"
           }
          },
          "shapedefaults": {
           "line": {
            "color": "#2a3f5f"
           }
          },
          "ternary": {
           "aaxis": {
            "gridcolor": "white",
            "linecolor": "white",
            "ticks": ""
           },
           "baxis": {
            "gridcolor": "white",
            "linecolor": "white",
            "ticks": ""
           },
           "bgcolor": "#E5ECF6",
           "caxis": {
            "gridcolor": "white",
            "linecolor": "white",
            "ticks": ""
           }
          },
          "title": {
           "x": 0.05
          },
          "xaxis": {
           "automargin": true,
           "gridcolor": "white",
           "linecolor": "white",
           "ticks": "",
           "title": {
            "standoff": 15
           },
           "zerolinecolor": "white",
           "zerolinewidth": 2
          },
          "yaxis": {
           "automargin": true,
           "gridcolor": "white",
           "linecolor": "white",
           "ticks": "",
           "title": {
            "standoff": 15
           },
           "zerolinecolor": "white",
           "zerolinewidth": 2
          }
         }
        },
        "title": {
         "text": "Top 10 Countries - Medals Distribution"
        },
        "xaxis": {
         "anchor": "y",
         "domain": [
          0,
          1
         ],
         "title": {
          "text": "Country"
         }
        },
        "yaxis": {
         "anchor": "x",
         "domain": [
          0,
          1
         ],
         "title": {
          "text": "Number of Medals"
         }
        }
       }
      }
     },
     "metadata": {},
     "output_type": "display_data"
    }
   ],
   "source": [
    "df = medals.sort_values(by='Total', ascending=False).head(10)\n",
    "fig = px.bar(df, x='Country', y=['Gold', 'Silver', 'Bronze'],\n",
    "             color_discrete_map={'Gold': 'gold', 'Silver': 'silver', 'Bronze': 'brown'},\n",
    "             title='Top 10 Countries - Medals Distribution',\n",
    "             labels={'value': 'Number of Medals', 'variable': 'Medal Type'},\n",
    "             barmode='group')\n",
    "fig.show()"
   ]
  },
  {
   "cell_type": "code",
   "execution_count": 15,
   "metadata": {},
   "outputs": [
    {
     "data": {
      "application/vnd.plotly.v1+json": {
       "config": {
        "plotlyServerURL": "https://plot.ly"
       },
       "data": [
        {
         "hovertemplate": "Year=%{x}<br>Total Medals=%{y}<extra></extra>",
         "legendgroup": "",
         "line": {
          "color": "#636efa",
          "dash": "solid"
         },
         "marker": {
          "symbol": "circle"
         },
         "mode": "lines",
         "name": "",
         "orientation": "v",
         "showlegend": false,
         "type": "scatter",
         "x": [
          1896,
          1900,
          1904,
          1906,
          1908,
          1912,
          1920,
          1924,
          1928,
          1932,
          1936,
          1948,
          1952,
          1956,
          1960,
          1964,
          1968,
          1972,
          1976,
          1980,
          1984,
          1988,
          1992,
          1996,
          2000,
          2004,
          2008,
          2012,
          2016,
          2021
         ],
         "xaxis": "x",
         "y": [
          11,
          95,
          1,
          40,
          18,
          14,
          41,
          38,
          21,
          19,
          19,
          29,
          18,
          14,
          5,
          13,
          15,
          14,
          9,
          14,
          28,
          16,
          29,
          38,
          38,
          34,
          44,
          35,
          42,
          33
         ],
         "yaxis": "y"
        }
       ],
       "layout": {
        "legend": {
         "tracegroupgap": 0
        },
        "margin": {
         "t": 60
        },
        "template": {
         "data": {
          "bar": [
           {
            "error_x": {
             "color": "#2a3f5f"
            },
            "error_y": {
             "color": "#2a3f5f"
            },
            "marker": {
             "line": {
              "color": "#E5ECF6",
              "width": 0.5
             },
             "pattern": {
              "fillmode": "overlay",
              "size": 10,
              "solidity": 0.2
             }
            },
            "type": "bar"
           }
          ],
          "barpolar": [
           {
            "marker": {
             "line": {
              "color": "#E5ECF6",
              "width": 0.5
             },
             "pattern": {
              "fillmode": "overlay",
              "size": 10,
              "solidity": 0.2
             }
            },
            "type": "barpolar"
           }
          ],
          "carpet": [
           {
            "aaxis": {
             "endlinecolor": "#2a3f5f",
             "gridcolor": "white",
             "linecolor": "white",
             "minorgridcolor": "white",
             "startlinecolor": "#2a3f5f"
            },
            "baxis": {
             "endlinecolor": "#2a3f5f",
             "gridcolor": "white",
             "linecolor": "white",
             "minorgridcolor": "white",
             "startlinecolor": "#2a3f5f"
            },
            "type": "carpet"
           }
          ],
          "choropleth": [
           {
            "colorbar": {
             "outlinewidth": 0,
             "ticks": ""
            },
            "type": "choropleth"
           }
          ],
          "contour": [
           {
            "colorbar": {
             "outlinewidth": 0,
             "ticks": ""
            },
            "colorscale": [
             [
              0,
              "#0d0887"
             ],
             [
              0.1111111111111111,
              "#46039f"
             ],
             [
              0.2222222222222222,
              "#7201a8"
             ],
             [
              0.3333333333333333,
              "#9c179e"
             ],
             [
              0.4444444444444444,
              "#bd3786"
             ],
             [
              0.5555555555555556,
              "#d8576b"
             ],
             [
              0.6666666666666666,
              "#ed7953"
             ],
             [
              0.7777777777777778,
              "#fb9f3a"
             ],
             [
              0.8888888888888888,
              "#fdca26"
             ],
             [
              1,
              "#f0f921"
             ]
            ],
            "type": "contour"
           }
          ],
          "contourcarpet": [
           {
            "colorbar": {
             "outlinewidth": 0,
             "ticks": ""
            },
            "type": "contourcarpet"
           }
          ],
          "heatmap": [
           {
            "colorbar": {
             "outlinewidth": 0,
             "ticks": ""
            },
            "colorscale": [
             [
              0,
              "#0d0887"
             ],
             [
              0.1111111111111111,
              "#46039f"
             ],
             [
              0.2222222222222222,
              "#7201a8"
             ],
             [
              0.3333333333333333,
              "#9c179e"
             ],
             [
              0.4444444444444444,
              "#bd3786"
             ],
             [
              0.5555555555555556,
              "#d8576b"
             ],
             [
              0.6666666666666666,
              "#ed7953"
             ],
             [
              0.7777777777777778,
              "#fb9f3a"
             ],
             [
              0.8888888888888888,
              "#fdca26"
             ],
             [
              1,
              "#f0f921"
             ]
            ],
            "type": "heatmap"
           }
          ],
          "heatmapgl": [
           {
            "colorbar": {
             "outlinewidth": 0,
             "ticks": ""
            },
            "colorscale": [
             [
              0,
              "#0d0887"
             ],
             [
              0.1111111111111111,
              "#46039f"
             ],
             [
              0.2222222222222222,
              "#7201a8"
             ],
             [
              0.3333333333333333,
              "#9c179e"
             ],
             [
              0.4444444444444444,
              "#bd3786"
             ],
             [
              0.5555555555555556,
              "#d8576b"
             ],
             [
              0.6666666666666666,
              "#ed7953"
             ],
             [
              0.7777777777777778,
              "#fb9f3a"
             ],
             [
              0.8888888888888888,
              "#fdca26"
             ],
             [
              1,
              "#f0f921"
             ]
            ],
            "type": "heatmapgl"
           }
          ],
          "histogram": [
           {
            "marker": {
             "pattern": {
              "fillmode": "overlay",
              "size": 10,
              "solidity": 0.2
             }
            },
            "type": "histogram"
           }
          ],
          "histogram2d": [
           {
            "colorbar": {
             "outlinewidth": 0,
             "ticks": ""
            },
            "colorscale": [
             [
              0,
              "#0d0887"
             ],
             [
              0.1111111111111111,
              "#46039f"
             ],
             [
              0.2222222222222222,
              "#7201a8"
             ],
             [
              0.3333333333333333,
              "#9c179e"
             ],
             [
              0.4444444444444444,
              "#bd3786"
             ],
             [
              0.5555555555555556,
              "#d8576b"
             ],
             [
              0.6666666666666666,
              "#ed7953"
             ],
             [
              0.7777777777777778,
              "#fb9f3a"
             ],
             [
              0.8888888888888888,
              "#fdca26"
             ],
             [
              1,
              "#f0f921"
             ]
            ],
            "type": "histogram2d"
           }
          ],
          "histogram2dcontour": [
           {
            "colorbar": {
             "outlinewidth": 0,
             "ticks": ""
            },
            "colorscale": [
             [
              0,
              "#0d0887"
             ],
             [
              0.1111111111111111,
              "#46039f"
             ],
             [
              0.2222222222222222,
              "#7201a8"
             ],
             [
              0.3333333333333333,
              "#9c179e"
             ],
             [
              0.4444444444444444,
              "#bd3786"
             ],
             [
              0.5555555555555556,
              "#d8576b"
             ],
             [
              0.6666666666666666,
              "#ed7953"
             ],
             [
              0.7777777777777778,
              "#fb9f3a"
             ],
             [
              0.8888888888888888,
              "#fdca26"
             ],
             [
              1,
              "#f0f921"
             ]
            ],
            "type": "histogram2dcontour"
           }
          ],
          "mesh3d": [
           {
            "colorbar": {
             "outlinewidth": 0,
             "ticks": ""
            },
            "type": "mesh3d"
           }
          ],
          "parcoords": [
           {
            "line": {
             "colorbar": {
              "outlinewidth": 0,
              "ticks": ""
             }
            },
            "type": "parcoords"
           }
          ],
          "pie": [
           {
            "automargin": true,
            "type": "pie"
           }
          ],
          "scatter": [
           {
            "fillpattern": {
             "fillmode": "overlay",
             "size": 10,
             "solidity": 0.2
            },
            "type": "scatter"
           }
          ],
          "scatter3d": [
           {
            "line": {
             "colorbar": {
              "outlinewidth": 0,
              "ticks": ""
             }
            },
            "marker": {
             "colorbar": {
              "outlinewidth": 0,
              "ticks": ""
             }
            },
            "type": "scatter3d"
           }
          ],
          "scattercarpet": [
           {
            "marker": {
             "colorbar": {
              "outlinewidth": 0,
              "ticks": ""
             }
            },
            "type": "scattercarpet"
           }
          ],
          "scattergeo": [
           {
            "marker": {
             "colorbar": {
              "outlinewidth": 0,
              "ticks": ""
             }
            },
            "type": "scattergeo"
           }
          ],
          "scattergl": [
           {
            "marker": {
             "colorbar": {
              "outlinewidth": 0,
              "ticks": ""
             }
            },
            "type": "scattergl"
           }
          ],
          "scattermapbox": [
           {
            "marker": {
             "colorbar": {
              "outlinewidth": 0,
              "ticks": ""
             }
            },
            "type": "scattermapbox"
           }
          ],
          "scatterpolar": [
           {
            "marker": {
             "colorbar": {
              "outlinewidth": 0,
              "ticks": ""
             }
            },
            "type": "scatterpolar"
           }
          ],
          "scatterpolargl": [
           {
            "marker": {
             "colorbar": {
              "outlinewidth": 0,
              "ticks": ""
             }
            },
            "type": "scatterpolargl"
           }
          ],
          "scatterternary": [
           {
            "marker": {
             "colorbar": {
              "outlinewidth": 0,
              "ticks": ""
             }
            },
            "type": "scatterternary"
           }
          ],
          "surface": [
           {
            "colorbar": {
             "outlinewidth": 0,
             "ticks": ""
            },
            "colorscale": [
             [
              0,
              "#0d0887"
             ],
             [
              0.1111111111111111,
              "#46039f"
             ],
             [
              0.2222222222222222,
              "#7201a8"
             ],
             [
              0.3333333333333333,
              "#9c179e"
             ],
             [
              0.4444444444444444,
              "#bd3786"
             ],
             [
              0.5555555555555556,
              "#d8576b"
             ],
             [
              0.6666666666666666,
              "#ed7953"
             ],
             [
              0.7777777777777778,
              "#fb9f3a"
             ],
             [
              0.8888888888888888,
              "#fdca26"
             ],
             [
              1,
              "#f0f921"
             ]
            ],
            "type": "surface"
           }
          ],
          "table": [
           {
            "cells": {
             "fill": {
              "color": "#EBF0F8"
             },
             "line": {
              "color": "white"
             }
            },
            "header": {
             "fill": {
              "color": "#C8D4E3"
             },
             "line": {
              "color": "white"
             }
            },
            "type": "table"
           }
          ]
         },
         "layout": {
          "annotationdefaults": {
           "arrowcolor": "#2a3f5f",
           "arrowhead": 0,
           "arrowwidth": 1
          },
          "autotypenumbers": "strict",
          "coloraxis": {
           "colorbar": {
            "outlinewidth": 0,
            "ticks": ""
           }
          },
          "colorscale": {
           "diverging": [
            [
             0,
             "#8e0152"
            ],
            [
             0.1,
             "#c51b7d"
            ],
            [
             0.2,
             "#de77ae"
            ],
            [
             0.3,
             "#f1b6da"
            ],
            [
             0.4,
             "#fde0ef"
            ],
            [
             0.5,
             "#f7f7f7"
            ],
            [
             0.6,
             "#e6f5d0"
            ],
            [
             0.7,
             "#b8e186"
            ],
            [
             0.8,
             "#7fbc41"
            ],
            [
             0.9,
             "#4d9221"
            ],
            [
             1,
             "#276419"
            ]
           ],
           "sequential": [
            [
             0,
             "#0d0887"
            ],
            [
             0.1111111111111111,
             "#46039f"
            ],
            [
             0.2222222222222222,
             "#7201a8"
            ],
            [
             0.3333333333333333,
             "#9c179e"
            ],
            [
             0.4444444444444444,
             "#bd3786"
            ],
            [
             0.5555555555555556,
             "#d8576b"
            ],
            [
             0.6666666666666666,
             "#ed7953"
            ],
            [
             0.7777777777777778,
             "#fb9f3a"
            ],
            [
             0.8888888888888888,
             "#fdca26"
            ],
            [
             1,
             "#f0f921"
            ]
           ],
           "sequentialminus": [
            [
             0,
             "#0d0887"
            ],
            [
             0.1111111111111111,
             "#46039f"
            ],
            [
             0.2222222222222222,
             "#7201a8"
            ],
            [
             0.3333333333333333,
             "#9c179e"
            ],
            [
             0.4444444444444444,
             "#bd3786"
            ],
            [
             0.5555555555555556,
             "#d8576b"
            ],
            [
             0.6666666666666666,
             "#ed7953"
            ],
            [
             0.7777777777777778,
             "#fb9f3a"
            ],
            [
             0.8888888888888888,
             "#fdca26"
            ],
            [
             1,
             "#f0f921"
            ]
           ]
          },
          "colorway": [
           "#636efa",
           "#EF553B",
           "#00cc96",
           "#ab63fa",
           "#FFA15A",
           "#19d3f3",
           "#FF6692",
           "#B6E880",
           "#FF97FF",
           "#FECB52"
          ],
          "font": {
           "color": "#2a3f5f"
          },
          "geo": {
           "bgcolor": "white",
           "lakecolor": "white",
           "landcolor": "#E5ECF6",
           "showlakes": true,
           "showland": true,
           "subunitcolor": "white"
          },
          "hoverlabel": {
           "align": "left"
          },
          "hovermode": "closest",
          "mapbox": {
           "style": "light"
          },
          "paper_bgcolor": "white",
          "plot_bgcolor": "#E5ECF6",
          "polar": {
           "angularaxis": {
            "gridcolor": "white",
            "linecolor": "white",
            "ticks": ""
           },
           "bgcolor": "#E5ECF6",
           "radialaxis": {
            "gridcolor": "white",
            "linecolor": "white",
            "ticks": ""
           }
          },
          "scene": {
           "xaxis": {
            "backgroundcolor": "#E5ECF6",
            "gridcolor": "white",
            "gridwidth": 2,
            "linecolor": "white",
            "showbackground": true,
            "ticks": "",
            "zerolinecolor": "white"
           },
           "yaxis": {
            "backgroundcolor": "#E5ECF6",
            "gridcolor": "white",
            "gridwidth": 2,
            "linecolor": "white",
            "showbackground": true,
            "ticks": "",
            "zerolinecolor": "white"
           },
           "zaxis": {
            "backgroundcolor": "#E5ECF6",
            "gridcolor": "white",
            "gridwidth": 2,
            "linecolor": "white",
            "showbackground": true,
            "ticks": "",
            "zerolinecolor": "white"
           }
          },
          "shapedefaults": {
           "line": {
            "color": "#2a3f5f"
           }
          },
          "ternary": {
           "aaxis": {
            "gridcolor": "white",
            "linecolor": "white",
            "ticks": ""
           },
           "baxis": {
            "gridcolor": "white",
            "linecolor": "white",
            "ticks": ""
           },
           "bgcolor": "#E5ECF6",
           "caxis": {
            "gridcolor": "white",
            "linecolor": "white",
            "ticks": ""
           }
          },
          "title": {
           "x": 0.05
          },
          "xaxis": {
           "automargin": true,
           "gridcolor": "white",
           "linecolor": "white",
           "ticks": "",
           "title": {
            "standoff": 15
           },
           "zerolinecolor": "white",
           "zerolinewidth": 2
          },
          "yaxis": {
           "automargin": true,
           "gridcolor": "white",
           "linecolor": "white",
           "ticks": "",
           "title": {
            "standoff": 15
           },
           "zerolinecolor": "white",
           "zerolinewidth": 2
          }
         }
        },
        "xaxis": {
         "anchor": "y",
         "domain": [
          0,
          1
         ],
         "title": {
          "text": "Year"
         }
        },
        "yaxis": {
         "anchor": "x",
         "domain": [
          0,
          1
         ],
         "title": {
          "text": "Total Medals"
         }
        }
       }
      }
     },
     "metadata": {},
     "output_type": "display_data"
    }
   ],
   "source": [
    "# line chart showing the progression of france - its total medals over the years.\n",
    "fig = px.line(medals[medals['Country'] == 'France'].groupby('Year')['Total'].sum(),\n",
    "              x=medals[medals['Country'] == 'France'].groupby('Year')['Total'].sum().index,\n",
    "              y=medals[medals['Country'] == 'France'].groupby('Year')['Total'].sum().values,\n",
    "              labels={'x': 'Year', 'y': 'Total Medals'})\n",
    "fig.show()"
   ]
  },
  {
   "cell_type": "markdown",
   "metadata": {},
   "source": [
    "### A historical analysis ..."
   ]
  },
  {
   "cell_type": "code",
   "execution_count": 18,
   "metadata": {},
   "outputs": [
    {
     "data": {
      "application/vnd.plotly.v1+json": {
       "config": {
        "plotlyServerURL": "https://plot.ly"
       },
       "data": [
        {
         "hovertemplate": "Year=%{x}<br>Total Medals=%{y}<extra></extra>",
         "legendgroup": "",
         "marker": {
          "color": "#636efa",
          "symbol": "circle"
         },
         "mode": "markers",
         "name": "",
         "orientation": "v",
         "showlegend": false,
         "type": "scatter",
         "x": [
          1896,
          1900,
          1904,
          1906,
          1908,
          1912,
          1920,
          1924,
          1928,
          1932,
          1936,
          1948,
          1952,
          1956,
          1960,
          1964,
          1968,
          1972,
          1976,
          1984,
          1988,
          1992,
          1996,
          2000,
          2004,
          2008,
          2012,
          2016,
          2021
         ],
         "xaxis": "x",
         "y": [
          20,
          49,
          241,
          24,
          46,
          63,
          95,
          99,
          56,
          102,
          56,
          84,
          76,
          75,
          71,
          90,
          107,
          93,
          96,
          174,
          94,
          107,
          102,
          93,
          103,
          114,
          103,
          121,
          113
         ],
         "yaxis": "y"
        }
       ],
       "layout": {
        "legend": {
         "tracegroupgap": 0
        },
        "margin": {
         "t": 60
        },
        "template": {
         "data": {
          "bar": [
           {
            "error_x": {
             "color": "#2a3f5f"
            },
            "error_y": {
             "color": "#2a3f5f"
            },
            "marker": {
             "line": {
              "color": "#E5ECF6",
              "width": 0.5
             },
             "pattern": {
              "fillmode": "overlay",
              "size": 10,
              "solidity": 0.2
             }
            },
            "type": "bar"
           }
          ],
          "barpolar": [
           {
            "marker": {
             "line": {
              "color": "#E5ECF6",
              "width": 0.5
             },
             "pattern": {
              "fillmode": "overlay",
              "size": 10,
              "solidity": 0.2
             }
            },
            "type": "barpolar"
           }
          ],
          "carpet": [
           {
            "aaxis": {
             "endlinecolor": "#2a3f5f",
             "gridcolor": "white",
             "linecolor": "white",
             "minorgridcolor": "white",
             "startlinecolor": "#2a3f5f"
            },
            "baxis": {
             "endlinecolor": "#2a3f5f",
             "gridcolor": "white",
             "linecolor": "white",
             "minorgridcolor": "white",
             "startlinecolor": "#2a3f5f"
            },
            "type": "carpet"
           }
          ],
          "choropleth": [
           {
            "colorbar": {
             "outlinewidth": 0,
             "ticks": ""
            },
            "type": "choropleth"
           }
          ],
          "contour": [
           {
            "colorbar": {
             "outlinewidth": 0,
             "ticks": ""
            },
            "colorscale": [
             [
              0,
              "#0d0887"
             ],
             [
              0.1111111111111111,
              "#46039f"
             ],
             [
              0.2222222222222222,
              "#7201a8"
             ],
             [
              0.3333333333333333,
              "#9c179e"
             ],
             [
              0.4444444444444444,
              "#bd3786"
             ],
             [
              0.5555555555555556,
              "#d8576b"
             ],
             [
              0.6666666666666666,
              "#ed7953"
             ],
             [
              0.7777777777777778,
              "#fb9f3a"
             ],
             [
              0.8888888888888888,
              "#fdca26"
             ],
             [
              1,
              "#f0f921"
             ]
            ],
            "type": "contour"
           }
          ],
          "contourcarpet": [
           {
            "colorbar": {
             "outlinewidth": 0,
             "ticks": ""
            },
            "type": "contourcarpet"
           }
          ],
          "heatmap": [
           {
            "colorbar": {
             "outlinewidth": 0,
             "ticks": ""
            },
            "colorscale": [
             [
              0,
              "#0d0887"
             ],
             [
              0.1111111111111111,
              "#46039f"
             ],
             [
              0.2222222222222222,
              "#7201a8"
             ],
             [
              0.3333333333333333,
              "#9c179e"
             ],
             [
              0.4444444444444444,
              "#bd3786"
             ],
             [
              0.5555555555555556,
              "#d8576b"
             ],
             [
              0.6666666666666666,
              "#ed7953"
             ],
             [
              0.7777777777777778,
              "#fb9f3a"
             ],
             [
              0.8888888888888888,
              "#fdca26"
             ],
             [
              1,
              "#f0f921"
             ]
            ],
            "type": "heatmap"
           }
          ],
          "heatmapgl": [
           {
            "colorbar": {
             "outlinewidth": 0,
             "ticks": ""
            },
            "colorscale": [
             [
              0,
              "#0d0887"
             ],
             [
              0.1111111111111111,
              "#46039f"
             ],
             [
              0.2222222222222222,
              "#7201a8"
             ],
             [
              0.3333333333333333,
              "#9c179e"
             ],
             [
              0.4444444444444444,
              "#bd3786"
             ],
             [
              0.5555555555555556,
              "#d8576b"
             ],
             [
              0.6666666666666666,
              "#ed7953"
             ],
             [
              0.7777777777777778,
              "#fb9f3a"
             ],
             [
              0.8888888888888888,
              "#fdca26"
             ],
             [
              1,
              "#f0f921"
             ]
            ],
            "type": "heatmapgl"
           }
          ],
          "histogram": [
           {
            "marker": {
             "pattern": {
              "fillmode": "overlay",
              "size": 10,
              "solidity": 0.2
             }
            },
            "type": "histogram"
           }
          ],
          "histogram2d": [
           {
            "colorbar": {
             "outlinewidth": 0,
             "ticks": ""
            },
            "colorscale": [
             [
              0,
              "#0d0887"
             ],
             [
              0.1111111111111111,
              "#46039f"
             ],
             [
              0.2222222222222222,
              "#7201a8"
             ],
             [
              0.3333333333333333,
              "#9c179e"
             ],
             [
              0.4444444444444444,
              "#bd3786"
             ],
             [
              0.5555555555555556,
              "#d8576b"
             ],
             [
              0.6666666666666666,
              "#ed7953"
             ],
             [
              0.7777777777777778,
              "#fb9f3a"
             ],
             [
              0.8888888888888888,
              "#fdca26"
             ],
             [
              1,
              "#f0f921"
             ]
            ],
            "type": "histogram2d"
           }
          ],
          "histogram2dcontour": [
           {
            "colorbar": {
             "outlinewidth": 0,
             "ticks": ""
            },
            "colorscale": [
             [
              0,
              "#0d0887"
             ],
             [
              0.1111111111111111,
              "#46039f"
             ],
             [
              0.2222222222222222,
              "#7201a8"
             ],
             [
              0.3333333333333333,
              "#9c179e"
             ],
             [
              0.4444444444444444,
              "#bd3786"
             ],
             [
              0.5555555555555556,
              "#d8576b"
             ],
             [
              0.6666666666666666,
              "#ed7953"
             ],
             [
              0.7777777777777778,
              "#fb9f3a"
             ],
             [
              0.8888888888888888,
              "#fdca26"
             ],
             [
              1,
              "#f0f921"
             ]
            ],
            "type": "histogram2dcontour"
           }
          ],
          "mesh3d": [
           {
            "colorbar": {
             "outlinewidth": 0,
             "ticks": ""
            },
            "type": "mesh3d"
           }
          ],
          "parcoords": [
           {
            "line": {
             "colorbar": {
              "outlinewidth": 0,
              "ticks": ""
             }
            },
            "type": "parcoords"
           }
          ],
          "pie": [
           {
            "automargin": true,
            "type": "pie"
           }
          ],
          "scatter": [
           {
            "fillpattern": {
             "fillmode": "overlay",
             "size": 10,
             "solidity": 0.2
            },
            "type": "scatter"
           }
          ],
          "scatter3d": [
           {
            "line": {
             "colorbar": {
              "outlinewidth": 0,
              "ticks": ""
             }
            },
            "marker": {
             "colorbar": {
              "outlinewidth": 0,
              "ticks": ""
             }
            },
            "type": "scatter3d"
           }
          ],
          "scattercarpet": [
           {
            "marker": {
             "colorbar": {
              "outlinewidth": 0,
              "ticks": ""
             }
            },
            "type": "scattercarpet"
           }
          ],
          "scattergeo": [
           {
            "marker": {
             "colorbar": {
              "outlinewidth": 0,
              "ticks": ""
             }
            },
            "type": "scattergeo"
           }
          ],
          "scattergl": [
           {
            "marker": {
             "colorbar": {
              "outlinewidth": 0,
              "ticks": ""
             }
            },
            "type": "scattergl"
           }
          ],
          "scattermapbox": [
           {
            "marker": {
             "colorbar": {
              "outlinewidth": 0,
              "ticks": ""
             }
            },
            "type": "scattermapbox"
           }
          ],
          "scatterpolar": [
           {
            "marker": {
             "colorbar": {
              "outlinewidth": 0,
              "ticks": ""
             }
            },
            "type": "scatterpolar"
           }
          ],
          "scatterpolargl": [
           {
            "marker": {
             "colorbar": {
              "outlinewidth": 0,
              "ticks": ""
             }
            },
            "type": "scatterpolargl"
           }
          ],
          "scatterternary": [
           {
            "marker": {
             "colorbar": {
              "outlinewidth": 0,
              "ticks": ""
             }
            },
            "type": "scatterternary"
           }
          ],
          "surface": [
           {
            "colorbar": {
             "outlinewidth": 0,
             "ticks": ""
            },
            "colorscale": [
             [
              0,
              "#0d0887"
             ],
             [
              0.1111111111111111,
              "#46039f"
             ],
             [
              0.2222222222222222,
              "#7201a8"
             ],
             [
              0.3333333333333333,
              "#9c179e"
             ],
             [
              0.4444444444444444,
              "#bd3786"
             ],
             [
              0.5555555555555556,
              "#d8576b"
             ],
             [
              0.6666666666666666,
              "#ed7953"
             ],
             [
              0.7777777777777778,
              "#fb9f3a"
             ],
             [
              0.8888888888888888,
              "#fdca26"
             ],
             [
              1,
              "#f0f921"
             ]
            ],
            "type": "surface"
           }
          ],
          "table": [
           {
            "cells": {
             "fill": {
              "color": "#EBF0F8"
             },
             "line": {
              "color": "white"
             }
            },
            "header": {
             "fill": {
              "color": "#C8D4E3"
             },
             "line": {
              "color": "white"
             }
            },
            "type": "table"
           }
          ]
         },
         "layout": {
          "annotationdefaults": {
           "arrowcolor": "#2a3f5f",
           "arrowhead": 0,
           "arrowwidth": 1
          },
          "autotypenumbers": "strict",
          "coloraxis": {
           "colorbar": {
            "outlinewidth": 0,
            "ticks": ""
           }
          },
          "colorscale": {
           "diverging": [
            [
             0,
             "#8e0152"
            ],
            [
             0.1,
             "#c51b7d"
            ],
            [
             0.2,
             "#de77ae"
            ],
            [
             0.3,
             "#f1b6da"
            ],
            [
             0.4,
             "#fde0ef"
            ],
            [
             0.5,
             "#f7f7f7"
            ],
            [
             0.6,
             "#e6f5d0"
            ],
            [
             0.7,
             "#b8e186"
            ],
            [
             0.8,
             "#7fbc41"
            ],
            [
             0.9,
             "#4d9221"
            ],
            [
             1,
             "#276419"
            ]
           ],
           "sequential": [
            [
             0,
             "#0d0887"
            ],
            [
             0.1111111111111111,
             "#46039f"
            ],
            [
             0.2222222222222222,
             "#7201a8"
            ],
            [
             0.3333333333333333,
             "#9c179e"
            ],
            [
             0.4444444444444444,
             "#bd3786"
            ],
            [
             0.5555555555555556,
             "#d8576b"
            ],
            [
             0.6666666666666666,
             "#ed7953"
            ],
            [
             0.7777777777777778,
             "#fb9f3a"
            ],
            [
             0.8888888888888888,
             "#fdca26"
            ],
            [
             1,
             "#f0f921"
            ]
           ],
           "sequentialminus": [
            [
             0,
             "#0d0887"
            ],
            [
             0.1111111111111111,
             "#46039f"
            ],
            [
             0.2222222222222222,
             "#7201a8"
            ],
            [
             0.3333333333333333,
             "#9c179e"
            ],
            [
             0.4444444444444444,
             "#bd3786"
            ],
            [
             0.5555555555555556,
             "#d8576b"
            ],
            [
             0.6666666666666666,
             "#ed7953"
            ],
            [
             0.7777777777777778,
             "#fb9f3a"
            ],
            [
             0.8888888888888888,
             "#fdca26"
            ],
            [
             1,
             "#f0f921"
            ]
           ]
          },
          "colorway": [
           "#636efa",
           "#EF553B",
           "#00cc96",
           "#ab63fa",
           "#FFA15A",
           "#19d3f3",
           "#FF6692",
           "#B6E880",
           "#FF97FF",
           "#FECB52"
          ],
          "font": {
           "color": "#2a3f5f"
          },
          "geo": {
           "bgcolor": "white",
           "lakecolor": "white",
           "landcolor": "#E5ECF6",
           "showlakes": true,
           "showland": true,
           "subunitcolor": "white"
          },
          "hoverlabel": {
           "align": "left"
          },
          "hovermode": "closest",
          "mapbox": {
           "style": "light"
          },
          "paper_bgcolor": "white",
          "plot_bgcolor": "#E5ECF6",
          "polar": {
           "angularaxis": {
            "gridcolor": "white",
            "linecolor": "white",
            "ticks": ""
           },
           "bgcolor": "#E5ECF6",
           "radialaxis": {
            "gridcolor": "white",
            "linecolor": "white",
            "ticks": ""
           }
          },
          "scene": {
           "xaxis": {
            "backgroundcolor": "#E5ECF6",
            "gridcolor": "white",
            "gridwidth": 2,
            "linecolor": "white",
            "showbackground": true,
            "ticks": "",
            "zerolinecolor": "white"
           },
           "yaxis": {
            "backgroundcolor": "#E5ECF6",
            "gridcolor": "white",
            "gridwidth": 2,
            "linecolor": "white",
            "showbackground": true,
            "ticks": "",
            "zerolinecolor": "white"
           },
           "zaxis": {
            "backgroundcolor": "#E5ECF6",
            "gridcolor": "white",
            "gridwidth": 2,
            "linecolor": "white",
            "showbackground": true,
            "ticks": "",
            "zerolinecolor": "white"
           }
          },
          "shapedefaults": {
           "line": {
            "color": "#2a3f5f"
           }
          },
          "ternary": {
           "aaxis": {
            "gridcolor": "white",
            "linecolor": "white",
            "ticks": ""
           },
           "baxis": {
            "gridcolor": "white",
            "linecolor": "white",
            "ticks": ""
           },
           "bgcolor": "#E5ECF6",
           "caxis": {
            "gridcolor": "white",
            "linecolor": "white",
            "ticks": ""
           }
          },
          "title": {
           "x": 0.05
          },
          "xaxis": {
           "automargin": true,
           "gridcolor": "white",
           "linecolor": "white",
           "ticks": "",
           "title": {
            "standoff": 15
           },
           "zerolinecolor": "white",
           "zerolinewidth": 2
          },
          "yaxis": {
           "automargin": true,
           "gridcolor": "white",
           "linecolor": "white",
           "ticks": "",
           "title": {
            "standoff": 15
           },
           "zerolinecolor": "white",
           "zerolinewidth": 2
          }
         }
        },
        "xaxis": {
         "anchor": "y",
         "domain": [
          0,
          1
         ],
         "title": {
          "text": "Year"
         }
        },
        "yaxis": {
         "anchor": "x",
         "domain": [
          0,
          1
         ],
         "title": {
          "text": "Total Medals"
         }
        }
       }
      }
     },
     "metadata": {},
     "output_type": "display_data"
    }
   ],
   "source": [
    "# line chart showing the progression of the United States - its total medals over the years.\n",
    "fig = px.scatter(medals[medals['Country'] == 'Etats Unis'].groupby('Year')['Total'].sum(),\n",
    "              x=medals[medals['Country'] == 'Etats Unis'].groupby('Year')['Total'].sum().index,\n",
    "              y=medals[medals['Country'] == 'Etats Unis'].groupby('Year')['Total'].sum().values,\n",
    "              labels={'x': 'Year', 'y': 'Total Medals'})\n",
    "fig.show()"
   ]
  },
  {
   "cell_type": "markdown",
   "metadata": {},
   "source": [
    "We can observe the absence of the United States in the 1980 Moscow Olympics : the country boycotted the games to protest the Soviet invasion of Afghanistan. The Soviet Union retaliated by boycotting the 1984 Los Angeles Olympics."
   ]
  },
  {
   "cell_type": "code",
   "execution_count": 19,
   "metadata": {},
   "outputs": [
    {
     "data": {
      "application/vnd.plotly.v1+json": {
       "config": {
        "plotlyServerURL": "https://plot.ly"
       },
       "data": [
        {
         "hovertemplate": "Year=%{x}<br>Total Medals=%{y}<extra></extra>",
         "legendgroup": "",
         "marker": {
          "color": "#636efa",
          "symbol": "circle"
         },
         "mode": "markers",
         "name": "",
         "orientation": "v",
         "showlegend": false,
         "type": "scatter",
         "x": [
          1952,
          1956,
          1960,
          1964,
          1968,
          1972,
          1976,
          1980,
          1984,
          1988
         ],
         "xaxis": "x",
         "y": [
          71,
          98,
          103,
          98,
          91,
          99,
          124,
          194,
          1,
          127
         ],
         "yaxis": "y"
        }
       ],
       "layout": {
        "legend": {
         "tracegroupgap": 0
        },
        "margin": {
         "t": 60
        },
        "template": {
         "data": {
          "bar": [
           {
            "error_x": {
             "color": "#2a3f5f"
            },
            "error_y": {
             "color": "#2a3f5f"
            },
            "marker": {
             "line": {
              "color": "#E5ECF6",
              "width": 0.5
             },
             "pattern": {
              "fillmode": "overlay",
              "size": 10,
              "solidity": 0.2
             }
            },
            "type": "bar"
           }
          ],
          "barpolar": [
           {
            "marker": {
             "line": {
              "color": "#E5ECF6",
              "width": 0.5
             },
             "pattern": {
              "fillmode": "overlay",
              "size": 10,
              "solidity": 0.2
             }
            },
            "type": "barpolar"
           }
          ],
          "carpet": [
           {
            "aaxis": {
             "endlinecolor": "#2a3f5f",
             "gridcolor": "white",
             "linecolor": "white",
             "minorgridcolor": "white",
             "startlinecolor": "#2a3f5f"
            },
            "baxis": {
             "endlinecolor": "#2a3f5f",
             "gridcolor": "white",
             "linecolor": "white",
             "minorgridcolor": "white",
             "startlinecolor": "#2a3f5f"
            },
            "type": "carpet"
           }
          ],
          "choropleth": [
           {
            "colorbar": {
             "outlinewidth": 0,
             "ticks": ""
            },
            "type": "choropleth"
           }
          ],
          "contour": [
           {
            "colorbar": {
             "outlinewidth": 0,
             "ticks": ""
            },
            "colorscale": [
             [
              0,
              "#0d0887"
             ],
             [
              0.1111111111111111,
              "#46039f"
             ],
             [
              0.2222222222222222,
              "#7201a8"
             ],
             [
              0.3333333333333333,
              "#9c179e"
             ],
             [
              0.4444444444444444,
              "#bd3786"
             ],
             [
              0.5555555555555556,
              "#d8576b"
             ],
             [
              0.6666666666666666,
              "#ed7953"
             ],
             [
              0.7777777777777778,
              "#fb9f3a"
             ],
             [
              0.8888888888888888,
              "#fdca26"
             ],
             [
              1,
              "#f0f921"
             ]
            ],
            "type": "contour"
           }
          ],
          "contourcarpet": [
           {
            "colorbar": {
             "outlinewidth": 0,
             "ticks": ""
            },
            "type": "contourcarpet"
           }
          ],
          "heatmap": [
           {
            "colorbar": {
             "outlinewidth": 0,
             "ticks": ""
            },
            "colorscale": [
             [
              0,
              "#0d0887"
             ],
             [
              0.1111111111111111,
              "#46039f"
             ],
             [
              0.2222222222222222,
              "#7201a8"
             ],
             [
              0.3333333333333333,
              "#9c179e"
             ],
             [
              0.4444444444444444,
              "#bd3786"
             ],
             [
              0.5555555555555556,
              "#d8576b"
             ],
             [
              0.6666666666666666,
              "#ed7953"
             ],
             [
              0.7777777777777778,
              "#fb9f3a"
             ],
             [
              0.8888888888888888,
              "#fdca26"
             ],
             [
              1,
              "#f0f921"
             ]
            ],
            "type": "heatmap"
           }
          ],
          "heatmapgl": [
           {
            "colorbar": {
             "outlinewidth": 0,
             "ticks": ""
            },
            "colorscale": [
             [
              0,
              "#0d0887"
             ],
             [
              0.1111111111111111,
              "#46039f"
             ],
             [
              0.2222222222222222,
              "#7201a8"
             ],
             [
              0.3333333333333333,
              "#9c179e"
             ],
             [
              0.4444444444444444,
              "#bd3786"
             ],
             [
              0.5555555555555556,
              "#d8576b"
             ],
             [
              0.6666666666666666,
              "#ed7953"
             ],
             [
              0.7777777777777778,
              "#fb9f3a"
             ],
             [
              0.8888888888888888,
              "#fdca26"
             ],
             [
              1,
              "#f0f921"
             ]
            ],
            "type": "heatmapgl"
           }
          ],
          "histogram": [
           {
            "marker": {
             "pattern": {
              "fillmode": "overlay",
              "size": 10,
              "solidity": 0.2
             }
            },
            "type": "histogram"
           }
          ],
          "histogram2d": [
           {
            "colorbar": {
             "outlinewidth": 0,
             "ticks": ""
            },
            "colorscale": [
             [
              0,
              "#0d0887"
             ],
             [
              0.1111111111111111,
              "#46039f"
             ],
             [
              0.2222222222222222,
              "#7201a8"
             ],
             [
              0.3333333333333333,
              "#9c179e"
             ],
             [
              0.4444444444444444,
              "#bd3786"
             ],
             [
              0.5555555555555556,
              "#d8576b"
             ],
             [
              0.6666666666666666,
              "#ed7953"
             ],
             [
              0.7777777777777778,
              "#fb9f3a"
             ],
             [
              0.8888888888888888,
              "#fdca26"
             ],
             [
              1,
              "#f0f921"
             ]
            ],
            "type": "histogram2d"
           }
          ],
          "histogram2dcontour": [
           {
            "colorbar": {
             "outlinewidth": 0,
             "ticks": ""
            },
            "colorscale": [
             [
              0,
              "#0d0887"
             ],
             [
              0.1111111111111111,
              "#46039f"
             ],
             [
              0.2222222222222222,
              "#7201a8"
             ],
             [
              0.3333333333333333,
              "#9c179e"
             ],
             [
              0.4444444444444444,
              "#bd3786"
             ],
             [
              0.5555555555555556,
              "#d8576b"
             ],
             [
              0.6666666666666666,
              "#ed7953"
             ],
             [
              0.7777777777777778,
              "#fb9f3a"
             ],
             [
              0.8888888888888888,
              "#fdca26"
             ],
             [
              1,
              "#f0f921"
             ]
            ],
            "type": "histogram2dcontour"
           }
          ],
          "mesh3d": [
           {
            "colorbar": {
             "outlinewidth": 0,
             "ticks": ""
            },
            "type": "mesh3d"
           }
          ],
          "parcoords": [
           {
            "line": {
             "colorbar": {
              "outlinewidth": 0,
              "ticks": ""
             }
            },
            "type": "parcoords"
           }
          ],
          "pie": [
           {
            "automargin": true,
            "type": "pie"
           }
          ],
          "scatter": [
           {
            "fillpattern": {
             "fillmode": "overlay",
             "size": 10,
             "solidity": 0.2
            },
            "type": "scatter"
           }
          ],
          "scatter3d": [
           {
            "line": {
             "colorbar": {
              "outlinewidth": 0,
              "ticks": ""
             }
            },
            "marker": {
             "colorbar": {
              "outlinewidth": 0,
              "ticks": ""
             }
            },
            "type": "scatter3d"
           }
          ],
          "scattercarpet": [
           {
            "marker": {
             "colorbar": {
              "outlinewidth": 0,
              "ticks": ""
             }
            },
            "type": "scattercarpet"
           }
          ],
          "scattergeo": [
           {
            "marker": {
             "colorbar": {
              "outlinewidth": 0,
              "ticks": ""
             }
            },
            "type": "scattergeo"
           }
          ],
          "scattergl": [
           {
            "marker": {
             "colorbar": {
              "outlinewidth": 0,
              "ticks": ""
             }
            },
            "type": "scattergl"
           }
          ],
          "scattermapbox": [
           {
            "marker": {
             "colorbar": {
              "outlinewidth": 0,
              "ticks": ""
             }
            },
            "type": "scattermapbox"
           }
          ],
          "scatterpolar": [
           {
            "marker": {
             "colorbar": {
              "outlinewidth": 0,
              "ticks": ""
             }
            },
            "type": "scatterpolar"
           }
          ],
          "scatterpolargl": [
           {
            "marker": {
             "colorbar": {
              "outlinewidth": 0,
              "ticks": ""
             }
            },
            "type": "scatterpolargl"
           }
          ],
          "scatterternary": [
           {
            "marker": {
             "colorbar": {
              "outlinewidth": 0,
              "ticks": ""
             }
            },
            "type": "scatterternary"
           }
          ],
          "surface": [
           {
            "colorbar": {
             "outlinewidth": 0,
             "ticks": ""
            },
            "colorscale": [
             [
              0,
              "#0d0887"
             ],
             [
              0.1111111111111111,
              "#46039f"
             ],
             [
              0.2222222222222222,
              "#7201a8"
             ],
             [
              0.3333333333333333,
              "#9c179e"
             ],
             [
              0.4444444444444444,
              "#bd3786"
             ],
             [
              0.5555555555555556,
              "#d8576b"
             ],
             [
              0.6666666666666666,
              "#ed7953"
             ],
             [
              0.7777777777777778,
              "#fb9f3a"
             ],
             [
              0.8888888888888888,
              "#fdca26"
             ],
             [
              1,
              "#f0f921"
             ]
            ],
            "type": "surface"
           }
          ],
          "table": [
           {
            "cells": {
             "fill": {
              "color": "#EBF0F8"
             },
             "line": {
              "color": "white"
             }
            },
            "header": {
             "fill": {
              "color": "#C8D4E3"
             },
             "line": {
              "color": "white"
             }
            },
            "type": "table"
           }
          ]
         },
         "layout": {
          "annotationdefaults": {
           "arrowcolor": "#2a3f5f",
           "arrowhead": 0,
           "arrowwidth": 1
          },
          "autotypenumbers": "strict",
          "coloraxis": {
           "colorbar": {
            "outlinewidth": 0,
            "ticks": ""
           }
          },
          "colorscale": {
           "diverging": [
            [
             0,
             "#8e0152"
            ],
            [
             0.1,
             "#c51b7d"
            ],
            [
             0.2,
             "#de77ae"
            ],
            [
             0.3,
             "#f1b6da"
            ],
            [
             0.4,
             "#fde0ef"
            ],
            [
             0.5,
             "#f7f7f7"
            ],
            [
             0.6,
             "#e6f5d0"
            ],
            [
             0.7,
             "#b8e186"
            ],
            [
             0.8,
             "#7fbc41"
            ],
            [
             0.9,
             "#4d9221"
            ],
            [
             1,
             "#276419"
            ]
           ],
           "sequential": [
            [
             0,
             "#0d0887"
            ],
            [
             0.1111111111111111,
             "#46039f"
            ],
            [
             0.2222222222222222,
             "#7201a8"
            ],
            [
             0.3333333333333333,
             "#9c179e"
            ],
            [
             0.4444444444444444,
             "#bd3786"
            ],
            [
             0.5555555555555556,
             "#d8576b"
            ],
            [
             0.6666666666666666,
             "#ed7953"
            ],
            [
             0.7777777777777778,
             "#fb9f3a"
            ],
            [
             0.8888888888888888,
             "#fdca26"
            ],
            [
             1,
             "#f0f921"
            ]
           ],
           "sequentialminus": [
            [
             0,
             "#0d0887"
            ],
            [
             0.1111111111111111,
             "#46039f"
            ],
            [
             0.2222222222222222,
             "#7201a8"
            ],
            [
             0.3333333333333333,
             "#9c179e"
            ],
            [
             0.4444444444444444,
             "#bd3786"
            ],
            [
             0.5555555555555556,
             "#d8576b"
            ],
            [
             0.6666666666666666,
             "#ed7953"
            ],
            [
             0.7777777777777778,
             "#fb9f3a"
            ],
            [
             0.8888888888888888,
             "#fdca26"
            ],
            [
             1,
             "#f0f921"
            ]
           ]
          },
          "colorway": [
           "#636efa",
           "#EF553B",
           "#00cc96",
           "#ab63fa",
           "#FFA15A",
           "#19d3f3",
           "#FF6692",
           "#B6E880",
           "#FF97FF",
           "#FECB52"
          ],
          "font": {
           "color": "#2a3f5f"
          },
          "geo": {
           "bgcolor": "white",
           "lakecolor": "white",
           "landcolor": "#E5ECF6",
           "showlakes": true,
           "showland": true,
           "subunitcolor": "white"
          },
          "hoverlabel": {
           "align": "left"
          },
          "hovermode": "closest",
          "mapbox": {
           "style": "light"
          },
          "paper_bgcolor": "white",
          "plot_bgcolor": "#E5ECF6",
          "polar": {
           "angularaxis": {
            "gridcolor": "white",
            "linecolor": "white",
            "ticks": ""
           },
           "bgcolor": "#E5ECF6",
           "radialaxis": {
            "gridcolor": "white",
            "linecolor": "white",
            "ticks": ""
           }
          },
          "scene": {
           "xaxis": {
            "backgroundcolor": "#E5ECF6",
            "gridcolor": "white",
            "gridwidth": 2,
            "linecolor": "white",
            "showbackground": true,
            "ticks": "",
            "zerolinecolor": "white"
           },
           "yaxis": {
            "backgroundcolor": "#E5ECF6",
            "gridcolor": "white",
            "gridwidth": 2,
            "linecolor": "white",
            "showbackground": true,
            "ticks": "",
            "zerolinecolor": "white"
           },
           "zaxis": {
            "backgroundcolor": "#E5ECF6",
            "gridcolor": "white",
            "gridwidth": 2,
            "linecolor": "white",
            "showbackground": true,
            "ticks": "",
            "zerolinecolor": "white"
           }
          },
          "shapedefaults": {
           "line": {
            "color": "#2a3f5f"
           }
          },
          "ternary": {
           "aaxis": {
            "gridcolor": "white",
            "linecolor": "white",
            "ticks": ""
           },
           "baxis": {
            "gridcolor": "white",
            "linecolor": "white",
            "ticks": ""
           },
           "bgcolor": "#E5ECF6",
           "caxis": {
            "gridcolor": "white",
            "linecolor": "white",
            "ticks": ""
           }
          },
          "title": {
           "x": 0.05
          },
          "xaxis": {
           "automargin": true,
           "gridcolor": "white",
           "linecolor": "white",
           "ticks": "",
           "title": {
            "standoff": 15
           },
           "zerolinecolor": "white",
           "zerolinewidth": 2
          },
          "yaxis": {
           "automargin": true,
           "gridcolor": "white",
           "linecolor": "white",
           "ticks": "",
           "title": {
            "standoff": 15
           },
           "zerolinecolor": "white",
           "zerolinewidth": 2
          }
         }
        },
        "xaxis": {
         "anchor": "y",
         "domain": [
          0,
          1
         ],
         "title": {
          "text": "Year"
         }
        },
        "yaxis": {
         "anchor": "x",
         "domain": [
          0,
          1
         ],
         "title": {
          "text": "Total Medals"
         }
        }
       }
      }
     },
     "metadata": {},
     "output_type": "display_data"
    }
   ],
   "source": [
    "fig = px.scatter(medals[medals['Country'] == 'U.R.S.S.'].groupby('Year')['Total'].sum(),\n",
    "              x=medals[medals['Country'] == 'U.R.S.S.'].groupby('Year')['Total'].sum().index,\n",
    "              y=medals[medals['Country'] == 'U.R.S.S.'].groupby('Year')['Total'].sum().values,\n",
    "              labels={'x': 'Year', 'y': 'Total Medals'})\n",
    "fig.show()"
   ]
  },
  {
   "cell_type": "markdown",
   "metadata": {},
   "source": [
    "### Environmental impact of hosting the Olympics : \n",
    "\n",
    "#### Do the olympic games have a remarkable impact on a country's greenhouse gas emissions?"
   ]
  },
  {
   "cell_type": "code",
   "execution_count": 22,
   "metadata": {},
   "outputs": [
    {
     "data": {
      "text/html": [
       "<div>\n",
       "<style scoped>\n",
       "    .dataframe tbody tr th:only-of-type {\n",
       "        vertical-align: middle;\n",
       "    }\n",
       "\n",
       "    .dataframe tbody tr th {\n",
       "        vertical-align: top;\n",
       "    }\n",
       "\n",
       "    .dataframe thead th {\n",
       "        text-align: right;\n",
       "    }\n",
       "</style>\n",
       "<table border=\"1\" class=\"dataframe\">\n",
       "  <thead>\n",
       "    <tr style=\"text-align: right;\">\n",
       "      <th></th>\n",
       "      <th>sector</th>\n",
       "      <th>country</th>\n",
       "      <th>year</th>\n",
       "      <th>GH emissions</th>\n",
       "    </tr>\n",
       "  </thead>\n",
       "  <tbody>\n",
       "    <tr>\n",
       "      <th>0</th>\n",
       "      <td>Energy Industries</td>\n",
       "      <td>Australia</td>\n",
       "      <td>1990</td>\n",
       "      <td>143172.76</td>\n",
       "    </tr>\n",
       "    <tr>\n",
       "      <th>1</th>\n",
       "      <td>Energy Industries</td>\n",
       "      <td>Australia</td>\n",
       "      <td>1991</td>\n",
       "      <td>146396.55</td>\n",
       "    </tr>\n",
       "    <tr>\n",
       "      <th>2</th>\n",
       "      <td>Energy Industries</td>\n",
       "      <td>Australia</td>\n",
       "      <td>1992</td>\n",
       "      <td>149719.80</td>\n",
       "    </tr>\n",
       "    <tr>\n",
       "      <th>3</th>\n",
       "      <td>Energy Industries</td>\n",
       "      <td>Australia</td>\n",
       "      <td>1993</td>\n",
       "      <td>151492.72</td>\n",
       "    </tr>\n",
       "    <tr>\n",
       "      <th>4</th>\n",
       "      <td>Energy Industries</td>\n",
       "      <td>Australia</td>\n",
       "      <td>1994</td>\n",
       "      <td>152307.64</td>\n",
       "    </tr>\n",
       "  </tbody>\n",
       "</table>\n",
       "</div>"
      ],
      "text/plain": [
       "              sector    country  year  GH emissions\n",
       "0  Energy Industries  Australia  1990     143172.76\n",
       "1  Energy Industries  Australia  1991     146396.55\n",
       "2  Energy Industries  Australia  1992     149719.80\n",
       "3  Energy Industries  Australia  1993     151492.72\n",
       "4  Energy Industries  Australia  1994     152307.64"
      ]
     },
     "execution_count": 22,
     "metadata": {},
     "output_type": "execute_result"
    }
   ],
   "source": [
    "GH_emissions = pd.read_csv('data_csv/cp_GH_emissions_final_version.csv')\n",
    "GH_emissions.head(5)"
   ]
  },
  {
   "cell_type": "code",
   "execution_count": null,
   "metadata": {},
   "outputs": [],
   "source": []
  }
 ],
 "metadata": {
  "kernelspec": {
   "display_name": "Python 3",
   "language": "python",
   "name": "python3"
  },
  "language_info": {
   "codemirror_mode": {
    "name": "ipython",
    "version": 3
   },
   "file_extension": ".py",
   "mimetype": "text/x-python",
   "name": "python",
   "nbconvert_exporter": "python",
   "pygments_lexer": "ipython3",
   "version": "3.11.7"
  }
 },
 "nbformat": 4,
 "nbformat_minor": 2
}

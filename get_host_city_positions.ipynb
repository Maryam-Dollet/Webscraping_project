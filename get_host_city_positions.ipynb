{
 "cells": [
  {
   "cell_type": "code",
   "execution_count": 2,
   "metadata": {},
   "outputs": [],
   "source": [
    "import pandas as pd\n",
    "import numpy as np\n",
    "import requests\n",
    "import os\n",
    "from dotenv import load_dotenv"
   ]
  },
  {
   "cell_type": "code",
   "execution_count": 3,
   "metadata": {},
   "outputs": [
    {
     "data": {
      "text/plain": [
       "True"
      ]
     },
     "execution_count": 3,
     "metadata": {},
     "output_type": "execute_result"
    }
   ],
   "source": [
    "load_dotenv()"
   ]
  },
  {
   "cell_type": "markdown",
   "metadata": {},
   "source": [
    "### Get the Latitude and Longitude of each city by using an API"
   ]
  },
  {
   "cell_type": "markdown",
   "metadata": {},
   "source": [
    "https://api-ninjas.com/api/geocoding"
   ]
  },
  {
   "cell_type": "markdown",
   "metadata": {},
   "source": [
    "Needs an account to get the API key, 10000 request per month authorized"
   ]
  },
  {
   "cell_type": "code",
   "execution_count": 4,
   "metadata": {},
   "outputs": [],
   "source": [
    "API_KEY = os.getenv('GEO_API_KEY')"
   ]
  },
  {
   "cell_type": "code",
   "execution_count": 5,
   "metadata": {},
   "outputs": [
    {
     "name": "stdout",
     "output_type": "stream",
     "text": [
      "200\n",
      "{'name': 'London', 'latitude': 51.5073219, 'longitude': -0.1276474, 'country': 'GB', 'state': 'England'}\n"
     ]
    }
   ],
   "source": [
    "city = 'london'\n",
    "api_url = f'https://api.api-ninjas.com/v1/geocoding?city={city}'\n",
    "response = requests.get(api_url, headers={'X-Api-Key': API_KEY})\n",
    "print(response.status_code)\n",
    "if response.status_code == requests.codes.ok:\n",
    "    city_position = response.json()[0]\n",
    "    print(response.json()[0])\n",
    "else:\n",
    "    print(\"Error:\", response.status_code, response.text)"
   ]
  },
  {
   "cell_type": "markdown",
   "metadata": {},
   "source": [
    "### Get unique cities in the Dataframe"
   ]
  },
  {
   "cell_type": "code",
   "execution_count": 7,
   "metadata": {},
   "outputs": [
    {
     "data": {
      "text/html": [
       "<div>\n",
       "<style scoped>\n",
       "    .dataframe tbody tr th:only-of-type {\n",
       "        vertical-align: middle;\n",
       "    }\n",
       "\n",
       "    .dataframe tbody tr th {\n",
       "        vertical-align: top;\n",
       "    }\n",
       "\n",
       "    .dataframe thead th {\n",
       "        text-align: right;\n",
       "    }\n",
       "</style>\n",
       "<table border=\"1\" class=\"dataframe\">\n",
       "  <thead>\n",
       "    <tr style=\"text-align: right;\">\n",
       "      <th></th>\n",
       "      <th>Place</th>\n",
       "      <th>Pays</th>\n",
       "      <th>Or</th>\n",
       "      <th>Argent</th>\n",
       "      <th>Bronze</th>\n",
       "      <th>Total</th>\n",
       "      <th>Lieu</th>\n",
       "      <th>Annee</th>\n",
       "    </tr>\n",
       "  </thead>\n",
       "  <tbody>\n",
       "    <tr>\n",
       "      <th>0</th>\n",
       "      <td>1</td>\n",
       "      <td>Etats Unis</td>\n",
       "      <td>38</td>\n",
       "      <td>41</td>\n",
       "      <td>34</td>\n",
       "      <td>113</td>\n",
       "      <td>Tokyo</td>\n",
       "      <td>2021</td>\n",
       "    </tr>\n",
       "    <tr>\n",
       "      <th>1</th>\n",
       "      <td>2</td>\n",
       "      <td>Chine</td>\n",
       "      <td>36</td>\n",
       "      <td>32</td>\n",
       "      <td>18</td>\n",
       "      <td>86</td>\n",
       "      <td>Tokyo</td>\n",
       "      <td>2021</td>\n",
       "    </tr>\n",
       "    <tr>\n",
       "      <th>2</th>\n",
       "      <td>3</td>\n",
       "      <td>Japon</td>\n",
       "      <td>27</td>\n",
       "      <td>12</td>\n",
       "      <td>16</td>\n",
       "      <td>55</td>\n",
       "      <td>Tokyo</td>\n",
       "      <td>2021</td>\n",
       "    </tr>\n",
       "    <tr>\n",
       "      <th>3</th>\n",
       "      <td>4</td>\n",
       "      <td>Grande Bretagne</td>\n",
       "      <td>22</td>\n",
       "      <td>21</td>\n",
       "      <td>22</td>\n",
       "      <td>65</td>\n",
       "      <td>Tokyo</td>\n",
       "      <td>2021</td>\n",
       "    </tr>\n",
       "    <tr>\n",
       "      <th>4</th>\n",
       "      <td>5</td>\n",
       "      <td>Russie</td>\n",
       "      <td>20</td>\n",
       "      <td>28</td>\n",
       "      <td>23</td>\n",
       "      <td>71</td>\n",
       "      <td>Tokyo</td>\n",
       "      <td>2021</td>\n",
       "    </tr>\n",
       "    <tr>\n",
       "      <th>...</th>\n",
       "      <td>...</td>\n",
       "      <td>...</td>\n",
       "      <td>...</td>\n",
       "      <td>...</td>\n",
       "      <td>...</td>\n",
       "      <td>...</td>\n",
       "      <td>...</td>\n",
       "      <td>...</td>\n",
       "    </tr>\n",
       "    <tr>\n",
       "      <th>1377</th>\n",
       "      <td>6</td>\n",
       "      <td>Hongrie</td>\n",
       "      <td>2</td>\n",
       "      <td>1</td>\n",
       "      <td>3</td>\n",
       "      <td>6</td>\n",
       "      <td>Athènes</td>\n",
       "      <td>1896</td>\n",
       "    </tr>\n",
       "    <tr>\n",
       "      <th>1378</th>\n",
       "      <td>7</td>\n",
       "      <td>Autriche</td>\n",
       "      <td>2</td>\n",
       "      <td>1</td>\n",
       "      <td>2</td>\n",
       "      <td>5</td>\n",
       "      <td>Athènes</td>\n",
       "      <td>1896</td>\n",
       "    </tr>\n",
       "    <tr>\n",
       "      <th>1379</th>\n",
       "      <td>8</td>\n",
       "      <td>Australie</td>\n",
       "      <td>2</td>\n",
       "      <td>0</td>\n",
       "      <td>1</td>\n",
       "      <td>3</td>\n",
       "      <td>Athènes</td>\n",
       "      <td>1896</td>\n",
       "    </tr>\n",
       "    <tr>\n",
       "      <th>1380</th>\n",
       "      <td>9</td>\n",
       "      <td>Danemark</td>\n",
       "      <td>1</td>\n",
       "      <td>2</td>\n",
       "      <td>3</td>\n",
       "      <td>6</td>\n",
       "      <td>Athènes</td>\n",
       "      <td>1896</td>\n",
       "    </tr>\n",
       "    <tr>\n",
       "      <th>1381</th>\n",
       "      <td>10</td>\n",
       "      <td>Suisse</td>\n",
       "      <td>1</td>\n",
       "      <td>2</td>\n",
       "      <td>0</td>\n",
       "      <td>3</td>\n",
       "      <td>Athènes</td>\n",
       "      <td>1896</td>\n",
       "    </tr>\n",
       "  </tbody>\n",
       "</table>\n",
       "<p>1382 rows × 8 columns</p>\n",
       "</div>"
      ],
      "text/plain": [
       "      Place             Pays  Or  Argent  Bronze  Total     Lieu  Annee\n",
       "0         1       Etats Unis  38      41      34    113    Tokyo   2021\n",
       "1         2            Chine  36      32      18     86    Tokyo   2021\n",
       "2         3            Japon  27      12      16     55    Tokyo   2021\n",
       "3         4  Grande Bretagne  22      21      22     65    Tokyo   2021\n",
       "4         5           Russie  20      28      23     71    Tokyo   2021\n",
       "...     ...              ...  ..     ...     ...    ...      ...    ...\n",
       "1377      6          Hongrie   2       1       3      6  Athènes   1896\n",
       "1378      7         Autriche   2       1       2      5  Athènes   1896\n",
       "1379      8        Australie   2       0       1      3  Athènes   1896\n",
       "1380      9         Danemark   1       2       3      6  Athènes   1896\n",
       "1381     10           Suisse   1       2       0      3  Athènes   1896\n",
       "\n",
       "[1382 rows x 8 columns]"
      ]
     },
     "execution_count": 7,
     "metadata": {},
     "output_type": "execute_result"
    }
   ],
   "source": [
    "df_results = pd.read_csv(\"data_csv/results.csv\", sep=\",\")\n",
    "df_results"
   ]
  },
  {
   "cell_type": "code",
   "execution_count": 8,
   "metadata": {},
   "outputs": [],
   "source": [
    "df_results = df_results.drop_duplicates()"
   ]
  },
  {
   "cell_type": "code",
   "execution_count": 9,
   "metadata": {},
   "outputs": [
    {
     "data": {
      "text/html": [
       "<div>\n",
       "<style scoped>\n",
       "    .dataframe tbody tr th:only-of-type {\n",
       "        vertical-align: middle;\n",
       "    }\n",
       "\n",
       "    .dataframe tbody tr th {\n",
       "        vertical-align: top;\n",
       "    }\n",
       "\n",
       "    .dataframe thead th {\n",
       "        text-align: right;\n",
       "    }\n",
       "</style>\n",
       "<table border=\"1\" class=\"dataframe\">\n",
       "  <thead>\n",
       "    <tr style=\"text-align: right;\">\n",
       "      <th></th>\n",
       "      <th>Place</th>\n",
       "      <th>Pays</th>\n",
       "      <th>Or</th>\n",
       "      <th>Argent</th>\n",
       "      <th>Bronze</th>\n",
       "      <th>Total</th>\n",
       "      <th>Lieu</th>\n",
       "      <th>Annee</th>\n",
       "    </tr>\n",
       "  </thead>\n",
       "  <tbody>\n",
       "    <tr>\n",
       "      <th>0</th>\n",
       "      <td>1</td>\n",
       "      <td>Etats Unis</td>\n",
       "      <td>38</td>\n",
       "      <td>41</td>\n",
       "      <td>34</td>\n",
       "      <td>113</td>\n",
       "      <td>Tokyo</td>\n",
       "      <td>2021</td>\n",
       "    </tr>\n",
       "    <tr>\n",
       "      <th>1</th>\n",
       "      <td>2</td>\n",
       "      <td>Chine</td>\n",
       "      <td>36</td>\n",
       "      <td>32</td>\n",
       "      <td>18</td>\n",
       "      <td>86</td>\n",
       "      <td>Tokyo</td>\n",
       "      <td>2021</td>\n",
       "    </tr>\n",
       "    <tr>\n",
       "      <th>2</th>\n",
       "      <td>3</td>\n",
       "      <td>Japon</td>\n",
       "      <td>27</td>\n",
       "      <td>12</td>\n",
       "      <td>16</td>\n",
       "      <td>55</td>\n",
       "      <td>Tokyo</td>\n",
       "      <td>2021</td>\n",
       "    </tr>\n",
       "    <tr>\n",
       "      <th>3</th>\n",
       "      <td>4</td>\n",
       "      <td>Grande Bretagne</td>\n",
       "      <td>22</td>\n",
       "      <td>21</td>\n",
       "      <td>22</td>\n",
       "      <td>65</td>\n",
       "      <td>Tokyo</td>\n",
       "      <td>2021</td>\n",
       "    </tr>\n",
       "    <tr>\n",
       "      <th>4</th>\n",
       "      <td>5</td>\n",
       "      <td>Russie</td>\n",
       "      <td>20</td>\n",
       "      <td>28</td>\n",
       "      <td>23</td>\n",
       "      <td>71</td>\n",
       "      <td>Tokyo</td>\n",
       "      <td>2021</td>\n",
       "    </tr>\n",
       "    <tr>\n",
       "      <th>...</th>\n",
       "      <td>...</td>\n",
       "      <td>...</td>\n",
       "      <td>...</td>\n",
       "      <td>...</td>\n",
       "      <td>...</td>\n",
       "      <td>...</td>\n",
       "      <td>...</td>\n",
       "      <td>...</td>\n",
       "    </tr>\n",
       "    <tr>\n",
       "      <th>1377</th>\n",
       "      <td>6</td>\n",
       "      <td>Hongrie</td>\n",
       "      <td>2</td>\n",
       "      <td>1</td>\n",
       "      <td>3</td>\n",
       "      <td>6</td>\n",
       "      <td>Athènes</td>\n",
       "      <td>1896</td>\n",
       "    </tr>\n",
       "    <tr>\n",
       "      <th>1378</th>\n",
       "      <td>7</td>\n",
       "      <td>Autriche</td>\n",
       "      <td>2</td>\n",
       "      <td>1</td>\n",
       "      <td>2</td>\n",
       "      <td>5</td>\n",
       "      <td>Athènes</td>\n",
       "      <td>1896</td>\n",
       "    </tr>\n",
       "    <tr>\n",
       "      <th>1379</th>\n",
       "      <td>8</td>\n",
       "      <td>Australie</td>\n",
       "      <td>2</td>\n",
       "      <td>0</td>\n",
       "      <td>1</td>\n",
       "      <td>3</td>\n",
       "      <td>Athènes</td>\n",
       "      <td>1896</td>\n",
       "    </tr>\n",
       "    <tr>\n",
       "      <th>1380</th>\n",
       "      <td>9</td>\n",
       "      <td>Danemark</td>\n",
       "      <td>1</td>\n",
       "      <td>2</td>\n",
       "      <td>3</td>\n",
       "      <td>6</td>\n",
       "      <td>Athènes</td>\n",
       "      <td>1896</td>\n",
       "    </tr>\n",
       "    <tr>\n",
       "      <th>1381</th>\n",
       "      <td>10</td>\n",
       "      <td>Suisse</td>\n",
       "      <td>1</td>\n",
       "      <td>2</td>\n",
       "      <td>0</td>\n",
       "      <td>3</td>\n",
       "      <td>Athènes</td>\n",
       "      <td>1896</td>\n",
       "    </tr>\n",
       "  </tbody>\n",
       "</table>\n",
       "<p>1372 rows × 8 columns</p>\n",
       "</div>"
      ],
      "text/plain": [
       "      Place             Pays  Or  Argent  Bronze  Total     Lieu  Annee\n",
       "0         1       Etats Unis  38      41      34    113    Tokyo   2021\n",
       "1         2            Chine  36      32      18     86    Tokyo   2021\n",
       "2         3            Japon  27      12      16     55    Tokyo   2021\n",
       "3         4  Grande Bretagne  22      21      22     65    Tokyo   2021\n",
       "4         5           Russie  20      28      23     71    Tokyo   2021\n",
       "...     ...              ...  ..     ...     ...    ...      ...    ...\n",
       "1377      6          Hongrie   2       1       3      6  Athènes   1896\n",
       "1378      7         Autriche   2       1       2      5  Athènes   1896\n",
       "1379      8        Australie   2       0       1      3  Athènes   1896\n",
       "1380      9         Danemark   1       2       3      6  Athènes   1896\n",
       "1381     10           Suisse   1       2       0      3  Athènes   1896\n",
       "\n",
       "[1372 rows x 8 columns]"
      ]
     },
     "execution_count": 9,
     "metadata": {},
     "output_type": "execute_result"
    }
   ],
   "source": [
    "df_results"
   ]
  },
  {
   "cell_type": "code",
   "execution_count": 15,
   "metadata": {},
   "outputs": [
    {
     "data": {
      "text/plain": [
       "array(['Tokyo', 'Rio de Janeiro', 'Londres', 'Pékin', 'Athènes', 'Sydney',\n",
       "       'Atlanta', 'Barcelone', 'Séoul', 'Los Angeles', 'Moscou',\n",
       "       'Montréal', 'Munich', 'Mexico', 'Rome', 'Melbourne', 'Helsinki',\n",
       "       'Berlin', 'Amsterdam', 'Paris', 'Anvers', 'Stockholm',\n",
       "       'Saint Louis'], dtype=object)"
      ]
     },
     "execution_count": 15,
     "metadata": {},
     "output_type": "execute_result"
    }
   ],
   "source": [
    "df_results[\"Lieu\"].unique()"
   ]
  },
  {
   "cell_type": "code",
   "execution_count": 16,
   "metadata": {},
   "outputs": [],
   "source": [
    "def get_position(city_list: list):\n",
    "    city_position_list = []\n",
    "    for city in city_list:\n",
    "        city_info = {\"City\": city}\n",
    "        api_url = f'https://api.api-ninjas.com/v1/geocoding?city={city}'\n",
    "        response = requests.get(api_url, headers={'X-Api-Key': API_KEY})\n",
    "        \n",
    "        if response.status_code == requests.codes.ok:\n",
    "            print(response.json()[0])\n",
    "            city_info.update(response.json()[0])\n",
    "            city_position_list.append(city_info)\n",
    "        else:\n",
    "            print(\"Error:\", response.status_code, response.text)\n",
    "    \n",
    "    return pd.DataFrame(city_position_list).rename(columns={\"name\":\"city_name\"})"
   ]
  },
  {
   "cell_type": "code",
   "execution_count": 18,
   "metadata": {},
   "outputs": [
    {
     "name": "stdout",
     "output_type": "stream",
     "text": [
      "{'name': 'Tokyo', 'latitude': 35.6828387, 'longitude': 139.7594549, 'country': 'JP'}\n",
      "{'name': 'Rio de Janeiro', 'latitude': -22.9110137, 'longitude': -43.2093727, 'country': 'BR', 'state': 'Rio de Janeiro'}\n",
      "{'name': 'London', 'latitude': 51.5073219, 'longitude': -0.1276474, 'country': 'GB', 'state': 'England'}\n",
      "{'name': 'Beijing', 'latitude': 39.906217, 'longitude': 116.3912757, 'country': 'CN', 'state': 'Beijing'}\n",
      "{'name': 'Athens', 'latitude': 37.9839412, 'longitude': 23.7283052, 'country': 'GR', 'state': 'Attica'}\n",
      "{'name': 'Sydney', 'latitude': -33.8698439, 'longitude': 151.2082848, 'country': 'AU', 'state': 'New South Wales'}\n",
      "{'name': 'Atlanta', 'latitude': 33.7489924, 'longitude': -84.3902644, 'country': 'US', 'state': 'Georgia'}\n",
      "{'name': 'Barcelona', 'latitude': 41.3828939, 'longitude': 2.1774322, 'country': 'ES', 'state': 'Catalonia'}\n",
      "{'name': 'Seoul', 'latitude': 37.5666791, 'longitude': 126.9782914, 'country': 'KR'}\n",
      "{'name': 'Los Angeles', 'latitude': 34.0536909, 'longitude': -118.242766, 'country': 'US', 'state': 'California'}\n",
      "{'name': 'Moscow', 'latitude': 55.7504461, 'longitude': 37.6174943, 'country': 'RU', 'state': 'Moscow'}\n",
      "{'name': 'Montreal', 'latitude': 45.5031824, 'longitude': -73.5698065, 'country': 'CA', 'state': 'Quebec'}\n",
      "{'name': 'Munich', 'latitude': 48.1371079, 'longitude': 11.5753822, 'country': 'DE', 'state': 'Bavaria'}\n",
      "{'name': 'Mexico City', 'latitude': 19.4326296, 'longitude': -99.1331785, 'country': 'MX'}\n",
      "{'name': 'Rome', 'latitude': 41.8933203, 'longitude': 12.4829321, 'country': 'IT', 'state': 'Lazio'}\n",
      "{'name': 'Melbourne', 'latitude': -37.8142176, 'longitude': 144.9631608, 'country': 'AU', 'state': 'Victoria'}\n",
      "{'name': 'Helsinki', 'latitude': 60.1674881, 'longitude': 24.9427473, 'country': 'FI'}\n",
      "{'name': 'Berlin', 'latitude': 52.5170365, 'longitude': 13.3888599, 'country': 'DE'}\n",
      "{'name': 'Amsterdam', 'latitude': 52.3727598, 'longitude': 4.8936041, 'country': 'NL', 'state': 'North Holland'}\n",
      "{'name': 'Paris', 'latitude': 48.8588897, 'longitude': 2.3200410217200766, 'country': 'FR', 'state': 'Ile-de-France'}\n",
      "{'name': 'Antwerp', 'latitude': 51.2211097, 'longitude': 4.3997081, 'country': 'BE', 'state': 'Antwerp'}\n",
      "{'name': 'Stockholm', 'latitude': 59.3251172, 'longitude': 18.0710935, 'country': 'SE'}\n",
      "{'name': 'Saint Louis', 'latitude': 38.6319657, 'longitude': -90.2428756, 'country': 'US', 'state': 'Missouri'}\n"
     ]
    }
   ],
   "source": [
    "city_position_list = get_position(df_results[\"Lieu\"].unique())"
   ]
  },
  {
   "cell_type": "code",
   "execution_count": 19,
   "metadata": {},
   "outputs": [],
   "source": [
    "city_position_list.to_csv(\"data_csv/host_city_position.csv\", index=False)"
   ]
  },
  {
   "cell_type": "code",
   "execution_count": null,
   "metadata": {},
   "outputs": [],
   "source": []
  }
 ],
 "metadata": {
  "kernelspec": {
   "display_name": "yugioh-api",
   "language": "python",
   "name": "python3"
  },
  "language_info": {
   "codemirror_mode": {
    "name": "ipython",
    "version": 3
   },
   "file_extension": ".py",
   "mimetype": "text/x-python",
   "name": "python",
   "nbconvert_exporter": "python",
   "pygments_lexer": "ipython3",
   "version": "3.10.13"
  }
 },
 "nbformat": 4,
 "nbformat_minor": 2
}

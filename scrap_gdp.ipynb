{
 "cells": [
  {
   "cell_type": "code",
   "execution_count": 1,
   "metadata": {},
   "outputs": [],
   "source": [
    "import requests\n",
    "from bs4 import BeautifulSoup\n",
    "import json\n",
    "import pandas as pd\n",
    "import numpy as np"
   ]
  },
  {
   "cell_type": "code",
   "execution_count": 58,
   "metadata": {},
   "outputs": [],
   "source": [
    "from selenium import webdriver\n",
    "from selenium.webdriver.common.by import By\n",
    "from selenium.webdriver.support.ui import Select\n",
    "import time\n",
    "from time import sleep"
   ]
  },
  {
   "cell_type": "code",
   "execution_count": 61,
   "metadata": {},
   "outputs": [],
   "source": [
    "# from selenium.actions.wheel_input import ScrollOrigin"
   ]
  },
  {
   "cell_type": "code",
   "execution_count": 62,
   "metadata": {},
   "outputs": [],
   "source": [
    "URL = \"https://databank.worldbank.org/reports.aspx?source=2&series=NY.GDP.MKTP.CD&country#\""
   ]
  },
  {
   "cell_type": "code",
   "execution_count": 65,
   "metadata": {},
   "outputs": [],
   "source": [
    "driver = webdriver.Firefox()\n",
    "driver.get(URL)\n",
    "\n",
    "# driver.execute_script(\"window.scrollTo(0, document.body.scrollHeight)\")\n",
    "# driver.execute_script('scrollBy(0, 250)')\n",
    "driver.execute_script(\"document.body.style.MozTransform='30%'\")\n",
    "sleep(5)\n",
    "\n",
    "# element = driver.find_elements(By.XPATH, '//*[@id=\"grdTableView\"]')\n",
    "\n",
    "\n",
    "# print(element)\n",
    "\n",
    "# scroll_origin = ScrollOrigin.from_element(element)\n",
    "\n",
    "\n",
    "# for i in range(60):\n",
    "#     driver.execute_script(\"arguments[0].scrollBy(0, 500)\", element)\n",
    "#     time.sleep(2)\n",
    "\n",
    "# x = driver.find_element(By.NAME, \"Download options\")\n",
    "# drop = Select(x)\n",
    "\n",
    "# # select by visible text\n",
    "# drop.select_by_visible_text(\"CSV\")"
   ]
  },
  {
   "cell_type": "markdown",
   "metadata": {},
   "source": [
    "dxgvDataRow_GridDefaultTheme class"
   ]
  },
  {
   "cell_type": "code",
   "execution_count": 111,
   "metadata": {},
   "outputs": [],
   "source": [
    "elements1 = driver.find_elements(By.CLASS_NAME, \"dxgvDataRow_GridDefaultTheme\")"
   ]
  },
  {
   "cell_type": "code",
   "execution_count": 112,
   "metadata": {},
   "outputs": [
    {
     "data": {
      "text/plain": [
       "266"
      ]
     },
     "execution_count": 112,
     "metadata": {},
     "output_type": "execute_result"
    }
   ],
   "source": [
    "len(elements1)"
   ]
  },
  {
   "cell_type": "code",
   "execution_count": 113,
   "metadata": {},
   "outputs": [
    {
     "data": {
      "text/plain": [
       "58"
      ]
     },
     "execution_count": 113,
     "metadata": {},
     "output_type": "execute_result"
    }
   ],
   "source": [
    "len(elements1[0].text.split())"
   ]
  },
  {
   "cell_type": "code",
   "execution_count": 114,
   "metadata": {},
   "outputs": [],
   "source": [
    "# begins at 1960\n",
    "countries_gdp_1 = []\n",
    "for i in range(len(elements1)):\n",
    "    # print(i.text.split())\n",
    "    # print(len(i.text.split()))\n",
    "    countries_gdp_1.append(elements1[i].text.split())"
   ]
  },
  {
   "cell_type": "code",
   "execution_count": 115,
   "metadata": {},
   "outputs": [
    {
     "data": {
      "text/plain": [
       "58"
      ]
     },
     "execution_count": 115,
     "metadata": {},
     "output_type": "execute_result"
    }
   ],
   "source": [
    "len(countries_gdp_1[0])"
   ]
  },
  {
   "cell_type": "code",
   "execution_count": 117,
   "metadata": {},
   "outputs": [
    {
     "data": {
      "text/plain": [
       "['Afghanistan',\n",
       " '537,777,811.1',\n",
       " '548,888,895.6',\n",
       " '546,666,677.8',\n",
       " '751,111,191.1',\n",
       " '800,000,044.4',\n",
       " '1,006,666,637.8',\n",
       " '1,399,999,966.7',\n",
       " '1,673,333,417.8',\n",
       " '1,373,333,366.7',\n",
       " '1,408,888,922.2',\n",
       " '1,748,886,595.6',\n",
       " '1,831,108,971.1',\n",
       " '1,595,555,475.6',\n",
       " '1,733,333,264.4',\n",
       " '2,155,555,497.8',\n",
       " '2,366,666,615.6',\n",
       " '2,555,555,566.7',\n",
       " '2,953,333,417.8',\n",
       " '3,300,000,108.9',\n",
       " '3,697,940,409.6',\n",
       " '3,641,723,322.0',\n",
       " '3,478,787,909.1',\n",
       " '..',\n",
       " '..',\n",
       " '..',\n",
       " '..',\n",
       " '..',\n",
       " '..',\n",
       " '..',\n",
       " '..',\n",
       " '..',\n",
       " '..',\n",
       " '..',\n",
       " '..',\n",
       " '..',\n",
       " '..',\n",
       " '..',\n",
       " '..',\n",
       " '..',\n",
       " '..',\n",
       " '..',\n",
       " '..',\n",
       " '3,825,701,405.5',\n",
       " '4,520,946,849.3',\n",
       " '5,224,896,718.7',\n",
       " '6,203,256,497.1',\n",
       " '6,971,758,332.9',\n",
       " '9,747,886,104.5',\n",
       " '10,109,296,957.7',\n",
       " '12,416,152,648.1',\n",
       " '15,856,668,496.4',\n",
       " '17,805,098,367.3',\n",
       " '19,907,329,906.0',\n",
       " '20,146,416,876.4',\n",
       " '20,497,128,600.3',\n",
       " '19,134,221,744.5',\n",
       " '18,116,572,399.1']"
      ]
     },
     "execution_count": 117,
     "metadata": {},
     "output_type": "execute_result"
    }
   ],
   "source": [
    "countries_gdp_1[0]"
   ]
  },
  {
   "cell_type": "code",
   "execution_count": 118,
   "metadata": {},
   "outputs": [],
   "source": [
    "elements2 = driver.find_elements(By.CLASS_NAME, \"dxgvDataRow_GridDefaultTheme\")"
   ]
  },
  {
   "cell_type": "code",
   "execution_count": 119,
   "metadata": {},
   "outputs": [
    {
     "data": {
      "text/plain": [
       "266"
      ]
     },
     "execution_count": 119,
     "metadata": {},
     "output_type": "execute_result"
    }
   ],
   "source": [
    "len(elements2)"
   ]
  },
  {
   "cell_type": "code",
   "execution_count": 120,
   "metadata": {},
   "outputs": [
    {
     "data": {
      "text/plain": [
       "['18,753,456,506.6',\n",
       " '18,053,222,734.9',\n",
       " '18,799,444,414.6',\n",
       " '19,955,929,060.8',\n",
       " '14,266,499,429.9',\n",
       " '..']"
      ]
     },
     "execution_count": 120,
     "metadata": {},
     "output_type": "execute_result"
    }
   ],
   "source": [
    "elements2[0].text.split()[-6:]"
   ]
  },
  {
   "cell_type": "code",
   "execution_count": 121,
   "metadata": {},
   "outputs": [
    {
     "data": {
      "text/plain": [
       "266"
      ]
     },
     "execution_count": 121,
     "metadata": {},
     "output_type": "execute_result"
    }
   ],
   "source": [
    "len(countries_gdp_1)"
   ]
  },
  {
   "cell_type": "code",
   "execution_count": 122,
   "metadata": {},
   "outputs": [],
   "source": [
    "# begins at 1967\n",
    "countries_gdp_2 = []\n",
    "for i in range(len(elements1)):\n",
    "    # print(elements2[i].text.split()[-6:])\n",
    "    countries_gdp_2.append(countries_gdp_1[i] + elements2[i].text.split()[-6:])"
   ]
  },
  {
   "cell_type": "code",
   "execution_count": 125,
   "metadata": {},
   "outputs": [
    {
     "data": {
      "text/plain": [
       "64"
      ]
     },
     "execution_count": 125,
     "metadata": {},
     "output_type": "execute_result"
    }
   ],
   "source": [
    "len(countries_gdp_2[0])"
   ]
  },
  {
   "cell_type": "code",
   "execution_count": 128,
   "metadata": {},
   "outputs": [
    {
     "data": {
      "text/plain": [
       "['537,777,811.1',\n",
       " '548,888,895.6',\n",
       " '546,666,677.8',\n",
       " '751,111,191.1',\n",
       " '800,000,044.4',\n",
       " '1,006,666,637.8',\n",
       " '1,399,999,966.7',\n",
       " '1,673,333,417.8',\n",
       " '1,373,333,366.7',\n",
       " '1,408,888,922.2',\n",
       " '1,748,886,595.6',\n",
       " '1,831,108,971.1',\n",
       " '1,595,555,475.6',\n",
       " '1,733,333,264.4',\n",
       " '2,155,555,497.8',\n",
       " '2,366,666,615.6',\n",
       " '2,555,555,566.7',\n",
       " '2,953,333,417.8',\n",
       " '3,300,000,108.9',\n",
       " '3,697,940,409.6',\n",
       " '3,641,723,322.0',\n",
       " '3,478,787,909.1',\n",
       " '..',\n",
       " '..',\n",
       " '..',\n",
       " '..',\n",
       " '..',\n",
       " '..',\n",
       " '..',\n",
       " '..',\n",
       " '..',\n",
       " '..',\n",
       " '..',\n",
       " '..',\n",
       " '..',\n",
       " '..',\n",
       " '..',\n",
       " '..',\n",
       " '..',\n",
       " '..',\n",
       " '..',\n",
       " '..',\n",
       " '3,825,701,405.5',\n",
       " '4,520,946,849.3',\n",
       " '5,224,896,718.7',\n",
       " '6,203,256,497.1',\n",
       " '6,971,758,332.9',\n",
       " '9,747,886,104.5',\n",
       " '10,109,296,957.7',\n",
       " '12,416,152,648.1',\n",
       " '15,856,668,496.4',\n",
       " '17,805,098,367.3',\n",
       " '19,907,329,906.0',\n",
       " '20,146,416,876.4',\n",
       " '20,497,128,600.3',\n",
       " '19,134,221,744.5',\n",
       " '18,116,572,399.1',\n",
       " '18,753,456,506.6',\n",
       " '18,053,222,734.9',\n",
       " '18,799,444,414.6',\n",
       " '19,955,929,060.8',\n",
       " '14,266,499,429.9',\n",
       " '..']"
      ]
     },
     "execution_count": 128,
     "metadata": {},
     "output_type": "execute_result"
    }
   ],
   "source": [
    "countries_gdp_2[0][-63:]"
   ]
  },
  {
   "cell_type": "code",
   "execution_count": 130,
   "metadata": {},
   "outputs": [
    {
     "data": {
      "text/plain": [
       "['American', 'Samoa']"
      ]
     },
     "execution_count": 130,
     "metadata": {},
     "output_type": "execute_result"
    }
   ],
   "source": [
    "countries_gdp_2[3][:-63]"
   ]
  },
  {
   "cell_type": "code",
   "execution_count": 138,
   "metadata": {},
   "outputs": [],
   "source": [
    "list_countries = []\n",
    "for country in countries_gdp_2:\n",
    "    \n",
    "    country_gdp = country[-63:]\n",
    "    country_name = \" \".join(country[:-63])\n",
    "\n",
    "    list_countries.append([country_name] + country_gdp)\n",
    "    # country_info[\"country_name\"] = country_name\n",
    "    # country_info[\"country_gdp\"] = country_gdp\n",
    "\n",
    "    # dict_list_countries.append(country_info)"
   ]
  },
  {
   "cell_type": "code",
   "execution_count": 141,
   "metadata": {},
   "outputs": [
    {
     "data": {
      "text/plain": [
       "64"
      ]
     },
     "execution_count": 141,
     "metadata": {},
     "output_type": "execute_result"
    }
   ],
   "source": [
    "len(list_countries[3])"
   ]
  },
  {
   "cell_type": "code",
   "execution_count": 144,
   "metadata": {},
   "outputs": [
    {
     "data": {
      "text/html": [
       "<div>\n",
       "<style scoped>\n",
       "    .dataframe tbody tr th:only-of-type {\n",
       "        vertical-align: middle;\n",
       "    }\n",
       "\n",
       "    .dataframe tbody tr th {\n",
       "        vertical-align: top;\n",
       "    }\n",
       "\n",
       "    .dataframe thead th {\n",
       "        text-align: right;\n",
       "    }\n",
       "</style>\n",
       "<table border=\"1\" class=\"dataframe\">\n",
       "  <thead>\n",
       "    <tr style=\"text-align: right;\">\n",
       "      <th></th>\n",
       "      <th>country_name</th>\n",
       "      <th>1960</th>\n",
       "      <th>1961</th>\n",
       "      <th>1962</th>\n",
       "      <th>1963</th>\n",
       "      <th>1964</th>\n",
       "      <th>1965</th>\n",
       "      <th>1966</th>\n",
       "      <th>1967</th>\n",
       "      <th>1968</th>\n",
       "      <th>...</th>\n",
       "      <th>2013</th>\n",
       "      <th>2014</th>\n",
       "      <th>2015</th>\n",
       "      <th>2016</th>\n",
       "      <th>2017</th>\n",
       "      <th>2018</th>\n",
       "      <th>2019</th>\n",
       "      <th>2020</th>\n",
       "      <th>2021</th>\n",
       "      <th>2022</th>\n",
       "    </tr>\n",
       "  </thead>\n",
       "  <tbody>\n",
       "    <tr>\n",
       "      <th>0</th>\n",
       "      <td>Afghanistan</td>\n",
       "      <td>537,777,811.1</td>\n",
       "      <td>548,888,895.6</td>\n",
       "      <td>546,666,677.8</td>\n",
       "      <td>751,111,191.1</td>\n",
       "      <td>800,000,044.4</td>\n",
       "      <td>1,006,666,637.8</td>\n",
       "      <td>1,399,999,966.7</td>\n",
       "      <td>1,673,333,417.8</td>\n",
       "      <td>1,373,333,366.7</td>\n",
       "      <td>...</td>\n",
       "      <td>20,146,416,876.4</td>\n",
       "      <td>20,497,128,600.3</td>\n",
       "      <td>19,134,221,744.5</td>\n",
       "      <td>18,116,572,399.1</td>\n",
       "      <td>18,753,456,506.6</td>\n",
       "      <td>18,053,222,734.9</td>\n",
       "      <td>18,799,444,414.6</td>\n",
       "      <td>19,955,929,060.8</td>\n",
       "      <td>14,266,499,429.9</td>\n",
       "      <td>..</td>\n",
       "    </tr>\n",
       "    <tr>\n",
       "      <th>1</th>\n",
       "      <td>Albania</td>\n",
       "      <td>..</td>\n",
       "      <td>..</td>\n",
       "      <td>..</td>\n",
       "      <td>..</td>\n",
       "      <td>..</td>\n",
       "      <td>..</td>\n",
       "      <td>..</td>\n",
       "      <td>..</td>\n",
       "      <td>..</td>\n",
       "      <td>...</td>\n",
       "      <td>12,776,224,497.0</td>\n",
       "      <td>13,228,147,516.1</td>\n",
       "      <td>11,386,853,113.0</td>\n",
       "      <td>11,861,199,830.8</td>\n",
       "      <td>13,019,726,211.7</td>\n",
       "      <td>15,156,424,015.2</td>\n",
       "      <td>15,401,826,127.3</td>\n",
       "      <td>15,162,734,205.2</td>\n",
       "      <td>17,930,565,118.8</td>\n",
       "      <td>18,916,378,860.5</td>\n",
       "    </tr>\n",
       "    <tr>\n",
       "      <th>2</th>\n",
       "      <td>Algeria</td>\n",
       "      <td>2,723,615,451.3</td>\n",
       "      <td>2,434,747,055.9</td>\n",
       "      <td>2,001,444,543.9</td>\n",
       "      <td>2,702,982,017.6</td>\n",
       "      <td>2,909,316,435.3</td>\n",
       "      <td>3,136,284,306.9</td>\n",
       "      <td>3,039,859,187.5</td>\n",
       "      <td>3,370,870,376.3</td>\n",
       "      <td>3,852,147,026.8</td>\n",
       "      <td>...</td>\n",
       "      <td>209,755,003,250.7</td>\n",
       "      <td>213,809,979,836.3</td>\n",
       "      <td>165,979,224,866.1</td>\n",
       "      <td>160,034,212,126.0</td>\n",
       "      <td>170,096,988,531.9</td>\n",
       "      <td>174,910,684,781.6</td>\n",
       "      <td>171,760,275,466.6</td>\n",
       "      <td>145,743,542,982.6</td>\n",
       "      <td>163,472,387,986.8</td>\n",
       "      <td>194,998,449,769.1</td>\n",
       "    </tr>\n",
       "    <tr>\n",
       "      <th>3</th>\n",
       "      <td>American Samoa</td>\n",
       "      <td>..</td>\n",
       "      <td>..</td>\n",
       "      <td>..</td>\n",
       "      <td>..</td>\n",
       "      <td>..</td>\n",
       "      <td>..</td>\n",
       "      <td>..</td>\n",
       "      <td>..</td>\n",
       "      <td>..</td>\n",
       "      <td>...</td>\n",
       "      <td>638,000,000.0</td>\n",
       "      <td>643,000,000.0</td>\n",
       "      <td>673,000,000.0</td>\n",
       "      <td>671,000,000.0</td>\n",
       "      <td>612,000,000.0</td>\n",
       "      <td>639,000,000.0</td>\n",
       "      <td>647,000,000.0</td>\n",
       "      <td>721,000,000.0</td>\n",
       "      <td>750,000,000.0</td>\n",
       "      <td>871,000,000.0</td>\n",
       "    </tr>\n",
       "    <tr>\n",
       "      <th>4</th>\n",
       "      <td>Andorra</td>\n",
       "      <td>..</td>\n",
       "      <td>..</td>\n",
       "      <td>..</td>\n",
       "      <td>..</td>\n",
       "      <td>..</td>\n",
       "      <td>..</td>\n",
       "      <td>..</td>\n",
       "      <td>..</td>\n",
       "      <td>..</td>\n",
       "      <td>...</td>\n",
       "      <td>3,193,513,470.4</td>\n",
       "      <td>3,271,686,452.5</td>\n",
       "      <td>2,789,882,569.1</td>\n",
       "      <td>2,896,611,878.6</td>\n",
       "      <td>3,000,160,414.6</td>\n",
       "      <td>3,218,418,631.7</td>\n",
       "      <td>3,155,150,255.9</td>\n",
       "      <td>2,891,002,460.3</td>\n",
       "      <td>3,325,143,693.3</td>\n",
       "      <td>3,352,031,094.2</td>\n",
       "    </tr>\n",
       "    <tr>\n",
       "      <th>...</th>\n",
       "      <td>...</td>\n",
       "      <td>...</td>\n",
       "      <td>...</td>\n",
       "      <td>...</td>\n",
       "      <td>...</td>\n",
       "      <td>...</td>\n",
       "      <td>...</td>\n",
       "      <td>...</td>\n",
       "      <td>...</td>\n",
       "      <td>...</td>\n",
       "      <td>...</td>\n",
       "      <td>...</td>\n",
       "      <td>...</td>\n",
       "      <td>...</td>\n",
       "      <td>...</td>\n",
       "      <td>...</td>\n",
       "      <td>...</td>\n",
       "      <td>...</td>\n",
       "      <td>...</td>\n",
       "      <td>...</td>\n",
       "      <td>...</td>\n",
       "    </tr>\n",
       "    <tr>\n",
       "      <th>261</th>\n",
       "      <td>Sub-Saharan Africa</td>\n",
       "      <td>28,349,301,535.4</td>\n",
       "      <td>29,960,492,453.2</td>\n",
       "      <td>31,903,784,357.6</td>\n",
       "      <td>34,293,676,625.1</td>\n",
       "      <td>37,449,073,939.1</td>\n",
       "      <td>40,697,444,106.3</td>\n",
       "      <td>43,692,889,579.3</td>\n",
       "      <td>44,680,649,549.8</td>\n",
       "      <td>47,542,735,722.6</td>\n",
       "      <td>...</td>\n",
       "      <td>1,820,439,942,754.1</td>\n",
       "      <td>1,901,497,484,757.4</td>\n",
       "      <td>1,701,776,666,914.1</td>\n",
       "      <td>1,582,166,358,879.3</td>\n",
       "      <td>1,714,024,580,927.1</td>\n",
       "      <td>1,780,679,619,928.8</td>\n",
       "      <td>1,829,596,580,378.4</td>\n",
       "      <td>1,715,842,671,715.0</td>\n",
       "      <td>1,931,458,241,338.3</td>\n",
       "      <td>2,060,531,397,309.1</td>\n",
       "    </tr>\n",
       "    <tr>\n",
       "      <th>262</th>\n",
       "      <td>Sub-Saharan Africa (excluding high income)</td>\n",
       "      <td>28,338,509,354.7</td>\n",
       "      <td>29,950,396,735.0</td>\n",
       "      <td>31,892,681,911.8</td>\n",
       "      <td>34,281,348,388.7</td>\n",
       "      <td>37,435,388,432.0</td>\n",
       "      <td>40,683,899,240.1</td>\n",
       "      <td>43,678,711,712.3</td>\n",
       "      <td>44,666,366,525.1</td>\n",
       "      <td>47,529,437,277.1</td>\n",
       "      <td>...</td>\n",
       "      <td>1,819,115,027,569.0</td>\n",
       "      <td>1,900,109,908,307.3</td>\n",
       "      <td>1,700,385,238,946.7</td>\n",
       "      <td>1,580,707,404,805.9</td>\n",
       "      <td>1,712,494,807,453.8</td>\n",
       "      <td>1,779,091,569,617.6</td>\n",
       "      <td>1,827,951,489,811.4</td>\n",
       "      <td>1,714,659,156,401.0</td>\n",
       "      <td>1,930,171,554,030.1</td>\n",
       "      <td>2,058,942,959,164.7</td>\n",
       "    </tr>\n",
       "    <tr>\n",
       "      <th>263</th>\n",
       "      <td>Sub-Saharan Africa (IDA &amp; IBRD countries)</td>\n",
       "      <td>28,349,301,535.4</td>\n",
       "      <td>29,960,492,453.2</td>\n",
       "      <td>31,903,784,357.6</td>\n",
       "      <td>34,293,676,625.1</td>\n",
       "      <td>37,449,073,939.1</td>\n",
       "      <td>40,697,444,106.3</td>\n",
       "      <td>43,692,889,579.3</td>\n",
       "      <td>44,680,649,549.8</td>\n",
       "      <td>47,542,735,722.6</td>\n",
       "      <td>...</td>\n",
       "      <td>1,820,439,942,754.1</td>\n",
       "      <td>1,901,497,484,757.4</td>\n",
       "      <td>1,701,776,666,914.1</td>\n",
       "      <td>1,582,166,358,879.3</td>\n",
       "      <td>1,714,024,580,927.1</td>\n",
       "      <td>1,780,679,619,928.8</td>\n",
       "      <td>1,829,596,580,378.4</td>\n",
       "      <td>1,715,842,671,715.0</td>\n",
       "      <td>1,931,458,241,338.3</td>\n",
       "      <td>2,060,531,397,309.1</td>\n",
       "    </tr>\n",
       "    <tr>\n",
       "      <th>264</th>\n",
       "      <td>Upper middle income</td>\n",
       "      <td>236,136,360,083.0</td>\n",
       "      <td>220,490,841,490.9</td>\n",
       "      <td>222,023,728,315.2</td>\n",
       "      <td>242,268,291,060.7</td>\n",
       "      <td>280,066,549,216.4</td>\n",
       "      <td>314,986,131,154.7</td>\n",
       "      <td>345,233,462,869.2</td>\n",
       "      <td>351,717,338,837.6</td>\n",
       "      <td>365,743,583,697.8</td>\n",
       "      <td>...</td>\n",
       "      <td>21,268,492,949,592.6</td>\n",
       "      <td>21,874,590,740,590.2</td>\n",
       "      <td>20,559,996,802,665.8</td>\n",
       "      <td>20,510,053,202,252.5</td>\n",
       "      <td>22,686,712,042,217.4</td>\n",
       "      <td>24,376,030,533,340.2</td>\n",
       "      <td>24,832,086,863,829.0</td>\n",
       "      <td>23,959,410,661,464.3</td>\n",
       "      <td>28,933,254,272,818.9</td>\n",
       "      <td>30,609,458,161,507.9</td>\n",
       "    </tr>\n",
       "    <tr>\n",
       "      <th>265</th>\n",
       "      <td>World</td>\n",
       "      <td>1,381,135,479,871.3</td>\n",
       "      <td>1,446,355,951,851.2</td>\n",
       "      <td>1,546,369,168,288.8</td>\n",
       "      <td>1,670,666,024,902.5</td>\n",
       "      <td>1,832,615,520,368.1</td>\n",
       "      <td>1,994,519,203,522.6</td>\n",
       "      <td>2,161,644,938,244.9</td>\n",
       "      <td>2,308,597,009,339.4</td>\n",
       "      <td>2,491,804,907,882.1</td>\n",
       "      <td>...</td>\n",
       "      <td>77,714,723,867,935.4</td>\n",
       "      <td>79,837,156,825,125.5</td>\n",
       "      <td>75,283,270,551,825.6</td>\n",
       "      <td>76,518,978,973,625.2</td>\n",
       "      <td>81,484,101,071,460.5</td>\n",
       "      <td>86,542,678,179,030.5</td>\n",
       "      <td>87,777,403,956,321.1</td>\n",
       "      <td>85,257,737,349,905.5</td>\n",
       "      <td>97,529,676,807,424.8</td>\n",
       "      <td>101,325,686,724,630.0</td>\n",
       "    </tr>\n",
       "  </tbody>\n",
       "</table>\n",
       "<p>266 rows × 64 columns</p>\n",
       "</div>"
      ],
      "text/plain": [
       "                                   country_name                 1960  \\\n",
       "0                                   Afghanistan        537,777,811.1   \n",
       "1                                       Albania                   ..   \n",
       "2                                       Algeria      2,723,615,451.3   \n",
       "3                                American Samoa                   ..   \n",
       "4                                       Andorra                   ..   \n",
       "..                                          ...                  ...   \n",
       "261                          Sub-Saharan Africa     28,349,301,535.4   \n",
       "262  Sub-Saharan Africa (excluding high income)     28,338,509,354.7   \n",
       "263   Sub-Saharan Africa (IDA & IBRD countries)     28,349,301,535.4   \n",
       "264                         Upper middle income    236,136,360,083.0   \n",
       "265                                       World  1,381,135,479,871.3   \n",
       "\n",
       "                    1961                 1962                 1963  \\\n",
       "0          548,888,895.6        546,666,677.8        751,111,191.1   \n",
       "1                     ..                   ..                   ..   \n",
       "2        2,434,747,055.9      2,001,444,543.9      2,702,982,017.6   \n",
       "3                     ..                   ..                   ..   \n",
       "4                     ..                   ..                   ..   \n",
       "..                   ...                  ...                  ...   \n",
       "261     29,960,492,453.2     31,903,784,357.6     34,293,676,625.1   \n",
       "262     29,950,396,735.0     31,892,681,911.8     34,281,348,388.7   \n",
       "263     29,960,492,453.2     31,903,784,357.6     34,293,676,625.1   \n",
       "264    220,490,841,490.9    222,023,728,315.2    242,268,291,060.7   \n",
       "265  1,446,355,951,851.2  1,546,369,168,288.8  1,670,666,024,902.5   \n",
       "\n",
       "                    1964                 1965                 1966  \\\n",
       "0          800,000,044.4      1,006,666,637.8      1,399,999,966.7   \n",
       "1                     ..                   ..                   ..   \n",
       "2        2,909,316,435.3      3,136,284,306.9      3,039,859,187.5   \n",
       "3                     ..                   ..                   ..   \n",
       "4                     ..                   ..                   ..   \n",
       "..                   ...                  ...                  ...   \n",
       "261     37,449,073,939.1     40,697,444,106.3     43,692,889,579.3   \n",
       "262     37,435,388,432.0     40,683,899,240.1     43,678,711,712.3   \n",
       "263     37,449,073,939.1     40,697,444,106.3     43,692,889,579.3   \n",
       "264    280,066,549,216.4    314,986,131,154.7    345,233,462,869.2   \n",
       "265  1,832,615,520,368.1  1,994,519,203,522.6  2,161,644,938,244.9   \n",
       "\n",
       "                    1967                 1968  ...                  2013  \\\n",
       "0        1,673,333,417.8      1,373,333,366.7  ...      20,146,416,876.4   \n",
       "1                     ..                   ..  ...      12,776,224,497.0   \n",
       "2        3,370,870,376.3      3,852,147,026.8  ...     209,755,003,250.7   \n",
       "3                     ..                   ..  ...         638,000,000.0   \n",
       "4                     ..                   ..  ...       3,193,513,470.4   \n",
       "..                   ...                  ...  ...                   ...   \n",
       "261     44,680,649,549.8     47,542,735,722.6  ...   1,820,439,942,754.1   \n",
       "262     44,666,366,525.1     47,529,437,277.1  ...   1,819,115,027,569.0   \n",
       "263     44,680,649,549.8     47,542,735,722.6  ...   1,820,439,942,754.1   \n",
       "264    351,717,338,837.6    365,743,583,697.8  ...  21,268,492,949,592.6   \n",
       "265  2,308,597,009,339.4  2,491,804,907,882.1  ...  77,714,723,867,935.4   \n",
       "\n",
       "                     2014                  2015                  2016  \\\n",
       "0        20,497,128,600.3      19,134,221,744.5      18,116,572,399.1   \n",
       "1        13,228,147,516.1      11,386,853,113.0      11,861,199,830.8   \n",
       "2       213,809,979,836.3     165,979,224,866.1     160,034,212,126.0   \n",
       "3           643,000,000.0         673,000,000.0         671,000,000.0   \n",
       "4         3,271,686,452.5       2,789,882,569.1       2,896,611,878.6   \n",
       "..                    ...                   ...                   ...   \n",
       "261   1,901,497,484,757.4   1,701,776,666,914.1   1,582,166,358,879.3   \n",
       "262   1,900,109,908,307.3   1,700,385,238,946.7   1,580,707,404,805.9   \n",
       "263   1,901,497,484,757.4   1,701,776,666,914.1   1,582,166,358,879.3   \n",
       "264  21,874,590,740,590.2  20,559,996,802,665.8  20,510,053,202,252.5   \n",
       "265  79,837,156,825,125.5  75,283,270,551,825.6  76,518,978,973,625.2   \n",
       "\n",
       "                     2017                  2018                  2019  \\\n",
       "0        18,753,456,506.6      18,053,222,734.9      18,799,444,414.6   \n",
       "1        13,019,726,211.7      15,156,424,015.2      15,401,826,127.3   \n",
       "2       170,096,988,531.9     174,910,684,781.6     171,760,275,466.6   \n",
       "3           612,000,000.0         639,000,000.0         647,000,000.0   \n",
       "4         3,000,160,414.6       3,218,418,631.7       3,155,150,255.9   \n",
       "..                    ...                   ...                   ...   \n",
       "261   1,714,024,580,927.1   1,780,679,619,928.8   1,829,596,580,378.4   \n",
       "262   1,712,494,807,453.8   1,779,091,569,617.6   1,827,951,489,811.4   \n",
       "263   1,714,024,580,927.1   1,780,679,619,928.8   1,829,596,580,378.4   \n",
       "264  22,686,712,042,217.4  24,376,030,533,340.2  24,832,086,863,829.0   \n",
       "265  81,484,101,071,460.5  86,542,678,179,030.5  87,777,403,956,321.1   \n",
       "\n",
       "                     2020                  2021                   2022  \n",
       "0        19,955,929,060.8      14,266,499,429.9                     ..  \n",
       "1        15,162,734,205.2      17,930,565,118.8       18,916,378,860.5  \n",
       "2       145,743,542,982.6     163,472,387,986.8      194,998,449,769.1  \n",
       "3           721,000,000.0         750,000,000.0          871,000,000.0  \n",
       "4         2,891,002,460.3       3,325,143,693.3        3,352,031,094.2  \n",
       "..                    ...                   ...                    ...  \n",
       "261   1,715,842,671,715.0   1,931,458,241,338.3    2,060,531,397,309.1  \n",
       "262   1,714,659,156,401.0   1,930,171,554,030.1    2,058,942,959,164.7  \n",
       "263   1,715,842,671,715.0   1,931,458,241,338.3    2,060,531,397,309.1  \n",
       "264  23,959,410,661,464.3  28,933,254,272,818.9   30,609,458,161,507.9  \n",
       "265  85,257,737,349,905.5  97,529,676,807,424.8  101,325,686,724,630.0  \n",
       "\n",
       "[266 rows x 64 columns]"
      ]
     },
     "execution_count": 144,
     "metadata": {},
     "output_type": "execute_result"
    }
   ],
   "source": [
    "pd.DataFrame(list_countries, columns=[\"country_name\"] + list(range(1960,2023)))"
   ]
  },
  {
   "cell_type": "code",
   "execution_count": 143,
   "metadata": {},
   "outputs": [],
   "source": [
    "# pd.DataFrame(list_countries, columns=[\"country_name\"] + list(range(1960,2023))).to_csv(\"data_csv/country_gdp.csv\", index=False, sep=\";\")"
   ]
  }
 ],
 "metadata": {
  "kernelspec": {
   "display_name": "webscrapping",
   "language": "python",
   "name": "python3"
  },
  "language_info": {
   "codemirror_mode": {
    "name": "ipython",
    "version": 3
   },
   "file_extension": ".py",
   "mimetype": "text/x-python",
   "name": "python",
   "nbconvert_exporter": "python",
   "pygments_lexer": "ipython3",
   "version": "3.10.13"
  }
 },
 "nbformat": 4,
 "nbformat_minor": 2
}

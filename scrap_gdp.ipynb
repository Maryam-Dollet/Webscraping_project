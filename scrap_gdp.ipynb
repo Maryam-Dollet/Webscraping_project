{
 "cells": [
  {
   "cell_type": "code",
   "execution_count": 149,
   "metadata": {},
   "outputs": [],
   "source": [
    "from selenium import webdriver\n",
    "from selenium.webdriver.common.by import By\n",
    "import pandas as pd\n",
    "from time import sleep\n",
    "import numpy as np"
   ]
  },
  {
   "cell_type": "code",
   "execution_count": 62,
   "metadata": {},
   "outputs": [],
   "source": [
    "URL = \"https://databank.worldbank.org/reports.aspx?source=2&series=NY.GDP.MKTP.CD&country#\""
   ]
  },
  {
   "cell_type": "markdown",
   "metadata": {},
   "source": [
    "Open the driver"
   ]
  },
  {
   "cell_type": "code",
   "execution_count": 65,
   "metadata": {},
   "outputs": [],
   "source": [
    "driver = webdriver.Firefox()\n",
    "driver.get(URL)\n",
    "\n",
    "# driver.execute_script(\"window.scrollTo(0, document.body.scrollHeight)\")\n",
    "# driver.execute_script('scrollBy(0, 250)')\n",
    "driver.execute_script(\"document.body.style.MozTransform='30%'\")\n",
    "sleep(5)\n",
    "\n",
    "# element = driver.find_elements(By.XPATH, '//*[@id=\"grdTableView\"]')\n",
    "\n",
    "\n",
    "# print(element)\n",
    "\n",
    "# scroll_origin = ScrollOrigin.from_element(element)\n",
    "\n",
    "\n",
    "# for i in range(60):\n",
    "#     driver.execute_script(\"arguments[0].scrollBy(0, 500)\", element)\n",
    "#     time.sleep(2)\n",
    "\n",
    "# x = driver.find_element(By.NAME, \"Download options\")\n",
    "# drop = Select(x)\n",
    "\n",
    "# # select by visible text\n",
    "# drop.select_by_visible_text(\"CSV\")"
   ]
  },
  {
   "cell_type": "markdown",
   "metadata": {},
   "source": [
    "dxgvDataRow_GridDefaultTheme class"
   ]
  },
  {
   "cell_type": "markdown",
   "metadata": {},
   "source": [
    "select all the years, apply changes, scroll down to the end to have all the countries, zoom out to 30%, scroll to the left ot get the first years. "
   ]
  },
  {
   "cell_type": "code",
   "execution_count": 111,
   "metadata": {},
   "outputs": [],
   "source": [
    "elements1 = driver.find_elements(By.CLASS_NAME, \"dxgvDataRow_GridDefaultTheme\")"
   ]
  },
  {
   "cell_type": "code",
   "execution_count": 112,
   "metadata": {},
   "outputs": [
    {
     "data": {
      "text/plain": [
       "266"
      ]
     },
     "execution_count": 112,
     "metadata": {},
     "output_type": "execute_result"
    }
   ],
   "source": [
    "len(elements1)"
   ]
  },
  {
   "cell_type": "code",
   "execution_count": 113,
   "metadata": {},
   "outputs": [
    {
     "data": {
      "text/plain": [
       "58"
      ]
     },
     "execution_count": 113,
     "metadata": {},
     "output_type": "execute_result"
    }
   ],
   "source": [
    "len(elements1[0].text.split())"
   ]
  },
  {
   "cell_type": "code",
   "execution_count": 114,
   "metadata": {},
   "outputs": [],
   "source": [
    "# begins at 1960\n",
    "countries_gdp_1 = []\n",
    "for i in range(len(elements1)):\n",
    "    # print(i.text.split())\n",
    "    # print(len(i.text.split()))\n",
    "    countries_gdp_1.append(elements1[i].text.split())"
   ]
  },
  {
   "cell_type": "code",
   "execution_count": 115,
   "metadata": {},
   "outputs": [
    {
     "data": {
      "text/plain": [
       "58"
      ]
     },
     "execution_count": 115,
     "metadata": {},
     "output_type": "execute_result"
    }
   ],
   "source": [
    "len(countries_gdp_1[0])"
   ]
  },
  {
   "cell_type": "code",
   "execution_count": 117,
   "metadata": {},
   "outputs": [
    {
     "data": {
      "text/plain": [
       "['Afghanistan',\n",
       " '537,777,811.1',\n",
       " '548,888,895.6',\n",
       " '546,666,677.8',\n",
       " '751,111,191.1',\n",
       " '800,000,044.4',\n",
       " '1,006,666,637.8',\n",
       " '1,399,999,966.7',\n",
       " '1,673,333,417.8',\n",
       " '1,373,333,366.7',\n",
       " '1,408,888,922.2',\n",
       " '1,748,886,595.6',\n",
       " '1,831,108,971.1',\n",
       " '1,595,555,475.6',\n",
       " '1,733,333,264.4',\n",
       " '2,155,555,497.8',\n",
       " '2,366,666,615.6',\n",
       " '2,555,555,566.7',\n",
       " '2,953,333,417.8',\n",
       " '3,300,000,108.9',\n",
       " '3,697,940,409.6',\n",
       " '3,641,723,322.0',\n",
       " '3,478,787,909.1',\n",
       " '..',\n",
       " '..',\n",
       " '..',\n",
       " '..',\n",
       " '..',\n",
       " '..',\n",
       " '..',\n",
       " '..',\n",
       " '..',\n",
       " '..',\n",
       " '..',\n",
       " '..',\n",
       " '..',\n",
       " '..',\n",
       " '..',\n",
       " '..',\n",
       " '..',\n",
       " '..',\n",
       " '..',\n",
       " '..',\n",
       " '3,825,701,405.5',\n",
       " '4,520,946,849.3',\n",
       " '5,224,896,718.7',\n",
       " '6,203,256,497.1',\n",
       " '6,971,758,332.9',\n",
       " '9,747,886,104.5',\n",
       " '10,109,296,957.7',\n",
       " '12,416,152,648.1',\n",
       " '15,856,668,496.4',\n",
       " '17,805,098,367.3',\n",
       " '19,907,329,906.0',\n",
       " '20,146,416,876.4',\n",
       " '20,497,128,600.3',\n",
       " '19,134,221,744.5',\n",
       " '18,116,572,399.1']"
      ]
     },
     "execution_count": 117,
     "metadata": {},
     "output_type": "execute_result"
    }
   ],
   "source": [
    "countries_gdp_1[0]"
   ]
  },
  {
   "cell_type": "markdown",
   "metadata": {},
   "source": [
    "Scroll to the far right to get the rest of the years"
   ]
  },
  {
   "cell_type": "code",
   "execution_count": 118,
   "metadata": {},
   "outputs": [],
   "source": [
    "elements2 = driver.find_elements(By.CLASS_NAME, \"dxgvDataRow_GridDefaultTheme\")"
   ]
  },
  {
   "cell_type": "code",
   "execution_count": 119,
   "metadata": {},
   "outputs": [
    {
     "data": {
      "text/plain": [
       "266"
      ]
     },
     "execution_count": 119,
     "metadata": {},
     "output_type": "execute_result"
    }
   ],
   "source": [
    "len(elements2)"
   ]
  },
  {
   "cell_type": "code",
   "execution_count": 120,
   "metadata": {},
   "outputs": [
    {
     "data": {
      "text/plain": [
       "['18,753,456,506.6',\n",
       " '18,053,222,734.9',\n",
       " '18,799,444,414.6',\n",
       " '19,955,929,060.8',\n",
       " '14,266,499,429.9',\n",
       " '..']"
      ]
     },
     "execution_count": 120,
     "metadata": {},
     "output_type": "execute_result"
    }
   ],
   "source": [
    "elements2[0].text.split()[-6:]"
   ]
  },
  {
   "cell_type": "code",
   "execution_count": 121,
   "metadata": {},
   "outputs": [
    {
     "data": {
      "text/plain": [
       "266"
      ]
     },
     "execution_count": 121,
     "metadata": {},
     "output_type": "execute_result"
    }
   ],
   "source": [
    "len(countries_gdp_1)"
   ]
  },
  {
   "cell_type": "markdown",
   "metadata": {},
   "source": [
    "For loop to merge the missing years"
   ]
  },
  {
   "cell_type": "code",
   "execution_count": 122,
   "metadata": {},
   "outputs": [],
   "source": [
    "# begins at 1967\n",
    "countries_gdp_2 = []\n",
    "for i in range(len(elements1)):\n",
    "    # print(elements2[i].text.split()[-6:])\n",
    "    countries_gdp_2.append(countries_gdp_1[i] + elements2[i].text.split()[-6:])"
   ]
  },
  {
   "cell_type": "code",
   "execution_count": 125,
   "metadata": {},
   "outputs": [
    {
     "data": {
      "text/plain": [
       "64"
      ]
     },
     "execution_count": 125,
     "metadata": {},
     "output_type": "execute_result"
    }
   ],
   "source": [
    "len(countries_gdp_2[0])"
   ]
  },
  {
   "cell_type": "code",
   "execution_count": 128,
   "metadata": {},
   "outputs": [
    {
     "data": {
      "text/plain": [
       "['537,777,811.1',\n",
       " '548,888,895.6',\n",
       " '546,666,677.8',\n",
       " '751,111,191.1',\n",
       " '800,000,044.4',\n",
       " '1,006,666,637.8',\n",
       " '1,399,999,966.7',\n",
       " '1,673,333,417.8',\n",
       " '1,373,333,366.7',\n",
       " '1,408,888,922.2',\n",
       " '1,748,886,595.6',\n",
       " '1,831,108,971.1',\n",
       " '1,595,555,475.6',\n",
       " '1,733,333,264.4',\n",
       " '2,155,555,497.8',\n",
       " '2,366,666,615.6',\n",
       " '2,555,555,566.7',\n",
       " '2,953,333,417.8',\n",
       " '3,300,000,108.9',\n",
       " '3,697,940,409.6',\n",
       " '3,641,723,322.0',\n",
       " '3,478,787,909.1',\n",
       " '..',\n",
       " '..',\n",
       " '..',\n",
       " '..',\n",
       " '..',\n",
       " '..',\n",
       " '..',\n",
       " '..',\n",
       " '..',\n",
       " '..',\n",
       " '..',\n",
       " '..',\n",
       " '..',\n",
       " '..',\n",
       " '..',\n",
       " '..',\n",
       " '..',\n",
       " '..',\n",
       " '..',\n",
       " '..',\n",
       " '3,825,701,405.5',\n",
       " '4,520,946,849.3',\n",
       " '5,224,896,718.7',\n",
       " '6,203,256,497.1',\n",
       " '6,971,758,332.9',\n",
       " '9,747,886,104.5',\n",
       " '10,109,296,957.7',\n",
       " '12,416,152,648.1',\n",
       " '15,856,668,496.4',\n",
       " '17,805,098,367.3',\n",
       " '19,907,329,906.0',\n",
       " '20,146,416,876.4',\n",
       " '20,497,128,600.3',\n",
       " '19,134,221,744.5',\n",
       " '18,116,572,399.1',\n",
       " '18,753,456,506.6',\n",
       " '18,053,222,734.9',\n",
       " '18,799,444,414.6',\n",
       " '19,955,929,060.8',\n",
       " '14,266,499,429.9',\n",
       " '..']"
      ]
     },
     "execution_count": 128,
     "metadata": {},
     "output_type": "execute_result"
    }
   ],
   "source": [
    "countries_gdp_2[0][-63:]"
   ]
  },
  {
   "cell_type": "code",
   "execution_count": 130,
   "metadata": {},
   "outputs": [
    {
     "data": {
      "text/plain": [
       "['American', 'Samoa']"
      ]
     },
     "execution_count": 130,
     "metadata": {},
     "output_type": "execute_result"
    }
   ],
   "source": [
    "countries_gdp_2[3][:-63]"
   ]
  },
  {
   "cell_type": "markdown",
   "metadata": {},
   "source": [
    "For loop:\n",
    "- takes the 63 years of gdp\n",
    "- get the name list and merged it to get on full string\n",
    "- converts the string number to float, and if there is no entry (..) then it will be given a NaN value\n",
    "- append to the nex country list"
   ]
  },
  {
   "cell_type": "code",
   "execution_count": 151,
   "metadata": {},
   "outputs": [],
   "source": [
    "list_countries = []\n",
    "for country in countries_gdp_2:\n",
    "    \n",
    "    country_gdp = country[-63:]\n",
    "    country_name = \" \".join(country[:-63])\n",
    "    country_gdp = [float(x.replace(\",\",\"\")) if x != \"..\" else np.nan for x in country_gdp]\n",
    "    list_countries.append([country_name] + country_gdp)"
   ]
  },
  {
   "cell_type": "code",
   "execution_count": 152,
   "metadata": {},
   "outputs": [
    {
     "data": {
      "text/plain": [
       "64"
      ]
     },
     "execution_count": 152,
     "metadata": {},
     "output_type": "execute_result"
    }
   ],
   "source": [
    "len(list_countries[3])"
   ]
  },
  {
   "cell_type": "code",
   "execution_count": 153,
   "metadata": {},
   "outputs": [],
   "source": [
    "# save as checkpoint\n",
    "# pd.DataFrame(list_countries, columns=[\"country_name\"] + list(range(1960,2023))).to_csv(\"data_csv/country_gdp.csv\", index=False, sep=\";\")"
   ]
  },
  {
   "cell_type": "markdown",
   "metadata": {},
   "source": [
    "Create Pandas DataFrame with the country gdp list, and the name of the columns"
   ]
  },
  {
   "cell_type": "code",
   "execution_count": 154,
   "metadata": {},
   "outputs": [],
   "source": [
    "df_gdg_countries = pd.DataFrame(list_countries, columns=[\"country_name\"] + list(range(1960,2023)))"
   ]
  },
  {
   "cell_type": "code",
   "execution_count": 155,
   "metadata": {},
   "outputs": [
    {
     "data": {
      "text/html": [
       "<div>\n",
       "<style scoped>\n",
       "    .dataframe tbody tr th:only-of-type {\n",
       "        vertical-align: middle;\n",
       "    }\n",
       "\n",
       "    .dataframe tbody tr th {\n",
       "        vertical-align: top;\n",
       "    }\n",
       "\n",
       "    .dataframe thead th {\n",
       "        text-align: right;\n",
       "    }\n",
       "</style>\n",
       "<table border=\"1\" class=\"dataframe\">\n",
       "  <thead>\n",
       "    <tr style=\"text-align: right;\">\n",
       "      <th></th>\n",
       "      <th>country_name</th>\n",
       "      <th>1960</th>\n",
       "      <th>1961</th>\n",
       "      <th>1962</th>\n",
       "      <th>1963</th>\n",
       "      <th>1964</th>\n",
       "      <th>1965</th>\n",
       "      <th>1966</th>\n",
       "      <th>1967</th>\n",
       "      <th>1968</th>\n",
       "      <th>...</th>\n",
       "      <th>2013</th>\n",
       "      <th>2014</th>\n",
       "      <th>2015</th>\n",
       "      <th>2016</th>\n",
       "      <th>2017</th>\n",
       "      <th>2018</th>\n",
       "      <th>2019</th>\n",
       "      <th>2020</th>\n",
       "      <th>2021</th>\n",
       "      <th>2022</th>\n",
       "    </tr>\n",
       "  </thead>\n",
       "  <tbody>\n",
       "    <tr>\n",
       "      <th>0</th>\n",
       "      <td>Afghanistan</td>\n",
       "      <td>5.377778e+08</td>\n",
       "      <td>5.488889e+08</td>\n",
       "      <td>5.466667e+08</td>\n",
       "      <td>7.511112e+08</td>\n",
       "      <td>8.000000e+08</td>\n",
       "      <td>1.006667e+09</td>\n",
       "      <td>1.400000e+09</td>\n",
       "      <td>1.673333e+09</td>\n",
       "      <td>1.373333e+09</td>\n",
       "      <td>...</td>\n",
       "      <td>2.014642e+10</td>\n",
       "      <td>2.049713e+10</td>\n",
       "      <td>1.913422e+10</td>\n",
       "      <td>1.811657e+10</td>\n",
       "      <td>1.875346e+10</td>\n",
       "      <td>1.805322e+10</td>\n",
       "      <td>1.879944e+10</td>\n",
       "      <td>1.995593e+10</td>\n",
       "      <td>1.426650e+10</td>\n",
       "      <td>NaN</td>\n",
       "    </tr>\n",
       "    <tr>\n",
       "      <th>1</th>\n",
       "      <td>Albania</td>\n",
       "      <td>NaN</td>\n",
       "      <td>NaN</td>\n",
       "      <td>NaN</td>\n",
       "      <td>NaN</td>\n",
       "      <td>NaN</td>\n",
       "      <td>NaN</td>\n",
       "      <td>NaN</td>\n",
       "      <td>NaN</td>\n",
       "      <td>NaN</td>\n",
       "      <td>...</td>\n",
       "      <td>1.277622e+10</td>\n",
       "      <td>1.322815e+10</td>\n",
       "      <td>1.138685e+10</td>\n",
       "      <td>1.186120e+10</td>\n",
       "      <td>1.301973e+10</td>\n",
       "      <td>1.515642e+10</td>\n",
       "      <td>1.540183e+10</td>\n",
       "      <td>1.516273e+10</td>\n",
       "      <td>1.793057e+10</td>\n",
       "      <td>1.891638e+10</td>\n",
       "    </tr>\n",
       "    <tr>\n",
       "      <th>2</th>\n",
       "      <td>Algeria</td>\n",
       "      <td>2.723615e+09</td>\n",
       "      <td>2.434747e+09</td>\n",
       "      <td>2.001445e+09</td>\n",
       "      <td>2.702982e+09</td>\n",
       "      <td>2.909316e+09</td>\n",
       "      <td>3.136284e+09</td>\n",
       "      <td>3.039859e+09</td>\n",
       "      <td>3.370870e+09</td>\n",
       "      <td>3.852147e+09</td>\n",
       "      <td>...</td>\n",
       "      <td>2.097550e+11</td>\n",
       "      <td>2.138100e+11</td>\n",
       "      <td>1.659792e+11</td>\n",
       "      <td>1.600342e+11</td>\n",
       "      <td>1.700970e+11</td>\n",
       "      <td>1.749107e+11</td>\n",
       "      <td>1.717603e+11</td>\n",
       "      <td>1.457435e+11</td>\n",
       "      <td>1.634724e+11</td>\n",
       "      <td>1.949984e+11</td>\n",
       "    </tr>\n",
       "    <tr>\n",
       "      <th>3</th>\n",
       "      <td>American Samoa</td>\n",
       "      <td>NaN</td>\n",
       "      <td>NaN</td>\n",
       "      <td>NaN</td>\n",
       "      <td>NaN</td>\n",
       "      <td>NaN</td>\n",
       "      <td>NaN</td>\n",
       "      <td>NaN</td>\n",
       "      <td>NaN</td>\n",
       "      <td>NaN</td>\n",
       "      <td>...</td>\n",
       "      <td>6.380000e+08</td>\n",
       "      <td>6.430000e+08</td>\n",
       "      <td>6.730000e+08</td>\n",
       "      <td>6.710000e+08</td>\n",
       "      <td>6.120000e+08</td>\n",
       "      <td>6.390000e+08</td>\n",
       "      <td>6.470000e+08</td>\n",
       "      <td>7.210000e+08</td>\n",
       "      <td>7.500000e+08</td>\n",
       "      <td>8.710000e+08</td>\n",
       "    </tr>\n",
       "    <tr>\n",
       "      <th>4</th>\n",
       "      <td>Andorra</td>\n",
       "      <td>NaN</td>\n",
       "      <td>NaN</td>\n",
       "      <td>NaN</td>\n",
       "      <td>NaN</td>\n",
       "      <td>NaN</td>\n",
       "      <td>NaN</td>\n",
       "      <td>NaN</td>\n",
       "      <td>NaN</td>\n",
       "      <td>NaN</td>\n",
       "      <td>...</td>\n",
       "      <td>3.193513e+09</td>\n",
       "      <td>3.271686e+09</td>\n",
       "      <td>2.789883e+09</td>\n",
       "      <td>2.896612e+09</td>\n",
       "      <td>3.000160e+09</td>\n",
       "      <td>3.218419e+09</td>\n",
       "      <td>3.155150e+09</td>\n",
       "      <td>2.891002e+09</td>\n",
       "      <td>3.325144e+09</td>\n",
       "      <td>3.352031e+09</td>\n",
       "    </tr>\n",
       "    <tr>\n",
       "      <th>...</th>\n",
       "      <td>...</td>\n",
       "      <td>...</td>\n",
       "      <td>...</td>\n",
       "      <td>...</td>\n",
       "      <td>...</td>\n",
       "      <td>...</td>\n",
       "      <td>...</td>\n",
       "      <td>...</td>\n",
       "      <td>...</td>\n",
       "      <td>...</td>\n",
       "      <td>...</td>\n",
       "      <td>...</td>\n",
       "      <td>...</td>\n",
       "      <td>...</td>\n",
       "      <td>...</td>\n",
       "      <td>...</td>\n",
       "      <td>...</td>\n",
       "      <td>...</td>\n",
       "      <td>...</td>\n",
       "      <td>...</td>\n",
       "      <td>...</td>\n",
       "    </tr>\n",
       "    <tr>\n",
       "      <th>261</th>\n",
       "      <td>Sub-Saharan Africa</td>\n",
       "      <td>2.834930e+10</td>\n",
       "      <td>2.996049e+10</td>\n",
       "      <td>3.190378e+10</td>\n",
       "      <td>3.429368e+10</td>\n",
       "      <td>3.744907e+10</td>\n",
       "      <td>4.069744e+10</td>\n",
       "      <td>4.369289e+10</td>\n",
       "      <td>4.468065e+10</td>\n",
       "      <td>4.754274e+10</td>\n",
       "      <td>...</td>\n",
       "      <td>1.820440e+12</td>\n",
       "      <td>1.901497e+12</td>\n",
       "      <td>1.701777e+12</td>\n",
       "      <td>1.582166e+12</td>\n",
       "      <td>1.714025e+12</td>\n",
       "      <td>1.780680e+12</td>\n",
       "      <td>1.829597e+12</td>\n",
       "      <td>1.715843e+12</td>\n",
       "      <td>1.931458e+12</td>\n",
       "      <td>2.060531e+12</td>\n",
       "    </tr>\n",
       "    <tr>\n",
       "      <th>262</th>\n",
       "      <td>Sub-Saharan Africa (excluding high income)</td>\n",
       "      <td>2.833851e+10</td>\n",
       "      <td>2.995040e+10</td>\n",
       "      <td>3.189268e+10</td>\n",
       "      <td>3.428135e+10</td>\n",
       "      <td>3.743539e+10</td>\n",
       "      <td>4.068390e+10</td>\n",
       "      <td>4.367871e+10</td>\n",
       "      <td>4.466637e+10</td>\n",
       "      <td>4.752944e+10</td>\n",
       "      <td>...</td>\n",
       "      <td>1.819115e+12</td>\n",
       "      <td>1.900110e+12</td>\n",
       "      <td>1.700385e+12</td>\n",
       "      <td>1.580707e+12</td>\n",
       "      <td>1.712495e+12</td>\n",
       "      <td>1.779092e+12</td>\n",
       "      <td>1.827951e+12</td>\n",
       "      <td>1.714659e+12</td>\n",
       "      <td>1.930172e+12</td>\n",
       "      <td>2.058943e+12</td>\n",
       "    </tr>\n",
       "    <tr>\n",
       "      <th>263</th>\n",
       "      <td>Sub-Saharan Africa (IDA &amp; IBRD countries)</td>\n",
       "      <td>2.834930e+10</td>\n",
       "      <td>2.996049e+10</td>\n",
       "      <td>3.190378e+10</td>\n",
       "      <td>3.429368e+10</td>\n",
       "      <td>3.744907e+10</td>\n",
       "      <td>4.069744e+10</td>\n",
       "      <td>4.369289e+10</td>\n",
       "      <td>4.468065e+10</td>\n",
       "      <td>4.754274e+10</td>\n",
       "      <td>...</td>\n",
       "      <td>1.820440e+12</td>\n",
       "      <td>1.901497e+12</td>\n",
       "      <td>1.701777e+12</td>\n",
       "      <td>1.582166e+12</td>\n",
       "      <td>1.714025e+12</td>\n",
       "      <td>1.780680e+12</td>\n",
       "      <td>1.829597e+12</td>\n",
       "      <td>1.715843e+12</td>\n",
       "      <td>1.931458e+12</td>\n",
       "      <td>2.060531e+12</td>\n",
       "    </tr>\n",
       "    <tr>\n",
       "      <th>264</th>\n",
       "      <td>Upper middle income</td>\n",
       "      <td>2.361364e+11</td>\n",
       "      <td>2.204908e+11</td>\n",
       "      <td>2.220237e+11</td>\n",
       "      <td>2.422683e+11</td>\n",
       "      <td>2.800665e+11</td>\n",
       "      <td>3.149861e+11</td>\n",
       "      <td>3.452335e+11</td>\n",
       "      <td>3.517173e+11</td>\n",
       "      <td>3.657436e+11</td>\n",
       "      <td>...</td>\n",
       "      <td>2.126849e+13</td>\n",
       "      <td>2.187459e+13</td>\n",
       "      <td>2.056000e+13</td>\n",
       "      <td>2.051005e+13</td>\n",
       "      <td>2.268671e+13</td>\n",
       "      <td>2.437603e+13</td>\n",
       "      <td>2.483209e+13</td>\n",
       "      <td>2.395941e+13</td>\n",
       "      <td>2.893325e+13</td>\n",
       "      <td>3.060946e+13</td>\n",
       "    </tr>\n",
       "    <tr>\n",
       "      <th>265</th>\n",
       "      <td>World</td>\n",
       "      <td>1.381135e+12</td>\n",
       "      <td>1.446356e+12</td>\n",
       "      <td>1.546369e+12</td>\n",
       "      <td>1.670666e+12</td>\n",
       "      <td>1.832616e+12</td>\n",
       "      <td>1.994519e+12</td>\n",
       "      <td>2.161645e+12</td>\n",
       "      <td>2.308597e+12</td>\n",
       "      <td>2.491805e+12</td>\n",
       "      <td>...</td>\n",
       "      <td>7.771472e+13</td>\n",
       "      <td>7.983716e+13</td>\n",
       "      <td>7.528327e+13</td>\n",
       "      <td>7.651898e+13</td>\n",
       "      <td>8.148410e+13</td>\n",
       "      <td>8.654268e+13</td>\n",
       "      <td>8.777740e+13</td>\n",
       "      <td>8.525774e+13</td>\n",
       "      <td>9.752968e+13</td>\n",
       "      <td>1.013257e+14</td>\n",
       "    </tr>\n",
       "  </tbody>\n",
       "</table>\n",
       "<p>266 rows × 64 columns</p>\n",
       "</div>"
      ],
      "text/plain": [
       "                                   country_name          1960          1961  \\\n",
       "0                                   Afghanistan  5.377778e+08  5.488889e+08   \n",
       "1                                       Albania           NaN           NaN   \n",
       "2                                       Algeria  2.723615e+09  2.434747e+09   \n",
       "3                                American Samoa           NaN           NaN   \n",
       "4                                       Andorra           NaN           NaN   \n",
       "..                                          ...           ...           ...   \n",
       "261                          Sub-Saharan Africa  2.834930e+10  2.996049e+10   \n",
       "262  Sub-Saharan Africa (excluding high income)  2.833851e+10  2.995040e+10   \n",
       "263   Sub-Saharan Africa (IDA & IBRD countries)  2.834930e+10  2.996049e+10   \n",
       "264                         Upper middle income  2.361364e+11  2.204908e+11   \n",
       "265                                       World  1.381135e+12  1.446356e+12   \n",
       "\n",
       "             1962          1963          1964          1965          1966  \\\n",
       "0    5.466667e+08  7.511112e+08  8.000000e+08  1.006667e+09  1.400000e+09   \n",
       "1             NaN           NaN           NaN           NaN           NaN   \n",
       "2    2.001445e+09  2.702982e+09  2.909316e+09  3.136284e+09  3.039859e+09   \n",
       "3             NaN           NaN           NaN           NaN           NaN   \n",
       "4             NaN           NaN           NaN           NaN           NaN   \n",
       "..            ...           ...           ...           ...           ...   \n",
       "261  3.190378e+10  3.429368e+10  3.744907e+10  4.069744e+10  4.369289e+10   \n",
       "262  3.189268e+10  3.428135e+10  3.743539e+10  4.068390e+10  4.367871e+10   \n",
       "263  3.190378e+10  3.429368e+10  3.744907e+10  4.069744e+10  4.369289e+10   \n",
       "264  2.220237e+11  2.422683e+11  2.800665e+11  3.149861e+11  3.452335e+11   \n",
       "265  1.546369e+12  1.670666e+12  1.832616e+12  1.994519e+12  2.161645e+12   \n",
       "\n",
       "             1967          1968  ...          2013          2014  \\\n",
       "0    1.673333e+09  1.373333e+09  ...  2.014642e+10  2.049713e+10   \n",
       "1             NaN           NaN  ...  1.277622e+10  1.322815e+10   \n",
       "2    3.370870e+09  3.852147e+09  ...  2.097550e+11  2.138100e+11   \n",
       "3             NaN           NaN  ...  6.380000e+08  6.430000e+08   \n",
       "4             NaN           NaN  ...  3.193513e+09  3.271686e+09   \n",
       "..            ...           ...  ...           ...           ...   \n",
       "261  4.468065e+10  4.754274e+10  ...  1.820440e+12  1.901497e+12   \n",
       "262  4.466637e+10  4.752944e+10  ...  1.819115e+12  1.900110e+12   \n",
       "263  4.468065e+10  4.754274e+10  ...  1.820440e+12  1.901497e+12   \n",
       "264  3.517173e+11  3.657436e+11  ...  2.126849e+13  2.187459e+13   \n",
       "265  2.308597e+12  2.491805e+12  ...  7.771472e+13  7.983716e+13   \n",
       "\n",
       "             2015          2016          2017          2018          2019  \\\n",
       "0    1.913422e+10  1.811657e+10  1.875346e+10  1.805322e+10  1.879944e+10   \n",
       "1    1.138685e+10  1.186120e+10  1.301973e+10  1.515642e+10  1.540183e+10   \n",
       "2    1.659792e+11  1.600342e+11  1.700970e+11  1.749107e+11  1.717603e+11   \n",
       "3    6.730000e+08  6.710000e+08  6.120000e+08  6.390000e+08  6.470000e+08   \n",
       "4    2.789883e+09  2.896612e+09  3.000160e+09  3.218419e+09  3.155150e+09   \n",
       "..            ...           ...           ...           ...           ...   \n",
       "261  1.701777e+12  1.582166e+12  1.714025e+12  1.780680e+12  1.829597e+12   \n",
       "262  1.700385e+12  1.580707e+12  1.712495e+12  1.779092e+12  1.827951e+12   \n",
       "263  1.701777e+12  1.582166e+12  1.714025e+12  1.780680e+12  1.829597e+12   \n",
       "264  2.056000e+13  2.051005e+13  2.268671e+13  2.437603e+13  2.483209e+13   \n",
       "265  7.528327e+13  7.651898e+13  8.148410e+13  8.654268e+13  8.777740e+13   \n",
       "\n",
       "             2020          2021          2022  \n",
       "0    1.995593e+10  1.426650e+10           NaN  \n",
       "1    1.516273e+10  1.793057e+10  1.891638e+10  \n",
       "2    1.457435e+11  1.634724e+11  1.949984e+11  \n",
       "3    7.210000e+08  7.500000e+08  8.710000e+08  \n",
       "4    2.891002e+09  3.325144e+09  3.352031e+09  \n",
       "..            ...           ...           ...  \n",
       "261  1.715843e+12  1.931458e+12  2.060531e+12  \n",
       "262  1.714659e+12  1.930172e+12  2.058943e+12  \n",
       "263  1.715843e+12  1.931458e+12  2.060531e+12  \n",
       "264  2.395941e+13  2.893325e+13  3.060946e+13  \n",
       "265  8.525774e+13  9.752968e+13  1.013257e+14  \n",
       "\n",
       "[266 rows x 64 columns]"
      ]
     },
     "execution_count": 155,
     "metadata": {},
     "output_type": "execute_result"
    }
   ],
   "source": [
    "df_gdg_countries"
   ]
  },
  {
   "cell_type": "code",
   "execution_count": 156,
   "metadata": {},
   "outputs": [
    {
     "name": "stdout",
     "output_type": "stream",
     "text": [
      "<class 'pandas.core.frame.DataFrame'>\n",
      "RangeIndex: 266 entries, 0 to 265\n",
      "Data columns (total 64 columns):\n",
      " #   Column        Non-Null Count  Dtype  \n",
      "---  ------        --------------  -----  \n",
      " 0   country_name  266 non-null    object \n",
      " 1   1960          126 non-null    float64\n",
      " 2   1961          127 non-null    float64\n",
      " 3   1962          128 non-null    float64\n",
      " 4   1963          128 non-null    float64\n",
      " 5   1964          128 non-null    float64\n",
      " 6   1965          140 non-null    float64\n",
      " 7   1966          143 non-null    float64\n",
      " 8   1967          146 non-null    float64\n",
      " 9   1968          151 non-null    float64\n",
      " 10  1969          151 non-null    float64\n",
      " 11  1970          160 non-null    float64\n",
      " 12  1971          163 non-null    float64\n",
      " 13  1972          163 non-null    float64\n",
      " 14  1973          163 non-null    float64\n",
      " 15  1974          164 non-null    float64\n",
      " 16  1975          166 non-null    float64\n",
      " 17  1976          167 non-null    float64\n",
      " 18  1977          170 non-null    float64\n",
      " 19  1978          169 non-null    float64\n",
      " 20  1979          170 non-null    float64\n",
      " 21  1980          183 non-null    float64\n",
      " 22  1981          187 non-null    float64\n",
      " 23  1982          189 non-null    float64\n",
      " 24  1983          191 non-null    float64\n",
      " 25  1984          193 non-null    float64\n",
      " 26  1985          195 non-null    float64\n",
      " 27  1986          197 non-null    float64\n",
      " 28  1987          201 non-null    float64\n",
      " 29  1988          207 non-null    float64\n",
      " 30  1989          211 non-null    float64\n",
      " 31  1990          226 non-null    float64\n",
      " 32  1991          225 non-null    float64\n",
      " 33  1992          228 non-null    float64\n",
      " 34  1993          230 non-null    float64\n",
      " 35  1994          232 non-null    float64\n",
      " 36  1995          241 non-null    float64\n",
      " 37  1996          241 non-null    float64\n",
      " 38  1997          241 non-null    float64\n",
      " 39  1998          242 non-null    float64\n",
      " 40  1999          243 non-null    float64\n",
      " 41  2000          247 non-null    float64\n",
      " 42  2001          249 non-null    float64\n",
      " 43  2002          254 non-null    float64\n",
      " 44  2003          254 non-null    float64\n",
      " 45  2004          254 non-null    float64\n",
      " 46  2005          254 non-null    float64\n",
      " 47  2006          255 non-null    float64\n",
      " 48  2007          255 non-null    float64\n",
      " 49  2008          256 non-null    float64\n",
      " 50  2009          256 non-null    float64\n",
      " 51  2010          257 non-null    float64\n",
      " 52  2011          260 non-null    float64\n",
      " 53  2012          258 non-null    float64\n",
      " 54  2013          259 non-null    float64\n",
      " 55  2014          260 non-null    float64\n",
      " 56  2015          258 non-null    float64\n",
      " 57  2016          258 non-null    float64\n",
      " 58  2017          258 non-null    float64\n",
      " 59  2018          258 non-null    float64\n",
      " 60  2019          258 non-null    float64\n",
      " 61  2020          257 non-null    float64\n",
      " 62  2021          256 non-null    float64\n",
      " 63  2022          243 non-null    float64\n",
      "dtypes: float64(63), object(1)\n",
      "memory usage: 133.1+ KB\n"
     ]
    }
   ],
   "source": [
    "df_gdg_countries.info()"
   ]
  },
  {
   "cell_type": "code",
   "execution_count": null,
   "metadata": {},
   "outputs": [],
   "source": []
  }
 ],
 "metadata": {
  "kernelspec": {
   "display_name": "webscrapping",
   "language": "python",
   "name": "python3"
  },
  "language_info": {
   "codemirror_mode": {
    "name": "ipython",
    "version": 3
   },
   "file_extension": ".py",
   "mimetype": "text/x-python",
   "name": "python",
   "nbconvert_exporter": "python",
   "pygments_lexer": "ipython3",
   "version": "3.10.13"
  }
 },
 "nbformat": 4,
 "nbformat_minor": 2
}

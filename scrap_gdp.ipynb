{
 "cells": [
  {
   "cell_type": "code",
   "execution_count": 1,
   "metadata": {},
   "outputs": [],
   "source": [
    "import requests\n",
    "from bs4 import BeautifulSoup\n",
    "import json\n",
    "import pandas as pd\n",
    "import numpy as np"
   ]
  },
  {
   "cell_type": "code",
   "execution_count": 58,
   "metadata": {},
   "outputs": [],
   "source": [
    "from selenium import webdriver\n",
    "from selenium.webdriver.common.by import By\n",
    "from selenium.webdriver.support.ui import Select\n",
    "import time\n",
    "from time import sleep"
   ]
  },
  {
   "cell_type": "code",
   "execution_count": 61,
   "metadata": {},
   "outputs": [],
   "source": [
    "# from selenium.actions.wheel_input import ScrollOrigin"
   ]
  },
  {
   "cell_type": "code",
   "execution_count": 62,
   "metadata": {},
   "outputs": [],
   "source": [
    "URL = \"https://databank.worldbank.org/reports.aspx?source=2&series=NY.GDP.MKTP.CD&country#\""
   ]
  },
  {
   "cell_type": "code",
   "execution_count": 65,
   "metadata": {},
   "outputs": [],
   "source": [
    "driver = webdriver.Firefox()\n",
    "driver.get(URL)\n",
    "\n",
    "# driver.execute_script(\"window.scrollTo(0, document.body.scrollHeight)\")\n",
    "# driver.execute_script('scrollBy(0, 250)')\n",
    "driver.execute_script(\"document.body.style.MozTransform='30%'\")\n",
    "sleep(5)\n",
    "\n",
    "# element = driver.find_elements(By.XPATH, '//*[@id=\"grdTableView\"]')\n",
    "\n",
    "\n",
    "# print(element)\n",
    "\n",
    "# scroll_origin = ScrollOrigin.from_element(element)\n",
    "\n",
    "\n",
    "# for i in range(60):\n",
    "#     driver.execute_script(\"arguments[0].scrollBy(0, 500)\", element)\n",
    "#     time.sleep(2)\n",
    "\n",
    "# x = driver.find_element(By.NAME, \"Download options\")\n",
    "# drop = Select(x)\n",
    "\n",
    "# # select by visible text\n",
    "# drop.select_by_visible_text(\"CSV\")"
   ]
  },
  {
   "cell_type": "markdown",
   "metadata": {},
   "source": [
    "dxgvDataRow_GridDefaultTheme class"
   ]
  },
  {
   "cell_type": "code",
   "execution_count": 111,
   "metadata": {},
   "outputs": [],
   "source": [
    "elements1 = driver.find_elements(By.CLASS_NAME, \"dxgvDataRow_GridDefaultTheme\")"
   ]
  },
  {
   "cell_type": "code",
   "execution_count": 112,
   "metadata": {},
   "outputs": [
    {
     "data": {
      "text/plain": [
       "266"
      ]
     },
     "execution_count": 112,
     "metadata": {},
     "output_type": "execute_result"
    }
   ],
   "source": [
    "len(elements1)"
   ]
  },
  {
   "cell_type": "code",
   "execution_count": 113,
   "metadata": {},
   "outputs": [
    {
     "data": {
      "text/plain": [
       "58"
      ]
     },
     "execution_count": 113,
     "metadata": {},
     "output_type": "execute_result"
    }
   ],
   "source": [
    "len(elements1[0].text.split())"
   ]
  },
  {
   "cell_type": "code",
   "execution_count": 114,
   "metadata": {},
   "outputs": [],
   "source": [
    "# begins at 1960\n",
    "countries_gdp_1 = []\n",
    "for i in range(len(elements1)):\n",
    "    # print(i.text.split())\n",
    "    # print(len(i.text.split()))\n",
    "    countries_gdp_1.append(elements1[i].text.split())"
   ]
  },
  {
   "cell_type": "code",
   "execution_count": 115,
   "metadata": {},
   "outputs": [
    {
     "data": {
      "text/plain": [
       "58"
      ]
     },
     "execution_count": 115,
     "metadata": {},
     "output_type": "execute_result"
    }
   ],
   "source": [
    "len(countries_gdp_1[0])"
   ]
  },
  {
   "cell_type": "code",
   "execution_count": 117,
   "metadata": {},
   "outputs": [
    {
     "data": {
      "text/plain": [
       "['Afghanistan',\n",
       " '537,777,811.1',\n",
       " '548,888,895.6',\n",
       " '546,666,677.8',\n",
       " '751,111,191.1',\n",
       " '800,000,044.4',\n",
       " '1,006,666,637.8',\n",
       " '1,399,999,966.7',\n",
       " '1,673,333,417.8',\n",
       " '1,373,333,366.7',\n",
       " '1,408,888,922.2',\n",
       " '1,748,886,595.6',\n",
       " '1,831,108,971.1',\n",
       " '1,595,555,475.6',\n",
       " '1,733,333,264.4',\n",
       " '2,155,555,497.8',\n",
       " '2,366,666,615.6',\n",
       " '2,555,555,566.7',\n",
       " '2,953,333,417.8',\n",
       " '3,300,000,108.9',\n",
       " '3,697,940,409.6',\n",
       " '3,641,723,322.0',\n",
       " '3,478,787,909.1',\n",
       " '..',\n",
       " '..',\n",
       " '..',\n",
       " '..',\n",
       " '..',\n",
       " '..',\n",
       " '..',\n",
       " '..',\n",
       " '..',\n",
       " '..',\n",
       " '..',\n",
       " '..',\n",
       " '..',\n",
       " '..',\n",
       " '..',\n",
       " '..',\n",
       " '..',\n",
       " '..',\n",
       " '..',\n",
       " '..',\n",
       " '3,825,701,405.5',\n",
       " '4,520,946,849.3',\n",
       " '5,224,896,718.7',\n",
       " '6,203,256,497.1',\n",
       " '6,971,758,332.9',\n",
       " '9,747,886,104.5',\n",
       " '10,109,296,957.7',\n",
       " '12,416,152,648.1',\n",
       " '15,856,668,496.4',\n",
       " '17,805,098,367.3',\n",
       " '19,907,329,906.0',\n",
       " '20,146,416,876.4',\n",
       " '20,497,128,600.3',\n",
       " '19,134,221,744.5',\n",
       " '18,116,572,399.1']"
      ]
     },
     "execution_count": 117,
     "metadata": {},
     "output_type": "execute_result"
    }
   ],
   "source": [
    "countries_gdp_1[0]"
   ]
  },
  {
   "cell_type": "code",
   "execution_count": 118,
   "metadata": {},
   "outputs": [],
   "source": [
    "elements2 = driver.find_elements(By.CLASS_NAME, \"dxgvDataRow_GridDefaultTheme\")"
   ]
  },
  {
   "cell_type": "code",
   "execution_count": 119,
   "metadata": {},
   "outputs": [
    {
     "data": {
      "text/plain": [
       "266"
      ]
     },
     "execution_count": 119,
     "metadata": {},
     "output_type": "execute_result"
    }
   ],
   "source": [
    "len(elements2)"
   ]
  },
  {
   "cell_type": "code",
   "execution_count": 120,
   "metadata": {},
   "outputs": [
    {
     "data": {
      "text/plain": [
       "['18,753,456,506.6',\n",
       " '18,053,222,734.9',\n",
       " '18,799,444,414.6',\n",
       " '19,955,929,060.8',\n",
       " '14,266,499,429.9',\n",
       " '..']"
      ]
     },
     "execution_count": 120,
     "metadata": {},
     "output_type": "execute_result"
    }
   ],
   "source": [
    "elements2[0].text.split()[-6:]"
   ]
  },
  {
   "cell_type": "code",
   "execution_count": 121,
   "metadata": {},
   "outputs": [
    {
     "data": {
      "text/plain": [
       "266"
      ]
     },
     "execution_count": 121,
     "metadata": {},
     "output_type": "execute_result"
    }
   ],
   "source": [
    "len(countries_gdp_1)"
   ]
  },
  {
   "cell_type": "code",
   "execution_count": 122,
   "metadata": {},
   "outputs": [],
   "source": [
    "# begins at 1967\n",
    "countries_gdp_2 = []\n",
    "for i in range(len(elements1)):\n",
    "    # print(elements2[i].text.split()[-6:])\n",
    "    countries_gdp_2.append(countries_gdp_1[i] + elements2[i].text.split()[-6:])"
   ]
  },
  {
   "cell_type": "code",
   "execution_count": 125,
   "metadata": {},
   "outputs": [
    {
     "data": {
      "text/plain": [
       "64"
      ]
     },
     "execution_count": 125,
     "metadata": {},
     "output_type": "execute_result"
    }
   ],
   "source": [
    "len(countries_gdp_2[0])"
   ]
  },
  {
   "cell_type": "code",
   "execution_count": 128,
   "metadata": {},
   "outputs": [
    {
     "data": {
      "text/plain": [
       "['537,777,811.1',\n",
       " '548,888,895.6',\n",
       " '546,666,677.8',\n",
       " '751,111,191.1',\n",
       " '800,000,044.4',\n",
       " '1,006,666,637.8',\n",
       " '1,399,999,966.7',\n",
       " '1,673,333,417.8',\n",
       " '1,373,333,366.7',\n",
       " '1,408,888,922.2',\n",
       " '1,748,886,595.6',\n",
       " '1,831,108,971.1',\n",
       " '1,595,555,475.6',\n",
       " '1,733,333,264.4',\n",
       " '2,155,555,497.8',\n",
       " '2,366,666,615.6',\n",
       " '2,555,555,566.7',\n",
       " '2,953,333,417.8',\n",
       " '3,300,000,108.9',\n",
       " '3,697,940,409.6',\n",
       " '3,641,723,322.0',\n",
       " '3,478,787,909.1',\n",
       " '..',\n",
       " '..',\n",
       " '..',\n",
       " '..',\n",
       " '..',\n",
       " '..',\n",
       " '..',\n",
       " '..',\n",
       " '..',\n",
       " '..',\n",
       " '..',\n",
       " '..',\n",
       " '..',\n",
       " '..',\n",
       " '..',\n",
       " '..',\n",
       " '..',\n",
       " '..',\n",
       " '..',\n",
       " '..',\n",
       " '3,825,701,405.5',\n",
       " '4,520,946,849.3',\n",
       " '5,224,896,718.7',\n",
       " '6,203,256,497.1',\n",
       " '6,971,758,332.9',\n",
       " '9,747,886,104.5',\n",
       " '10,109,296,957.7',\n",
       " '12,416,152,648.1',\n",
       " '15,856,668,496.4',\n",
       " '17,805,098,367.3',\n",
       " '19,907,329,906.0',\n",
       " '20,146,416,876.4',\n",
       " '20,497,128,600.3',\n",
       " '19,134,221,744.5',\n",
       " '18,116,572,399.1',\n",
       " '18,753,456,506.6',\n",
       " '18,053,222,734.9',\n",
       " '18,799,444,414.6',\n",
       " '19,955,929,060.8',\n",
       " '14,266,499,429.9',\n",
       " '..']"
      ]
     },
     "execution_count": 128,
     "metadata": {},
     "output_type": "execute_result"
    }
   ],
   "source": [
    "countries_gdp_2[0][-63:]"
   ]
  },
  {
   "cell_type": "code",
   "execution_count": 130,
   "metadata": {},
   "outputs": [
    {
     "data": {
      "text/plain": [
       "['American', 'Samoa']"
      ]
     },
     "execution_count": 130,
     "metadata": {},
     "output_type": "execute_result"
    }
   ],
   "source": [
    "countries_gdp_2[3][:-63]"
   ]
  },
  {
   "cell_type": "code",
   "execution_count": 138,
   "metadata": {},
   "outputs": [],
   "source": [
    "list_countries = []\n",
    "for country in countries_gdp_2:\n",
    "    \n",
    "    country_gdp = country[-63:]\n",
    "    country_name = \" \".join(country[:-63])\n",
    "\n",
    "    list_countries.append([country_name] + country_gdp)\n",
    "    # country_info[\"country_name\"] = country_name\n",
    "    # country_info[\"country_gdp\"] = country_gdp\n",
    "\n",
    "    # dict_list_countries.append(country_info)"
   ]
  },
  {
   "cell_type": "code",
   "execution_count": 141,
   "metadata": {},
   "outputs": [
    {
     "data": {
      "text/plain": [
       "64"
      ]
     },
     "execution_count": 141,
     "metadata": {},
     "output_type": "execute_result"
    }
   ],
   "source": [
    "len(list_countries[3])"
   ]
  },
  {
   "cell_type": "code",
   "execution_count": 143,
   "metadata": {},
   "outputs": [],
   "source": [
    "pd.DataFrame(list_countries, columns=[\"country_name\"] + list(range(1960,2023))).to_csv(\"data_csv/country_gdp.csv\", index=False, sep=\";\")"
   ]
  },
  {
   "cell_type": "markdown",
   "metadata": {},
   "source": [
    "dxgvHeader_GridDefaultTheme"
   ]
  },
  {
   "cell_type": "code",
   "execution_count": 41,
   "metadata": {},
   "outputs": [],
   "source": [
    "elements = driver.find_elements(By.CLASS_NAME, \"dxgvHeader_GridDefaultTheme\")"
   ]
  },
  {
   "cell_type": "code",
   "execution_count": 45,
   "metadata": {},
   "outputs": [
    {
     "name": "stdout",
     "output_type": "stream",
     "text": [
      "[1960, 1961, 1962, 1963, 1964, 1965, 1966, 1967, 1968, 1969, 1970, 1971, 1972, 1973, 1974, 1975, 1976, 1977, 1978, 1979, 1980, 1981, 1982, 1983, 1984, 1985, 1986, 1987, 1988, 1989, 1990, 1991, 1992, 1993, 1994, 1995, 1996, 1997, 1998, 1999, 2000, 2001, 2002, 2003, 2004, 2005, 2006, 2007, 2008, 2009, 2010, 2011, 2012, 2013, 2014, 2015, 2016, 2017, 2018, 2019, 2020, 2021, 2022]\n"
     ]
    }
   ],
   "source": [
    "print(list(range(1960,2023)))"
   ]
  },
  {
   "cell_type": "code",
   "execution_count": 74,
   "metadata": {},
   "outputs": [
    {
     "data": {
      "text/plain": [
       "63"
      ]
     },
     "execution_count": 74,
     "metadata": {},
     "output_type": "execute_result"
    }
   ],
   "source": [
    "len(list(range(1960,2023)))"
   ]
  },
  {
   "cell_type": "code",
   "execution_count": null,
   "metadata": {},
   "outputs": [],
   "source": [
    "URL = \"https://wits.worldbank.org/CountryProfile/en/country/by-country/startyear/ltst/endyear/ltst/indicator/NY-GDP-MKTP-CD\""
   ]
  },
  {
   "cell_type": "code",
   "execution_count": null,
   "metadata": {},
   "outputs": [],
   "source": [
    "driver = webdriver.Firefox()\n",
    "driver.get(URL)\n",
    "driver.findElement(By.ID, \"DataDownload\").click()\n",
    "\n",
    "driver.find_element(By.)"
   ]
  }
 ],
 "metadata": {
  "kernelspec": {
   "display_name": "webscrapping",
   "language": "python",
   "name": "python3"
  },
  "language_info": {
   "codemirror_mode": {
    "name": "ipython",
    "version": 3
   },
   "file_extension": ".py",
   "mimetype": "text/x-python",
   "name": "python",
   "nbconvert_exporter": "python",
   "pygments_lexer": "ipython3",
   "version": "3.10.13"
  }
 },
 "nbformat": 4,
 "nbformat_minor": 2
}

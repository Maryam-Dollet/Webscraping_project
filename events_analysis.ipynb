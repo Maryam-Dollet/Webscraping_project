{
 "cells": [
  {
   "cell_type": "code",
   "execution_count": 1,
   "metadata": {},
   "outputs": [],
   "source": [
    "import pandas as pd \n",
    "import plotly.express as px "
   ]
  },
  {
   "cell_type": "code",
   "execution_count": 3,
   "metadata": {},
   "outputs": [],
   "source": [
    "df_events = pd.read_csv(\"data_csv/events_cleaned.csv\", sep=\";\", low_memory=False)"
   ]
  },
  {
   "cell_type": "code",
   "execution_count": 4,
   "metadata": {},
   "outputs": [
    {
     "data": {
      "text/html": [
       "<div>\n",
       "<style scoped>\n",
       "    .dataframe tbody tr th:only-of-type {\n",
       "        vertical-align: middle;\n",
       "    }\n",
       "\n",
       "    .dataframe tbody tr th {\n",
       "        vertical-align: top;\n",
       "    }\n",
       "\n",
       "    .dataframe thead th {\n",
       "        text-align: right;\n",
       "    }\n",
       "</style>\n",
       "<table border=\"1\" class=\"dataframe\">\n",
       "  <thead>\n",
       "    <tr style=\"text-align: right;\">\n",
       "      <th></th>\n",
       "      <th>id</th>\n",
       "      <th>photo_link</th>\n",
       "      <th>Roles</th>\n",
       "      <th>Sex</th>\n",
       "      <th>Full_name</th>\n",
       "      <th>Used_name</th>\n",
       "      <th>Born</th>\n",
       "      <th>Died</th>\n",
       "      <th>NOC</th>\n",
       "      <th>game</th>\n",
       "      <th>...</th>\n",
       "      <th>Other_names</th>\n",
       "      <th>Nationality</th>\n",
       "      <th>Original_name</th>\n",
       "      <th>Name_order</th>\n",
       "      <th>event</th>\n",
       "      <th>team</th>\n",
       "      <th>position</th>\n",
       "      <th>medal</th>\n",
       "      <th>year</th>\n",
       "      <th>season</th>\n",
       "    </tr>\n",
       "  </thead>\n",
       "  <tbody>\n",
       "    <tr>\n",
       "      <th>0</th>\n",
       "      <td>1</td>\n",
       "      <td>https://d2a3o6pzho379u.cloudfront.net/1.jpg</td>\n",
       "      <td>Competed in Olympic Games</td>\n",
       "      <td>Male</td>\n",
       "      <td>François Joseph Marie Antoine \"Jean-François\"•...</td>\n",
       "      <td>Jean-François•Blanchy</td>\n",
       "      <td>12 December 1886 in Bordeaux, Gironde (FRA)</td>\n",
       "      <td>2 October 1960 in Saint-Jean-de-Luz, Pyrénées-...</td>\n",
       "      <td>France</td>\n",
       "      <td>1912 Summer Olympics</td>\n",
       "      <td>...</td>\n",
       "      <td>NaN</td>\n",
       "      <td>NaN</td>\n",
       "      <td>NaN</td>\n",
       "      <td>NaN</td>\n",
       "      <td>Singles, Men(Olympic)</td>\n",
       "      <td>NaN</td>\n",
       "      <td>=17</td>\n",
       "      <td>NaN</td>\n",
       "      <td>1912</td>\n",
       "      <td>Summer</td>\n",
       "    </tr>\n",
       "    <tr>\n",
       "      <th>1</th>\n",
       "      <td>1</td>\n",
       "      <td>https://d2a3o6pzho379u.cloudfront.net/1.jpg</td>\n",
       "      <td>Competed in Olympic Games</td>\n",
       "      <td>Male</td>\n",
       "      <td>François Joseph Marie Antoine \"Jean-François\"•...</td>\n",
       "      <td>Jean-François•Blanchy</td>\n",
       "      <td>12 December 1886 in Bordeaux, Gironde (FRA)</td>\n",
       "      <td>2 October 1960 in Saint-Jean-de-Luz, Pyrénées-...</td>\n",
       "      <td>France</td>\n",
       "      <td>1912 Summer Olympics</td>\n",
       "      <td>...</td>\n",
       "      <td>NaN</td>\n",
       "      <td>NaN</td>\n",
       "      <td>NaN</td>\n",
       "      <td>NaN</td>\n",
       "      <td>Doubles, Men(Olympic)</td>\n",
       "      <td>Jean Montariol</td>\n",
       "      <td>DNS</td>\n",
       "      <td>NaN</td>\n",
       "      <td>1912</td>\n",
       "      <td>Summer</td>\n",
       "    </tr>\n",
       "    <tr>\n",
       "      <th>2</th>\n",
       "      <td>1</td>\n",
       "      <td>https://d2a3o6pzho379u.cloudfront.net/1.jpg</td>\n",
       "      <td>Competed in Olympic Games</td>\n",
       "      <td>Male</td>\n",
       "      <td>François Joseph Marie Antoine \"Jean-François\"•...</td>\n",
       "      <td>Jean-François•Blanchy</td>\n",
       "      <td>12 December 1886 in Bordeaux, Gironde (FRA)</td>\n",
       "      <td>2 October 1960 in Saint-Jean-de-Luz, Pyrénées-...</td>\n",
       "      <td>France</td>\n",
       "      <td>1920 Summer Olympics</td>\n",
       "      <td>...</td>\n",
       "      <td>NaN</td>\n",
       "      <td>NaN</td>\n",
       "      <td>NaN</td>\n",
       "      <td>NaN</td>\n",
       "      <td>Singles, Men(Olympic)</td>\n",
       "      <td>NaN</td>\n",
       "      <td>=32</td>\n",
       "      <td>NaN</td>\n",
       "      <td>1920</td>\n",
       "      <td>Summer</td>\n",
       "    </tr>\n",
       "    <tr>\n",
       "      <th>3</th>\n",
       "      <td>1</td>\n",
       "      <td>https://d2a3o6pzho379u.cloudfront.net/1.jpg</td>\n",
       "      <td>Competed in Olympic Games</td>\n",
       "      <td>Male</td>\n",
       "      <td>François Joseph Marie Antoine \"Jean-François\"•...</td>\n",
       "      <td>Jean-François•Blanchy</td>\n",
       "      <td>12 December 1886 in Bordeaux, Gironde (FRA)</td>\n",
       "      <td>2 October 1960 in Saint-Jean-de-Luz, Pyrénées-...</td>\n",
       "      <td>France</td>\n",
       "      <td>1920 Summer Olympics</td>\n",
       "      <td>...</td>\n",
       "      <td>NaN</td>\n",
       "      <td>NaN</td>\n",
       "      <td>NaN</td>\n",
       "      <td>NaN</td>\n",
       "      <td>Doubles, Mixed(Olympic)</td>\n",
       "      <td>Jeanne Vaussard</td>\n",
       "      <td>=8</td>\n",
       "      <td>NaN</td>\n",
       "      <td>1920</td>\n",
       "      <td>Summer</td>\n",
       "    </tr>\n",
       "    <tr>\n",
       "      <th>4</th>\n",
       "      <td>1</td>\n",
       "      <td>https://d2a3o6pzho379u.cloudfront.net/1.jpg</td>\n",
       "      <td>Competed in Olympic Games</td>\n",
       "      <td>Male</td>\n",
       "      <td>François Joseph Marie Antoine \"Jean-François\"•...</td>\n",
       "      <td>Jean-François•Blanchy</td>\n",
       "      <td>12 December 1886 in Bordeaux, Gironde (FRA)</td>\n",
       "      <td>2 October 1960 in Saint-Jean-de-Luz, Pyrénées-...</td>\n",
       "      <td>France</td>\n",
       "      <td>1920 Summer Olympics</td>\n",
       "      <td>...</td>\n",
       "      <td>NaN</td>\n",
       "      <td>NaN</td>\n",
       "      <td>NaN</td>\n",
       "      <td>NaN</td>\n",
       "      <td>Doubles, Men(Olympic)</td>\n",
       "      <td>Jacques Brugnon</td>\n",
       "      <td>4</td>\n",
       "      <td>NaN</td>\n",
       "      <td>1920</td>\n",
       "      <td>Summer</td>\n",
       "    </tr>\n",
       "    <tr>\n",
       "      <th>...</th>\n",
       "      <td>...</td>\n",
       "      <td>...</td>\n",
       "      <td>...</td>\n",
       "      <td>...</td>\n",
       "      <td>...</td>\n",
       "      <td>...</td>\n",
       "      <td>...</td>\n",
       "      <td>...</td>\n",
       "      <td>...</td>\n",
       "      <td>...</td>\n",
       "      <td>...</td>\n",
       "      <td>...</td>\n",
       "      <td>...</td>\n",
       "      <td>...</td>\n",
       "      <td>...</td>\n",
       "      <td>...</td>\n",
       "      <td>...</td>\n",
       "      <td>...</td>\n",
       "      <td>...</td>\n",
       "      <td>...</td>\n",
       "      <td>...</td>\n",
       "    </tr>\n",
       "    <tr>\n",
       "      <th>306891</th>\n",
       "      <td>149222</td>\n",
       "      <td>NaN</td>\n",
       "      <td>Competed in Olympic Games</td>\n",
       "      <td>Female</td>\n",
       "      <td>Polina•Luchnikova</td>\n",
       "      <td>Polina•Luchnikova</td>\n",
       "      <td>30 January 2002 in Serov, Sverdlovsk (RUS)</td>\n",
       "      <td>NaN</td>\n",
       "      <td>ROC</td>\n",
       "      <td>2022 Winter Olympics</td>\n",
       "      <td>...</td>\n",
       "      <td>NaN</td>\n",
       "      <td>NaN</td>\n",
       "      <td>NaN</td>\n",
       "      <td>NaN</td>\n",
       "      <td>Ice Hockey, Women(Olympic)</td>\n",
       "      <td>ROC</td>\n",
       "      <td>5</td>\n",
       "      <td>NaN</td>\n",
       "      <td>2022</td>\n",
       "      <td>Winter</td>\n",
       "    </tr>\n",
       "    <tr>\n",
       "      <th>306892</th>\n",
       "      <td>149223</td>\n",
       "      <td>NaN</td>\n",
       "      <td>Competed in Olympic Games</td>\n",
       "      <td>Female</td>\n",
       "      <td>Valeriya Sergeyevna•Merkusheva</td>\n",
       "      <td>Valeriya•Merkusheva</td>\n",
       "      <td>20 September 1999 in Moskva (Moscow), Moskva (...</td>\n",
       "      <td>NaN</td>\n",
       "      <td>ROC</td>\n",
       "      <td>2022 Winter Olympics</td>\n",
       "      <td>...</td>\n",
       "      <td>NaN</td>\n",
       "      <td>NaN</td>\n",
       "      <td>Валерия Сергеевна•Меркушева</td>\n",
       "      <td>NaN</td>\n",
       "      <td>Ice Hockey, Women(Olympic)</td>\n",
       "      <td>ROC</td>\n",
       "      <td>5</td>\n",
       "      <td>NaN</td>\n",
       "      <td>2022</td>\n",
       "      <td>Winter</td>\n",
       "    </tr>\n",
       "    <tr>\n",
       "      <th>306893</th>\n",
       "      <td>149224</td>\n",
       "      <td>NaN</td>\n",
       "      <td>Competed in Olympic Games</td>\n",
       "      <td>Female</td>\n",
       "      <td>Yuliya•Smirnova</td>\n",
       "      <td>Yuliya•Smirnova</td>\n",
       "      <td>8 May 1998 in Kotlas, Arkhangelsk (RUS)</td>\n",
       "      <td>NaN</td>\n",
       "      <td>ROC</td>\n",
       "      <td>2022 Winter Olympics</td>\n",
       "      <td>...</td>\n",
       "      <td>NaN</td>\n",
       "      <td>NaN</td>\n",
       "      <td>Юлия•Смирнова</td>\n",
       "      <td>NaN</td>\n",
       "      <td>Ice Hockey, Women(Olympic)</td>\n",
       "      <td>ROC</td>\n",
       "      <td>5</td>\n",
       "      <td>NaN</td>\n",
       "      <td>2022</td>\n",
       "      <td>Winter</td>\n",
       "    </tr>\n",
       "    <tr>\n",
       "      <th>306894</th>\n",
       "      <td>149225</td>\n",
       "      <td>https://d2a3o6pzho379u.cloudfront.net/149225.jpg</td>\n",
       "      <td>Competed in Olympic Games</td>\n",
       "      <td>Male</td>\n",
       "      <td>André•Foussard</td>\n",
       "      <td>André•Foussard</td>\n",
       "      <td>19 May 1899 in Niort, Deux-Sèvres (FRA)</td>\n",
       "      <td>18 March 1986 in Niort, Deux-Sèvres (FRA)</td>\n",
       "      <td>France</td>\n",
       "      <td>1924 Summer Olympics</td>\n",
       "      <td>...</td>\n",
       "      <td>NaN</td>\n",
       "      <td>NaN</td>\n",
       "      <td>NaN</td>\n",
       "      <td>NaN</td>\n",
       "      <td>400 metres Hurdles, Men(Olympic)</td>\n",
       "      <td>NaN</td>\n",
       "      <td>5 h5 r1/3</td>\n",
       "      <td>NaN</td>\n",
       "      <td>1924</td>\n",
       "      <td>Summer</td>\n",
       "    </tr>\n",
       "    <tr>\n",
       "      <th>306895</th>\n",
       "      <td>149814</td>\n",
       "      <td>NaN</td>\n",
       "      <td>Non-starter • Administrator</td>\n",
       "      <td>Male</td>\n",
       "      <td>William Berge \"Bill\"•Phillips</td>\n",
       "      <td>Bill•Phillips</td>\n",
       "      <td>15 July 1913 in Dulwich Hill, New South Wales ...</td>\n",
       "      <td>20 October 2003 in Sydney, New South Wales (AUS)</td>\n",
       "      <td>Australia</td>\n",
       "      <td>1948 Summer Olympics</td>\n",
       "      <td>...</td>\n",
       "      <td>NaN</td>\n",
       "      <td>NaN</td>\n",
       "      <td>NaN</td>\n",
       "      <td>NaN</td>\n",
       "      <td>Water Polo, Men(Olympic)</td>\n",
       "      <td>Australia</td>\n",
       "      <td>DNS</td>\n",
       "      <td>NaN</td>\n",
       "      <td>1948</td>\n",
       "      <td>Summer</td>\n",
       "    </tr>\n",
       "  </tbody>\n",
       "</table>\n",
       "<p>306896 rows × 26 columns</p>\n",
       "</div>"
      ],
      "text/plain": [
       "            id                                        photo_link  \\\n",
       "0            1       https://d2a3o6pzho379u.cloudfront.net/1.jpg   \n",
       "1            1       https://d2a3o6pzho379u.cloudfront.net/1.jpg   \n",
       "2            1       https://d2a3o6pzho379u.cloudfront.net/1.jpg   \n",
       "3            1       https://d2a3o6pzho379u.cloudfront.net/1.jpg   \n",
       "4            1       https://d2a3o6pzho379u.cloudfront.net/1.jpg   \n",
       "...        ...                                               ...   \n",
       "306891  149222                                               NaN   \n",
       "306892  149223                                               NaN   \n",
       "306893  149224                                               NaN   \n",
       "306894  149225  https://d2a3o6pzho379u.cloudfront.net/149225.jpg   \n",
       "306895  149814                                               NaN   \n",
       "\n",
       "                              Roles     Sex  \\\n",
       "0         Competed in Olympic Games    Male   \n",
       "1         Competed in Olympic Games    Male   \n",
       "2         Competed in Olympic Games    Male   \n",
       "3         Competed in Olympic Games    Male   \n",
       "4         Competed in Olympic Games    Male   \n",
       "...                             ...     ...   \n",
       "306891    Competed in Olympic Games  Female   \n",
       "306892    Competed in Olympic Games  Female   \n",
       "306893    Competed in Olympic Games  Female   \n",
       "306894    Competed in Olympic Games    Male   \n",
       "306895  Non-starter • Administrator    Male   \n",
       "\n",
       "                                                Full_name  \\\n",
       "0       François Joseph Marie Antoine \"Jean-François\"•...   \n",
       "1       François Joseph Marie Antoine \"Jean-François\"•...   \n",
       "2       François Joseph Marie Antoine \"Jean-François\"•...   \n",
       "3       François Joseph Marie Antoine \"Jean-François\"•...   \n",
       "4       François Joseph Marie Antoine \"Jean-François\"•...   \n",
       "...                                                   ...   \n",
       "306891                                  Polina•Luchnikova   \n",
       "306892                     Valeriya Sergeyevna•Merkusheva   \n",
       "306893                                    Yuliya•Smirnova   \n",
       "306894                                     André•Foussard   \n",
       "306895                      William Berge \"Bill\"•Phillips   \n",
       "\n",
       "                    Used_name  \\\n",
       "0       Jean-François•Blanchy   \n",
       "1       Jean-François•Blanchy   \n",
       "2       Jean-François•Blanchy   \n",
       "3       Jean-François•Blanchy   \n",
       "4       Jean-François•Blanchy   \n",
       "...                       ...   \n",
       "306891      Polina•Luchnikova   \n",
       "306892    Valeriya•Merkusheva   \n",
       "306893        Yuliya•Smirnova   \n",
       "306894         André•Foussard   \n",
       "306895          Bill•Phillips   \n",
       "\n",
       "                                                     Born  \\\n",
       "0             12 December 1886 in Bordeaux, Gironde (FRA)   \n",
       "1             12 December 1886 in Bordeaux, Gironde (FRA)   \n",
       "2             12 December 1886 in Bordeaux, Gironde (FRA)   \n",
       "3             12 December 1886 in Bordeaux, Gironde (FRA)   \n",
       "4             12 December 1886 in Bordeaux, Gironde (FRA)   \n",
       "...                                                   ...   \n",
       "306891         30 January 2002 in Serov, Sverdlovsk (RUS)   \n",
       "306892  20 September 1999 in Moskva (Moscow), Moskva (...   \n",
       "306893            8 May 1998 in Kotlas, Arkhangelsk (RUS)   \n",
       "306894            19 May 1899 in Niort, Deux-Sèvres (FRA)   \n",
       "306895  15 July 1913 in Dulwich Hill, New South Wales ...   \n",
       "\n",
       "                                                     Died        NOC  \\\n",
       "0       2 October 1960 in Saint-Jean-de-Luz, Pyrénées-...     France   \n",
       "1       2 October 1960 in Saint-Jean-de-Luz, Pyrénées-...     France   \n",
       "2       2 October 1960 in Saint-Jean-de-Luz, Pyrénées-...     France   \n",
       "3       2 October 1960 in Saint-Jean-de-Luz, Pyrénées-...     France   \n",
       "4       2 October 1960 in Saint-Jean-de-Luz, Pyrénées-...     France   \n",
       "...                                                   ...        ...   \n",
       "306891                                                NaN        ROC   \n",
       "306892                                                NaN        ROC   \n",
       "306893                                                NaN        ROC   \n",
       "306894          18 March 1986 in Niort, Deux-Sèvres (FRA)     France   \n",
       "306895   20 October 2003 in Sydney, New South Wales (AUS)  Australia   \n",
       "\n",
       "                        game  ... Other_names Nationality  \\\n",
       "0       1912 Summer Olympics  ...         NaN         NaN   \n",
       "1       1912 Summer Olympics  ...         NaN         NaN   \n",
       "2       1920 Summer Olympics  ...         NaN         NaN   \n",
       "3       1920 Summer Olympics  ...         NaN         NaN   \n",
       "4       1920 Summer Olympics  ...         NaN         NaN   \n",
       "...                      ...  ...         ...         ...   \n",
       "306891  2022 Winter Olympics  ...         NaN         NaN   \n",
       "306892  2022 Winter Olympics  ...         NaN         NaN   \n",
       "306893  2022 Winter Olympics  ...         NaN         NaN   \n",
       "306894  1924 Summer Olympics  ...         NaN         NaN   \n",
       "306895  1948 Summer Olympics  ...         NaN         NaN   \n",
       "\n",
       "                      Original_name Name_order  \\\n",
       "0                               NaN        NaN   \n",
       "1                               NaN        NaN   \n",
       "2                               NaN        NaN   \n",
       "3                               NaN        NaN   \n",
       "4                               NaN        NaN   \n",
       "...                             ...        ...   \n",
       "306891                          NaN        NaN   \n",
       "306892  Валерия Сергеевна•Меркушева        NaN   \n",
       "306893                Юлия•Смирнова        NaN   \n",
       "306894                          NaN        NaN   \n",
       "306895                          NaN        NaN   \n",
       "\n",
       "                                   event             team   position medal  \\\n",
       "0                  Singles, Men(Olympic)              NaN        =17   NaN   \n",
       "1                  Doubles, Men(Olympic)   Jean Montariol        DNS   NaN   \n",
       "2                  Singles, Men(Olympic)              NaN        =32   NaN   \n",
       "3                Doubles, Mixed(Olympic)  Jeanne Vaussard         =8   NaN   \n",
       "4                  Doubles, Men(Olympic)  Jacques Brugnon          4   NaN   \n",
       "...                                  ...              ...        ...   ...   \n",
       "306891        Ice Hockey, Women(Olympic)              ROC          5   NaN   \n",
       "306892        Ice Hockey, Women(Olympic)              ROC          5   NaN   \n",
       "306893        Ice Hockey, Women(Olympic)              ROC          5   NaN   \n",
       "306894  400 metres Hurdles, Men(Olympic)              NaN  5 h5 r1/3   NaN   \n",
       "306895          Water Polo, Men(Olympic)        Australia        DNS   NaN   \n",
       "\n",
       "        year  season  \n",
       "0       1912  Summer  \n",
       "1       1912  Summer  \n",
       "2       1920  Summer  \n",
       "3       1920  Summer  \n",
       "4       1920  Summer  \n",
       "...      ...     ...  \n",
       "306891  2022  Winter  \n",
       "306892  2022  Winter  \n",
       "306893  2022  Winter  \n",
       "306894  1924  Summer  \n",
       "306895  1948  Summer  \n",
       "\n",
       "[306896 rows x 26 columns]"
      ]
     },
     "execution_count": 4,
     "metadata": {},
     "output_type": "execute_result"
    }
   ],
   "source": [
    "df_events"
   ]
  },
  {
   "cell_type": "code",
   "execution_count": 5,
   "metadata": {},
   "outputs": [
    {
     "name": "stdout",
     "output_type": "stream",
     "text": [
      "<class 'pandas.core.frame.DataFrame'>\n",
      "RangeIndex: 306896 entries, 0 to 306895\n",
      "Data columns (total 26 columns):\n",
      " #   Column         Non-Null Count   Dtype \n",
      "---  ------         --------------   ----- \n",
      " 0   id             306896 non-null  int64 \n",
      " 1   photo_link     243412 non-null  object\n",
      " 2   Roles          306896 non-null  object\n",
      " 3   Sex            306896 non-null  object\n",
      " 4   Full_name      306896 non-null  object\n",
      " 5   Used_name      306896 non-null  object\n",
      " 6   Born           304359 non-null  object\n",
      " 7   Died           72659 non-null   object\n",
      " 8   NOC            306896 non-null  object\n",
      " 9   game           304502 non-null  object\n",
      " 10  discipline     306896 non-null  object\n",
      " 11  noc            306896 non-null  object\n",
      " 12  Measurements   237838 non-null  object\n",
      " 13  Affiliations   213879 non-null  object\n",
      " 14  Nick/petnames  23064 non-null   object\n",
      " 15  Title(s)       1000 non-null    object\n",
      " 16  Other_names    15973 non-null   object\n",
      " 17  Nationality    18753 non-null   object\n",
      " 18  Original_name  63364 non-null   object\n",
      " 19  Name_order     15613 non-null   object\n",
      " 20  event          306801 non-null  object\n",
      " 21  team           119983 non-null  object\n",
      " 22  position       306801 non-null  object\n",
      " 23  medal          44168 non-null   object\n",
      " 24  year           304502 non-null  object\n",
      " 25  season         304502 non-null  object\n",
      "dtypes: int64(1), object(25)\n",
      "memory usage: 60.9+ MB\n"
     ]
    }
   ],
   "source": [
    "df_events.info()"
   ]
  },
  {
   "cell_type": "code",
   "execution_count": 6,
   "metadata": {},
   "outputs": [
    {
     "data": {
      "text/plain": [
       "id                    0\n",
       "photo_link        63484\n",
       "Roles                 0\n",
       "Sex                   0\n",
       "Full_name             0\n",
       "Used_name             0\n",
       "Born               2537\n",
       "Died             234237\n",
       "NOC                   0\n",
       "game               2394\n",
       "discipline            0\n",
       "noc                   0\n",
       "Measurements      69058\n",
       "Affiliations      93017\n",
       "Nick/petnames    283832\n",
       "Title(s)         305896\n",
       "Other_names      290923\n",
       "Nationality      288143\n",
       "Original_name    243532\n",
       "Name_order       291283\n",
       "event                95\n",
       "team             186913\n",
       "position             95\n",
       "medal            262728\n",
       "year               2394\n",
       "season             2394\n",
       "dtype: int64"
      ]
     },
     "execution_count": 6,
     "metadata": {},
     "output_type": "execute_result"
    }
   ],
   "source": [
    "df_events.isna().sum()"
   ]
  },
  {
   "cell_type": "code",
   "execution_count": 9,
   "metadata": {},
   "outputs": [
    {
     "data": {
      "text/html": [
       "<div>\n",
       "<style scoped>\n",
       "    .dataframe tbody tr th:only-of-type {\n",
       "        vertical-align: middle;\n",
       "    }\n",
       "\n",
       "    .dataframe tbody tr th {\n",
       "        vertical-align: top;\n",
       "    }\n",
       "\n",
       "    .dataframe thead th {\n",
       "        text-align: right;\n",
       "    }\n",
       "</style>\n",
       "<table border=\"1\" class=\"dataframe\">\n",
       "  <thead>\n",
       "    <tr style=\"text-align: right;\">\n",
       "      <th></th>\n",
       "      <th>season</th>\n",
       "      <th>count</th>\n",
       "    </tr>\n",
       "  </thead>\n",
       "  <tbody>\n",
       "    <tr>\n",
       "      <th>0</th>\n",
       "      <td>Summer</td>\n",
       "      <td>237254</td>\n",
       "    </tr>\n",
       "    <tr>\n",
       "      <th>1</th>\n",
       "      <td>Winter</td>\n",
       "      <td>59320</td>\n",
       "    </tr>\n",
       "    <tr>\n",
       "      <th>2</th>\n",
       "      <td>Winter Youth</td>\n",
       "      <td>4191</td>\n",
       "    </tr>\n",
       "    <tr>\n",
       "      <th>3</th>\n",
       "      <td>Intercalated</td>\n",
       "      <td>2037</td>\n",
       "    </tr>\n",
       "    <tr>\n",
       "      <th>4</th>\n",
       "      <td>Summer Youth</td>\n",
       "      <td>1399</td>\n",
       "    </tr>\n",
       "    <tr>\n",
       "      <th>5</th>\n",
       "      <td>Equestrian</td>\n",
       "      <td>300</td>\n",
       "    </tr>\n",
       "    <tr>\n",
       "      <th>6</th>\n",
       "      <td>Zappas Olympic</td>\n",
       "      <td>1</td>\n",
       "    </tr>\n",
       "  </tbody>\n",
       "</table>\n",
       "</div>"
      ],
      "text/plain": [
       "           season   count\n",
       "0          Summer  237254\n",
       "1          Winter   59320\n",
       "2    Winter Youth    4191\n",
       "3    Intercalated    2037\n",
       "4    Summer Youth    1399\n",
       "5      Equestrian     300\n",
       "6  Zappas Olympic       1"
      ]
     },
     "execution_count": 9,
     "metadata": {},
     "output_type": "execute_result"
    }
   ],
   "source": [
    "events_count = df_events[\"season\"].value_counts().reset_index()\n",
    "events_count"
   ]
  },
  {
   "cell_type": "markdown",
   "metadata": {},
   "source": [
    "### Events percentage "
   ]
  },
  {
   "cell_type": "code",
   "execution_count": 11,
   "metadata": {},
   "outputs": [
    {
     "ename": "ValueError",
     "evalue": "Mime type rendering requires nbformat>=4.2.0 but it is not installed",
     "output_type": "error",
     "traceback": [
      "\u001b[1;31m---------------------------------------------------------------------------\u001b[0m",
      "\u001b[1;31mValueError\u001b[0m                                Traceback (most recent call last)",
      "File \u001b[1;32mc:\\Users\\marya\\anaconda3\\envs\\webscrapping\\lib\\site-packages\\IPython\\core\\formatters.py:922\u001b[0m, in \u001b[0;36mIPythonDisplayFormatter.__call__\u001b[1;34m(self, obj)\u001b[0m\n\u001b[0;32m    920\u001b[0m method \u001b[38;5;241m=\u001b[39m get_real_method(obj, \u001b[38;5;28mself\u001b[39m\u001b[38;5;241m.\u001b[39mprint_method)\n\u001b[0;32m    921\u001b[0m \u001b[38;5;28;01mif\u001b[39;00m method \u001b[38;5;129;01mis\u001b[39;00m \u001b[38;5;129;01mnot\u001b[39;00m \u001b[38;5;28;01mNone\u001b[39;00m:\n\u001b[1;32m--> 922\u001b[0m     \u001b[43mmethod\u001b[49m\u001b[43m(\u001b[49m\u001b[43m)\u001b[49m\n\u001b[0;32m    923\u001b[0m     \u001b[38;5;28;01mreturn\u001b[39;00m \u001b[38;5;28;01mTrue\u001b[39;00m\n",
      "File \u001b[1;32mc:\\Users\\marya\\anaconda3\\envs\\webscrapping\\lib\\site-packages\\plotly\\basedatatypes.py:832\u001b[0m, in \u001b[0;36mBaseFigure._ipython_display_\u001b[1;34m(self)\u001b[0m\n\u001b[0;32m    829\u001b[0m \u001b[38;5;28;01mimport\u001b[39;00m \u001b[38;5;21;01mplotly\u001b[39;00m\u001b[38;5;21;01m.\u001b[39;00m\u001b[38;5;21;01mio\u001b[39;00m \u001b[38;5;28;01mas\u001b[39;00m \u001b[38;5;21;01mpio\u001b[39;00m\n\u001b[0;32m    831\u001b[0m \u001b[38;5;28;01mif\u001b[39;00m pio\u001b[38;5;241m.\u001b[39mrenderers\u001b[38;5;241m.\u001b[39mrender_on_display \u001b[38;5;129;01mand\u001b[39;00m pio\u001b[38;5;241m.\u001b[39mrenderers\u001b[38;5;241m.\u001b[39mdefault:\n\u001b[1;32m--> 832\u001b[0m     \u001b[43mpio\u001b[49m\u001b[38;5;241;43m.\u001b[39;49m\u001b[43mshow\u001b[49m\u001b[43m(\u001b[49m\u001b[38;5;28;43mself\u001b[39;49m\u001b[43m)\u001b[49m\n\u001b[0;32m    833\u001b[0m \u001b[38;5;28;01melse\u001b[39;00m:\n\u001b[0;32m    834\u001b[0m     \u001b[38;5;28mprint\u001b[39m(\u001b[38;5;28mrepr\u001b[39m(\u001b[38;5;28mself\u001b[39m))\n",
      "File \u001b[1;32mc:\\Users\\marya\\anaconda3\\envs\\webscrapping\\lib\\site-packages\\plotly\\io\\_renderers.py:394\u001b[0m, in \u001b[0;36mshow\u001b[1;34m(fig, renderer, validate, **kwargs)\u001b[0m\n\u001b[0;32m    389\u001b[0m         \u001b[38;5;28;01mraise\u001b[39;00m \u001b[38;5;167;01mValueError\u001b[39;00m(\n\u001b[0;32m    390\u001b[0m             \u001b[38;5;124m\"\u001b[39m\u001b[38;5;124mMime type rendering requires ipython but it is not installed\u001b[39m\u001b[38;5;124m\"\u001b[39m\n\u001b[0;32m    391\u001b[0m         )\n\u001b[0;32m    393\u001b[0m     \u001b[38;5;28;01mif\u001b[39;00m \u001b[38;5;129;01mnot\u001b[39;00m nbformat \u001b[38;5;129;01mor\u001b[39;00m Version(nbformat\u001b[38;5;241m.\u001b[39m__version__) \u001b[38;5;241m<\u001b[39m Version(\u001b[38;5;124m\"\u001b[39m\u001b[38;5;124m4.2.0\u001b[39m\u001b[38;5;124m\"\u001b[39m):\n\u001b[1;32m--> 394\u001b[0m         \u001b[38;5;28;01mraise\u001b[39;00m \u001b[38;5;167;01mValueError\u001b[39;00m(\n\u001b[0;32m    395\u001b[0m             \u001b[38;5;124m\"\u001b[39m\u001b[38;5;124mMime type rendering requires nbformat>=4.2.0 but it is not installed\u001b[39m\u001b[38;5;124m\"\u001b[39m\n\u001b[0;32m    396\u001b[0m         )\n\u001b[0;32m    398\u001b[0m     ipython_display\u001b[38;5;241m.\u001b[39mdisplay(bundle, raw\u001b[38;5;241m=\u001b[39m\u001b[38;5;28;01mTrue\u001b[39;00m)\n\u001b[0;32m    400\u001b[0m \u001b[38;5;66;03m# external renderers\u001b[39;00m\n",
      "\u001b[1;31mValueError\u001b[0m: Mime type rendering requires nbformat>=4.2.0 but it is not installed"
     ]
    },
    {
     "data": {
      "application/vnd.plotly.v1+json": {
       "config": {
        "plotlyServerURL": "https://plot.ly"
       },
       "data": [
        {
         "domain": {
          "x": [
           0,
           1
          ],
          "y": [
           0,
           1
          ]
         },
         "hovertemplate": "season=%{label}<br>count=%{value}<extra></extra>",
         "labels": [
          "Summer",
          "Winter",
          "Winter Youth",
          "Intercalated",
          "Summer Youth",
          "Equestrian",
          "Zappas Olympic"
         ],
         "legendgroup": "",
         "name": "",
         "showlegend": true,
         "type": "pie",
         "values": [
          237254,
          59320,
          4191,
          2037,
          1399,
          300,
          1
         ]
        }
       ],
       "layout": {
        "legend": {
         "tracegroupgap": 0
        },
        "template": {
         "data": {
          "bar": [
           {
            "error_x": {
             "color": "#2a3f5f"
            },
            "error_y": {
             "color": "#2a3f5f"
            },
            "marker": {
             "line": {
              "color": "#E5ECF6",
              "width": 0.5
             },
             "pattern": {
              "fillmode": "overlay",
              "size": 10,
              "solidity": 0.2
             }
            },
            "type": "bar"
           }
          ],
          "barpolar": [
           {
            "marker": {
             "line": {
              "color": "#E5ECF6",
              "width": 0.5
             },
             "pattern": {
              "fillmode": "overlay",
              "size": 10,
              "solidity": 0.2
             }
            },
            "type": "barpolar"
           }
          ],
          "carpet": [
           {
            "aaxis": {
             "endlinecolor": "#2a3f5f",
             "gridcolor": "white",
             "linecolor": "white",
             "minorgridcolor": "white",
             "startlinecolor": "#2a3f5f"
            },
            "baxis": {
             "endlinecolor": "#2a3f5f",
             "gridcolor": "white",
             "linecolor": "white",
             "minorgridcolor": "white",
             "startlinecolor": "#2a3f5f"
            },
            "type": "carpet"
           }
          ],
          "choropleth": [
           {
            "colorbar": {
             "outlinewidth": 0,
             "ticks": ""
            },
            "type": "choropleth"
           }
          ],
          "contour": [
           {
            "colorbar": {
             "outlinewidth": 0,
             "ticks": ""
            },
            "colorscale": [
             [
              0,
              "#0d0887"
             ],
             [
              0.1111111111111111,
              "#46039f"
             ],
             [
              0.2222222222222222,
              "#7201a8"
             ],
             [
              0.3333333333333333,
              "#9c179e"
             ],
             [
              0.4444444444444444,
              "#bd3786"
             ],
             [
              0.5555555555555556,
              "#d8576b"
             ],
             [
              0.6666666666666666,
              "#ed7953"
             ],
             [
              0.7777777777777778,
              "#fb9f3a"
             ],
             [
              0.8888888888888888,
              "#fdca26"
             ],
             [
              1,
              "#f0f921"
             ]
            ],
            "type": "contour"
           }
          ],
          "contourcarpet": [
           {
            "colorbar": {
             "outlinewidth": 0,
             "ticks": ""
            },
            "type": "contourcarpet"
           }
          ],
          "heatmap": [
           {
            "colorbar": {
             "outlinewidth": 0,
             "ticks": ""
            },
            "colorscale": [
             [
              0,
              "#0d0887"
             ],
             [
              0.1111111111111111,
              "#46039f"
             ],
             [
              0.2222222222222222,
              "#7201a8"
             ],
             [
              0.3333333333333333,
              "#9c179e"
             ],
             [
              0.4444444444444444,
              "#bd3786"
             ],
             [
              0.5555555555555556,
              "#d8576b"
             ],
             [
              0.6666666666666666,
              "#ed7953"
             ],
             [
              0.7777777777777778,
              "#fb9f3a"
             ],
             [
              0.8888888888888888,
              "#fdca26"
             ],
             [
              1,
              "#f0f921"
             ]
            ],
            "type": "heatmap"
           }
          ],
          "heatmapgl": [
           {
            "colorbar": {
             "outlinewidth": 0,
             "ticks": ""
            },
            "colorscale": [
             [
              0,
              "#0d0887"
             ],
             [
              0.1111111111111111,
              "#46039f"
             ],
             [
              0.2222222222222222,
              "#7201a8"
             ],
             [
              0.3333333333333333,
              "#9c179e"
             ],
             [
              0.4444444444444444,
              "#bd3786"
             ],
             [
              0.5555555555555556,
              "#d8576b"
             ],
             [
              0.6666666666666666,
              "#ed7953"
             ],
             [
              0.7777777777777778,
              "#fb9f3a"
             ],
             [
              0.8888888888888888,
              "#fdca26"
             ],
             [
              1,
              "#f0f921"
             ]
            ],
            "type": "heatmapgl"
           }
          ],
          "histogram": [
           {
            "marker": {
             "pattern": {
              "fillmode": "overlay",
              "size": 10,
              "solidity": 0.2
             }
            },
            "type": "histogram"
           }
          ],
          "histogram2d": [
           {
            "colorbar": {
             "outlinewidth": 0,
             "ticks": ""
            },
            "colorscale": [
             [
              0,
              "#0d0887"
             ],
             [
              0.1111111111111111,
              "#46039f"
             ],
             [
              0.2222222222222222,
              "#7201a8"
             ],
             [
              0.3333333333333333,
              "#9c179e"
             ],
             [
              0.4444444444444444,
              "#bd3786"
             ],
             [
              0.5555555555555556,
              "#d8576b"
             ],
             [
              0.6666666666666666,
              "#ed7953"
             ],
             [
              0.7777777777777778,
              "#fb9f3a"
             ],
             [
              0.8888888888888888,
              "#fdca26"
             ],
             [
              1,
              "#f0f921"
             ]
            ],
            "type": "histogram2d"
           }
          ],
          "histogram2dcontour": [
           {
            "colorbar": {
             "outlinewidth": 0,
             "ticks": ""
            },
            "colorscale": [
             [
              0,
              "#0d0887"
             ],
             [
              0.1111111111111111,
              "#46039f"
             ],
             [
              0.2222222222222222,
              "#7201a8"
             ],
             [
              0.3333333333333333,
              "#9c179e"
             ],
             [
              0.4444444444444444,
              "#bd3786"
             ],
             [
              0.5555555555555556,
              "#d8576b"
             ],
             [
              0.6666666666666666,
              "#ed7953"
             ],
             [
              0.7777777777777778,
              "#fb9f3a"
             ],
             [
              0.8888888888888888,
              "#fdca26"
             ],
             [
              1,
              "#f0f921"
             ]
            ],
            "type": "histogram2dcontour"
           }
          ],
          "mesh3d": [
           {
            "colorbar": {
             "outlinewidth": 0,
             "ticks": ""
            },
            "type": "mesh3d"
           }
          ],
          "parcoords": [
           {
            "line": {
             "colorbar": {
              "outlinewidth": 0,
              "ticks": ""
             }
            },
            "type": "parcoords"
           }
          ],
          "pie": [
           {
            "automargin": true,
            "type": "pie"
           }
          ],
          "scatter": [
           {
            "fillpattern": {
             "fillmode": "overlay",
             "size": 10,
             "solidity": 0.2
            },
            "type": "scatter"
           }
          ],
          "scatter3d": [
           {
            "line": {
             "colorbar": {
              "outlinewidth": 0,
              "ticks": ""
             }
            },
            "marker": {
             "colorbar": {
              "outlinewidth": 0,
              "ticks": ""
             }
            },
            "type": "scatter3d"
           }
          ],
          "scattercarpet": [
           {
            "marker": {
             "colorbar": {
              "outlinewidth": 0,
              "ticks": ""
             }
            },
            "type": "scattercarpet"
           }
          ],
          "scattergeo": [
           {
            "marker": {
             "colorbar": {
              "outlinewidth": 0,
              "ticks": ""
             }
            },
            "type": "scattergeo"
           }
          ],
          "scattergl": [
           {
            "marker": {
             "colorbar": {
              "outlinewidth": 0,
              "ticks": ""
             }
            },
            "type": "scattergl"
           }
          ],
          "scattermapbox": [
           {
            "marker": {
             "colorbar": {
              "outlinewidth": 0,
              "ticks": ""
             }
            },
            "type": "scattermapbox"
           }
          ],
          "scatterpolar": [
           {
            "marker": {
             "colorbar": {
              "outlinewidth": 0,
              "ticks": ""
             }
            },
            "type": "scatterpolar"
           }
          ],
          "scatterpolargl": [
           {
            "marker": {
             "colorbar": {
              "outlinewidth": 0,
              "ticks": ""
             }
            },
            "type": "scatterpolargl"
           }
          ],
          "scatterternary": [
           {
            "marker": {
             "colorbar": {
              "outlinewidth": 0,
              "ticks": ""
             }
            },
            "type": "scatterternary"
           }
          ],
          "surface": [
           {
            "colorbar": {
             "outlinewidth": 0,
             "ticks": ""
            },
            "colorscale": [
             [
              0,
              "#0d0887"
             ],
             [
              0.1111111111111111,
              "#46039f"
             ],
             [
              0.2222222222222222,
              "#7201a8"
             ],
             [
              0.3333333333333333,
              "#9c179e"
             ],
             [
              0.4444444444444444,
              "#bd3786"
             ],
             [
              0.5555555555555556,
              "#d8576b"
             ],
             [
              0.6666666666666666,
              "#ed7953"
             ],
             [
              0.7777777777777778,
              "#fb9f3a"
             ],
             [
              0.8888888888888888,
              "#fdca26"
             ],
             [
              1,
              "#f0f921"
             ]
            ],
            "type": "surface"
           }
          ],
          "table": [
           {
            "cells": {
             "fill": {
              "color": "#EBF0F8"
             },
             "line": {
              "color": "white"
             }
            },
            "header": {
             "fill": {
              "color": "#C8D4E3"
             },
             "line": {
              "color": "white"
             }
            },
            "type": "table"
           }
          ]
         },
         "layout": {
          "annotationdefaults": {
           "arrowcolor": "#2a3f5f",
           "arrowhead": 0,
           "arrowwidth": 1
          },
          "autotypenumbers": "strict",
          "coloraxis": {
           "colorbar": {
            "outlinewidth": 0,
            "ticks": ""
           }
          },
          "colorscale": {
           "diverging": [
            [
             0,
             "#8e0152"
            ],
            [
             0.1,
             "#c51b7d"
            ],
            [
             0.2,
             "#de77ae"
            ],
            [
             0.3,
             "#f1b6da"
            ],
            [
             0.4,
             "#fde0ef"
            ],
            [
             0.5,
             "#f7f7f7"
            ],
            [
             0.6,
             "#e6f5d0"
            ],
            [
             0.7,
             "#b8e186"
            ],
            [
             0.8,
             "#7fbc41"
            ],
            [
             0.9,
             "#4d9221"
            ],
            [
             1,
             "#276419"
            ]
           ],
           "sequential": [
            [
             0,
             "#0d0887"
            ],
            [
             0.1111111111111111,
             "#46039f"
            ],
            [
             0.2222222222222222,
             "#7201a8"
            ],
            [
             0.3333333333333333,
             "#9c179e"
            ],
            [
             0.4444444444444444,
             "#bd3786"
            ],
            [
             0.5555555555555556,
             "#d8576b"
            ],
            [
             0.6666666666666666,
             "#ed7953"
            ],
            [
             0.7777777777777778,
             "#fb9f3a"
            ],
            [
             0.8888888888888888,
             "#fdca26"
            ],
            [
             1,
             "#f0f921"
            ]
           ],
           "sequentialminus": [
            [
             0,
             "#0d0887"
            ],
            [
             0.1111111111111111,
             "#46039f"
            ],
            [
             0.2222222222222222,
             "#7201a8"
            ],
            [
             0.3333333333333333,
             "#9c179e"
            ],
            [
             0.4444444444444444,
             "#bd3786"
            ],
            [
             0.5555555555555556,
             "#d8576b"
            ],
            [
             0.6666666666666666,
             "#ed7953"
            ],
            [
             0.7777777777777778,
             "#fb9f3a"
            ],
            [
             0.8888888888888888,
             "#fdca26"
            ],
            [
             1,
             "#f0f921"
            ]
           ]
          },
          "colorway": [
           "#636efa",
           "#EF553B",
           "#00cc96",
           "#ab63fa",
           "#FFA15A",
           "#19d3f3",
           "#FF6692",
           "#B6E880",
           "#FF97FF",
           "#FECB52"
          ],
          "font": {
           "color": "#2a3f5f"
          },
          "geo": {
           "bgcolor": "white",
           "lakecolor": "white",
           "landcolor": "#E5ECF6",
           "showlakes": true,
           "showland": true,
           "subunitcolor": "white"
          },
          "hoverlabel": {
           "align": "left"
          },
          "hovermode": "closest",
          "mapbox": {
           "style": "light"
          },
          "paper_bgcolor": "white",
          "plot_bgcolor": "#E5ECF6",
          "polar": {
           "angularaxis": {
            "gridcolor": "white",
            "linecolor": "white",
            "ticks": ""
           },
           "bgcolor": "#E5ECF6",
           "radialaxis": {
            "gridcolor": "white",
            "linecolor": "white",
            "ticks": ""
           }
          },
          "scene": {
           "xaxis": {
            "backgroundcolor": "#E5ECF6",
            "gridcolor": "white",
            "gridwidth": 2,
            "linecolor": "white",
            "showbackground": true,
            "ticks": "",
            "zerolinecolor": "white"
           },
           "yaxis": {
            "backgroundcolor": "#E5ECF6",
            "gridcolor": "white",
            "gridwidth": 2,
            "linecolor": "white",
            "showbackground": true,
            "ticks": "",
            "zerolinecolor": "white"
           },
           "zaxis": {
            "backgroundcolor": "#E5ECF6",
            "gridcolor": "white",
            "gridwidth": 2,
            "linecolor": "white",
            "showbackground": true,
            "ticks": "",
            "zerolinecolor": "white"
           }
          },
          "shapedefaults": {
           "line": {
            "color": "#2a3f5f"
           }
          },
          "ternary": {
           "aaxis": {
            "gridcolor": "white",
            "linecolor": "white",
            "ticks": ""
           },
           "baxis": {
            "gridcolor": "white",
            "linecolor": "white",
            "ticks": ""
           },
           "bgcolor": "#E5ECF6",
           "caxis": {
            "gridcolor": "white",
            "linecolor": "white",
            "ticks": ""
           }
          },
          "title": {
           "x": 0.05
          },
          "xaxis": {
           "automargin": true,
           "gridcolor": "white",
           "linecolor": "white",
           "ticks": "",
           "title": {
            "standoff": 15
           },
           "zerolinecolor": "white",
           "zerolinewidth": 2
          },
          "yaxis": {
           "automargin": true,
           "gridcolor": "white",
           "linecolor": "white",
           "ticks": "",
           "title": {
            "standoff": 15
           },
           "zerolinecolor": "white",
           "zerolinewidth": 2
          }
         }
        },
        "title": {
         "text": "Event Percentage"
        }
       }
      },
      "text/html": [
       "<div>                        <script type=\"text/javascript\">window.PlotlyConfig = {MathJaxConfig: 'local'};</script>\n",
       "        <script charset=\"utf-8\" src=\"https://cdn.plot.ly/plotly-2.27.0.min.js\"></script>                <div id=\"4fa8313b-fe32-4657-810c-9cc11651cddf\" class=\"plotly-graph-div\" style=\"height:100%; width:100%;\"></div>            <script type=\"text/javascript\">                                    window.PLOTLYENV=window.PLOTLYENV || {};                                    if (document.getElementById(\"4fa8313b-fe32-4657-810c-9cc11651cddf\")) {                    Plotly.newPlot(                        \"4fa8313b-fe32-4657-810c-9cc11651cddf\",                        [{\"domain\":{\"x\":[0.0,1.0],\"y\":[0.0,1.0]},\"hovertemplate\":\"season=%{label}\\u003cbr\\u003ecount=%{value}\\u003cextra\\u003e\\u003c\\u002fextra\\u003e\",\"labels\":[\"Summer\",\"Winter\",\"Winter Youth\",\"Intercalated\",\"Summer Youth\",\"Equestrian\",\"Zappas Olympic\"],\"legendgroup\":\"\",\"name\":\"\",\"showlegend\":true,\"values\":[237254,59320,4191,2037,1399,300,1],\"type\":\"pie\"}],                        {\"template\":{\"data\":{\"histogram2dcontour\":[{\"type\":\"histogram2dcontour\",\"colorbar\":{\"outlinewidth\":0,\"ticks\":\"\"},\"colorscale\":[[0.0,\"#0d0887\"],[0.1111111111111111,\"#46039f\"],[0.2222222222222222,\"#7201a8\"],[0.3333333333333333,\"#9c179e\"],[0.4444444444444444,\"#bd3786\"],[0.5555555555555556,\"#d8576b\"],[0.6666666666666666,\"#ed7953\"],[0.7777777777777778,\"#fb9f3a\"],[0.8888888888888888,\"#fdca26\"],[1.0,\"#f0f921\"]]}],\"choropleth\":[{\"type\":\"choropleth\",\"colorbar\":{\"outlinewidth\":0,\"ticks\":\"\"}}],\"histogram2d\":[{\"type\":\"histogram2d\",\"colorbar\":{\"outlinewidth\":0,\"ticks\":\"\"},\"colorscale\":[[0.0,\"#0d0887\"],[0.1111111111111111,\"#46039f\"],[0.2222222222222222,\"#7201a8\"],[0.3333333333333333,\"#9c179e\"],[0.4444444444444444,\"#bd3786\"],[0.5555555555555556,\"#d8576b\"],[0.6666666666666666,\"#ed7953\"],[0.7777777777777778,\"#fb9f3a\"],[0.8888888888888888,\"#fdca26\"],[1.0,\"#f0f921\"]]}],\"heatmap\":[{\"type\":\"heatmap\",\"colorbar\":{\"outlinewidth\":0,\"ticks\":\"\"},\"colorscale\":[[0.0,\"#0d0887\"],[0.1111111111111111,\"#46039f\"],[0.2222222222222222,\"#7201a8\"],[0.3333333333333333,\"#9c179e\"],[0.4444444444444444,\"#bd3786\"],[0.5555555555555556,\"#d8576b\"],[0.6666666666666666,\"#ed7953\"],[0.7777777777777778,\"#fb9f3a\"],[0.8888888888888888,\"#fdca26\"],[1.0,\"#f0f921\"]]}],\"heatmapgl\":[{\"type\":\"heatmapgl\",\"colorbar\":{\"outlinewidth\":0,\"ticks\":\"\"},\"colorscale\":[[0.0,\"#0d0887\"],[0.1111111111111111,\"#46039f\"],[0.2222222222222222,\"#7201a8\"],[0.3333333333333333,\"#9c179e\"],[0.4444444444444444,\"#bd3786\"],[0.5555555555555556,\"#d8576b\"],[0.6666666666666666,\"#ed7953\"],[0.7777777777777778,\"#fb9f3a\"],[0.8888888888888888,\"#fdca26\"],[1.0,\"#f0f921\"]]}],\"contourcarpet\":[{\"type\":\"contourcarpet\",\"colorbar\":{\"outlinewidth\":0,\"ticks\":\"\"}}],\"contour\":[{\"type\":\"contour\",\"colorbar\":{\"outlinewidth\":0,\"ticks\":\"\"},\"colorscale\":[[0.0,\"#0d0887\"],[0.1111111111111111,\"#46039f\"],[0.2222222222222222,\"#7201a8\"],[0.3333333333333333,\"#9c179e\"],[0.4444444444444444,\"#bd3786\"],[0.5555555555555556,\"#d8576b\"],[0.6666666666666666,\"#ed7953\"],[0.7777777777777778,\"#fb9f3a\"],[0.8888888888888888,\"#fdca26\"],[1.0,\"#f0f921\"]]}],\"surface\":[{\"type\":\"surface\",\"colorbar\":{\"outlinewidth\":0,\"ticks\":\"\"},\"colorscale\":[[0.0,\"#0d0887\"],[0.1111111111111111,\"#46039f\"],[0.2222222222222222,\"#7201a8\"],[0.3333333333333333,\"#9c179e\"],[0.4444444444444444,\"#bd3786\"],[0.5555555555555556,\"#d8576b\"],[0.6666666666666666,\"#ed7953\"],[0.7777777777777778,\"#fb9f3a\"],[0.8888888888888888,\"#fdca26\"],[1.0,\"#f0f921\"]]}],\"mesh3d\":[{\"type\":\"mesh3d\",\"colorbar\":{\"outlinewidth\":0,\"ticks\":\"\"}}],\"scatter\":[{\"fillpattern\":{\"fillmode\":\"overlay\",\"size\":10,\"solidity\":0.2},\"type\":\"scatter\"}],\"parcoords\":[{\"type\":\"parcoords\",\"line\":{\"colorbar\":{\"outlinewidth\":0,\"ticks\":\"\"}}}],\"scatterpolargl\":[{\"type\":\"scatterpolargl\",\"marker\":{\"colorbar\":{\"outlinewidth\":0,\"ticks\":\"\"}}}],\"bar\":[{\"error_x\":{\"color\":\"#2a3f5f\"},\"error_y\":{\"color\":\"#2a3f5f\"},\"marker\":{\"line\":{\"color\":\"#E5ECF6\",\"width\":0.5},\"pattern\":{\"fillmode\":\"overlay\",\"size\":10,\"solidity\":0.2}},\"type\":\"bar\"}],\"scattergeo\":[{\"type\":\"scattergeo\",\"marker\":{\"colorbar\":{\"outlinewidth\":0,\"ticks\":\"\"}}}],\"scatterpolar\":[{\"type\":\"scatterpolar\",\"marker\":{\"colorbar\":{\"outlinewidth\":0,\"ticks\":\"\"}}}],\"histogram\":[{\"marker\":{\"pattern\":{\"fillmode\":\"overlay\",\"size\":10,\"solidity\":0.2}},\"type\":\"histogram\"}],\"scattergl\":[{\"type\":\"scattergl\",\"marker\":{\"colorbar\":{\"outlinewidth\":0,\"ticks\":\"\"}}}],\"scatter3d\":[{\"type\":\"scatter3d\",\"line\":{\"colorbar\":{\"outlinewidth\":0,\"ticks\":\"\"}},\"marker\":{\"colorbar\":{\"outlinewidth\":0,\"ticks\":\"\"}}}],\"scattermapbox\":[{\"type\":\"scattermapbox\",\"marker\":{\"colorbar\":{\"outlinewidth\":0,\"ticks\":\"\"}}}],\"scatterternary\":[{\"type\":\"scatterternary\",\"marker\":{\"colorbar\":{\"outlinewidth\":0,\"ticks\":\"\"}}}],\"scattercarpet\":[{\"type\":\"scattercarpet\",\"marker\":{\"colorbar\":{\"outlinewidth\":0,\"ticks\":\"\"}}}],\"carpet\":[{\"aaxis\":{\"endlinecolor\":\"#2a3f5f\",\"gridcolor\":\"white\",\"linecolor\":\"white\",\"minorgridcolor\":\"white\",\"startlinecolor\":\"#2a3f5f\"},\"baxis\":{\"endlinecolor\":\"#2a3f5f\",\"gridcolor\":\"white\",\"linecolor\":\"white\",\"minorgridcolor\":\"white\",\"startlinecolor\":\"#2a3f5f\"},\"type\":\"carpet\"}],\"table\":[{\"cells\":{\"fill\":{\"color\":\"#EBF0F8\"},\"line\":{\"color\":\"white\"}},\"header\":{\"fill\":{\"color\":\"#C8D4E3\"},\"line\":{\"color\":\"white\"}},\"type\":\"table\"}],\"barpolar\":[{\"marker\":{\"line\":{\"color\":\"#E5ECF6\",\"width\":0.5},\"pattern\":{\"fillmode\":\"overlay\",\"size\":10,\"solidity\":0.2}},\"type\":\"barpolar\"}],\"pie\":[{\"automargin\":true,\"type\":\"pie\"}]},\"layout\":{\"autotypenumbers\":\"strict\",\"colorway\":[\"#636efa\",\"#EF553B\",\"#00cc96\",\"#ab63fa\",\"#FFA15A\",\"#19d3f3\",\"#FF6692\",\"#B6E880\",\"#FF97FF\",\"#FECB52\"],\"font\":{\"color\":\"#2a3f5f\"},\"hovermode\":\"closest\",\"hoverlabel\":{\"align\":\"left\"},\"paper_bgcolor\":\"white\",\"plot_bgcolor\":\"#E5ECF6\",\"polar\":{\"bgcolor\":\"#E5ECF6\",\"angularaxis\":{\"gridcolor\":\"white\",\"linecolor\":\"white\",\"ticks\":\"\"},\"radialaxis\":{\"gridcolor\":\"white\",\"linecolor\":\"white\",\"ticks\":\"\"}},\"ternary\":{\"bgcolor\":\"#E5ECF6\",\"aaxis\":{\"gridcolor\":\"white\",\"linecolor\":\"white\",\"ticks\":\"\"},\"baxis\":{\"gridcolor\":\"white\",\"linecolor\":\"white\",\"ticks\":\"\"},\"caxis\":{\"gridcolor\":\"white\",\"linecolor\":\"white\",\"ticks\":\"\"}},\"coloraxis\":{\"colorbar\":{\"outlinewidth\":0,\"ticks\":\"\"}},\"colorscale\":{\"sequential\":[[0.0,\"#0d0887\"],[0.1111111111111111,\"#46039f\"],[0.2222222222222222,\"#7201a8\"],[0.3333333333333333,\"#9c179e\"],[0.4444444444444444,\"#bd3786\"],[0.5555555555555556,\"#d8576b\"],[0.6666666666666666,\"#ed7953\"],[0.7777777777777778,\"#fb9f3a\"],[0.8888888888888888,\"#fdca26\"],[1.0,\"#f0f921\"]],\"sequentialminus\":[[0.0,\"#0d0887\"],[0.1111111111111111,\"#46039f\"],[0.2222222222222222,\"#7201a8\"],[0.3333333333333333,\"#9c179e\"],[0.4444444444444444,\"#bd3786\"],[0.5555555555555556,\"#d8576b\"],[0.6666666666666666,\"#ed7953\"],[0.7777777777777778,\"#fb9f3a\"],[0.8888888888888888,\"#fdca26\"],[1.0,\"#f0f921\"]],\"diverging\":[[0,\"#8e0152\"],[0.1,\"#c51b7d\"],[0.2,\"#de77ae\"],[0.3,\"#f1b6da\"],[0.4,\"#fde0ef\"],[0.5,\"#f7f7f7\"],[0.6,\"#e6f5d0\"],[0.7,\"#b8e186\"],[0.8,\"#7fbc41\"],[0.9,\"#4d9221\"],[1,\"#276419\"]]},\"xaxis\":{\"gridcolor\":\"white\",\"linecolor\":\"white\",\"ticks\":\"\",\"title\":{\"standoff\":15},\"zerolinecolor\":\"white\",\"automargin\":true,\"zerolinewidth\":2},\"yaxis\":{\"gridcolor\":\"white\",\"linecolor\":\"white\",\"ticks\":\"\",\"title\":{\"standoff\":15},\"zerolinecolor\":\"white\",\"automargin\":true,\"zerolinewidth\":2},\"scene\":{\"xaxis\":{\"backgroundcolor\":\"#E5ECF6\",\"gridcolor\":\"white\",\"linecolor\":\"white\",\"showbackground\":true,\"ticks\":\"\",\"zerolinecolor\":\"white\",\"gridwidth\":2},\"yaxis\":{\"backgroundcolor\":\"#E5ECF6\",\"gridcolor\":\"white\",\"linecolor\":\"white\",\"showbackground\":true,\"ticks\":\"\",\"zerolinecolor\":\"white\",\"gridwidth\":2},\"zaxis\":{\"backgroundcolor\":\"#E5ECF6\",\"gridcolor\":\"white\",\"linecolor\":\"white\",\"showbackground\":true,\"ticks\":\"\",\"zerolinecolor\":\"white\",\"gridwidth\":2}},\"shapedefaults\":{\"line\":{\"color\":\"#2a3f5f\"}},\"annotationdefaults\":{\"arrowcolor\":\"#2a3f5f\",\"arrowhead\":0,\"arrowwidth\":1},\"geo\":{\"bgcolor\":\"white\",\"landcolor\":\"#E5ECF6\",\"subunitcolor\":\"white\",\"showland\":true,\"showlakes\":true,\"lakecolor\":\"white\"},\"title\":{\"x\":0.05},\"mapbox\":{\"style\":\"light\"}}},\"legend\":{\"tracegroupgap\":0},\"title\":{\"text\":\"Event Percentage\"}},                        {\"responsive\": true}                    )                };                            </script>        </div>"
      ],
      "text/plain": [
       "Figure({\n",
       "    'data': [{'domain': {'x': [0.0, 1.0], 'y': [0.0, 1.0]},\n",
       "              'hovertemplate': 'season=%{label}<br>count=%{value}<extra></extra>',\n",
       "              'labels': array(['Summer', 'Winter', 'Winter Youth', 'Intercalated', 'Summer Youth',\n",
       "                               'Equestrian', 'Zappas Olympic'], dtype=object),\n",
       "              'legendgroup': '',\n",
       "              'name': '',\n",
       "              'showlegend': True,\n",
       "              'type': 'pie',\n",
       "              'values': array([237254,  59320,   4191,   2037,   1399,    300,      1], dtype=int64)}],\n",
       "    'layout': {'legend': {'tracegroupgap': 0}, 'template': '...', 'title': {'text': 'Event Percentage'}}\n",
       "})"
      ]
     },
     "execution_count": 11,
     "metadata": {},
     "output_type": "execute_result"
    }
   ],
   "source": [
    "fig = px.pie(events_count, values='count', names='season', title='Event Percentage')\n",
    "fig"
   ]
  },
  {
   "cell_type": "markdown",
   "metadata": {},
   "source": [
    "### Drop the other types because we want to focus on classic Olympic games"
   ]
  },
  {
   "cell_type": "code",
   "execution_count": 12,
   "metadata": {},
   "outputs": [],
   "source": [
    "games_df = df_events[df_events['season'].isin([\"Summer\", \"Winter\"])]"
   ]
  },
  {
   "cell_type": "code",
   "execution_count": 13,
   "metadata": {},
   "outputs": [
    {
     "data": {
      "text/html": [
       "<div>\n",
       "<style scoped>\n",
       "    .dataframe tbody tr th:only-of-type {\n",
       "        vertical-align: middle;\n",
       "    }\n",
       "\n",
       "    .dataframe tbody tr th {\n",
       "        vertical-align: top;\n",
       "    }\n",
       "\n",
       "    .dataframe thead th {\n",
       "        text-align: right;\n",
       "    }\n",
       "</style>\n",
       "<table border=\"1\" class=\"dataframe\">\n",
       "  <thead>\n",
       "    <tr style=\"text-align: right;\">\n",
       "      <th></th>\n",
       "      <th>season</th>\n",
       "      <th>count</th>\n",
       "    </tr>\n",
       "  </thead>\n",
       "  <tbody>\n",
       "    <tr>\n",
       "      <th>0</th>\n",
       "      <td>Summer</td>\n",
       "      <td>237254</td>\n",
       "    </tr>\n",
       "    <tr>\n",
       "      <th>1</th>\n",
       "      <td>Winter</td>\n",
       "      <td>59320</td>\n",
       "    </tr>\n",
       "  </tbody>\n",
       "</table>\n",
       "</div>"
      ],
      "text/plain": [
       "   season   count\n",
       "0  Summer  237254\n",
       "1  Winter   59320"
      ]
     },
     "execution_count": 13,
     "metadata": {},
     "output_type": "execute_result"
    }
   ],
   "source": [
    "games_df[\"season\"].value_counts().reset_index()"
   ]
  },
  {
   "cell_type": "markdown",
   "metadata": {},
   "source": [
    "### Number of Unique players that have participated in games"
   ]
  },
  {
   "cell_type": "code",
   "execution_count": 20,
   "metadata": {},
   "outputs": [
    {
     "data": {
      "text/html": [
       "<div>\n",
       "<style scoped>\n",
       "    .dataframe tbody tr th:only-of-type {\n",
       "        vertical-align: middle;\n",
       "    }\n",
       "\n",
       "    .dataframe tbody tr th {\n",
       "        vertical-align: top;\n",
       "    }\n",
       "\n",
       "    .dataframe thead th {\n",
       "        text-align: right;\n",
       "    }\n",
       "</style>\n",
       "<table border=\"1\" class=\"dataframe\">\n",
       "  <thead>\n",
       "    <tr style=\"text-align: right;\">\n",
       "      <th></th>\n",
       "      <th>id</th>\n",
       "      <th>photo_link</th>\n",
       "      <th>Roles</th>\n",
       "      <th>Sex</th>\n",
       "      <th>Full_name</th>\n",
       "      <th>Used_name</th>\n",
       "      <th>Born</th>\n",
       "      <th>Died</th>\n",
       "      <th>NOC</th>\n",
       "      <th>game</th>\n",
       "      <th>...</th>\n",
       "      <th>Other_names</th>\n",
       "      <th>Nationality</th>\n",
       "      <th>Original_name</th>\n",
       "      <th>Name_order</th>\n",
       "      <th>event</th>\n",
       "      <th>team</th>\n",
       "      <th>position</th>\n",
       "      <th>medal</th>\n",
       "      <th>year</th>\n",
       "      <th>season</th>\n",
       "    </tr>\n",
       "  </thead>\n",
       "  <tbody>\n",
       "    <tr>\n",
       "      <th>0</th>\n",
       "      <td>1</td>\n",
       "      <td>https://d2a3o6pzho379u.cloudfront.net/1.jpg</td>\n",
       "      <td>Competed in Olympic Games</td>\n",
       "      <td>Male</td>\n",
       "      <td>François Joseph Marie Antoine \"Jean-François\"•...</td>\n",
       "      <td>Jean-François•Blanchy</td>\n",
       "      <td>12 December 1886 in Bordeaux, Gironde (FRA)</td>\n",
       "      <td>2 October 1960 in Saint-Jean-de-Luz, Pyrénées-...</td>\n",
       "      <td>France</td>\n",
       "      <td>1912 Summer Olympics</td>\n",
       "      <td>...</td>\n",
       "      <td>NaN</td>\n",
       "      <td>NaN</td>\n",
       "      <td>NaN</td>\n",
       "      <td>NaN</td>\n",
       "      <td>Singles, Men(Olympic)</td>\n",
       "      <td>NaN</td>\n",
       "      <td>=17</td>\n",
       "      <td>NaN</td>\n",
       "      <td>1912</td>\n",
       "      <td>Summer</td>\n",
       "    </tr>\n",
       "    <tr>\n",
       "      <th>1</th>\n",
       "      <td>1</td>\n",
       "      <td>https://d2a3o6pzho379u.cloudfront.net/1.jpg</td>\n",
       "      <td>Competed in Olympic Games</td>\n",
       "      <td>Male</td>\n",
       "      <td>François Joseph Marie Antoine \"Jean-François\"•...</td>\n",
       "      <td>Jean-François•Blanchy</td>\n",
       "      <td>12 December 1886 in Bordeaux, Gironde (FRA)</td>\n",
       "      <td>2 October 1960 in Saint-Jean-de-Luz, Pyrénées-...</td>\n",
       "      <td>France</td>\n",
       "      <td>1912 Summer Olympics</td>\n",
       "      <td>...</td>\n",
       "      <td>NaN</td>\n",
       "      <td>NaN</td>\n",
       "      <td>NaN</td>\n",
       "      <td>NaN</td>\n",
       "      <td>Doubles, Men(Olympic)</td>\n",
       "      <td>Jean Montariol</td>\n",
       "      <td>DNS</td>\n",
       "      <td>NaN</td>\n",
       "      <td>1912</td>\n",
       "      <td>Summer</td>\n",
       "    </tr>\n",
       "    <tr>\n",
       "      <th>2</th>\n",
       "      <td>1</td>\n",
       "      <td>https://d2a3o6pzho379u.cloudfront.net/1.jpg</td>\n",
       "      <td>Competed in Olympic Games</td>\n",
       "      <td>Male</td>\n",
       "      <td>François Joseph Marie Antoine \"Jean-François\"•...</td>\n",
       "      <td>Jean-François•Blanchy</td>\n",
       "      <td>12 December 1886 in Bordeaux, Gironde (FRA)</td>\n",
       "      <td>2 October 1960 in Saint-Jean-de-Luz, Pyrénées-...</td>\n",
       "      <td>France</td>\n",
       "      <td>1920 Summer Olympics</td>\n",
       "      <td>...</td>\n",
       "      <td>NaN</td>\n",
       "      <td>NaN</td>\n",
       "      <td>NaN</td>\n",
       "      <td>NaN</td>\n",
       "      <td>Singles, Men(Olympic)</td>\n",
       "      <td>NaN</td>\n",
       "      <td>=32</td>\n",
       "      <td>NaN</td>\n",
       "      <td>1920</td>\n",
       "      <td>Summer</td>\n",
       "    </tr>\n",
       "    <tr>\n",
       "      <th>3</th>\n",
       "      <td>1</td>\n",
       "      <td>https://d2a3o6pzho379u.cloudfront.net/1.jpg</td>\n",
       "      <td>Competed in Olympic Games</td>\n",
       "      <td>Male</td>\n",
       "      <td>François Joseph Marie Antoine \"Jean-François\"•...</td>\n",
       "      <td>Jean-François•Blanchy</td>\n",
       "      <td>12 December 1886 in Bordeaux, Gironde (FRA)</td>\n",
       "      <td>2 October 1960 in Saint-Jean-de-Luz, Pyrénées-...</td>\n",
       "      <td>France</td>\n",
       "      <td>1920 Summer Olympics</td>\n",
       "      <td>...</td>\n",
       "      <td>NaN</td>\n",
       "      <td>NaN</td>\n",
       "      <td>NaN</td>\n",
       "      <td>NaN</td>\n",
       "      <td>Doubles, Mixed(Olympic)</td>\n",
       "      <td>Jeanne Vaussard</td>\n",
       "      <td>=8</td>\n",
       "      <td>NaN</td>\n",
       "      <td>1920</td>\n",
       "      <td>Summer</td>\n",
       "    </tr>\n",
       "    <tr>\n",
       "      <th>4</th>\n",
       "      <td>1</td>\n",
       "      <td>https://d2a3o6pzho379u.cloudfront.net/1.jpg</td>\n",
       "      <td>Competed in Olympic Games</td>\n",
       "      <td>Male</td>\n",
       "      <td>François Joseph Marie Antoine \"Jean-François\"•...</td>\n",
       "      <td>Jean-François•Blanchy</td>\n",
       "      <td>12 December 1886 in Bordeaux, Gironde (FRA)</td>\n",
       "      <td>2 October 1960 in Saint-Jean-de-Luz, Pyrénées-...</td>\n",
       "      <td>France</td>\n",
       "      <td>1920 Summer Olympics</td>\n",
       "      <td>...</td>\n",
       "      <td>NaN</td>\n",
       "      <td>NaN</td>\n",
       "      <td>NaN</td>\n",
       "      <td>NaN</td>\n",
       "      <td>Doubles, Men(Olympic)</td>\n",
       "      <td>Jacques Brugnon</td>\n",
       "      <td>4</td>\n",
       "      <td>NaN</td>\n",
       "      <td>1920</td>\n",
       "      <td>Summer</td>\n",
       "    </tr>\n",
       "    <tr>\n",
       "      <th>...</th>\n",
       "      <td>...</td>\n",
       "      <td>...</td>\n",
       "      <td>...</td>\n",
       "      <td>...</td>\n",
       "      <td>...</td>\n",
       "      <td>...</td>\n",
       "      <td>...</td>\n",
       "      <td>...</td>\n",
       "      <td>...</td>\n",
       "      <td>...</td>\n",
       "      <td>...</td>\n",
       "      <td>...</td>\n",
       "      <td>...</td>\n",
       "      <td>...</td>\n",
       "      <td>...</td>\n",
       "      <td>...</td>\n",
       "      <td>...</td>\n",
       "      <td>...</td>\n",
       "      <td>...</td>\n",
       "      <td>...</td>\n",
       "      <td>...</td>\n",
       "    </tr>\n",
       "    <tr>\n",
       "      <th>306891</th>\n",
       "      <td>149222</td>\n",
       "      <td>NaN</td>\n",
       "      <td>Competed in Olympic Games</td>\n",
       "      <td>Female</td>\n",
       "      <td>Polina•Luchnikova</td>\n",
       "      <td>Polina•Luchnikova</td>\n",
       "      <td>30 January 2002 in Serov, Sverdlovsk (RUS)</td>\n",
       "      <td>NaN</td>\n",
       "      <td>ROC</td>\n",
       "      <td>2022 Winter Olympics</td>\n",
       "      <td>...</td>\n",
       "      <td>NaN</td>\n",
       "      <td>NaN</td>\n",
       "      <td>NaN</td>\n",
       "      <td>NaN</td>\n",
       "      <td>Ice Hockey, Women(Olympic)</td>\n",
       "      <td>ROC</td>\n",
       "      <td>5</td>\n",
       "      <td>NaN</td>\n",
       "      <td>2022</td>\n",
       "      <td>Winter</td>\n",
       "    </tr>\n",
       "    <tr>\n",
       "      <th>306892</th>\n",
       "      <td>149223</td>\n",
       "      <td>NaN</td>\n",
       "      <td>Competed in Olympic Games</td>\n",
       "      <td>Female</td>\n",
       "      <td>Valeriya Sergeyevna•Merkusheva</td>\n",
       "      <td>Valeriya•Merkusheva</td>\n",
       "      <td>20 September 1999 in Moskva (Moscow), Moskva (...</td>\n",
       "      <td>NaN</td>\n",
       "      <td>ROC</td>\n",
       "      <td>2022 Winter Olympics</td>\n",
       "      <td>...</td>\n",
       "      <td>NaN</td>\n",
       "      <td>NaN</td>\n",
       "      <td>Валерия Сергеевна•Меркушева</td>\n",
       "      <td>NaN</td>\n",
       "      <td>Ice Hockey, Women(Olympic)</td>\n",
       "      <td>ROC</td>\n",
       "      <td>5</td>\n",
       "      <td>NaN</td>\n",
       "      <td>2022</td>\n",
       "      <td>Winter</td>\n",
       "    </tr>\n",
       "    <tr>\n",
       "      <th>306893</th>\n",
       "      <td>149224</td>\n",
       "      <td>NaN</td>\n",
       "      <td>Competed in Olympic Games</td>\n",
       "      <td>Female</td>\n",
       "      <td>Yuliya•Smirnova</td>\n",
       "      <td>Yuliya•Smirnova</td>\n",
       "      <td>8 May 1998 in Kotlas, Arkhangelsk (RUS)</td>\n",
       "      <td>NaN</td>\n",
       "      <td>ROC</td>\n",
       "      <td>2022 Winter Olympics</td>\n",
       "      <td>...</td>\n",
       "      <td>NaN</td>\n",
       "      <td>NaN</td>\n",
       "      <td>Юлия•Смирнова</td>\n",
       "      <td>NaN</td>\n",
       "      <td>Ice Hockey, Women(Olympic)</td>\n",
       "      <td>ROC</td>\n",
       "      <td>5</td>\n",
       "      <td>NaN</td>\n",
       "      <td>2022</td>\n",
       "      <td>Winter</td>\n",
       "    </tr>\n",
       "    <tr>\n",
       "      <th>306894</th>\n",
       "      <td>149225</td>\n",
       "      <td>https://d2a3o6pzho379u.cloudfront.net/149225.jpg</td>\n",
       "      <td>Competed in Olympic Games</td>\n",
       "      <td>Male</td>\n",
       "      <td>André•Foussard</td>\n",
       "      <td>André•Foussard</td>\n",
       "      <td>19 May 1899 in Niort, Deux-Sèvres (FRA)</td>\n",
       "      <td>18 March 1986 in Niort, Deux-Sèvres (FRA)</td>\n",
       "      <td>France</td>\n",
       "      <td>1924 Summer Olympics</td>\n",
       "      <td>...</td>\n",
       "      <td>NaN</td>\n",
       "      <td>NaN</td>\n",
       "      <td>NaN</td>\n",
       "      <td>NaN</td>\n",
       "      <td>400 metres Hurdles, Men(Olympic)</td>\n",
       "      <td>NaN</td>\n",
       "      <td>5 h5 r1/3</td>\n",
       "      <td>NaN</td>\n",
       "      <td>1924</td>\n",
       "      <td>Summer</td>\n",
       "    </tr>\n",
       "    <tr>\n",
       "      <th>306895</th>\n",
       "      <td>149814</td>\n",
       "      <td>NaN</td>\n",
       "      <td>Non-starter • Administrator</td>\n",
       "      <td>Male</td>\n",
       "      <td>William Berge \"Bill\"•Phillips</td>\n",
       "      <td>Bill•Phillips</td>\n",
       "      <td>15 July 1913 in Dulwich Hill, New South Wales ...</td>\n",
       "      <td>20 October 2003 in Sydney, New South Wales (AUS)</td>\n",
       "      <td>Australia</td>\n",
       "      <td>1948 Summer Olympics</td>\n",
       "      <td>...</td>\n",
       "      <td>NaN</td>\n",
       "      <td>NaN</td>\n",
       "      <td>NaN</td>\n",
       "      <td>NaN</td>\n",
       "      <td>Water Polo, Men(Olympic)</td>\n",
       "      <td>Australia</td>\n",
       "      <td>DNS</td>\n",
       "      <td>NaN</td>\n",
       "      <td>1948</td>\n",
       "      <td>Summer</td>\n",
       "    </tr>\n",
       "  </tbody>\n",
       "</table>\n",
       "<p>296574 rows × 26 columns</p>\n",
       "</div>"
      ],
      "text/plain": [
       "            id                                        photo_link  \\\n",
       "0            1       https://d2a3o6pzho379u.cloudfront.net/1.jpg   \n",
       "1            1       https://d2a3o6pzho379u.cloudfront.net/1.jpg   \n",
       "2            1       https://d2a3o6pzho379u.cloudfront.net/1.jpg   \n",
       "3            1       https://d2a3o6pzho379u.cloudfront.net/1.jpg   \n",
       "4            1       https://d2a3o6pzho379u.cloudfront.net/1.jpg   \n",
       "...        ...                                               ...   \n",
       "306891  149222                                               NaN   \n",
       "306892  149223                                               NaN   \n",
       "306893  149224                                               NaN   \n",
       "306894  149225  https://d2a3o6pzho379u.cloudfront.net/149225.jpg   \n",
       "306895  149814                                               NaN   \n",
       "\n",
       "                              Roles     Sex  \\\n",
       "0         Competed in Olympic Games    Male   \n",
       "1         Competed in Olympic Games    Male   \n",
       "2         Competed in Olympic Games    Male   \n",
       "3         Competed in Olympic Games    Male   \n",
       "4         Competed in Olympic Games    Male   \n",
       "...                             ...     ...   \n",
       "306891    Competed in Olympic Games  Female   \n",
       "306892    Competed in Olympic Games  Female   \n",
       "306893    Competed in Olympic Games  Female   \n",
       "306894    Competed in Olympic Games    Male   \n",
       "306895  Non-starter • Administrator    Male   \n",
       "\n",
       "                                                Full_name  \\\n",
       "0       François Joseph Marie Antoine \"Jean-François\"•...   \n",
       "1       François Joseph Marie Antoine \"Jean-François\"•...   \n",
       "2       François Joseph Marie Antoine \"Jean-François\"•...   \n",
       "3       François Joseph Marie Antoine \"Jean-François\"•...   \n",
       "4       François Joseph Marie Antoine \"Jean-François\"•...   \n",
       "...                                                   ...   \n",
       "306891                                  Polina•Luchnikova   \n",
       "306892                     Valeriya Sergeyevna•Merkusheva   \n",
       "306893                                    Yuliya•Smirnova   \n",
       "306894                                     André•Foussard   \n",
       "306895                      William Berge \"Bill\"•Phillips   \n",
       "\n",
       "                    Used_name  \\\n",
       "0       Jean-François•Blanchy   \n",
       "1       Jean-François•Blanchy   \n",
       "2       Jean-François•Blanchy   \n",
       "3       Jean-François•Blanchy   \n",
       "4       Jean-François•Blanchy   \n",
       "...                       ...   \n",
       "306891      Polina•Luchnikova   \n",
       "306892    Valeriya•Merkusheva   \n",
       "306893        Yuliya•Smirnova   \n",
       "306894         André•Foussard   \n",
       "306895          Bill•Phillips   \n",
       "\n",
       "                                                     Born  \\\n",
       "0             12 December 1886 in Bordeaux, Gironde (FRA)   \n",
       "1             12 December 1886 in Bordeaux, Gironde (FRA)   \n",
       "2             12 December 1886 in Bordeaux, Gironde (FRA)   \n",
       "3             12 December 1886 in Bordeaux, Gironde (FRA)   \n",
       "4             12 December 1886 in Bordeaux, Gironde (FRA)   \n",
       "...                                                   ...   \n",
       "306891         30 January 2002 in Serov, Sverdlovsk (RUS)   \n",
       "306892  20 September 1999 in Moskva (Moscow), Moskva (...   \n",
       "306893            8 May 1998 in Kotlas, Arkhangelsk (RUS)   \n",
       "306894            19 May 1899 in Niort, Deux-Sèvres (FRA)   \n",
       "306895  15 July 1913 in Dulwich Hill, New South Wales ...   \n",
       "\n",
       "                                                     Died        NOC  \\\n",
       "0       2 October 1960 in Saint-Jean-de-Luz, Pyrénées-...     France   \n",
       "1       2 October 1960 in Saint-Jean-de-Luz, Pyrénées-...     France   \n",
       "2       2 October 1960 in Saint-Jean-de-Luz, Pyrénées-...     France   \n",
       "3       2 October 1960 in Saint-Jean-de-Luz, Pyrénées-...     France   \n",
       "4       2 October 1960 in Saint-Jean-de-Luz, Pyrénées-...     France   \n",
       "...                                                   ...        ...   \n",
       "306891                                                NaN        ROC   \n",
       "306892                                                NaN        ROC   \n",
       "306893                                                NaN        ROC   \n",
       "306894          18 March 1986 in Niort, Deux-Sèvres (FRA)     France   \n",
       "306895   20 October 2003 in Sydney, New South Wales (AUS)  Australia   \n",
       "\n",
       "                        game  ... Other_names Nationality  \\\n",
       "0       1912 Summer Olympics  ...         NaN         NaN   \n",
       "1       1912 Summer Olympics  ...         NaN         NaN   \n",
       "2       1920 Summer Olympics  ...         NaN         NaN   \n",
       "3       1920 Summer Olympics  ...         NaN         NaN   \n",
       "4       1920 Summer Olympics  ...         NaN         NaN   \n",
       "...                      ...  ...         ...         ...   \n",
       "306891  2022 Winter Olympics  ...         NaN         NaN   \n",
       "306892  2022 Winter Olympics  ...         NaN         NaN   \n",
       "306893  2022 Winter Olympics  ...         NaN         NaN   \n",
       "306894  1924 Summer Olympics  ...         NaN         NaN   \n",
       "306895  1948 Summer Olympics  ...         NaN         NaN   \n",
       "\n",
       "                      Original_name Name_order  \\\n",
       "0                               NaN        NaN   \n",
       "1                               NaN        NaN   \n",
       "2                               NaN        NaN   \n",
       "3                               NaN        NaN   \n",
       "4                               NaN        NaN   \n",
       "...                             ...        ...   \n",
       "306891                          NaN        NaN   \n",
       "306892  Валерия Сергеевна•Меркушева        NaN   \n",
       "306893                Юлия•Смирнова        NaN   \n",
       "306894                          NaN        NaN   \n",
       "306895                          NaN        NaN   \n",
       "\n",
       "                                   event             team   position medal  \\\n",
       "0                  Singles, Men(Olympic)              NaN        =17   NaN   \n",
       "1                  Doubles, Men(Olympic)   Jean Montariol        DNS   NaN   \n",
       "2                  Singles, Men(Olympic)              NaN        =32   NaN   \n",
       "3                Doubles, Mixed(Olympic)  Jeanne Vaussard         =8   NaN   \n",
       "4                  Doubles, Men(Olympic)  Jacques Brugnon          4   NaN   \n",
       "...                                  ...              ...        ...   ...   \n",
       "306891        Ice Hockey, Women(Olympic)              ROC          5   NaN   \n",
       "306892        Ice Hockey, Women(Olympic)              ROC          5   NaN   \n",
       "306893        Ice Hockey, Women(Olympic)              ROC          5   NaN   \n",
       "306894  400 metres Hurdles, Men(Olympic)              NaN  5 h5 r1/3   NaN   \n",
       "306895          Water Polo, Men(Olympic)        Australia        DNS   NaN   \n",
       "\n",
       "        year  season  \n",
       "0       1912  Summer  \n",
       "1       1912  Summer  \n",
       "2       1920  Summer  \n",
       "3       1920  Summer  \n",
       "4       1920  Summer  \n",
       "...      ...     ...  \n",
       "306891  2022  Winter  \n",
       "306892  2022  Winter  \n",
       "306893  2022  Winter  \n",
       "306894  1924  Summer  \n",
       "306895  1948  Summer  \n",
       "\n",
       "[296574 rows x 26 columns]"
      ]
     },
     "execution_count": 20,
     "metadata": {},
     "output_type": "execute_result"
    }
   ],
   "source": [
    "games_df"
   ]
  },
  {
   "cell_type": "code",
   "execution_count": 19,
   "metadata": {},
   "outputs": [
    {
     "data": {
      "text/plain": [
       "143139"
      ]
     },
     "execution_count": 19,
     "metadata": {},
     "output_type": "execute_result"
    }
   ],
   "source": [
    "games_df.groupby(\"id\").count().shape[0]"
   ]
  },
  {
   "cell_type": "markdown",
   "metadata": {},
   "source": [
    "### Events per Year per player"
   ]
  },
  {
   "cell_type": "code",
   "execution_count": 27,
   "metadata": {},
   "outputs": [
    {
     "data": {
      "text/html": [
       "<div>\n",
       "<style scoped>\n",
       "    .dataframe tbody tr th:only-of-type {\n",
       "        vertical-align: middle;\n",
       "    }\n",
       "\n",
       "    .dataframe tbody tr th {\n",
       "        vertical-align: top;\n",
       "    }\n",
       "\n",
       "    .dataframe thead th {\n",
       "        text-align: right;\n",
       "    }\n",
       "</style>\n",
       "<table border=\"1\" class=\"dataframe\">\n",
       "  <thead>\n",
       "    <tr style=\"text-align: right;\">\n",
       "      <th></th>\n",
       "      <th>id</th>\n",
       "      <th>year</th>\n",
       "      <th>Full_name</th>\n",
       "      <th>Sex</th>\n",
       "      <th>NOC</th>\n",
       "      <th>count</th>\n",
       "    </tr>\n",
       "  </thead>\n",
       "  <tbody>\n",
       "    <tr>\n",
       "      <th>0</th>\n",
       "      <td>1</td>\n",
       "      <td>1912</td>\n",
       "      <td>François Joseph Marie Antoine \"Jean-François\"•...</td>\n",
       "      <td>Male</td>\n",
       "      <td>France</td>\n",
       "      <td>2</td>\n",
       "    </tr>\n",
       "    <tr>\n",
       "      <th>1</th>\n",
       "      <td>1</td>\n",
       "      <td>1920</td>\n",
       "      <td>François Joseph Marie Antoine \"Jean-François\"•...</td>\n",
       "      <td>Male</td>\n",
       "      <td>France</td>\n",
       "      <td>3</td>\n",
       "    </tr>\n",
       "    <tr>\n",
       "      <th>2</th>\n",
       "      <td>2</td>\n",
       "      <td>1996</td>\n",
       "      <td>Arnaud Benjamin•Boetsch</td>\n",
       "      <td>Male</td>\n",
       "      <td>France</td>\n",
       "      <td>2</td>\n",
       "    </tr>\n",
       "    <tr>\n",
       "      <th>3</th>\n",
       "      <td>3</td>\n",
       "      <td>1924</td>\n",
       "      <td>Jean Laurent Robert•Borotra</td>\n",
       "      <td>Male</td>\n",
       "      <td>France</td>\n",
       "      <td>3</td>\n",
       "    </tr>\n",
       "    <tr>\n",
       "      <th>4</th>\n",
       "      <td>4</td>\n",
       "      <td>1920</td>\n",
       "      <td>Jacques Marie Stanislas Jean•Brugnon</td>\n",
       "      <td>Male</td>\n",
       "      <td>France</td>\n",
       "      <td>2</td>\n",
       "    </tr>\n",
       "    <tr>\n",
       "      <th>...</th>\n",
       "      <td>...</td>\n",
       "      <td>...</td>\n",
       "      <td>...</td>\n",
       "      <td>...</td>\n",
       "      <td>...</td>\n",
       "      <td>...</td>\n",
       "    </tr>\n",
       "    <tr>\n",
       "      <th>202491</th>\n",
       "      <td>149222</td>\n",
       "      <td>2022</td>\n",
       "      <td>Polina•Luchnikova</td>\n",
       "      <td>Female</td>\n",
       "      <td>ROC</td>\n",
       "      <td>1</td>\n",
       "    </tr>\n",
       "    <tr>\n",
       "      <th>202492</th>\n",
       "      <td>149223</td>\n",
       "      <td>2022</td>\n",
       "      <td>Valeriya Sergeyevna•Merkusheva</td>\n",
       "      <td>Female</td>\n",
       "      <td>ROC</td>\n",
       "      <td>1</td>\n",
       "    </tr>\n",
       "    <tr>\n",
       "      <th>202493</th>\n",
       "      <td>149224</td>\n",
       "      <td>2022</td>\n",
       "      <td>Yuliya•Smirnova</td>\n",
       "      <td>Female</td>\n",
       "      <td>ROC</td>\n",
       "      <td>1</td>\n",
       "    </tr>\n",
       "    <tr>\n",
       "      <th>202494</th>\n",
       "      <td>149225</td>\n",
       "      <td>1924</td>\n",
       "      <td>André•Foussard</td>\n",
       "      <td>Male</td>\n",
       "      <td>France</td>\n",
       "      <td>1</td>\n",
       "    </tr>\n",
       "    <tr>\n",
       "      <th>202495</th>\n",
       "      <td>149814</td>\n",
       "      <td>1948</td>\n",
       "      <td>William Berge \"Bill\"•Phillips</td>\n",
       "      <td>Male</td>\n",
       "      <td>Australia</td>\n",
       "      <td>1</td>\n",
       "    </tr>\n",
       "  </tbody>\n",
       "</table>\n",
       "<p>202496 rows × 6 columns</p>\n",
       "</div>"
      ],
      "text/plain": [
       "            id  year                                          Full_name  \\\n",
       "0            1  1912  François Joseph Marie Antoine \"Jean-François\"•...   \n",
       "1            1  1920  François Joseph Marie Antoine \"Jean-François\"•...   \n",
       "2            2  1996                            Arnaud Benjamin•Boetsch   \n",
       "3            3  1924                        Jean Laurent Robert•Borotra   \n",
       "4            4  1920               Jacques Marie Stanislas Jean•Brugnon   \n",
       "...        ...   ...                                                ...   \n",
       "202491  149222  2022                                  Polina•Luchnikova   \n",
       "202492  149223  2022                     Valeriya Sergeyevna•Merkusheva   \n",
       "202493  149224  2022                                    Yuliya•Smirnova   \n",
       "202494  149225  1924                                     André•Foussard   \n",
       "202495  149814  1948                      William Berge \"Bill\"•Phillips   \n",
       "\n",
       "           Sex        NOC  count  \n",
       "0         Male     France      2  \n",
       "1         Male     France      3  \n",
       "2         Male     France      2  \n",
       "3         Male     France      3  \n",
       "4         Male     France      2  \n",
       "...        ...        ...    ...  \n",
       "202491  Female        ROC      1  \n",
       "202492  Female        ROC      1  \n",
       "202493  Female        ROC      1  \n",
       "202494    Male     France      1  \n",
       "202495    Male  Australia      1  \n",
       "\n",
       "[202496 rows x 6 columns]"
      ]
     },
     "execution_count": 27,
     "metadata": {},
     "output_type": "execute_result"
    }
   ],
   "source": [
    "games_df.groupby(by=[\"id\", \"year\"])[[\"Full_name\", \"Sex\", \"NOC\"]].value_counts().reset_index()"
   ]
  },
  {
   "cell_type": "code",
   "execution_count": 32,
   "metadata": {},
   "outputs": [
    {
     "data": {
      "text/html": [
       "<div>\n",
       "<style scoped>\n",
       "    .dataframe tbody tr th:only-of-type {\n",
       "        vertical-align: middle;\n",
       "    }\n",
       "\n",
       "    .dataframe tbody tr th {\n",
       "        vertical-align: top;\n",
       "    }\n",
       "\n",
       "    .dataframe thead th {\n",
       "        text-align: right;\n",
       "    }\n",
       "</style>\n",
       "<table border=\"1\" class=\"dataframe\">\n",
       "  <thead>\n",
       "    <tr style=\"text-align: right;\">\n",
       "      <th></th>\n",
       "      <th>year</th>\n",
       "      <th>Sex</th>\n",
       "      <th>count</th>\n",
       "    </tr>\n",
       "  </thead>\n",
       "  <tbody>\n",
       "    <tr>\n",
       "      <th>0</th>\n",
       "      <td>1896</td>\n",
       "      <td>Male</td>\n",
       "      <td>182</td>\n",
       "    </tr>\n",
       "    <tr>\n",
       "      <th>1</th>\n",
       "      <td>1900</td>\n",
       "      <td>Male</td>\n",
       "      <td>1211</td>\n",
       "    </tr>\n",
       "    <tr>\n",
       "      <th>2</th>\n",
       "      <td>1900</td>\n",
       "      <td>Female</td>\n",
       "      <td>23</td>\n",
       "    </tr>\n",
       "    <tr>\n",
       "      <th>3</th>\n",
       "      <td>1904</td>\n",
       "      <td>Male</td>\n",
       "      <td>661</td>\n",
       "    </tr>\n",
       "    <tr>\n",
       "      <th>4</th>\n",
       "      <td>1904</td>\n",
       "      <td>Female</td>\n",
       "      <td>6</td>\n",
       "    </tr>\n",
       "    <tr>\n",
       "      <th>...</th>\n",
       "      <td>...</td>\n",
       "      <td>...</td>\n",
       "      <td>...</td>\n",
       "    </tr>\n",
       "    <tr>\n",
       "      <th>68</th>\n",
       "      <td>2018</td>\n",
       "      <td>Female</td>\n",
       "      <td>1157</td>\n",
       "    </tr>\n",
       "    <tr>\n",
       "      <th>69</th>\n",
       "      <td>2020</td>\n",
       "      <td>Male</td>\n",
       "      <td>5753</td>\n",
       "    </tr>\n",
       "    <tr>\n",
       "      <th>70</th>\n",
       "      <td>2020</td>\n",
       "      <td>Female</td>\n",
       "      <td>5122</td>\n",
       "    </tr>\n",
       "    <tr>\n",
       "      <th>71</th>\n",
       "      <td>2022</td>\n",
       "      <td>Male</td>\n",
       "      <td>1503</td>\n",
       "    </tr>\n",
       "    <tr>\n",
       "      <th>72</th>\n",
       "      <td>2022</td>\n",
       "      <td>Female</td>\n",
       "      <td>1198</td>\n",
       "    </tr>\n",
       "  </tbody>\n",
       "</table>\n",
       "<p>73 rows × 3 columns</p>\n",
       "</div>"
      ],
      "text/plain": [
       "    year     Sex  count\n",
       "0   1896    Male    182\n",
       "1   1900    Male   1211\n",
       "2   1900  Female     23\n",
       "3   1904    Male    661\n",
       "4   1904  Female      6\n",
       "..   ...     ...    ...\n",
       "68  2018  Female   1157\n",
       "69  2020    Male   5753\n",
       "70  2020  Female   5122\n",
       "71  2022    Male   1503\n",
       "72  2022  Female   1198\n",
       "\n",
       "[73 rows x 3 columns]"
      ]
     },
     "execution_count": 32,
     "metadata": {},
     "output_type": "execute_result"
    }
   ],
   "source": [
    "gender_df = games_df.drop_duplicates(subset=[\"id\", \"year\"], ignore_index=True).groupby('year')['Sex'].value_counts().reset_index()\n",
    "gender_df"
   ]
  },
  {
   "cell_type": "code",
   "execution_count": 34,
   "metadata": {},
   "outputs": [
    {
     "ename": "ValueError",
     "evalue": "Mime type rendering requires nbformat>=4.2.0 but it is not installed",
     "output_type": "error",
     "traceback": [
      "\u001b[1;31m---------------------------------------------------------------------------\u001b[0m",
      "\u001b[1;31mValueError\u001b[0m                                Traceback (most recent call last)",
      "File \u001b[1;32mc:\\Users\\marya\\anaconda3\\envs\\webscrapping\\lib\\site-packages\\IPython\\core\\formatters.py:922\u001b[0m, in \u001b[0;36mIPythonDisplayFormatter.__call__\u001b[1;34m(self, obj)\u001b[0m\n\u001b[0;32m    920\u001b[0m method \u001b[38;5;241m=\u001b[39m get_real_method(obj, \u001b[38;5;28mself\u001b[39m\u001b[38;5;241m.\u001b[39mprint_method)\n\u001b[0;32m    921\u001b[0m \u001b[38;5;28;01mif\u001b[39;00m method \u001b[38;5;129;01mis\u001b[39;00m \u001b[38;5;129;01mnot\u001b[39;00m \u001b[38;5;28;01mNone\u001b[39;00m:\n\u001b[1;32m--> 922\u001b[0m     \u001b[43mmethod\u001b[49m\u001b[43m(\u001b[49m\u001b[43m)\u001b[49m\n\u001b[0;32m    923\u001b[0m     \u001b[38;5;28;01mreturn\u001b[39;00m \u001b[38;5;28;01mTrue\u001b[39;00m\n",
      "File \u001b[1;32mc:\\Users\\marya\\anaconda3\\envs\\webscrapping\\lib\\site-packages\\plotly\\basedatatypes.py:832\u001b[0m, in \u001b[0;36mBaseFigure._ipython_display_\u001b[1;34m(self)\u001b[0m\n\u001b[0;32m    829\u001b[0m \u001b[38;5;28;01mimport\u001b[39;00m \u001b[38;5;21;01mplotly\u001b[39;00m\u001b[38;5;21;01m.\u001b[39;00m\u001b[38;5;21;01mio\u001b[39;00m \u001b[38;5;28;01mas\u001b[39;00m \u001b[38;5;21;01mpio\u001b[39;00m\n\u001b[0;32m    831\u001b[0m \u001b[38;5;28;01mif\u001b[39;00m pio\u001b[38;5;241m.\u001b[39mrenderers\u001b[38;5;241m.\u001b[39mrender_on_display \u001b[38;5;129;01mand\u001b[39;00m pio\u001b[38;5;241m.\u001b[39mrenderers\u001b[38;5;241m.\u001b[39mdefault:\n\u001b[1;32m--> 832\u001b[0m     \u001b[43mpio\u001b[49m\u001b[38;5;241;43m.\u001b[39;49m\u001b[43mshow\u001b[49m\u001b[43m(\u001b[49m\u001b[38;5;28;43mself\u001b[39;49m\u001b[43m)\u001b[49m\n\u001b[0;32m    833\u001b[0m \u001b[38;5;28;01melse\u001b[39;00m:\n\u001b[0;32m    834\u001b[0m     \u001b[38;5;28mprint\u001b[39m(\u001b[38;5;28mrepr\u001b[39m(\u001b[38;5;28mself\u001b[39m))\n",
      "File \u001b[1;32mc:\\Users\\marya\\anaconda3\\envs\\webscrapping\\lib\\site-packages\\plotly\\io\\_renderers.py:394\u001b[0m, in \u001b[0;36mshow\u001b[1;34m(fig, renderer, validate, **kwargs)\u001b[0m\n\u001b[0;32m    389\u001b[0m         \u001b[38;5;28;01mraise\u001b[39;00m \u001b[38;5;167;01mValueError\u001b[39;00m(\n\u001b[0;32m    390\u001b[0m             \u001b[38;5;124m\"\u001b[39m\u001b[38;5;124mMime type rendering requires ipython but it is not installed\u001b[39m\u001b[38;5;124m\"\u001b[39m\n\u001b[0;32m    391\u001b[0m         )\n\u001b[0;32m    393\u001b[0m     \u001b[38;5;28;01mif\u001b[39;00m \u001b[38;5;129;01mnot\u001b[39;00m nbformat \u001b[38;5;129;01mor\u001b[39;00m Version(nbformat\u001b[38;5;241m.\u001b[39m__version__) \u001b[38;5;241m<\u001b[39m Version(\u001b[38;5;124m\"\u001b[39m\u001b[38;5;124m4.2.0\u001b[39m\u001b[38;5;124m\"\u001b[39m):\n\u001b[1;32m--> 394\u001b[0m         \u001b[38;5;28;01mraise\u001b[39;00m \u001b[38;5;167;01mValueError\u001b[39;00m(\n\u001b[0;32m    395\u001b[0m             \u001b[38;5;124m\"\u001b[39m\u001b[38;5;124mMime type rendering requires nbformat>=4.2.0 but it is not installed\u001b[39m\u001b[38;5;124m\"\u001b[39m\n\u001b[0;32m    396\u001b[0m         )\n\u001b[0;32m    398\u001b[0m     ipython_display\u001b[38;5;241m.\u001b[39mdisplay(bundle, raw\u001b[38;5;241m=\u001b[39m\u001b[38;5;28;01mTrue\u001b[39;00m)\n\u001b[0;32m    400\u001b[0m \u001b[38;5;66;03m# external renderers\u001b[39;00m\n",
      "\u001b[1;31mValueError\u001b[0m: Mime type rendering requires nbformat>=4.2.0 but it is not installed"
     ]
    },
    {
     "data": {
      "application/vnd.plotly.v1+json": {
       "config": {
        "plotlyServerURL": "https://plot.ly"
       },
       "data": [
        {
         "alignmentgroup": "True",
         "cliponaxis": false,
         "hovertemplate": "Sex=Male<br>year=%{x}<br>count=%{y}<extra></extra>",
         "legendgroup": "Male",
         "marker": {
          "color": "#636efa",
          "pattern": {
           "shape": ""
          }
         },
         "name": "Male",
         "offsetgroup": "Male",
         "orientation": "v",
         "showlegend": true,
         "textangle": 0,
         "textfont": {
          "size": 12
         },
         "textposition": "outside",
         "texttemplate": "%{y:.2s}",
         "type": "bar",
         "x": [
          "1896",
          "1900",
          "1904",
          "1908",
          "1912",
          "1920",
          "1924",
          "1928",
          "1932",
          "1936",
          "1948",
          "1952",
          "1956",
          "1960",
          "1964",
          "1968",
          "1972",
          "1976",
          "1980",
          "1984",
          "1988",
          "1992",
          "1994",
          "1996",
          "1998",
          "2000",
          "2002",
          "2004",
          "2006",
          "2008",
          "2010",
          "2012",
          "2014",
          "2016",
          "2018",
          "2020",
          "2022"
         ],
         "xaxis": "x",
         "y": [
          182,
          1211,
          661,
          2067,
          2393,
          2610,
          3344,
          3124,
          1476,
          4252,
          4336,
          5042,
          3543,
          5321,
          5382,
          5772,
          6900,
          5793,
          4994,
          6273,
          7452,
          8020,
          1220,
          6840,
          1403,
          6592,
          1521,
          6278,
          1546,
          6336,
          1514,
          5886,
          1654,
          6157,
          1645,
          5753,
          1503
         ],
         "yaxis": "y"
        },
        {
         "alignmentgroup": "True",
         "cliponaxis": false,
         "hovertemplate": "Sex=Female<br>year=%{x}<br>count=%{y}<extra></extra>",
         "legendgroup": "Female",
         "marker": {
          "color": "#EF553B",
          "pattern": {
           "shape": ""
          }
         },
         "name": "Female",
         "offsetgroup": "Female",
         "orientation": "v",
         "showlegend": true,
         "textangle": 0,
         "textfont": {
          "size": 12
         },
         "textposition": "outside",
         "texttemplate": "%{y:.2s}",
         "type": "bar",
         "x": [
          "1900",
          "1904",
          "1908",
          "1912",
          "1920",
          "1924",
          "1928",
          "1932",
          "1936",
          "1948",
          "1952",
          "1956",
          "1960",
          "1964",
          "1968",
          "1972",
          "1976",
          "1980",
          "1984",
          "1988",
          "1992",
          "1994",
          "1996",
          "1998",
          "2000",
          "2002",
          "2004",
          "2006",
          "2008",
          "2010",
          "2012",
          "2014",
          "2016",
          "2018",
          "2020",
          "2022"
         ],
         "xaxis": "x",
         "y": [
          23,
          6,
          46,
          54,
          80,
          151,
          303,
          151,
          409,
          478,
          631,
          506,
          767,
          886,
          1006,
          1279,
          1516,
          1371,
          1864,
          2587,
          3256,
          525,
          3530,
          789,
          4090,
          892,
          4337,
          959,
          4637,
          1039,
          4685,
          1118,
          5052,
          1157,
          5122,
          1198
         ],
         "yaxis": "y"
        }
       ],
       "layout": {
        "barmode": "group",
        "height": 800,
        "legend": {
         "title": {
          "text": "Sex"
         },
         "tracegroupgap": 0
        },
        "template": {
         "data": {
          "bar": [
           {
            "error_x": {
             "color": "#2a3f5f"
            },
            "error_y": {
             "color": "#2a3f5f"
            },
            "marker": {
             "line": {
              "color": "#E5ECF6",
              "width": 0.5
             },
             "pattern": {
              "fillmode": "overlay",
              "size": 10,
              "solidity": 0.2
             }
            },
            "type": "bar"
           }
          ],
          "barpolar": [
           {
            "marker": {
             "line": {
              "color": "#E5ECF6",
              "width": 0.5
             },
             "pattern": {
              "fillmode": "overlay",
              "size": 10,
              "solidity": 0.2
             }
            },
            "type": "barpolar"
           }
          ],
          "carpet": [
           {
            "aaxis": {
             "endlinecolor": "#2a3f5f",
             "gridcolor": "white",
             "linecolor": "white",
             "minorgridcolor": "white",
             "startlinecolor": "#2a3f5f"
            },
            "baxis": {
             "endlinecolor": "#2a3f5f",
             "gridcolor": "white",
             "linecolor": "white",
             "minorgridcolor": "white",
             "startlinecolor": "#2a3f5f"
            },
            "type": "carpet"
           }
          ],
          "choropleth": [
           {
            "colorbar": {
             "outlinewidth": 0,
             "ticks": ""
            },
            "type": "choropleth"
           }
          ],
          "contour": [
           {
            "colorbar": {
             "outlinewidth": 0,
             "ticks": ""
            },
            "colorscale": [
             [
              0,
              "#0d0887"
             ],
             [
              0.1111111111111111,
              "#46039f"
             ],
             [
              0.2222222222222222,
              "#7201a8"
             ],
             [
              0.3333333333333333,
              "#9c179e"
             ],
             [
              0.4444444444444444,
              "#bd3786"
             ],
             [
              0.5555555555555556,
              "#d8576b"
             ],
             [
              0.6666666666666666,
              "#ed7953"
             ],
             [
              0.7777777777777778,
              "#fb9f3a"
             ],
             [
              0.8888888888888888,
              "#fdca26"
             ],
             [
              1,
              "#f0f921"
             ]
            ],
            "type": "contour"
           }
          ],
          "contourcarpet": [
           {
            "colorbar": {
             "outlinewidth": 0,
             "ticks": ""
            },
            "type": "contourcarpet"
           }
          ],
          "heatmap": [
           {
            "colorbar": {
             "outlinewidth": 0,
             "ticks": ""
            },
            "colorscale": [
             [
              0,
              "#0d0887"
             ],
             [
              0.1111111111111111,
              "#46039f"
             ],
             [
              0.2222222222222222,
              "#7201a8"
             ],
             [
              0.3333333333333333,
              "#9c179e"
             ],
             [
              0.4444444444444444,
              "#bd3786"
             ],
             [
              0.5555555555555556,
              "#d8576b"
             ],
             [
              0.6666666666666666,
              "#ed7953"
             ],
             [
              0.7777777777777778,
              "#fb9f3a"
             ],
             [
              0.8888888888888888,
              "#fdca26"
             ],
             [
              1,
              "#f0f921"
             ]
            ],
            "type": "heatmap"
           }
          ],
          "heatmapgl": [
           {
            "colorbar": {
             "outlinewidth": 0,
             "ticks": ""
            },
            "colorscale": [
             [
              0,
              "#0d0887"
             ],
             [
              0.1111111111111111,
              "#46039f"
             ],
             [
              0.2222222222222222,
              "#7201a8"
             ],
             [
              0.3333333333333333,
              "#9c179e"
             ],
             [
              0.4444444444444444,
              "#bd3786"
             ],
             [
              0.5555555555555556,
              "#d8576b"
             ],
             [
              0.6666666666666666,
              "#ed7953"
             ],
             [
              0.7777777777777778,
              "#fb9f3a"
             ],
             [
              0.8888888888888888,
              "#fdca26"
             ],
             [
              1,
              "#f0f921"
             ]
            ],
            "type": "heatmapgl"
           }
          ],
          "histogram": [
           {
            "marker": {
             "pattern": {
              "fillmode": "overlay",
              "size": 10,
              "solidity": 0.2
             }
            },
            "type": "histogram"
           }
          ],
          "histogram2d": [
           {
            "colorbar": {
             "outlinewidth": 0,
             "ticks": ""
            },
            "colorscale": [
             [
              0,
              "#0d0887"
             ],
             [
              0.1111111111111111,
              "#46039f"
             ],
             [
              0.2222222222222222,
              "#7201a8"
             ],
             [
              0.3333333333333333,
              "#9c179e"
             ],
             [
              0.4444444444444444,
              "#bd3786"
             ],
             [
              0.5555555555555556,
              "#d8576b"
             ],
             [
              0.6666666666666666,
              "#ed7953"
             ],
             [
              0.7777777777777778,
              "#fb9f3a"
             ],
             [
              0.8888888888888888,
              "#fdca26"
             ],
             [
              1,
              "#f0f921"
             ]
            ],
            "type": "histogram2d"
           }
          ],
          "histogram2dcontour": [
           {
            "colorbar": {
             "outlinewidth": 0,
             "ticks": ""
            },
            "colorscale": [
             [
              0,
              "#0d0887"
             ],
             [
              0.1111111111111111,
              "#46039f"
             ],
             [
              0.2222222222222222,
              "#7201a8"
             ],
             [
              0.3333333333333333,
              "#9c179e"
             ],
             [
              0.4444444444444444,
              "#bd3786"
             ],
             [
              0.5555555555555556,
              "#d8576b"
             ],
             [
              0.6666666666666666,
              "#ed7953"
             ],
             [
              0.7777777777777778,
              "#fb9f3a"
             ],
             [
              0.8888888888888888,
              "#fdca26"
             ],
             [
              1,
              "#f0f921"
             ]
            ],
            "type": "histogram2dcontour"
           }
          ],
          "mesh3d": [
           {
            "colorbar": {
             "outlinewidth": 0,
             "ticks": ""
            },
            "type": "mesh3d"
           }
          ],
          "parcoords": [
           {
            "line": {
             "colorbar": {
              "outlinewidth": 0,
              "ticks": ""
             }
            },
            "type": "parcoords"
           }
          ],
          "pie": [
           {
            "automargin": true,
            "type": "pie"
           }
          ],
          "scatter": [
           {
            "fillpattern": {
             "fillmode": "overlay",
             "size": 10,
             "solidity": 0.2
            },
            "type": "scatter"
           }
          ],
          "scatter3d": [
           {
            "line": {
             "colorbar": {
              "outlinewidth": 0,
              "ticks": ""
             }
            },
            "marker": {
             "colorbar": {
              "outlinewidth": 0,
              "ticks": ""
             }
            },
            "type": "scatter3d"
           }
          ],
          "scattercarpet": [
           {
            "marker": {
             "colorbar": {
              "outlinewidth": 0,
              "ticks": ""
             }
            },
            "type": "scattercarpet"
           }
          ],
          "scattergeo": [
           {
            "marker": {
             "colorbar": {
              "outlinewidth": 0,
              "ticks": ""
             }
            },
            "type": "scattergeo"
           }
          ],
          "scattergl": [
           {
            "marker": {
             "colorbar": {
              "outlinewidth": 0,
              "ticks": ""
             }
            },
            "type": "scattergl"
           }
          ],
          "scattermapbox": [
           {
            "marker": {
             "colorbar": {
              "outlinewidth": 0,
              "ticks": ""
             }
            },
            "type": "scattermapbox"
           }
          ],
          "scatterpolar": [
           {
            "marker": {
             "colorbar": {
              "outlinewidth": 0,
              "ticks": ""
             }
            },
            "type": "scatterpolar"
           }
          ],
          "scatterpolargl": [
           {
            "marker": {
             "colorbar": {
              "outlinewidth": 0,
              "ticks": ""
             }
            },
            "type": "scatterpolargl"
           }
          ],
          "scatterternary": [
           {
            "marker": {
             "colorbar": {
              "outlinewidth": 0,
              "ticks": ""
             }
            },
            "type": "scatterternary"
           }
          ],
          "surface": [
           {
            "colorbar": {
             "outlinewidth": 0,
             "ticks": ""
            },
            "colorscale": [
             [
              0,
              "#0d0887"
             ],
             [
              0.1111111111111111,
              "#46039f"
             ],
             [
              0.2222222222222222,
              "#7201a8"
             ],
             [
              0.3333333333333333,
              "#9c179e"
             ],
             [
              0.4444444444444444,
              "#bd3786"
             ],
             [
              0.5555555555555556,
              "#d8576b"
             ],
             [
              0.6666666666666666,
              "#ed7953"
             ],
             [
              0.7777777777777778,
              "#fb9f3a"
             ],
             [
              0.8888888888888888,
              "#fdca26"
             ],
             [
              1,
              "#f0f921"
             ]
            ],
            "type": "surface"
           }
          ],
          "table": [
           {
            "cells": {
             "fill": {
              "color": "#EBF0F8"
             },
             "line": {
              "color": "white"
             }
            },
            "header": {
             "fill": {
              "color": "#C8D4E3"
             },
             "line": {
              "color": "white"
             }
            },
            "type": "table"
           }
          ]
         },
         "layout": {
          "annotationdefaults": {
           "arrowcolor": "#2a3f5f",
           "arrowhead": 0,
           "arrowwidth": 1
          },
          "autotypenumbers": "strict",
          "coloraxis": {
           "colorbar": {
            "outlinewidth": 0,
            "ticks": ""
           }
          },
          "colorscale": {
           "diverging": [
            [
             0,
             "#8e0152"
            ],
            [
             0.1,
             "#c51b7d"
            ],
            [
             0.2,
             "#de77ae"
            ],
            [
             0.3,
             "#f1b6da"
            ],
            [
             0.4,
             "#fde0ef"
            ],
            [
             0.5,
             "#f7f7f7"
            ],
            [
             0.6,
             "#e6f5d0"
            ],
            [
             0.7,
             "#b8e186"
            ],
            [
             0.8,
             "#7fbc41"
            ],
            [
             0.9,
             "#4d9221"
            ],
            [
             1,
             "#276419"
            ]
           ],
           "sequential": [
            [
             0,
             "#0d0887"
            ],
            [
             0.1111111111111111,
             "#46039f"
            ],
            [
             0.2222222222222222,
             "#7201a8"
            ],
            [
             0.3333333333333333,
             "#9c179e"
            ],
            [
             0.4444444444444444,
             "#bd3786"
            ],
            [
             0.5555555555555556,
             "#d8576b"
            ],
            [
             0.6666666666666666,
             "#ed7953"
            ],
            [
             0.7777777777777778,
             "#fb9f3a"
            ],
            [
             0.8888888888888888,
             "#fdca26"
            ],
            [
             1,
             "#f0f921"
            ]
           ],
           "sequentialminus": [
            [
             0,
             "#0d0887"
            ],
            [
             0.1111111111111111,
             "#46039f"
            ],
            [
             0.2222222222222222,
             "#7201a8"
            ],
            [
             0.3333333333333333,
             "#9c179e"
            ],
            [
             0.4444444444444444,
             "#bd3786"
            ],
            [
             0.5555555555555556,
             "#d8576b"
            ],
            [
             0.6666666666666666,
             "#ed7953"
            ],
            [
             0.7777777777777778,
             "#fb9f3a"
            ],
            [
             0.8888888888888888,
             "#fdca26"
            ],
            [
             1,
             "#f0f921"
            ]
           ]
          },
          "colorway": [
           "#636efa",
           "#EF553B",
           "#00cc96",
           "#ab63fa",
           "#FFA15A",
           "#19d3f3",
           "#FF6692",
           "#B6E880",
           "#FF97FF",
           "#FECB52"
          ],
          "font": {
           "color": "#2a3f5f"
          },
          "geo": {
           "bgcolor": "white",
           "lakecolor": "white",
           "landcolor": "#E5ECF6",
           "showlakes": true,
           "showland": true,
           "subunitcolor": "white"
          },
          "hoverlabel": {
           "align": "left"
          },
          "hovermode": "closest",
          "mapbox": {
           "style": "light"
          },
          "paper_bgcolor": "white",
          "plot_bgcolor": "#E5ECF6",
          "polar": {
           "angularaxis": {
            "gridcolor": "white",
            "linecolor": "white",
            "ticks": ""
           },
           "bgcolor": "#E5ECF6",
           "radialaxis": {
            "gridcolor": "white",
            "linecolor": "white",
            "ticks": ""
           }
          },
          "scene": {
           "xaxis": {
            "backgroundcolor": "#E5ECF6",
            "gridcolor": "white",
            "gridwidth": 2,
            "linecolor": "white",
            "showbackground": true,
            "ticks": "",
            "zerolinecolor": "white"
           },
           "yaxis": {
            "backgroundcolor": "#E5ECF6",
            "gridcolor": "white",
            "gridwidth": 2,
            "linecolor": "white",
            "showbackground": true,
            "ticks": "",
            "zerolinecolor": "white"
           },
           "zaxis": {
            "backgroundcolor": "#E5ECF6",
            "gridcolor": "white",
            "gridwidth": 2,
            "linecolor": "white",
            "showbackground": true,
            "ticks": "",
            "zerolinecolor": "white"
           }
          },
          "shapedefaults": {
           "line": {
            "color": "#2a3f5f"
           }
          },
          "ternary": {
           "aaxis": {
            "gridcolor": "white",
            "linecolor": "white",
            "ticks": ""
           },
           "baxis": {
            "gridcolor": "white",
            "linecolor": "white",
            "ticks": ""
           },
           "bgcolor": "#E5ECF6",
           "caxis": {
            "gridcolor": "white",
            "linecolor": "white",
            "ticks": ""
           }
          },
          "title": {
           "x": 0.05
          },
          "xaxis": {
           "automargin": true,
           "gridcolor": "white",
           "linecolor": "white",
           "ticks": "",
           "title": {
            "standoff": 15
           },
           "zerolinecolor": "white",
           "zerolinewidth": 2
          },
          "yaxis": {
           "automargin": true,
           "gridcolor": "white",
           "linecolor": "white",
           "ticks": "",
           "title": {
            "standoff": 15
           },
           "zerolinecolor": "white",
           "zerolinewidth": 2
          }
         }
        },
        "title": {
         "text": "Gender Repartition through the years"
        },
        "width": 1400,
        "xaxis": {
         "anchor": "y",
         "domain": [
          0,
          1
         ],
         "tickangle": 45,
         "title": {
          "text": "year"
         },
         "type": "category"
        },
        "yaxis": {
         "anchor": "x",
         "domain": [
          0,
          1
         ],
         "title": {
          "text": "count"
         }
        }
       }
      },
      "text/html": [
       "<div>                        <script type=\"text/javascript\">window.PlotlyConfig = {MathJaxConfig: 'local'};</script>\n",
       "        <script charset=\"utf-8\" src=\"https://cdn.plot.ly/plotly-2.27.0.min.js\"></script>                <div id=\"3b9a674c-8b42-4271-bd73-d9c75aecfee9\" class=\"plotly-graph-div\" style=\"height:800px; width:1400px;\"></div>            <script type=\"text/javascript\">                                    window.PLOTLYENV=window.PLOTLYENV || {};                                    if (document.getElementById(\"3b9a674c-8b42-4271-bd73-d9c75aecfee9\")) {                    Plotly.newPlot(                        \"3b9a674c-8b42-4271-bd73-d9c75aecfee9\",                        [{\"alignmentgroup\":\"True\",\"hovertemplate\":\"Sex=Male\\u003cbr\\u003eyear=%{x}\\u003cbr\\u003ecount=%{y}\\u003cextra\\u003e\\u003c\\u002fextra\\u003e\",\"legendgroup\":\"Male\",\"marker\":{\"color\":\"#636efa\",\"pattern\":{\"shape\":\"\"}},\"name\":\"Male\",\"offsetgroup\":\"Male\",\"orientation\":\"v\",\"showlegend\":true,\"textposition\":\"outside\",\"texttemplate\":\"%{y:.2s}\",\"x\":[\"1896\",\"1900\",\"1904\",\"1908\",\"1912\",\"1920\",\"1924\",\"1928\",\"1932\",\"1936\",\"1948\",\"1952\",\"1956\",\"1960\",\"1964\",\"1968\",\"1972\",\"1976\",\"1980\",\"1984\",\"1988\",\"1992\",\"1994\",\"1996\",\"1998\",\"2000\",\"2002\",\"2004\",\"2006\",\"2008\",\"2010\",\"2012\",\"2014\",\"2016\",\"2018\",\"2020\",\"2022\"],\"xaxis\":\"x\",\"y\":[182,1211,661,2067,2393,2610,3344,3124,1476,4252,4336,5042,3543,5321,5382,5772,6900,5793,4994,6273,7452,8020,1220,6840,1403,6592,1521,6278,1546,6336,1514,5886,1654,6157,1645,5753,1503],\"yaxis\":\"y\",\"type\":\"bar\",\"textfont\":{\"size\":12},\"cliponaxis\":false,\"textangle\":0},{\"alignmentgroup\":\"True\",\"hovertemplate\":\"Sex=Female\\u003cbr\\u003eyear=%{x}\\u003cbr\\u003ecount=%{y}\\u003cextra\\u003e\\u003c\\u002fextra\\u003e\",\"legendgroup\":\"Female\",\"marker\":{\"color\":\"#EF553B\",\"pattern\":{\"shape\":\"\"}},\"name\":\"Female\",\"offsetgroup\":\"Female\",\"orientation\":\"v\",\"showlegend\":true,\"textposition\":\"outside\",\"texttemplate\":\"%{y:.2s}\",\"x\":[\"1900\",\"1904\",\"1908\",\"1912\",\"1920\",\"1924\",\"1928\",\"1932\",\"1936\",\"1948\",\"1952\",\"1956\",\"1960\",\"1964\",\"1968\",\"1972\",\"1976\",\"1980\",\"1984\",\"1988\",\"1992\",\"1994\",\"1996\",\"1998\",\"2000\",\"2002\",\"2004\",\"2006\",\"2008\",\"2010\",\"2012\",\"2014\",\"2016\",\"2018\",\"2020\",\"2022\"],\"xaxis\":\"x\",\"y\":[23,6,46,54,80,151,303,151,409,478,631,506,767,886,1006,1279,1516,1371,1864,2587,3256,525,3530,789,4090,892,4337,959,4637,1039,4685,1118,5052,1157,5122,1198],\"yaxis\":\"y\",\"type\":\"bar\",\"textfont\":{\"size\":12},\"cliponaxis\":false,\"textangle\":0}],                        {\"template\":{\"data\":{\"histogram2dcontour\":[{\"type\":\"histogram2dcontour\",\"colorbar\":{\"outlinewidth\":0,\"ticks\":\"\"},\"colorscale\":[[0.0,\"#0d0887\"],[0.1111111111111111,\"#46039f\"],[0.2222222222222222,\"#7201a8\"],[0.3333333333333333,\"#9c179e\"],[0.4444444444444444,\"#bd3786\"],[0.5555555555555556,\"#d8576b\"],[0.6666666666666666,\"#ed7953\"],[0.7777777777777778,\"#fb9f3a\"],[0.8888888888888888,\"#fdca26\"],[1.0,\"#f0f921\"]]}],\"choropleth\":[{\"type\":\"choropleth\",\"colorbar\":{\"outlinewidth\":0,\"ticks\":\"\"}}],\"histogram2d\":[{\"type\":\"histogram2d\",\"colorbar\":{\"outlinewidth\":0,\"ticks\":\"\"},\"colorscale\":[[0.0,\"#0d0887\"],[0.1111111111111111,\"#46039f\"],[0.2222222222222222,\"#7201a8\"],[0.3333333333333333,\"#9c179e\"],[0.4444444444444444,\"#bd3786\"],[0.5555555555555556,\"#d8576b\"],[0.6666666666666666,\"#ed7953\"],[0.7777777777777778,\"#fb9f3a\"],[0.8888888888888888,\"#fdca26\"],[1.0,\"#f0f921\"]]}],\"heatmap\":[{\"type\":\"heatmap\",\"colorbar\":{\"outlinewidth\":0,\"ticks\":\"\"},\"colorscale\":[[0.0,\"#0d0887\"],[0.1111111111111111,\"#46039f\"],[0.2222222222222222,\"#7201a8\"],[0.3333333333333333,\"#9c179e\"],[0.4444444444444444,\"#bd3786\"],[0.5555555555555556,\"#d8576b\"],[0.6666666666666666,\"#ed7953\"],[0.7777777777777778,\"#fb9f3a\"],[0.8888888888888888,\"#fdca26\"],[1.0,\"#f0f921\"]]}],\"heatmapgl\":[{\"type\":\"heatmapgl\",\"colorbar\":{\"outlinewidth\":0,\"ticks\":\"\"},\"colorscale\":[[0.0,\"#0d0887\"],[0.1111111111111111,\"#46039f\"],[0.2222222222222222,\"#7201a8\"],[0.3333333333333333,\"#9c179e\"],[0.4444444444444444,\"#bd3786\"],[0.5555555555555556,\"#d8576b\"],[0.6666666666666666,\"#ed7953\"],[0.7777777777777778,\"#fb9f3a\"],[0.8888888888888888,\"#fdca26\"],[1.0,\"#f0f921\"]]}],\"contourcarpet\":[{\"type\":\"contourcarpet\",\"colorbar\":{\"outlinewidth\":0,\"ticks\":\"\"}}],\"contour\":[{\"type\":\"contour\",\"colorbar\":{\"outlinewidth\":0,\"ticks\":\"\"},\"colorscale\":[[0.0,\"#0d0887\"],[0.1111111111111111,\"#46039f\"],[0.2222222222222222,\"#7201a8\"],[0.3333333333333333,\"#9c179e\"],[0.4444444444444444,\"#bd3786\"],[0.5555555555555556,\"#d8576b\"],[0.6666666666666666,\"#ed7953\"],[0.7777777777777778,\"#fb9f3a\"],[0.8888888888888888,\"#fdca26\"],[1.0,\"#f0f921\"]]}],\"surface\":[{\"type\":\"surface\",\"colorbar\":{\"outlinewidth\":0,\"ticks\":\"\"},\"colorscale\":[[0.0,\"#0d0887\"],[0.1111111111111111,\"#46039f\"],[0.2222222222222222,\"#7201a8\"],[0.3333333333333333,\"#9c179e\"],[0.4444444444444444,\"#bd3786\"],[0.5555555555555556,\"#d8576b\"],[0.6666666666666666,\"#ed7953\"],[0.7777777777777778,\"#fb9f3a\"],[0.8888888888888888,\"#fdca26\"],[1.0,\"#f0f921\"]]}],\"mesh3d\":[{\"type\":\"mesh3d\",\"colorbar\":{\"outlinewidth\":0,\"ticks\":\"\"}}],\"scatter\":[{\"fillpattern\":{\"fillmode\":\"overlay\",\"size\":10,\"solidity\":0.2},\"type\":\"scatter\"}],\"parcoords\":[{\"type\":\"parcoords\",\"line\":{\"colorbar\":{\"outlinewidth\":0,\"ticks\":\"\"}}}],\"scatterpolargl\":[{\"type\":\"scatterpolargl\",\"marker\":{\"colorbar\":{\"outlinewidth\":0,\"ticks\":\"\"}}}],\"bar\":[{\"error_x\":{\"color\":\"#2a3f5f\"},\"error_y\":{\"color\":\"#2a3f5f\"},\"marker\":{\"line\":{\"color\":\"#E5ECF6\",\"width\":0.5},\"pattern\":{\"fillmode\":\"overlay\",\"size\":10,\"solidity\":0.2}},\"type\":\"bar\"}],\"scattergeo\":[{\"type\":\"scattergeo\",\"marker\":{\"colorbar\":{\"outlinewidth\":0,\"ticks\":\"\"}}}],\"scatterpolar\":[{\"type\":\"scatterpolar\",\"marker\":{\"colorbar\":{\"outlinewidth\":0,\"ticks\":\"\"}}}],\"histogram\":[{\"marker\":{\"pattern\":{\"fillmode\":\"overlay\",\"size\":10,\"solidity\":0.2}},\"type\":\"histogram\"}],\"scattergl\":[{\"type\":\"scattergl\",\"marker\":{\"colorbar\":{\"outlinewidth\":0,\"ticks\":\"\"}}}],\"scatter3d\":[{\"type\":\"scatter3d\",\"line\":{\"colorbar\":{\"outlinewidth\":0,\"ticks\":\"\"}},\"marker\":{\"colorbar\":{\"outlinewidth\":0,\"ticks\":\"\"}}}],\"scattermapbox\":[{\"type\":\"scattermapbox\",\"marker\":{\"colorbar\":{\"outlinewidth\":0,\"ticks\":\"\"}}}],\"scatterternary\":[{\"type\":\"scatterternary\",\"marker\":{\"colorbar\":{\"outlinewidth\":0,\"ticks\":\"\"}}}],\"scattercarpet\":[{\"type\":\"scattercarpet\",\"marker\":{\"colorbar\":{\"outlinewidth\":0,\"ticks\":\"\"}}}],\"carpet\":[{\"aaxis\":{\"endlinecolor\":\"#2a3f5f\",\"gridcolor\":\"white\",\"linecolor\":\"white\",\"minorgridcolor\":\"white\",\"startlinecolor\":\"#2a3f5f\"},\"baxis\":{\"endlinecolor\":\"#2a3f5f\",\"gridcolor\":\"white\",\"linecolor\":\"white\",\"minorgridcolor\":\"white\",\"startlinecolor\":\"#2a3f5f\"},\"type\":\"carpet\"}],\"table\":[{\"cells\":{\"fill\":{\"color\":\"#EBF0F8\"},\"line\":{\"color\":\"white\"}},\"header\":{\"fill\":{\"color\":\"#C8D4E3\"},\"line\":{\"color\":\"white\"}},\"type\":\"table\"}],\"barpolar\":[{\"marker\":{\"line\":{\"color\":\"#E5ECF6\",\"width\":0.5},\"pattern\":{\"fillmode\":\"overlay\",\"size\":10,\"solidity\":0.2}},\"type\":\"barpolar\"}],\"pie\":[{\"automargin\":true,\"type\":\"pie\"}]},\"layout\":{\"autotypenumbers\":\"strict\",\"colorway\":[\"#636efa\",\"#EF553B\",\"#00cc96\",\"#ab63fa\",\"#FFA15A\",\"#19d3f3\",\"#FF6692\",\"#B6E880\",\"#FF97FF\",\"#FECB52\"],\"font\":{\"color\":\"#2a3f5f\"},\"hovermode\":\"closest\",\"hoverlabel\":{\"align\":\"left\"},\"paper_bgcolor\":\"white\",\"plot_bgcolor\":\"#E5ECF6\",\"polar\":{\"bgcolor\":\"#E5ECF6\",\"angularaxis\":{\"gridcolor\":\"white\",\"linecolor\":\"white\",\"ticks\":\"\"},\"radialaxis\":{\"gridcolor\":\"white\",\"linecolor\":\"white\",\"ticks\":\"\"}},\"ternary\":{\"bgcolor\":\"#E5ECF6\",\"aaxis\":{\"gridcolor\":\"white\",\"linecolor\":\"white\",\"ticks\":\"\"},\"baxis\":{\"gridcolor\":\"white\",\"linecolor\":\"white\",\"ticks\":\"\"},\"caxis\":{\"gridcolor\":\"white\",\"linecolor\":\"white\",\"ticks\":\"\"}},\"coloraxis\":{\"colorbar\":{\"outlinewidth\":0,\"ticks\":\"\"}},\"colorscale\":{\"sequential\":[[0.0,\"#0d0887\"],[0.1111111111111111,\"#46039f\"],[0.2222222222222222,\"#7201a8\"],[0.3333333333333333,\"#9c179e\"],[0.4444444444444444,\"#bd3786\"],[0.5555555555555556,\"#d8576b\"],[0.6666666666666666,\"#ed7953\"],[0.7777777777777778,\"#fb9f3a\"],[0.8888888888888888,\"#fdca26\"],[1.0,\"#f0f921\"]],\"sequentialminus\":[[0.0,\"#0d0887\"],[0.1111111111111111,\"#46039f\"],[0.2222222222222222,\"#7201a8\"],[0.3333333333333333,\"#9c179e\"],[0.4444444444444444,\"#bd3786\"],[0.5555555555555556,\"#d8576b\"],[0.6666666666666666,\"#ed7953\"],[0.7777777777777778,\"#fb9f3a\"],[0.8888888888888888,\"#fdca26\"],[1.0,\"#f0f921\"]],\"diverging\":[[0,\"#8e0152\"],[0.1,\"#c51b7d\"],[0.2,\"#de77ae\"],[0.3,\"#f1b6da\"],[0.4,\"#fde0ef\"],[0.5,\"#f7f7f7\"],[0.6,\"#e6f5d0\"],[0.7,\"#b8e186\"],[0.8,\"#7fbc41\"],[0.9,\"#4d9221\"],[1,\"#276419\"]]},\"xaxis\":{\"gridcolor\":\"white\",\"linecolor\":\"white\",\"ticks\":\"\",\"title\":{\"standoff\":15},\"zerolinecolor\":\"white\",\"automargin\":true,\"zerolinewidth\":2},\"yaxis\":{\"gridcolor\":\"white\",\"linecolor\":\"white\",\"ticks\":\"\",\"title\":{\"standoff\":15},\"zerolinecolor\":\"white\",\"automargin\":true,\"zerolinewidth\":2},\"scene\":{\"xaxis\":{\"backgroundcolor\":\"#E5ECF6\",\"gridcolor\":\"white\",\"linecolor\":\"white\",\"showbackground\":true,\"ticks\":\"\",\"zerolinecolor\":\"white\",\"gridwidth\":2},\"yaxis\":{\"backgroundcolor\":\"#E5ECF6\",\"gridcolor\":\"white\",\"linecolor\":\"white\",\"showbackground\":true,\"ticks\":\"\",\"zerolinecolor\":\"white\",\"gridwidth\":2},\"zaxis\":{\"backgroundcolor\":\"#E5ECF6\",\"gridcolor\":\"white\",\"linecolor\":\"white\",\"showbackground\":true,\"ticks\":\"\",\"zerolinecolor\":\"white\",\"gridwidth\":2}},\"shapedefaults\":{\"line\":{\"color\":\"#2a3f5f\"}},\"annotationdefaults\":{\"arrowcolor\":\"#2a3f5f\",\"arrowhead\":0,\"arrowwidth\":1},\"geo\":{\"bgcolor\":\"white\",\"landcolor\":\"#E5ECF6\",\"subunitcolor\":\"white\",\"showland\":true,\"showlakes\":true,\"lakecolor\":\"white\"},\"title\":{\"x\":0.05},\"mapbox\":{\"style\":\"light\"}}},\"xaxis\":{\"anchor\":\"y\",\"domain\":[0.0,1.0],\"title\":{\"text\":\"year\"},\"type\":\"category\",\"tickangle\":45},\"yaxis\":{\"anchor\":\"x\",\"domain\":[0.0,1.0],\"title\":{\"text\":\"count\"}},\"legend\":{\"title\":{\"text\":\"Sex\"},\"tracegroupgap\":0},\"title\":{\"text\":\"Gender Repartition through the years\"},\"barmode\":\"group\",\"height\":800,\"width\":1400},                        {\"responsive\": true}                    )                };                            </script>        </div>"
      ],
      "text/plain": [
       "Figure({\n",
       "    'data': [{'alignmentgroup': 'True',\n",
       "              'cliponaxis': False,\n",
       "              'hovertemplate': 'Sex=Male<br>year=%{x}<br>count=%{y}<extra></extra>',\n",
       "              'legendgroup': 'Male',\n",
       "              'marker': {'color': '#636efa', 'pattern': {'shape': ''}},\n",
       "              'name': 'Male',\n",
       "              'offsetgroup': 'Male',\n",
       "              'orientation': 'v',\n",
       "              'showlegend': True,\n",
       "              'textangle': 0,\n",
       "              'textfont': {'size': 12},\n",
       "              'textposition': 'outside',\n",
       "              'texttemplate': '%{y:.2s}',\n",
       "              'type': 'bar',\n",
       "              'x': array(['1896', '1900', '1904', '1908', '1912', '1920', '1924', '1928', '1932',\n",
       "                          '1936', '1948', '1952', '1956', '1960', '1964', '1968', '1972', '1976',\n",
       "                          '1980', '1984', '1988', '1992', '1994', '1996', '1998', '2000', '2002',\n",
       "                          '2004', '2006', '2008', '2010', '2012', '2014', '2016', '2018', '2020',\n",
       "                          '2022'], dtype=object),\n",
       "              'xaxis': 'x',\n",
       "              'y': array([ 182, 1211,  661, 2067, 2393, 2610, 3344, 3124, 1476, 4252, 4336, 5042,\n",
       "                          3543, 5321, 5382, 5772, 6900, 5793, 4994, 6273, 7452, 8020, 1220, 6840,\n",
       "                          1403, 6592, 1521, 6278, 1546, 6336, 1514, 5886, 1654, 6157, 1645, 5753,\n",
       "                          1503], dtype=int64),\n",
       "              'yaxis': 'y'},\n",
       "             {'alignmentgroup': 'True',\n",
       "              'cliponaxis': False,\n",
       "              'hovertemplate': 'Sex=Female<br>year=%{x}<br>count=%{y}<extra></extra>',\n",
       "              'legendgroup': 'Female',\n",
       "              'marker': {'color': '#EF553B', 'pattern': {'shape': ''}},\n",
       "              'name': 'Female',\n",
       "              'offsetgroup': 'Female',\n",
       "              'orientation': 'v',\n",
       "              'showlegend': True,\n",
       "              'textangle': 0,\n",
       "              'textfont': {'size': 12},\n",
       "              'textposition': 'outside',\n",
       "              'texttemplate': '%{y:.2s}',\n",
       "              'type': 'bar',\n",
       "              'x': array(['1900', '1904', '1908', '1912', '1920', '1924', '1928', '1932', '1936',\n",
       "                          '1948', '1952', '1956', '1960', '1964', '1968', '1972', '1976', '1980',\n",
       "                          '1984', '1988', '1992', '1994', '1996', '1998', '2000', '2002', '2004',\n",
       "                          '2006', '2008', '2010', '2012', '2014', '2016', '2018', '2020', '2022'],\n",
       "                         dtype=object),\n",
       "              'xaxis': 'x',\n",
       "              'y': array([  23,    6,   46,   54,   80,  151,  303,  151,  409,  478,  631,  506,\n",
       "                           767,  886, 1006, 1279, 1516, 1371, 1864, 2587, 3256,  525, 3530,  789,\n",
       "                          4090,  892, 4337,  959, 4637, 1039, 4685, 1118, 5052, 1157, 5122, 1198],\n",
       "                         dtype=int64),\n",
       "              'yaxis': 'y'}],\n",
       "    'layout': {'barmode': 'group',\n",
       "               'height': 800,\n",
       "               'legend': {'title': {'text': 'Sex'}, 'tracegroupgap': 0},\n",
       "               'template': '...',\n",
       "               'title': {'text': 'Gender Repartition through the years'},\n",
       "               'width': 1400,\n",
       "               'xaxis': {'anchor': 'y',\n",
       "                         'domain': [0.0, 1.0],\n",
       "                         'tickangle': 45,\n",
       "                         'title': {'text': 'year'},\n",
       "                         'type': 'category'},\n",
       "               'yaxis': {'anchor': 'x', 'domain': [0.0, 1.0], 'title': {'text': 'count'}}}\n",
       "})"
      ]
     },
     "execution_count": 34,
     "metadata": {},
     "output_type": "execute_result"
    }
   ],
   "source": [
    "fig = px.bar(\n",
    "    gender_df,\n",
    "    x=\"year\",\n",
    "    y=\"count\",\n",
    "    color=\"Sex\",\n",
    "    title=\"Gender Repartition through the years\",\n",
    "    barmode=\"group\",\n",
    "    width=1400,\n",
    "    height=800,\n",
    "    text_auto=\".2s\",\n",
    ")\n",
    "\n",
    "fig.update_traces(textfont_size=12, textangle=0, textposition=\"outside\", cliponaxis=False)\n",
    "fig.update_xaxes(type=\"category\")\n",
    "fig.update_xaxes(tickangle=45)\n",
    "fig"
   ]
  },
  {
   "cell_type": "markdown",
   "metadata": {},
   "source": [
    "### Country Participation"
   ]
  },
  {
   "cell_type": "code",
   "execution_count": null,
   "metadata": {},
   "outputs": [],
   "source": []
  }
 ],
 "metadata": {
  "kernelspec": {
   "display_name": "webscrapping",
   "language": "python",
   "name": "python3"
  },
  "language_info": {
   "codemirror_mode": {
    "name": "ipython",
    "version": 3
   },
   "file_extension": ".py",
   "mimetype": "text/x-python",
   "name": "python",
   "nbconvert_exporter": "python",
   "pygments_lexer": "ipython3",
   "version": "3.10.13"
  }
 },
 "nbformat": 4,
 "nbformat_minor": 2
}

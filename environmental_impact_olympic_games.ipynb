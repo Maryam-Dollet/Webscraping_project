{
 "cells": [
  {
   "cell_type": "markdown",
   "metadata": {},
   "source": [
    "## Olympics environnemental impact analysis"
   ]
  },
  {
   "cell_type": "code",
   "execution_count": 363,
   "metadata": {},
   "outputs": [],
   "source": [
    "# let's scrape some data from the web\n",
    "# https://stats.oecd.org/Index.aspx?DataSetCode=air_ghg"
   ]
  },
  {
   "cell_type": "markdown",
   "metadata": {},
   "source": [
    "Scraping data from : https://stats.oecd.org/Index.aspx?DataSetCode=air_ghg"
   ]
  },
  {
   "cell_type": "code",
   "execution_count": 364,
   "metadata": {},
   "outputs": [],
   "source": [
    "from bs4 import BeautifulSoup as bs\n",
    "import requests\n",
    "import pandas as pd\n",
    "import numpy as np\n",
    "import matplotlib.pyplot as plt\n",
    "import tqdm as tqdm\n",
    "from time import sleep\n",
    "from selenium import webdriver\n",
    "from selenium.webdriver.common.by import By\n",
    "from selenium.webdriver.common.keys import Keys\n",
    "from selenium.webdriver.support.ui import Select"
   ]
  },
  {
   "cell_type": "code",
   "execution_count": 365,
   "metadata": {},
   "outputs": [],
   "source": [
    "driver = webdriver.Firefox()\n",
    "driver.get(\"https://stats.oecd.org/Index.aspx?DataSetCode=air_ghg\")"
   ]
  },
  {
   "cell_type": "markdown",
   "metadata": {},
   "source": [
    "Drop-down menu :"
   ]
  },
  {
   "cell_type": "code",
   "execution_count": 366,
   "metadata": {},
   "outputs": [],
   "source": [
    "menu = '//*[@id=\"PDim_VAR\"]' \n",
    "element = driver.find_element(By.XPATH,menu).click()"
   ]
  },
  {
   "cell_type": "markdown",
   "metadata": {},
   "source": [
    "Choosing the emmission sector :"
   ]
  },
  {
   "cell_type": "code",
   "execution_count": 367,
   "metadata": {},
   "outputs": [],
   "source": [
    "sleep(2)\n",
    "npage = 2\n",
    "xpath_expression = \"//select/option[@value ='2~ENER_IND']\" # 0~GHG\n",
    "sector = driver.find_element(By.XPATH, xpath_expression).click()   "
   ]
  },
  {
   "cell_type": "markdown",
   "metadata": {},
   "source": [
    "BeautifulSoup to parse the html : "
   ]
  },
  {
   "cell_type": "code",
   "execution_count": 368,
   "metadata": {},
   "outputs": [
    {
     "data": {
      "text/plain": [
       "[<tr class=\"row1\" id=\"row1\"><td class=\"RowDimLabel\" colspan=\"2\">Australia</td><td class=\"RowDimLabel\"></td><td class=\"Data\">438 056.76</td><td class=\"Data\">438 049.29</td><td class=\"Data\">441 752.18</td><td class=\"Data\">442 282.48</td><td class=\"Data\">442 610.56</td><td class=\"Data\">451 076.46</td><td class=\"Data\">457 574.99</td><td class=\"Data\">469 835.69</td><td class=\"Data\">484 037.12</td><td class=\"Data\">489 971.16</td><td class=\"Data\">501 588.99</td><td class=\"Data\">509 456.08</td><td class=\"Data\">513 171.01</td><td class=\"Data\">511 714.21</td><td class=\"Data\">528 827.43</td><td class=\"Data\">535 589.76</td><td class=\"Data\">540 017.78</td><td class=\"Data\">546 739.52</td><td class=\"Data\">549 128.82</td><td class=\"Data\">552 127.35</td><td class=\"Data\">547 172.76</td><td class=\"Data\">549 007.35</td><td class=\"Data\">552 305.55</td><td class=\"Data\">543 798.68</td><td class=\"Data\">535 451.44</td><td class=\"Data\">544 231.81</td><td class=\"Data\">552 354.83</td><td class=\"Data\">559 581.11</td><td class=\"Data\">560 827.41</td><td class=\"Data\">555 244.93</td><td class=\"Data\">536 739.72</td><td class=\"Data\">528 631.65</td></tr>,\n",
       " <tr class=\"row2\" id=\"row2\"><td class=\"RowDimLabel2\" colspan=\"2\">Austria</td><td class=\"RowDimLabel2\"></td><td class=\"Data2\">79 047.23</td><td class=\"Data2\">82 711.16</td><td class=\"Data2\">76 142.81</td><td class=\"Data2\">76 517.86</td><td class=\"Data2\">76 725.97</td><td class=\"Data2\">79 953.24</td><td class=\"Data2\">83 112.93</td><td class=\"Data2\">82 719.63</td><td class=\"Data2\">82 012.90</td><td class=\"Data2\">80 455.15</td><td class=\"Data2\">80 619.36</td><td class=\"Data2\">84 514.05</td><td class=\"Data2\">86 267.54</td><td class=\"Data2\">91 636.30</td><td class=\"Data2\">91 427.90</td><td class=\"Data2\">92 588.58</td><td class=\"Data2\">90 158.67</td><td class=\"Data2\">87 377.95</td><td class=\"Data2\">86 770.82</td><td class=\"Data2\">80 137.03</td><td class=\"Data2\">84 693.29</td><td class=\"Data2\">82 505.76</td><td class=\"Data2\">79 788.32</td><td class=\"Data2\">80 228.52</td><td class=\"Data2\">76 662.66</td><td class=\"Data2\">78 884.46</td><td class=\"Data2\">79 821.26</td><td class=\"Data2\">82 132.49</td><td class=\"Data2\">78 854.37</td><td class=\"Data2\">79 994.14</td><td class=\"Data2\">73 910.84</td><td class=\"Data2\">77 532.35</td></tr>,\n",
       " <tr class=\"row3\" id=\"row3\"><td class=\"RowDimLabel\" colspan=\"2\">Belgium</td><td class=\"RowDimLabel\"></td><td class=\"Data\">145 844.47</td><td class=\"Data\">148 579.58</td><td class=\"Data\">148 077.75</td><td class=\"Data\">146 896.93</td><td class=\"Data\">151 445.45</td><td class=\"Data\">153 579.82</td><td class=\"Data\">157 227.95</td><td class=\"Data\">148 820.67</td><td class=\"Data\">154 012.89</td><td class=\"Data\">147 732.82</td><td class=\"Data\">148 877.33</td><td class=\"Data\">147 319.08</td><td class=\"Data\">147 415.07</td><td class=\"Data\">147 731.49</td><td class=\"Data\">148 523.92</td><td class=\"Data\">145 418.35</td><td class=\"Data\">142 715.60</td><td class=\"Data\">139 090.79</td><td class=\"Data\">139 030.91</td><td class=\"Data\">126 438.52</td><td class=\"Data\">133 644.30</td><td class=\"Data\">123 192.99</td><td class=\"Data\">120 443.61</td><td class=\"Data\">120 523.72</td><td class=\"Data\">114 878.85</td><td class=\"Data\">118 990.38</td><td class=\"Data\">117 419.57</td><td class=\"Data\">116 909.24</td><td class=\"Data\">117 584.92</td><td class=\"Data\">116 463.71</td><td class=\"Data\">107 272.65</td><td class=\"Data\">110 951.73</td></tr>,\n",
       " <tr class=\"row4\" id=\"row4\"><td class=\"RowDimLabel2\" colspan=\"2\">Canada</td><td class=\"RowDimLabel2\"></td><td class=\"Data2\">588 602.82</td><td class=\"Data2\">582 031.22</td><td class=\"Data2\">599 242.66</td><td class=\"Data2\">601 743.65</td><td class=\"Data2\">621 934.13</td><td class=\"Data2\">639 070.29</td><td class=\"Data2\">660 767.80</td><td class=\"Data2\">676 394.22</td><td class=\"Data2\">682 434.83</td><td class=\"Data2\">694 516.94</td><td class=\"Data2\">719 463.71</td><td class=\"Data2\">710 171.84</td><td class=\"Data2\">715 489.77</td><td class=\"Data2\">734 140.55</td><td class=\"Data2\">736 725.46</td><td class=\"Data2\">732 220.09</td><td class=\"Data2\">725 289.22</td><td class=\"Data2\">748 070.09</td><td class=\"Data2\">730 801.24</td><td class=\"Data2\">689 549.32</td><td class=\"Data2\">701 867.55</td><td class=\"Data2\">711 312.82</td><td class=\"Data2\">716 370.50</td><td class=\"Data2\">723 096.30</td><td class=\"Data2\">720 195.46</td><td class=\"Data2\">722 918.27</td><td class=\"Data2\">704 927.87</td><td class=\"Data2\">712 233.80</td><td class=\"Data2\">724 615.78</td><td class=\"Data2\">723 679.29</td><td class=\"Data2\">658 788.39</td><td class=\"Data2\">670 428.30</td></tr>,\n",
       " <tr class=\"row5\" id=\"row5\"><td class=\"RowDimLabel\" colspan=\"2\">Chile</td><td class=\"RowDimLabel\"></td><td class=\"Data\">48 818.66</td><td class=\"Data\">47 107.52</td><td class=\"Data\">49 071.29</td><td class=\"Data\">51 773.06</td><td class=\"Data\">54 516.64</td><td class=\"Data\">57 660.90</td><td class=\"Data\">63 314.63</td><td class=\"Data\">69 817.16</td><td class=\"Data\">70 882.57</td><td class=\"Data\">73 877.95</td><td class=\"Data\">71 498.72</td><td class=\"Data\">69 957.33</td><td class=\"Data\">71 151.20</td><td class=\"Data\">72 184.53</td><td class=\"Data\">77 731.88</td><td class=\"Data\">78 763.60</td><td class=\"Data\">80 679.04</td><td class=\"Data\">89 995.75</td><td class=\"Data\">90 161.33</td><td class=\"Data\">86 931.96</td><td class=\"Data\">86 969.65</td><td class=\"Data\">95 615.73</td><td class=\"Data\">101 067.24</td><td class=\"Data\">100 438.19</td><td class=\"Data\">96 796.60</td><td class=\"Data\">103 039.02</td><td class=\"Data\">107 545.47</td><td class=\"Data\">108 024.61</td><td class=\"Data\">109 460.81</td><td class=\"Data\">111 026.60</td><td class=\"Data\">105 551.92</td><td class=\"Data\">..</td></tr>]"
      ]
     },
     "execution_count": 368,
     "metadata": {},
     "output_type": "execute_result"
    }
   ],
   "source": [
    "soup = bs(driver.page_source, 'html.parser')\n",
    "table = soup.find('table', {'class': 'DataTable'})\n",
    "# we want to find all tr in the table with an id starting with row\n",
    "rows = table.findAll('tr', {'id': lambda L: L and L.startswith('row')})\n",
    "# we display the first rows\n",
    "rows[:5]"
   ]
  },
  {
   "cell_type": "markdown",
   "metadata": {},
   "source": [
    "Creation of the dataframe : "
   ]
  },
  {
   "cell_type": "code",
   "execution_count": 369,
   "metadata": {},
   "outputs": [],
   "source": [
    "df = pd.DataFrame(columns=['sector', 'country', 'year', 'GH emissions'])"
   ]
  },
  {
   "cell_type": "markdown",
   "metadata": {},
   "source": [
    "Test of data extraction for the first sector : Energy Industries"
   ]
  },
  {
   "cell_type": "code",
   "execution_count": 370,
   "metadata": {},
   "outputs": [
    {
     "name": "stderr",
     "output_type": "stream",
     "text": [
      "100%|██████████| 64/64 [00:01<00:00, 48.77it/s]\n"
     ]
    }
   ],
   "source": [
    "# we extract the data from rows and add them to the dataframe df\n",
    "for row in tqdm.tqdm(rows):\n",
    "    cells = row.findAll('td')\n",
    "    sector = '1A1 - Energy Industries'\n",
    "    country = cells[0].text\n",
    "    for i in range(0, 32):\n",
    "        year = 1990 + i\n",
    "        GH = cells[i+2].text\n",
    "        df = pd.concat([df, pd.DataFrame([[sector, country, year, GH]], columns=['sector', 'country', 'year', 'GH emissions'])])"
   ]
  },
  {
   "cell_type": "code",
   "execution_count": 371,
   "metadata": {},
   "outputs": [
    {
     "data": {
      "text/html": [
       "<div>\n",
       "<style scoped>\n",
       "    .dataframe tbody tr th:only-of-type {\n",
       "        vertical-align: middle;\n",
       "    }\n",
       "\n",
       "    .dataframe tbody tr th {\n",
       "        vertical-align: top;\n",
       "    }\n",
       "\n",
       "    .dataframe thead th {\n",
       "        text-align: right;\n",
       "    }\n",
       "</style>\n",
       "<table border=\"1\" class=\"dataframe\">\n",
       "  <thead>\n",
       "    <tr style=\"text-align: right;\">\n",
       "      <th></th>\n",
       "      <th>sector</th>\n",
       "      <th>country</th>\n",
       "      <th>year</th>\n",
       "      <th>GH emissions</th>\n",
       "    </tr>\n",
       "  </thead>\n",
       "  <tbody>\n",
       "    <tr>\n",
       "      <th>0</th>\n",
       "      <td>1A1 - Energy Industries</td>\n",
       "      <td>Australia</td>\n",
       "      <td>1990</td>\n",
       "      <td>438 056.76</td>\n",
       "    </tr>\n",
       "    <tr>\n",
       "      <th>0</th>\n",
       "      <td>1A1 - Energy Industries</td>\n",
       "      <td>Australia</td>\n",
       "      <td>1991</td>\n",
       "      <td>438 049.29</td>\n",
       "    </tr>\n",
       "    <tr>\n",
       "      <th>0</th>\n",
       "      <td>1A1 - Energy Industries</td>\n",
       "      <td>Australia</td>\n",
       "      <td>1992</td>\n",
       "      <td>441 752.18</td>\n",
       "    </tr>\n",
       "    <tr>\n",
       "      <th>0</th>\n",
       "      <td>1A1 - Energy Industries</td>\n",
       "      <td>Australia</td>\n",
       "      <td>1993</td>\n",
       "      <td>442 282.48</td>\n",
       "    </tr>\n",
       "    <tr>\n",
       "      <th>0</th>\n",
       "      <td>1A1 - Energy Industries</td>\n",
       "      <td>Australia</td>\n",
       "      <td>1994</td>\n",
       "      <td>442 610.56</td>\n",
       "    </tr>\n",
       "    <tr>\n",
       "      <th>0</th>\n",
       "      <td>1A1 - Energy Industries</td>\n",
       "      <td>Australia</td>\n",
       "      <td>1995</td>\n",
       "      <td>451 076.46</td>\n",
       "    </tr>\n",
       "    <tr>\n",
       "      <th>0</th>\n",
       "      <td>1A1 - Energy Industries</td>\n",
       "      <td>Australia</td>\n",
       "      <td>1996</td>\n",
       "      <td>457 574.99</td>\n",
       "    </tr>\n",
       "    <tr>\n",
       "      <th>0</th>\n",
       "      <td>1A1 - Energy Industries</td>\n",
       "      <td>Australia</td>\n",
       "      <td>1997</td>\n",
       "      <td>469 835.69</td>\n",
       "    </tr>\n",
       "    <tr>\n",
       "      <th>0</th>\n",
       "      <td>1A1 - Energy Industries</td>\n",
       "      <td>Australia</td>\n",
       "      <td>1998</td>\n",
       "      <td>484 037.12</td>\n",
       "    </tr>\n",
       "    <tr>\n",
       "      <th>0</th>\n",
       "      <td>1A1 - Energy Industries</td>\n",
       "      <td>Australia</td>\n",
       "      <td>1999</td>\n",
       "      <td>489 971.16</td>\n",
       "    </tr>\n",
       "  </tbody>\n",
       "</table>\n",
       "</div>"
      ],
      "text/plain": [
       "                    sector    country  year GH emissions\n",
       "0  1A1 - Energy Industries  Australia  1990   438 056.76\n",
       "0  1A1 - Energy Industries  Australia  1991   438 049.29\n",
       "0  1A1 - Energy Industries  Australia  1992   441 752.18\n",
       "0  1A1 - Energy Industries  Australia  1993   442 282.48\n",
       "0  1A1 - Energy Industries  Australia  1994   442 610.56\n",
       "0  1A1 - Energy Industries  Australia  1995   451 076.46\n",
       "0  1A1 - Energy Industries  Australia  1996   457 574.99\n",
       "0  1A1 - Energy Industries  Australia  1997   469 835.69\n",
       "0  1A1 - Energy Industries  Australia  1998   484 037.12\n",
       "0  1A1 - Energy Industries  Australia  1999   489 971.16"
      ]
     },
     "execution_count": 371,
     "metadata": {},
     "output_type": "execute_result"
    }
   ],
   "source": [
    "# we print the head of the dataframe\n",
    "df.head(10)"
   ]
  },
  {
   "cell_type": "code",
   "execution_count": 372,
   "metadata": {},
   "outputs": [],
   "source": [
    "# npage += 1\n",
    "# xpath_expression = f\"//select/option[contains(@value, '{npage}~ENER_')]\"\n",
    "# sector = driver.find_element(By.XPATH, xpath_expression).click() "
   ]
  },
  {
   "cell_type": "markdown",
   "metadata": {},
   "source": [
    "### Automatisation of the scraping process for the OECD website"
   ]
  },
  {
   "cell_type": "markdown",
   "metadata": {},
   "source": [
    "Function to scrape the data from the website according to the sector chosen : "
   ]
  },
  {
   "cell_type": "code",
   "execution_count": 373,
   "metadata": {},
   "outputs": [],
   "source": [
    "# now let's do a function to extract the data from the website starting from npage 2 to npage 8\n",
    "def extract_data(npage, sector_name, df):\n",
    "    menu = '//*[@id=\"PDim_VAR\"]' \n",
    "    driver.find_element(By.XPATH,menu).click() # menu\n",
    "\n",
    "    xpath_expression = f\"//select/option[contains(@value, '{npage}~ENER_')]\"\n",
    "    driver.find_element(By.XPATH, xpath_expression).click() # page of the secteur\n",
    "    sleep(7)\n",
    "\n",
    "    soup = bs(driver.page_source, 'html.parser')\n",
    "    table = soup.find('table', {'class': 'DataTable'})\n",
    "    rows = table.findAll('tr', {'id': lambda L: L and L.startswith('row')})\n",
    "\n",
    "    for row in tqdm.tqdm(rows):\n",
    "        cells = row.findAll('td')\n",
    "        country = cells[0].text\n",
    "        for i in range(0, 32):\n",
    "            year = 1990 + i\n",
    "            GH = cells[i+2].text\n",
    "            df = pd.concat([df, pd.DataFrame([[sector_name, country, year, GH]], columns=['sector', 'country', 'year', 'GH emissions'])])\n",
    "            \n",
    "    return df"
   ]
  },
  {
   "cell_type": "markdown",
   "metadata": {},
   "source": [
    "Extracting the name of the sectors :"
   ]
  },
  {
   "cell_type": "code",
   "execution_count": 374,
   "metadata": {},
   "outputs": [
    {
     "data": {
      "text/plain": [
       "['    1A1 - Energy Industries',\n",
       " '    1A2 - Manufacturing industries and construction',\n",
       " '    1A3 - Transport',\n",
       " '    1A4 - Residential and other sectors',\n",
       " '    1A5 - Energy - Other',\n",
       " '    1B - Fugitive Emissions from Fuels',\n",
       " '    1C - CO2 from Transport and Storage']"
      ]
     },
     "execution_count": 374,
     "metadata": {},
     "output_type": "execute_result"
    }
   ],
   "source": [
    "# we extract the names of the sectors :\n",
    "sleep(7)\n",
    "sectors = []\n",
    "for i in range(2, 9):\n",
    "    xpath_expression = f\"//select/option[contains(@value, '{i}~ENER_')]\"\n",
    "    sector = driver.find_element(By.XPATH, xpath_expression)\n",
    "    sectors.append(sector.text)\n",
    "sectors"
   ]
  },
  {
   "cell_type": "code",
   "execution_count": 375,
   "metadata": {},
   "outputs": [
    {
     "data": {
      "text/plain": [
       "['Energy Industries',\n",
       " 'Manufacturing industries and construction',\n",
       " 'Transport',\n",
       " 'Residential and other sectors',\n",
       " 'Energy - Other',\n",
       " 'Fugitive Emissions from Fuels',\n",
       " 'CO2 from Transport and Storage']"
      ]
     },
     "execution_count": 375,
     "metadata": {},
     "output_type": "execute_result"
    }
   ],
   "source": [
    "# in '    1A1 - Energy Industries', we want to keep only 'Energy Industries'. We do that for all the sectors\n",
    "sectors = [sector.split(' - ')[1] for sector in sectors]\n",
    "# the sector 'Energy' is re-changed to 'Energy - Other'\n",
    "sectors[4] = 'Energy - Other'\n",
    "sectors"
   ]
  },
  {
   "cell_type": "code",
   "execution_count": 376,
   "metadata": {},
   "outputs": [
    {
     "data": {
      "text/html": [
       "<div>\n",
       "<style scoped>\n",
       "    .dataframe tbody tr th:only-of-type {\n",
       "        vertical-align: middle;\n",
       "    }\n",
       "\n",
       "    .dataframe tbody tr th {\n",
       "        vertical-align: top;\n",
       "    }\n",
       "\n",
       "    .dataframe thead th {\n",
       "        text-align: right;\n",
       "    }\n",
       "</style>\n",
       "<table border=\"1\" class=\"dataframe\">\n",
       "  <thead>\n",
       "    <tr style=\"text-align: right;\">\n",
       "      <th></th>\n",
       "      <th>sector</th>\n",
       "      <th>country</th>\n",
       "      <th>year</th>\n",
       "      <th>GH emissions</th>\n",
       "    </tr>\n",
       "  </thead>\n",
       "  <tbody>\n",
       "  </tbody>\n",
       "</table>\n",
       "</div>"
      ],
      "text/plain": [
       "Empty DataFrame\n",
       "Columns: [sector, country, year, GH emissions]\n",
       "Index: []"
      ]
     },
     "execution_count": 376,
     "metadata": {},
     "output_type": "execute_result"
    }
   ],
   "source": [
    "# Cleaning the dataframe ...\n",
    "df = pd.DataFrame(columns=['sector', 'country', 'year', 'GH emissions'])\n",
    "df"
   ]
  },
  {
   "cell_type": "code",
   "execution_count": 377,
   "metadata": {},
   "outputs": [
    {
     "name": "stderr",
     "output_type": "stream",
     "text": [
      "100%|██████████| 64/64 [00:01<00:00, 49.61it/s]\n",
      "100%|██████████| 64/64 [00:01<00:00, 47.50it/s]\n",
      "100%|██████████| 64/64 [00:01<00:00, 42.09it/s]\n",
      "100%|██████████| 57/57 [00:01<00:00, 42.58it/s]\n",
      "100%|██████████| 51/51 [00:01<00:00, 40.53it/s]\n",
      "100%|██████████| 57/57 [00:01<00:00, 37.57it/s]\n",
      "100%|██████████| 8/8 [00:00<00:00, 37.68it/s]\n",
      "100%|██████████| 7/7 [01:01<00:00,  8.80s/it]\n"
     ]
    }
   ],
   "source": [
    "# we extract the data from npage 2 to npage 8\n",
    "for i in tqdm.tqdm(range(0, 7)):\n",
    "    df = extract_data(i+2, sectors[i], df)"
   ]
  },
  {
   "cell_type": "code",
   "execution_count": 378,
   "metadata": {},
   "outputs": [
    {
     "data": {
      "text/html": [
       "<div>\n",
       "<style scoped>\n",
       "    .dataframe tbody tr th:only-of-type {\n",
       "        vertical-align: middle;\n",
       "    }\n",
       "\n",
       "    .dataframe tbody tr th {\n",
       "        vertical-align: top;\n",
       "    }\n",
       "\n",
       "    .dataframe thead th {\n",
       "        text-align: right;\n",
       "    }\n",
       "</style>\n",
       "<table border=\"1\" class=\"dataframe\">\n",
       "  <thead>\n",
       "    <tr style=\"text-align: right;\">\n",
       "      <th></th>\n",
       "      <th>sector</th>\n",
       "      <th>country</th>\n",
       "      <th>year</th>\n",
       "      <th>GH emissions</th>\n",
       "    </tr>\n",
       "  </thead>\n",
       "  <tbody>\n",
       "    <tr>\n",
       "      <th>0</th>\n",
       "      <td>Energy Industries</td>\n",
       "      <td>Australia</td>\n",
       "      <td>1990</td>\n",
       "      <td>143 172.76</td>\n",
       "    </tr>\n",
       "    <tr>\n",
       "      <th>0</th>\n",
       "      <td>Energy Industries</td>\n",
       "      <td>Australia</td>\n",
       "      <td>1991</td>\n",
       "      <td>146 396.55</td>\n",
       "    </tr>\n",
       "    <tr>\n",
       "      <th>0</th>\n",
       "      <td>Energy Industries</td>\n",
       "      <td>Australia</td>\n",
       "      <td>1992</td>\n",
       "      <td>149 719.80</td>\n",
       "    </tr>\n",
       "    <tr>\n",
       "      <th>0</th>\n",
       "      <td>Energy Industries</td>\n",
       "      <td>Australia</td>\n",
       "      <td>1993</td>\n",
       "      <td>151 492.72</td>\n",
       "    </tr>\n",
       "    <tr>\n",
       "      <th>0</th>\n",
       "      <td>Energy Industries</td>\n",
       "      <td>Australia</td>\n",
       "      <td>1994</td>\n",
       "      <td>152 307.64</td>\n",
       "    </tr>\n",
       "  </tbody>\n",
       "</table>\n",
       "</div>"
      ],
      "text/plain": [
       "              sector    country  year GH emissions\n",
       "0  Energy Industries  Australia  1990   143 172.76\n",
       "0  Energy Industries  Australia  1991   146 396.55\n",
       "0  Energy Industries  Australia  1992   149 719.80\n",
       "0  Energy Industries  Australia  1993   151 492.72\n",
       "0  Energy Industries  Australia  1994   152 307.64"
      ]
     },
     "execution_count": 378,
     "metadata": {},
     "output_type": "execute_result"
    }
   ],
   "source": [
    "df.head()"
   ]
  },
  {
   "cell_type": "code",
   "execution_count": 379,
   "metadata": {},
   "outputs": [
    {
     "data": {
      "text/html": [
       "<div>\n",
       "<style scoped>\n",
       "    .dataframe tbody tr th:only-of-type {\n",
       "        vertical-align: middle;\n",
       "    }\n",
       "\n",
       "    .dataframe tbody tr th {\n",
       "        vertical-align: top;\n",
       "    }\n",
       "\n",
       "    .dataframe thead th {\n",
       "        text-align: right;\n",
       "    }\n",
       "</style>\n",
       "<table border=\"1\" class=\"dataframe\">\n",
       "  <thead>\n",
       "    <tr style=\"text-align: right;\">\n",
       "      <th></th>\n",
       "      <th>sector</th>\n",
       "      <th>country</th>\n",
       "      <th>year</th>\n",
       "      <th>GH emissions</th>\n",
       "    </tr>\n",
       "  </thead>\n",
       "  <tbody>\n",
       "    <tr>\n",
       "      <th>0</th>\n",
       "      <td>Transport</td>\n",
       "      <td>France</td>\n",
       "      <td>1990</td>\n",
       "      <td>123 313.04</td>\n",
       "    </tr>\n",
       "    <tr>\n",
       "      <th>0</th>\n",
       "      <td>Transport</td>\n",
       "      <td>France</td>\n",
       "      <td>1991</td>\n",
       "      <td>125 899.78</td>\n",
       "    </tr>\n",
       "    <tr>\n",
       "      <th>0</th>\n",
       "      <td>Transport</td>\n",
       "      <td>France</td>\n",
       "      <td>1992</td>\n",
       "      <td>130 437.76</td>\n",
       "    </tr>\n",
       "    <tr>\n",
       "      <th>0</th>\n",
       "      <td>Transport</td>\n",
       "      <td>France</td>\n",
       "      <td>1993</td>\n",
       "      <td>130 401.20</td>\n",
       "    </tr>\n",
       "    <tr>\n",
       "      <th>0</th>\n",
       "      <td>Transport</td>\n",
       "      <td>France</td>\n",
       "      <td>1994</td>\n",
       "      <td>131 485.71</td>\n",
       "    </tr>\n",
       "    <tr>\n",
       "      <th>0</th>\n",
       "      <td>Transport</td>\n",
       "      <td>France</td>\n",
       "      <td>1995</td>\n",
       "      <td>133 465.42</td>\n",
       "    </tr>\n",
       "    <tr>\n",
       "      <th>0</th>\n",
       "      <td>Transport</td>\n",
       "      <td>France</td>\n",
       "      <td>1996</td>\n",
       "      <td>135 272.86</td>\n",
       "    </tr>\n",
       "    <tr>\n",
       "      <th>0</th>\n",
       "      <td>Transport</td>\n",
       "      <td>France</td>\n",
       "      <td>1997</td>\n",
       "      <td>137 816.44</td>\n",
       "    </tr>\n",
       "    <tr>\n",
       "      <th>0</th>\n",
       "      <td>Transport</td>\n",
       "      <td>France</td>\n",
       "      <td>1998</td>\n",
       "      <td>140 145.85</td>\n",
       "    </tr>\n",
       "    <tr>\n",
       "      <th>0</th>\n",
       "      <td>Transport</td>\n",
       "      <td>France</td>\n",
       "      <td>1999</td>\n",
       "      <td>142 498.36</td>\n",
       "    </tr>\n",
       "  </tbody>\n",
       "</table>\n",
       "</div>"
      ],
      "text/plain": [
       "      sector country  year GH emissions\n",
       "0  Transport  France  1990   123 313.04\n",
       "0  Transport  France  1991   125 899.78\n",
       "0  Transport  France  1992   130 437.76\n",
       "0  Transport  France  1993   130 401.20\n",
       "0  Transport  France  1994   131 485.71\n",
       "0  Transport  France  1995   133 465.42\n",
       "0  Transport  France  1996   135 272.86\n",
       "0  Transport  France  1997   137 816.44\n",
       "0  Transport  France  1998   140 145.85\n",
       "0  Transport  France  1999   142 498.36"
      ]
     },
     "execution_count": 379,
     "metadata": {},
     "output_type": "execute_result"
    }
   ],
   "source": [
    "# we search for the lines that have both country = 'OECD Asia Oceania' and sector = 'CO2 from Transport and Storage' emission\n",
    "df[(df['country'] == 'France') & (df['sector'] == 'Transport')].head(10)"
   ]
  },
  {
   "cell_type": "code",
   "execution_count": 380,
   "metadata": {},
   "outputs": [
    {
     "name": "stdout",
     "output_type": "stream",
     "text": [
      "<class 'pandas.core.frame.DataFrame'>\n",
      "Int64Index: 11680 entries, 0 to 0\n",
      "Data columns (total 4 columns):\n",
      " #   Column        Non-Null Count  Dtype \n",
      "---  ------        --------------  ----- \n",
      " 0   sector        11680 non-null  object\n",
      " 1   country       11680 non-null  object\n",
      " 2   year          11680 non-null  object\n",
      " 3   GH emissions  11680 non-null  object\n",
      "dtypes: object(4)\n",
      "memory usage: 456.2+ KB\n"
     ]
    }
   ],
   "source": [
    "df.info()"
   ]
  },
  {
   "cell_type": "code",
   "execution_count": 392,
   "metadata": {},
   "outputs": [],
   "source": [
    "# we modify a copy of the dataframe\n",
    "df2 = df.copy()"
   ]
  },
  {
   "cell_type": "code",
   "execution_count": 393,
   "metadata": {},
   "outputs": [
    {
     "ename": "ValueError",
     "evalue": "could not convert string to float: ''",
     "output_type": "error",
     "traceback": [
      "\u001b[1;31m---------------------------------------------------------------------------\u001b[0m",
      "\u001b[1;31mValueError\u001b[0m                                Traceback (most recent call last)",
      "Input \u001b[1;32mIn [393]\u001b[0m, in \u001b[0;36m<cell line: 5>\u001b[1;34m()\u001b[0m\n\u001b[0;32m      3\u001b[0m df2[\u001b[38;5;124m'\u001b[39m\u001b[38;5;124mcountry\u001b[39m\u001b[38;5;124m'\u001b[39m] \u001b[38;5;241m=\u001b[39m df2[\u001b[38;5;124m'\u001b[39m\u001b[38;5;124mcountry\u001b[39m\u001b[38;5;124m'\u001b[39m]\u001b[38;5;241m.\u001b[39mastype(\u001b[38;5;28mstr\u001b[39m)\n\u001b[0;32m      4\u001b[0m df2[\u001b[38;5;124m'\u001b[39m\u001b[38;5;124myear\u001b[39m\u001b[38;5;124m'\u001b[39m] \u001b[38;5;241m=\u001b[39m df2[\u001b[38;5;124m'\u001b[39m\u001b[38;5;124myear\u001b[39m\u001b[38;5;124m'\u001b[39m]\u001b[38;5;241m.\u001b[39mastype(\u001b[38;5;28mint\u001b[39m)\n\u001b[1;32m----> 5\u001b[0m df2[\u001b[38;5;124m'\u001b[39m\u001b[38;5;124mGH emissions\u001b[39m\u001b[38;5;124m'\u001b[39m] \u001b[38;5;241m=\u001b[39m \u001b[43mdf2\u001b[49m\u001b[43m[\u001b[49m\u001b[38;5;124;43m'\u001b[39;49m\u001b[38;5;124;43mGH emissions\u001b[39;49m\u001b[38;5;124;43m'\u001b[39;49m\u001b[43m]\u001b[49m\u001b[38;5;241;43m.\u001b[39;49m\u001b[43mstr\u001b[49m\u001b[38;5;241;43m.\u001b[39;49m\u001b[43mreplace\u001b[49m\u001b[43m(\u001b[49m\u001b[38;5;124;43m'\u001b[39;49m\u001b[38;5;130;43;01m\\xa0\u001b[39;49;00m\u001b[38;5;124;43m'\u001b[39;49m\u001b[43m,\u001b[49m\u001b[43m \u001b[49m\u001b[38;5;124;43m'\u001b[39;49m\u001b[38;5;124;43m'\u001b[39;49m\u001b[43m)\u001b[49m\u001b[38;5;241;43m.\u001b[39;49m\u001b[43mreplace\u001b[49m\u001b[43m(\u001b[49m\u001b[38;5;124;43m\"\u001b[39;49m\u001b[38;5;124;43m..\u001b[39;49m\u001b[38;5;124;43m\"\u001b[39;49m\u001b[43m,\u001b[49m\u001b[43m \u001b[49m\u001b[38;5;124;43m'\u001b[39;49m\u001b[38;5;124;43mNaN\u001b[39;49m\u001b[38;5;124;43m'\u001b[39;49m\u001b[43m)\u001b[49m\u001b[38;5;241;43m.\u001b[39;49m\u001b[43mastype\u001b[49m\u001b[43m(\u001b[49m\u001b[38;5;28;43mfloat\u001b[39;49m\u001b[43m)\u001b[49m\n",
      "File \u001b[1;32mc:\\Users\\gdetr\\anaconda3\\lib\\site-packages\\pandas\\core\\generic.py:5912\u001b[0m, in \u001b[0;36mNDFrame.astype\u001b[1;34m(self, dtype, copy, errors)\u001b[0m\n\u001b[0;32m   5905\u001b[0m     results \u001b[38;5;241m=\u001b[39m [\n\u001b[0;32m   5906\u001b[0m         \u001b[38;5;28mself\u001b[39m\u001b[38;5;241m.\u001b[39miloc[:, i]\u001b[38;5;241m.\u001b[39mastype(dtype, copy\u001b[38;5;241m=\u001b[39mcopy)\n\u001b[0;32m   5907\u001b[0m         \u001b[38;5;28;01mfor\u001b[39;00m i \u001b[38;5;129;01min\u001b[39;00m \u001b[38;5;28mrange\u001b[39m(\u001b[38;5;28mlen\u001b[39m(\u001b[38;5;28mself\u001b[39m\u001b[38;5;241m.\u001b[39mcolumns))\n\u001b[0;32m   5908\u001b[0m     ]\n\u001b[0;32m   5910\u001b[0m \u001b[38;5;28;01melse\u001b[39;00m:\n\u001b[0;32m   5911\u001b[0m     \u001b[38;5;66;03m# else, only a single dtype is given\u001b[39;00m\n\u001b[1;32m-> 5912\u001b[0m     new_data \u001b[38;5;241m=\u001b[39m \u001b[38;5;28;43mself\u001b[39;49m\u001b[38;5;241;43m.\u001b[39;49m\u001b[43m_mgr\u001b[49m\u001b[38;5;241;43m.\u001b[39;49m\u001b[43mastype\u001b[49m\u001b[43m(\u001b[49m\u001b[43mdtype\u001b[49m\u001b[38;5;241;43m=\u001b[39;49m\u001b[43mdtype\u001b[49m\u001b[43m,\u001b[49m\u001b[43m \u001b[49m\u001b[43mcopy\u001b[49m\u001b[38;5;241;43m=\u001b[39;49m\u001b[43mcopy\u001b[49m\u001b[43m,\u001b[49m\u001b[43m \u001b[49m\u001b[43merrors\u001b[49m\u001b[38;5;241;43m=\u001b[39;49m\u001b[43merrors\u001b[49m\u001b[43m)\u001b[49m\n\u001b[0;32m   5913\u001b[0m     \u001b[38;5;28;01mreturn\u001b[39;00m \u001b[38;5;28mself\u001b[39m\u001b[38;5;241m.\u001b[39m_constructor(new_data)\u001b[38;5;241m.\u001b[39m__finalize__(\u001b[38;5;28mself\u001b[39m, method\u001b[38;5;241m=\u001b[39m\u001b[38;5;124m\"\u001b[39m\u001b[38;5;124mastype\u001b[39m\u001b[38;5;124m\"\u001b[39m)\n\u001b[0;32m   5915\u001b[0m \u001b[38;5;66;03m# GH 33113: handle empty frame or series\u001b[39;00m\n",
      "File \u001b[1;32mc:\\Users\\gdetr\\anaconda3\\lib\\site-packages\\pandas\\core\\internals\\managers.py:419\u001b[0m, in \u001b[0;36mBaseBlockManager.astype\u001b[1;34m(self, dtype, copy, errors)\u001b[0m\n\u001b[0;32m    418\u001b[0m \u001b[38;5;28;01mdef\u001b[39;00m \u001b[38;5;21mastype\u001b[39m(\u001b[38;5;28mself\u001b[39m: T, dtype, copy: \u001b[38;5;28mbool\u001b[39m \u001b[38;5;241m=\u001b[39m \u001b[38;5;28;01mFalse\u001b[39;00m, errors: \u001b[38;5;28mstr\u001b[39m \u001b[38;5;241m=\u001b[39m \u001b[38;5;124m\"\u001b[39m\u001b[38;5;124mraise\u001b[39m\u001b[38;5;124m\"\u001b[39m) \u001b[38;5;241m-\u001b[39m\u001b[38;5;241m>\u001b[39m T:\n\u001b[1;32m--> 419\u001b[0m     \u001b[38;5;28;01mreturn\u001b[39;00m \u001b[38;5;28;43mself\u001b[39;49m\u001b[38;5;241;43m.\u001b[39;49m\u001b[43mapply\u001b[49m\u001b[43m(\u001b[49m\u001b[38;5;124;43m\"\u001b[39;49m\u001b[38;5;124;43mastype\u001b[39;49m\u001b[38;5;124;43m\"\u001b[39;49m\u001b[43m,\u001b[49m\u001b[43m \u001b[49m\u001b[43mdtype\u001b[49m\u001b[38;5;241;43m=\u001b[39;49m\u001b[43mdtype\u001b[49m\u001b[43m,\u001b[49m\u001b[43m \u001b[49m\u001b[43mcopy\u001b[49m\u001b[38;5;241;43m=\u001b[39;49m\u001b[43mcopy\u001b[49m\u001b[43m,\u001b[49m\u001b[43m \u001b[49m\u001b[43merrors\u001b[49m\u001b[38;5;241;43m=\u001b[39;49m\u001b[43merrors\u001b[49m\u001b[43m)\u001b[49m\n",
      "File \u001b[1;32mc:\\Users\\gdetr\\anaconda3\\lib\\site-packages\\pandas\\core\\internals\\managers.py:304\u001b[0m, in \u001b[0;36mBaseBlockManager.apply\u001b[1;34m(self, f, align_keys, ignore_failures, **kwargs)\u001b[0m\n\u001b[0;32m    302\u001b[0m         applied \u001b[38;5;241m=\u001b[39m b\u001b[38;5;241m.\u001b[39mapply(f, \u001b[38;5;241m*\u001b[39m\u001b[38;5;241m*\u001b[39mkwargs)\n\u001b[0;32m    303\u001b[0m     \u001b[38;5;28;01melse\u001b[39;00m:\n\u001b[1;32m--> 304\u001b[0m         applied \u001b[38;5;241m=\u001b[39m \u001b[38;5;28mgetattr\u001b[39m(b, f)(\u001b[38;5;241m*\u001b[39m\u001b[38;5;241m*\u001b[39mkwargs)\n\u001b[0;32m    305\u001b[0m \u001b[38;5;28;01mexcept\u001b[39;00m (\u001b[38;5;167;01mTypeError\u001b[39;00m, \u001b[38;5;167;01mNotImplementedError\u001b[39;00m):\n\u001b[0;32m    306\u001b[0m     \u001b[38;5;28;01mif\u001b[39;00m \u001b[38;5;129;01mnot\u001b[39;00m ignore_failures:\n",
      "File \u001b[1;32mc:\\Users\\gdetr\\anaconda3\\lib\\site-packages\\pandas\\core\\internals\\blocks.py:580\u001b[0m, in \u001b[0;36mBlock.astype\u001b[1;34m(self, dtype, copy, errors)\u001b[0m\n\u001b[0;32m    562\u001b[0m \u001b[38;5;124;03m\"\"\"\u001b[39;00m\n\u001b[0;32m    563\u001b[0m \u001b[38;5;124;03mCoerce to the new dtype.\u001b[39;00m\n\u001b[0;32m    564\u001b[0m \n\u001b[1;32m   (...)\u001b[0m\n\u001b[0;32m    576\u001b[0m \u001b[38;5;124;03mBlock\u001b[39;00m\n\u001b[0;32m    577\u001b[0m \u001b[38;5;124;03m\"\"\"\u001b[39;00m\n\u001b[0;32m    578\u001b[0m values \u001b[38;5;241m=\u001b[39m \u001b[38;5;28mself\u001b[39m\u001b[38;5;241m.\u001b[39mvalues\n\u001b[1;32m--> 580\u001b[0m new_values \u001b[38;5;241m=\u001b[39m \u001b[43mastype_array_safe\u001b[49m\u001b[43m(\u001b[49m\u001b[43mvalues\u001b[49m\u001b[43m,\u001b[49m\u001b[43m \u001b[49m\u001b[43mdtype\u001b[49m\u001b[43m,\u001b[49m\u001b[43m \u001b[49m\u001b[43mcopy\u001b[49m\u001b[38;5;241;43m=\u001b[39;49m\u001b[43mcopy\u001b[49m\u001b[43m,\u001b[49m\u001b[43m \u001b[49m\u001b[43merrors\u001b[49m\u001b[38;5;241;43m=\u001b[39;49m\u001b[43merrors\u001b[49m\u001b[43m)\u001b[49m\n\u001b[0;32m    582\u001b[0m new_values \u001b[38;5;241m=\u001b[39m maybe_coerce_values(new_values)\n\u001b[0;32m    583\u001b[0m newb \u001b[38;5;241m=\u001b[39m \u001b[38;5;28mself\u001b[39m\u001b[38;5;241m.\u001b[39mmake_block(new_values)\n",
      "File \u001b[1;32mc:\\Users\\gdetr\\anaconda3\\lib\\site-packages\\pandas\\core\\dtypes\\cast.py:1292\u001b[0m, in \u001b[0;36mastype_array_safe\u001b[1;34m(values, dtype, copy, errors)\u001b[0m\n\u001b[0;32m   1289\u001b[0m     dtype \u001b[38;5;241m=\u001b[39m dtype\u001b[38;5;241m.\u001b[39mnumpy_dtype\n\u001b[0;32m   1291\u001b[0m \u001b[38;5;28;01mtry\u001b[39;00m:\n\u001b[1;32m-> 1292\u001b[0m     new_values \u001b[38;5;241m=\u001b[39m \u001b[43mastype_array\u001b[49m\u001b[43m(\u001b[49m\u001b[43mvalues\u001b[49m\u001b[43m,\u001b[49m\u001b[43m \u001b[49m\u001b[43mdtype\u001b[49m\u001b[43m,\u001b[49m\u001b[43m \u001b[49m\u001b[43mcopy\u001b[49m\u001b[38;5;241;43m=\u001b[39;49m\u001b[43mcopy\u001b[49m\u001b[43m)\u001b[49m\n\u001b[0;32m   1293\u001b[0m \u001b[38;5;28;01mexcept\u001b[39;00m (\u001b[38;5;167;01mValueError\u001b[39;00m, \u001b[38;5;167;01mTypeError\u001b[39;00m):\n\u001b[0;32m   1294\u001b[0m     \u001b[38;5;66;03m# e.g. astype_nansafe can fail on object-dtype of strings\u001b[39;00m\n\u001b[0;32m   1295\u001b[0m     \u001b[38;5;66;03m#  trying to convert to float\u001b[39;00m\n\u001b[0;32m   1296\u001b[0m     \u001b[38;5;28;01mif\u001b[39;00m errors \u001b[38;5;241m==\u001b[39m \u001b[38;5;124m\"\u001b[39m\u001b[38;5;124mignore\u001b[39m\u001b[38;5;124m\"\u001b[39m:\n",
      "File \u001b[1;32mc:\\Users\\gdetr\\anaconda3\\lib\\site-packages\\pandas\\core\\dtypes\\cast.py:1237\u001b[0m, in \u001b[0;36mastype_array\u001b[1;34m(values, dtype, copy)\u001b[0m\n\u001b[0;32m   1234\u001b[0m     values \u001b[38;5;241m=\u001b[39m values\u001b[38;5;241m.\u001b[39mastype(dtype, copy\u001b[38;5;241m=\u001b[39mcopy)\n\u001b[0;32m   1236\u001b[0m \u001b[38;5;28;01melse\u001b[39;00m:\n\u001b[1;32m-> 1237\u001b[0m     values \u001b[38;5;241m=\u001b[39m \u001b[43mastype_nansafe\u001b[49m\u001b[43m(\u001b[49m\u001b[43mvalues\u001b[49m\u001b[43m,\u001b[49m\u001b[43m \u001b[49m\u001b[43mdtype\u001b[49m\u001b[43m,\u001b[49m\u001b[43m \u001b[49m\u001b[43mcopy\u001b[49m\u001b[38;5;241;43m=\u001b[39;49m\u001b[43mcopy\u001b[49m\u001b[43m)\u001b[49m\n\u001b[0;32m   1239\u001b[0m \u001b[38;5;66;03m# in pandas we don't store numpy str dtypes, so convert to object\u001b[39;00m\n\u001b[0;32m   1240\u001b[0m \u001b[38;5;28;01mif\u001b[39;00m \u001b[38;5;28misinstance\u001b[39m(dtype, np\u001b[38;5;241m.\u001b[39mdtype) \u001b[38;5;129;01mand\u001b[39;00m \u001b[38;5;28missubclass\u001b[39m(values\u001b[38;5;241m.\u001b[39mdtype\u001b[38;5;241m.\u001b[39mtype, \u001b[38;5;28mstr\u001b[39m):\n",
      "File \u001b[1;32mc:\\Users\\gdetr\\anaconda3\\lib\\site-packages\\pandas\\core\\dtypes\\cast.py:1181\u001b[0m, in \u001b[0;36mastype_nansafe\u001b[1;34m(arr, dtype, copy, skipna)\u001b[0m\n\u001b[0;32m   1177\u001b[0m     \u001b[38;5;28;01mraise\u001b[39;00m \u001b[38;5;167;01mValueError\u001b[39;00m(msg)\n\u001b[0;32m   1179\u001b[0m \u001b[38;5;28;01mif\u001b[39;00m copy \u001b[38;5;129;01mor\u001b[39;00m is_object_dtype(arr\u001b[38;5;241m.\u001b[39mdtype) \u001b[38;5;129;01mor\u001b[39;00m is_object_dtype(dtype):\n\u001b[0;32m   1180\u001b[0m     \u001b[38;5;66;03m# Explicit copy, or required since NumPy can't view from / to object.\u001b[39;00m\n\u001b[1;32m-> 1181\u001b[0m     \u001b[38;5;28;01mreturn\u001b[39;00m \u001b[43marr\u001b[49m\u001b[38;5;241;43m.\u001b[39;49m\u001b[43mastype\u001b[49m\u001b[43m(\u001b[49m\u001b[43mdtype\u001b[49m\u001b[43m,\u001b[49m\u001b[43m \u001b[49m\u001b[43mcopy\u001b[49m\u001b[38;5;241;43m=\u001b[39;49m\u001b[38;5;28;43;01mTrue\u001b[39;49;00m\u001b[43m)\u001b[49m\n\u001b[0;32m   1183\u001b[0m \u001b[38;5;28;01mreturn\u001b[39;00m arr\u001b[38;5;241m.\u001b[39mastype(dtype, copy\u001b[38;5;241m=\u001b[39mcopy)\n",
      "\u001b[1;31mValueError\u001b[0m: could not convert string to float: ''"
     ]
    }
   ],
   "source": [
    "# we convert sector and country to string, year to int and GH emissions to float GH emmissions are currently of the form '123 313.04'\"Web Scrapping CM1.docx\"\n",
    "df2['sector'] = df2['sector'].astype(str)\n",
    "df2['country'] = df2['country'].astype(str)\n",
    "df2['year'] = df2['year'].astype(int)\n",
    "df2['GH emissions'] = df2['GH emissions'].str.replace('\\xa0', '').replace(\"..\", 'NaN').astype(float)"
   ]
  },
  {
   "cell_type": "code",
   "execution_count": null,
   "metadata": {},
   "outputs": [],
   "source": []
  },
  {
   "cell_type": "code",
   "execution_count": 394,
   "metadata": {},
   "outputs": [
    {
     "data": {
      "text/html": [
       "<div>\n",
       "<style scoped>\n",
       "    .dataframe tbody tr th:only-of-type {\n",
       "        vertical-align: middle;\n",
       "    }\n",
       "\n",
       "    .dataframe tbody tr th {\n",
       "        vertical-align: top;\n",
       "    }\n",
       "\n",
       "    .dataframe thead th {\n",
       "        text-align: right;\n",
       "    }\n",
       "</style>\n",
       "<table border=\"1\" class=\"dataframe\">\n",
       "  <thead>\n",
       "    <tr style=\"text-align: right;\">\n",
       "      <th></th>\n",
       "      <th>sector</th>\n",
       "      <th>country</th>\n",
       "      <th>year</th>\n",
       "      <th>GH emissions</th>\n",
       "    </tr>\n",
       "  </thead>\n",
       "  <tbody>\n",
       "  </tbody>\n",
       "</table>\n",
       "</div>"
      ],
      "text/plain": [
       "Empty DataFrame\n",
       "Columns: [sector, country, year, GH emissions]\n",
       "Index: []"
      ]
     },
     "execution_count": 394,
     "metadata": {},
     "output_type": "execute_result"
    }
   ],
   "source": [
    "# we find the element 143\\xa0172.76 in the dataframe\n",
    "df[df['GH emissions'] == '\\xa0']"
   ]
  }
 ],
 "metadata": {
  "kernelspec": {
   "display_name": "base",
   "language": "python",
   "name": "python3"
  },
  "language_info": {
   "codemirror_mode": {
    "name": "ipython",
    "version": 3
   },
   "file_extension": ".py",
   "mimetype": "text/x-python",
   "name": "python",
   "nbconvert_exporter": "python",
   "pygments_lexer": "ipython3",
   "version": "3.9.12"
  }
 },
 "nbformat": 4,
 "nbformat_minor": 2
}

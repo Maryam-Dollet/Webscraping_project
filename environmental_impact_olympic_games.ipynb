{
 "cells": [
  {
   "cell_type": "markdown",
   "metadata": {},
   "source": [
    "## Olympics environnemental impact analysis"
   ]
  },
  {
   "cell_type": "code",
   "execution_count": 26,
   "metadata": {},
   "outputs": [],
   "source": [
    "# let's scrape some data from the web\n",
    "# https://stats.oecd.org/Index.aspx?DataSetCode=air_ghg"
   ]
  },
  {
   "cell_type": "markdown",
   "metadata": {},
   "source": [
    "Scraping data from : https://stats.oecd.org/Index.aspx?DataSetCode=air_ghg"
   ]
  },
  {
   "cell_type": "code",
   "execution_count": 27,
   "metadata": {},
   "outputs": [],
   "source": [
    "from bs4 import BeautifulSoup as bs\n",
    "import requests\n",
    "import pandas as pd\n",
    "import numpy as np\n",
    "import matplotlib.pyplot as plt\n",
    "import tqdm as tqdm\n",
    "from time import sleep\n",
    "from selenium import webdriver\n",
    "from selenium.webdriver.common.by import By\n",
    "from selenium.webdriver.common.keys import Keys\n",
    "from selenium.webdriver.support.ui import Select"
   ]
  },
  {
   "cell_type": "code",
   "execution_count": 28,
   "metadata": {},
   "outputs": [],
   "source": [
    "driver = webdriver.Firefox()\n",
    "driver.get(\"https://stats.oecd.org/Index.aspx?DataSetCode=air_ghg\")"
   ]
  },
  {
   "cell_type": "markdown",
   "metadata": {},
   "source": [
    "Drop-down menu :"
   ]
  },
  {
   "cell_type": "code",
   "execution_count": 29,
   "metadata": {},
   "outputs": [],
   "source": [
    "menu = '//*[@id=\"PDim_VAR\"]' \n",
    "element = driver.find_element(By.XPATH,menu).click()"
   ]
  },
  {
   "cell_type": "markdown",
   "metadata": {},
   "source": [
    "Choosing the emmission sector :"
   ]
  },
  {
   "cell_type": "code",
   "execution_count": 30,
   "metadata": {},
   "outputs": [],
   "source": [
    "sleep(2)\n",
    "npage = 2\n",
    "xpath_expression = \"//select/option[@value ='2~ENER_IND']\" # 0~GHG\n",
    "sector = driver.find_element(By.XPATH, xpath_expression).click()   "
   ]
  },
  {
   "cell_type": "markdown",
   "metadata": {},
   "source": [
    "BeautifulSoup to parse the html : "
   ]
  },
  {
   "cell_type": "code",
   "execution_count": 31,
   "metadata": {},
   "outputs": [
    {
     "data": {
      "text/plain": [
       "[<tr class=\"row1\" id=\"row1\"><td class=\"RowDimLabel\" colspan=\"2\">Australia</td><td class=\"RowDimLabel\"></td><td class=\"Data\">143 172.76</td><td class=\"Data\">146 396.55</td><td class=\"Data\">149 719.80</td><td class=\"Data\">151 492.72</td><td class=\"Data\">152 307.64</td><td class=\"Data\">158 140.20</td><td class=\"Data\">162 742.64</td><td class=\"Data\">169 413.37</td><td class=\"Data\">182 065.82</td><td class=\"Data\">189 654.80</td><td class=\"Data\">192 519.66</td><td class=\"Data\">200 056.94</td><td class=\"Data\">202 550.84</td><td class=\"Data\">205 188.59</td><td class=\"Data\">214 175.42</td><td class=\"Data\">216 528.07</td><td class=\"Data\">221 026.74</td><td class=\"Data\">224 087.96</td><td class=\"Data\">225 886.85</td><td class=\"Data\">232 820.84</td><td class=\"Data\">226 959.03</td><td class=\"Data\">221 003.02</td><td class=\"Data\">222 772.02</td><td class=\"Data\">211 608.43</td><td class=\"Data\">205 575.02</td><td class=\"Data\">212 312.51</td><td class=\"Data\">219 696.63</td><td class=\"Data\">218 631.00</td><td class=\"Data\">214 859.15</td><td class=\"Data\">213 954.25</td><td class=\"Data\">207 918.77</td><td class=\"Data\">198 077.78</td></tr>,\n",
       " <tr class=\"row2\" id=\"row2\"><td class=\"RowDimLabel2\" colspan=\"2\">Austria</td><td class=\"RowDimLabel2\"></td><td class=\"Data2\">14 007.51</td><td class=\"Data2\">14 796.39</td><td class=\"Data2\">11 552.40</td><td class=\"Data2\">11 626.26</td><td class=\"Data2\">11 914.57</td><td class=\"Data2\">13 058.70</td><td class=\"Data2\">14 033.58</td><td class=\"Data2\">14 079.84</td><td class=\"Data2\">13 137.39</td><td class=\"Data2\">12 634.30</td><td class=\"Data2\">12 314.54</td><td class=\"Data2\">13 705.39</td><td class=\"Data2\">13 369.39</td><td class=\"Data2\">15 915.55</td><td class=\"Data2\">15 852.98</td><td class=\"Data2\">16 026.09</td><td class=\"Data2\">14 821.36</td><td class=\"Data2\">13 621.83</td><td class=\"Data2\">13 446.73</td><td class=\"Data2\">12 437.31</td><td class=\"Data2\">13 747.13</td><td class=\"Data2\">13 408.62</td><td class=\"Data2\">11 975.07</td><td class=\"Data2\">11 006.22</td><td class=\"Data2\">9 387.20</td><td class=\"Data2\">10 502.43</td><td class=\"Data2\">10 287.27</td><td class=\"Data2\">10 902.60</td><td class=\"Data2\">10 054.06</td><td class=\"Data2\">10 169.59</td><td class=\"Data2\">8 799.60</td><td class=\"Data2\">8 854.59</td></tr>,\n",
       " <tr class=\"row3\" id=\"row3\"><td class=\"RowDimLabel\" colspan=\"2\">Belgium</td><td class=\"RowDimLabel\"></td><td class=\"Data\">29 728.26</td><td class=\"Data\">30 160.52</td><td class=\"Data\">29 246.31</td><td class=\"Data\">28 515.09</td><td class=\"Data\">29 653.93</td><td class=\"Data\">29 257.02</td><td class=\"Data\">28 612.36</td><td class=\"Data\">27 553.00</td><td class=\"Data\">30 452.69</td><td class=\"Data\">26 761.75</td><td class=\"Data\">28 495.94</td><td class=\"Data\">26 162.18</td><td class=\"Data\">27 641.47</td><td class=\"Data\">28 805.44</td><td class=\"Data\">29 258.73</td><td class=\"Data\">28 994.10</td><td class=\"Data\">27 883.22</td><td class=\"Data\">27 193.62</td><td class=\"Data\">25 089.89</td><td class=\"Data\">25 567.60</td><td class=\"Data\">26 128.80</td><td class=\"Data\">22 705.52</td><td class=\"Data\">22 553.36</td><td class=\"Data\">21 105.22</td><td class=\"Data\">20 114.11</td><td class=\"Data\">20 835.57</td><td class=\"Data\">19 536.72</td><td class=\"Data\">19 682.86</td><td class=\"Data\">19 636.85</td><td class=\"Data\">20 964.21</td><td class=\"Data\">18 984.02</td><td class=\"Data\">18 191.20</td></tr>,\n",
       " <tr class=\"row4\" id=\"row4\"><td class=\"RowDimLabel2\" colspan=\"2\">Canada</td><td class=\"RowDimLabel2\"></td><td class=\"Data2\">143 124.25</td><td class=\"Data2\">142 048.26</td><td class=\"Data2\">150 548.23</td><td class=\"Data2\">145 271.42</td><td class=\"Data2\">147 088.43</td><td class=\"Data2\">152 051.16</td><td class=\"Data2\">154 812.86</td><td class=\"Data2\">164 914.57</td><td class=\"Data2\">179 628.96</td><td class=\"Data2\">187 088.41</td><td class=\"Data2\">202 853.73</td><td class=\"Data2\">207 409.01</td><td class=\"Data2\">206 396.17</td><td class=\"Data2\">215 970.66</td><td class=\"Data2\">208 789.50</td><td class=\"Data2\">207 998.47</td><td class=\"Data2\">205 598.97</td><td class=\"Data2\">221 420.43</td><td class=\"Data2\">209 996.54</td><td class=\"Data2\">195 424.15</td><td class=\"Data2\">198 759.64</td><td class=\"Data2\">196 018.22</td><td class=\"Data2\">196 617.91</td><td class=\"Data2\">194 572.74</td><td class=\"Data2\">194 654.05</td><td class=\"Data2\">201 726.36</td><td class=\"Data2\">192 551.44</td><td class=\"Data2\">192 128.84</td><td class=\"Data2\">190 371.46</td><td class=\"Data2\">189 801.73</td><td class=\"Data2\">174 305.55</td><td class=\"Data2\">177 238.08</td></tr>,\n",
       " <tr class=\"row5\" id=\"row5\"><td class=\"RowDimLabel\" colspan=\"2\">Chile</td><td class=\"RowDimLabel\"></td><td class=\"Data\">9 037.73</td><td class=\"Data\">7 326.67</td><td class=\"Data\">6 123.20</td><td class=\"Data\">6 519.03</td><td class=\"Data\">7 593.18</td><td class=\"Data\">8 311.26</td><td class=\"Data\">12 247.20</td><td class=\"Data\">13 531.85</td><td class=\"Data\">16 157.13</td><td class=\"Data\">18 383.43</td><td class=\"Data\">15 259.88</td><td class=\"Data\">13 623.53</td><td class=\"Data\">14 711.21</td><td class=\"Data\">16 178.13</td><td class=\"Data\">19 674.56</td><td class=\"Data\">18 924.03</td><td class=\"Data\">19 266.24</td><td class=\"Data\">25 653.19</td><td class=\"Data\">26 377.48</td><td class=\"Data\">24 435.16</td><td class=\"Data\">24 830.60</td><td class=\"Data\">30 556.41</td><td class=\"Data\">32 409.43</td><td class=\"Data\">29 934.64</td><td class=\"Data\">27 208.52</td><td class=\"Data\">30 854.83</td><td class=\"Data\">32 175.82</td><td class=\"Data\">31 628.39</td><td class=\"Data\">30 815.04</td><td class=\"Data\">31 327.32</td><td class=\"Data\">29 841.64</td><td class=\"Data\">..</td></tr>]"
      ]
     },
     "execution_count": 31,
     "metadata": {},
     "output_type": "execute_result"
    }
   ],
   "source": [
    "soup = bs(driver.page_source, 'html.parser')\n",
    "table = soup.find('table', {'class': 'DataTable'})\n",
    "# we want to find all tr in the table with an id starting with row\n",
    "rows = table.findAll('tr', {'id': lambda L: L and L.startswith('row')})\n",
    "# we display the first rows\n",
    "rows[:5]"
   ]
  },
  {
   "cell_type": "markdown",
   "metadata": {},
   "source": [
    "Creation of the dataframe : "
   ]
  },
  {
   "cell_type": "code",
   "execution_count": 32,
   "metadata": {},
   "outputs": [],
   "source": [
    "df = pd.DataFrame(columns=['sector', 'country', 'year', 'GH emissions'])"
   ]
  },
  {
   "cell_type": "markdown",
   "metadata": {},
   "source": [
    "Test of data extraction for the first sector : Energy Industries"
   ]
  },
  {
   "cell_type": "code",
   "execution_count": 33,
   "metadata": {},
   "outputs": [
    {
     "name": "stderr",
     "output_type": "stream",
     "text": [
      "100%|██████████| 64/64 [00:00<00:00, 84.46it/s]\n"
     ]
    }
   ],
   "source": [
    "# we extract the data from rows and add them to the dataframe df\n",
    "for row in tqdm.tqdm(rows):\n",
    "    cells = row.findAll('td')\n",
    "    sector = '1A1 - Energy Industries'\n",
    "    country = cells[0].text\n",
    "    for i in range(0, 32):\n",
    "        year = 1990 + i\n",
    "        GH = cells[i+2].text\n",
    "        df = pd.concat([df, pd.DataFrame([[sector, country, year, GH]], columns=['sector', 'country', 'year', 'GH emissions'])])"
   ]
  },
  {
   "cell_type": "code",
   "execution_count": 34,
   "metadata": {},
   "outputs": [
    {
     "data": {
      "text/html": [
       "<div>\n",
       "<style scoped>\n",
       "    .dataframe tbody tr th:only-of-type {\n",
       "        vertical-align: middle;\n",
       "    }\n",
       "\n",
       "    .dataframe tbody tr th {\n",
       "        vertical-align: top;\n",
       "    }\n",
       "\n",
       "    .dataframe thead th {\n",
       "        text-align: right;\n",
       "    }\n",
       "</style>\n",
       "<table border=\"1\" class=\"dataframe\">\n",
       "  <thead>\n",
       "    <tr style=\"text-align: right;\">\n",
       "      <th></th>\n",
       "      <th>sector</th>\n",
       "      <th>country</th>\n",
       "      <th>year</th>\n",
       "      <th>GH emissions</th>\n",
       "    </tr>\n",
       "  </thead>\n",
       "  <tbody>\n",
       "    <tr>\n",
       "      <th>0</th>\n",
       "      <td>1A1 - Energy Industries</td>\n",
       "      <td>Australia</td>\n",
       "      <td>1990</td>\n",
       "      <td>143 172.76</td>\n",
       "    </tr>\n",
       "    <tr>\n",
       "      <th>0</th>\n",
       "      <td>1A1 - Energy Industries</td>\n",
       "      <td>Australia</td>\n",
       "      <td>1991</td>\n",
       "      <td>146 396.55</td>\n",
       "    </tr>\n",
       "    <tr>\n",
       "      <th>0</th>\n",
       "      <td>1A1 - Energy Industries</td>\n",
       "      <td>Australia</td>\n",
       "      <td>1992</td>\n",
       "      <td>149 719.80</td>\n",
       "    </tr>\n",
       "    <tr>\n",
       "      <th>0</th>\n",
       "      <td>1A1 - Energy Industries</td>\n",
       "      <td>Australia</td>\n",
       "      <td>1993</td>\n",
       "      <td>151 492.72</td>\n",
       "    </tr>\n",
       "    <tr>\n",
       "      <th>0</th>\n",
       "      <td>1A1 - Energy Industries</td>\n",
       "      <td>Australia</td>\n",
       "      <td>1994</td>\n",
       "      <td>152 307.64</td>\n",
       "    </tr>\n",
       "    <tr>\n",
       "      <th>0</th>\n",
       "      <td>1A1 - Energy Industries</td>\n",
       "      <td>Australia</td>\n",
       "      <td>1995</td>\n",
       "      <td>158 140.20</td>\n",
       "    </tr>\n",
       "    <tr>\n",
       "      <th>0</th>\n",
       "      <td>1A1 - Energy Industries</td>\n",
       "      <td>Australia</td>\n",
       "      <td>1996</td>\n",
       "      <td>162 742.64</td>\n",
       "    </tr>\n",
       "    <tr>\n",
       "      <th>0</th>\n",
       "      <td>1A1 - Energy Industries</td>\n",
       "      <td>Australia</td>\n",
       "      <td>1997</td>\n",
       "      <td>169 413.37</td>\n",
       "    </tr>\n",
       "    <tr>\n",
       "      <th>0</th>\n",
       "      <td>1A1 - Energy Industries</td>\n",
       "      <td>Australia</td>\n",
       "      <td>1998</td>\n",
       "      <td>182 065.82</td>\n",
       "    </tr>\n",
       "    <tr>\n",
       "      <th>0</th>\n",
       "      <td>1A1 - Energy Industries</td>\n",
       "      <td>Australia</td>\n",
       "      <td>1999</td>\n",
       "      <td>189 654.80</td>\n",
       "    </tr>\n",
       "  </tbody>\n",
       "</table>\n",
       "</div>"
      ],
      "text/plain": [
       "                    sector    country  year GH emissions\n",
       "0  1A1 - Energy Industries  Australia  1990   143 172.76\n",
       "0  1A1 - Energy Industries  Australia  1991   146 396.55\n",
       "0  1A1 - Energy Industries  Australia  1992   149 719.80\n",
       "0  1A1 - Energy Industries  Australia  1993   151 492.72\n",
       "0  1A1 - Energy Industries  Australia  1994   152 307.64\n",
       "0  1A1 - Energy Industries  Australia  1995   158 140.20\n",
       "0  1A1 - Energy Industries  Australia  1996   162 742.64\n",
       "0  1A1 - Energy Industries  Australia  1997   169 413.37\n",
       "0  1A1 - Energy Industries  Australia  1998   182 065.82\n",
       "0  1A1 - Energy Industries  Australia  1999   189 654.80"
      ]
     },
     "execution_count": 34,
     "metadata": {},
     "output_type": "execute_result"
    }
   ],
   "source": [
    "# we print the head of the dataframe\n",
    "df.head(10)"
   ]
  },
  {
   "cell_type": "code",
   "execution_count": 35,
   "metadata": {},
   "outputs": [],
   "source": [
    "# npage += 1\n",
    "# xpath_expression = f\"//select/option[contains(@value, '{npage}~ENER_')]\"\n",
    "# sector = driver.find_element(By.XPATH, xpath_expression).click() "
   ]
  },
  {
   "cell_type": "markdown",
   "metadata": {},
   "source": [
    "### Automatisation of the scraping process for the OECD website"
   ]
  },
  {
   "cell_type": "markdown",
   "metadata": {},
   "source": [
    "Function to scrape the data from the website according to the sector chosen : "
   ]
  },
  {
   "cell_type": "code",
   "execution_count": 36,
   "metadata": {},
   "outputs": [],
   "source": [
    "# now let's do a function to extract the data from the website starting from npage 2 to npage 8\n",
    "def extract_data(npage, sector_name, df):\n",
    "    menu = '//*[@id=\"PDim_VAR\"]' \n",
    "    driver.find_element(By.XPATH,menu).click() # menu\n",
    "\n",
    "    xpath_expression = f\"//select/option[contains(@value, '{npage}~ENER_')]\"\n",
    "    driver.find_element(By.XPATH, xpath_expression).click() # page of the secteur\n",
    "    sleep(7)\n",
    "\n",
    "    soup = bs(driver.page_source, 'html.parser')\n",
    "    table = soup.find('table', {'class': 'DataTable'})\n",
    "    rows = table.findAll('tr', {'id': lambda L: L and L.startswith('row')})\n",
    "\n",
    "    for row in tqdm.tqdm(rows):\n",
    "        cells = row.findAll('td')\n",
    "        country = cells[0].text\n",
    "        if country == 'Non-OECD Economies':\n",
    "            country = cells[1].text\n",
    "            for i in range(0, 32):\n",
    "                year = 1990 + i\n",
    "                GH = cells[i+3].text\n",
    "                df = pd.concat([df, pd.DataFrame([[sector_name, country, year, GH]], columns=['sector', 'country', 'year', 'GH emissions'])])\n",
    "        else :\n",
    "            for i in range(0, 32):\n",
    "                year = 1990 + i\n",
    "                GH = cells[i+2].text\n",
    "                df = pd.concat([df, pd.DataFrame([[sector_name, country, year, GH]], columns=['sector', 'country', 'year', 'GH emissions'])])\n",
    "            \n",
    "    return df"
   ]
  },
  {
   "cell_type": "markdown",
   "metadata": {},
   "source": [
    "Extracting the name of the sectors :"
   ]
  },
  {
   "cell_type": "code",
   "execution_count": 37,
   "metadata": {},
   "outputs": [
    {
     "data": {
      "text/plain": [
       "['    1A1 - Energy Industries',\n",
       " '    1A2 - Manufacturing industries and construction',\n",
       " '    1A3 - Transport',\n",
       " '    1A4 - Residential and other sectors',\n",
       " '    1A5 - Energy - Other',\n",
       " '    1B - Fugitive Emissions from Fuels',\n",
       " '    1C - CO2 from Transport and Storage']"
      ]
     },
     "execution_count": 37,
     "metadata": {},
     "output_type": "execute_result"
    }
   ],
   "source": [
    "# we extract the names of the sectors :\n",
    "sleep(7)\n",
    "sectors = []\n",
    "for i in range(2, 9):\n",
    "    xpath_expression = f\"//select/option[contains(@value, '{i}~ENER_')]\"\n",
    "    sector = driver.find_element(By.XPATH, xpath_expression)\n",
    "    sectors.append(sector.text)\n",
    "sectors"
   ]
  },
  {
   "cell_type": "code",
   "execution_count": 38,
   "metadata": {},
   "outputs": [
    {
     "data": {
      "text/plain": [
       "['Energy Industries',\n",
       " 'Manufacturing industries and construction',\n",
       " 'Transport',\n",
       " 'Residential and other sectors',\n",
       " 'Energy - Other',\n",
       " 'Fugitive Emissions from Fuels',\n",
       " 'CO2 from Transport and Storage']"
      ]
     },
     "execution_count": 38,
     "metadata": {},
     "output_type": "execute_result"
    }
   ],
   "source": [
    "# in '    1A1 - Energy Industries', we want to keep only 'Energy Industries'. We do that for all the sectors\n",
    "sectors = [sector.split(' - ')[1] for sector in sectors]\n",
    "# the sector 'Energy' is re-changed to 'Energy - Other'\n",
    "sectors[4] = 'Energy - Other'\n",
    "sectors"
   ]
  },
  {
   "cell_type": "code",
   "execution_count": 39,
   "metadata": {},
   "outputs": [
    {
     "data": {
      "text/html": [
       "<div>\n",
       "<style scoped>\n",
       "    .dataframe tbody tr th:only-of-type {\n",
       "        vertical-align: middle;\n",
       "    }\n",
       "\n",
       "    .dataframe tbody tr th {\n",
       "        vertical-align: top;\n",
       "    }\n",
       "\n",
       "    .dataframe thead th {\n",
       "        text-align: right;\n",
       "    }\n",
       "</style>\n",
       "<table border=\"1\" class=\"dataframe\">\n",
       "  <thead>\n",
       "    <tr style=\"text-align: right;\">\n",
       "      <th></th>\n",
       "      <th>sector</th>\n",
       "      <th>country</th>\n",
       "      <th>year</th>\n",
       "      <th>GH emissions</th>\n",
       "    </tr>\n",
       "  </thead>\n",
       "  <tbody>\n",
       "  </tbody>\n",
       "</table>\n",
       "</div>"
      ],
      "text/plain": [
       "Empty DataFrame\n",
       "Columns: [sector, country, year, GH emissions]\n",
       "Index: []"
      ]
     },
     "execution_count": 39,
     "metadata": {},
     "output_type": "execute_result"
    }
   ],
   "source": [
    "# Cleaning the dataframe ...\n",
    "df = pd.DataFrame(columns=['sector', 'country', 'year', 'GH emissions'])\n",
    "df"
   ]
  },
  {
   "cell_type": "code",
   "execution_count": 40,
   "metadata": {},
   "outputs": [
    {
     "name": "stderr",
     "output_type": "stream",
     "text": [
      "100%|██████████| 64/64 [00:00<00:00, 90.78it/s]\n",
      "100%|██████████| 64/64 [00:00<00:00, 78.80it/s]\n",
      "100%|██████████| 64/64 [00:00<00:00, 71.57it/s]\n",
      "100%|██████████| 57/57 [00:00<00:00, 63.27it/s]\n",
      "100%|██████████| 51/51 [00:00<00:00, 59.47it/s]\n",
      "100%|██████████| 57/57 [00:01<00:00, 55.37it/s]\n",
      "100%|██████████| 8/8 [00:00<00:00, 51.28it/s]\n",
      "100%|██████████| 7/7 [00:58<00:00,  8.31s/it]\n"
     ]
    }
   ],
   "source": [
    "# we extract the data from npage 2 to npage 8\n",
    "for i in tqdm.tqdm(range(0, 7)):\n",
    "    df = extract_data(i+2, sectors[i], df)"
   ]
  },
  {
   "cell_type": "code",
   "execution_count": 41,
   "metadata": {},
   "outputs": [
    {
     "data": {
      "text/html": [
       "<div>\n",
       "<style scoped>\n",
       "    .dataframe tbody tr th:only-of-type {\n",
       "        vertical-align: middle;\n",
       "    }\n",
       "\n",
       "    .dataframe tbody tr th {\n",
       "        vertical-align: top;\n",
       "    }\n",
       "\n",
       "    .dataframe thead th {\n",
       "        text-align: right;\n",
       "    }\n",
       "</style>\n",
       "<table border=\"1\" class=\"dataframe\">\n",
       "  <thead>\n",
       "    <tr style=\"text-align: right;\">\n",
       "      <th></th>\n",
       "      <th>sector</th>\n",
       "      <th>country</th>\n",
       "      <th>year</th>\n",
       "      <th>GH emissions</th>\n",
       "    </tr>\n",
       "  </thead>\n",
       "  <tbody>\n",
       "    <tr>\n",
       "      <th>0</th>\n",
       "      <td>Energy Industries</td>\n",
       "      <td>Australia</td>\n",
       "      <td>1990</td>\n",
       "      <td>143 172.76</td>\n",
       "    </tr>\n",
       "    <tr>\n",
       "      <th>0</th>\n",
       "      <td>Energy Industries</td>\n",
       "      <td>Australia</td>\n",
       "      <td>1991</td>\n",
       "      <td>146 396.55</td>\n",
       "    </tr>\n",
       "    <tr>\n",
       "      <th>0</th>\n",
       "      <td>Energy Industries</td>\n",
       "      <td>Australia</td>\n",
       "      <td>1992</td>\n",
       "      <td>149 719.80</td>\n",
       "    </tr>\n",
       "    <tr>\n",
       "      <th>0</th>\n",
       "      <td>Energy Industries</td>\n",
       "      <td>Australia</td>\n",
       "      <td>1993</td>\n",
       "      <td>151 492.72</td>\n",
       "    </tr>\n",
       "    <tr>\n",
       "      <th>0</th>\n",
       "      <td>Energy Industries</td>\n",
       "      <td>Australia</td>\n",
       "      <td>1994</td>\n",
       "      <td>152 307.64</td>\n",
       "    </tr>\n",
       "  </tbody>\n",
       "</table>\n",
       "</div>"
      ],
      "text/plain": [
       "              sector    country  year GH emissions\n",
       "0  Energy Industries  Australia  1990   143 172.76\n",
       "0  Energy Industries  Australia  1991   146 396.55\n",
       "0  Energy Industries  Australia  1992   149 719.80\n",
       "0  Energy Industries  Australia  1993   151 492.72\n",
       "0  Energy Industries  Australia  1994   152 307.64"
      ]
     },
     "execution_count": 41,
     "metadata": {},
     "output_type": "execute_result"
    }
   ],
   "source": [
    "df.head()"
   ]
  },
  {
   "cell_type": "code",
   "execution_count": 48,
   "metadata": {},
   "outputs": [
    {
     "data": {
      "text/html": [
       "<div>\n",
       "<style scoped>\n",
       "    .dataframe tbody tr th:only-of-type {\n",
       "        vertical-align: middle;\n",
       "    }\n",
       "\n",
       "    .dataframe tbody tr th {\n",
       "        vertical-align: top;\n",
       "    }\n",
       "\n",
       "    .dataframe thead th {\n",
       "        text-align: right;\n",
       "    }\n",
       "</style>\n",
       "<table border=\"1\" class=\"dataframe\">\n",
       "  <thead>\n",
       "    <tr style=\"text-align: right;\">\n",
       "      <th></th>\n",
       "      <th>sector</th>\n",
       "      <th>country</th>\n",
       "      <th>year</th>\n",
       "      <th>GH emissions</th>\n",
       "    </tr>\n",
       "  </thead>\n",
       "  <tbody>\n",
       "    <tr>\n",
       "      <th>0</th>\n",
       "      <td>Fugitive Emissions from Fuels</td>\n",
       "      <td>OECD - Europe</td>\n",
       "      <td>1990</td>\n",
       "      <td>184 067.20</td>\n",
       "    </tr>\n",
       "    <tr>\n",
       "      <th>0</th>\n",
       "      <td>Fugitive Emissions from Fuels</td>\n",
       "      <td>OECD - Europe</td>\n",
       "      <td>1991</td>\n",
       "      <td>175 467.25</td>\n",
       "    </tr>\n",
       "    <tr>\n",
       "      <th>0</th>\n",
       "      <td>Fugitive Emissions from Fuels</td>\n",
       "      <td>OECD - Europe</td>\n",
       "      <td>1992</td>\n",
       "      <td>172 353.00</td>\n",
       "    </tr>\n",
       "    <tr>\n",
       "      <th>0</th>\n",
       "      <td>Fugitive Emissions from Fuels</td>\n",
       "      <td>OECD - Europe</td>\n",
       "      <td>1993</td>\n",
       "      <td>170 686.44</td>\n",
       "    </tr>\n",
       "    <tr>\n",
       "      <th>0</th>\n",
       "      <td>Fugitive Emissions from Fuels</td>\n",
       "      <td>OECD - Europe</td>\n",
       "      <td>1994</td>\n",
       "      <td>158 913.91</td>\n",
       "    </tr>\n",
       "    <tr>\n",
       "      <th>0</th>\n",
       "      <td>Fugitive Emissions from Fuels</td>\n",
       "      <td>OECD - Europe</td>\n",
       "      <td>1995</td>\n",
       "      <td>159 189.67</td>\n",
       "    </tr>\n",
       "    <tr>\n",
       "      <th>0</th>\n",
       "      <td>Fugitive Emissions from Fuels</td>\n",
       "      <td>OECD - Europe</td>\n",
       "      <td>1996</td>\n",
       "      <td>154 823.81</td>\n",
       "    </tr>\n",
       "    <tr>\n",
       "      <th>0</th>\n",
       "      <td>Fugitive Emissions from Fuels</td>\n",
       "      <td>OECD - Europe</td>\n",
       "      <td>1997</td>\n",
       "      <td>150 382.61</td>\n",
       "    </tr>\n",
       "    <tr>\n",
       "      <th>0</th>\n",
       "      <td>Fugitive Emissions from Fuels</td>\n",
       "      <td>OECD - Europe</td>\n",
       "      <td>1998</td>\n",
       "      <td>143 130.36</td>\n",
       "    </tr>\n",
       "    <tr>\n",
       "      <th>0</th>\n",
       "      <td>Fugitive Emissions from Fuels</td>\n",
       "      <td>OECD - Europe</td>\n",
       "      <td>1999</td>\n",
       "      <td>139 553.66</td>\n",
       "    </tr>\n",
       "  </tbody>\n",
       "</table>\n",
       "</div>"
      ],
      "text/plain": [
       "                          sector        country  year GH emissions\n",
       "0  Fugitive Emissions from Fuels  OECD - Europe  1990   184 067.20\n",
       "0  Fugitive Emissions from Fuels  OECD - Europe  1991   175 467.25\n",
       "0  Fugitive Emissions from Fuels  OECD - Europe  1992   172 353.00\n",
       "0  Fugitive Emissions from Fuels  OECD - Europe  1993   170 686.44\n",
       "0  Fugitive Emissions from Fuels  OECD - Europe  1994   158 913.91\n",
       "0  Fugitive Emissions from Fuels  OECD - Europe  1995   159 189.67\n",
       "0  Fugitive Emissions from Fuels  OECD - Europe  1996   154 823.81\n",
       "0  Fugitive Emissions from Fuels  OECD - Europe  1997   150 382.61\n",
       "0  Fugitive Emissions from Fuels  OECD - Europe  1998   143 130.36\n",
       "0  Fugitive Emissions from Fuels  OECD - Europe  1999   139 553.66"
      ]
     },
     "execution_count": 48,
     "metadata": {},
     "output_type": "execute_result"
    }
   ],
   "source": [
    "# we search for the lines that have both country = 'OECD - Europe' and sector = 'Fugitive Emissions from Fuels'\n",
    "df[(df['country'] == 'OECD - Europe') & (df['sector'] == 'Fugitive Emissions from Fuels')].head(10)"
   ]
  },
  {
   "cell_type": "code",
   "execution_count": 43,
   "metadata": {},
   "outputs": [
    {
     "name": "stdout",
     "output_type": "stream",
     "text": [
      "<class 'pandas.core.frame.DataFrame'>\n",
      "Index: 11680 entries, 0 to 0\n",
      "Data columns (total 4 columns):\n",
      " #   Column        Non-Null Count  Dtype \n",
      "---  ------        --------------  ----- \n",
      " 0   sector        11680 non-null  object\n",
      " 1   country       11680 non-null  object\n",
      " 2   year          11680 non-null  object\n",
      " 3   GH emissions  11680 non-null  object\n",
      "dtypes: object(4)\n",
      "memory usage: 456.2+ KB\n"
     ]
    }
   ],
   "source": [
    "df.info()"
   ]
  },
  {
   "cell_type": "code",
   "execution_count": 50,
   "metadata": {},
   "outputs": [],
   "source": [
    "# let's crate a checkpoint for the dataframe df\n",
    "df.to_csv('data_csv/cp_GH_emissions.csv', index=False)"
   ]
  },
  {
   "cell_type": "code",
   "execution_count": 95,
   "metadata": {},
   "outputs": [
    {
     "data": {
      "text/html": [
       "<div>\n",
       "<style scoped>\n",
       "    .dataframe tbody tr th:only-of-type {\n",
       "        vertical-align: middle;\n",
       "    }\n",
       "\n",
       "    .dataframe tbody tr th {\n",
       "        vertical-align: top;\n",
       "    }\n",
       "\n",
       "    .dataframe thead th {\n",
       "        text-align: right;\n",
       "    }\n",
       "</style>\n",
       "<table border=\"1\" class=\"dataframe\">\n",
       "  <thead>\n",
       "    <tr style=\"text-align: right;\">\n",
       "      <th></th>\n",
       "      <th>sector</th>\n",
       "      <th>country</th>\n",
       "      <th>year</th>\n",
       "      <th>GH emissions</th>\n",
       "    </tr>\n",
       "  </thead>\n",
       "  <tbody>\n",
       "    <tr>\n",
       "      <th>0</th>\n",
       "      <td>Energy Industries</td>\n",
       "      <td>Australia</td>\n",
       "      <td>1990</td>\n",
       "      <td>143 172.76</td>\n",
       "    </tr>\n",
       "    <tr>\n",
       "      <th>1</th>\n",
       "      <td>Energy Industries</td>\n",
       "      <td>Australia</td>\n",
       "      <td>1991</td>\n",
       "      <td>146 396.55</td>\n",
       "    </tr>\n",
       "    <tr>\n",
       "      <th>2</th>\n",
       "      <td>Energy Industries</td>\n",
       "      <td>Australia</td>\n",
       "      <td>1992</td>\n",
       "      <td>149 719.80</td>\n",
       "    </tr>\n",
       "    <tr>\n",
       "      <th>3</th>\n",
       "      <td>Energy Industries</td>\n",
       "      <td>Australia</td>\n",
       "      <td>1993</td>\n",
       "      <td>151 492.72</td>\n",
       "    </tr>\n",
       "    <tr>\n",
       "      <th>4</th>\n",
       "      <td>Energy Industries</td>\n",
       "      <td>Australia</td>\n",
       "      <td>1994</td>\n",
       "      <td>152 307.64</td>\n",
       "    </tr>\n",
       "  </tbody>\n",
       "</table>\n",
       "</div>"
      ],
      "text/plain": [
       "              sector    country  year GH emissions\n",
       "0  Energy Industries  Australia  1990   143 172.76\n",
       "1  Energy Industries  Australia  1991   146 396.55\n",
       "2  Energy Industries  Australia  1992   149 719.80\n",
       "3  Energy Industries  Australia  1993   151 492.72\n",
       "4  Energy Industries  Australia  1994   152 307.64"
      ]
     },
     "execution_count": 95,
     "metadata": {},
     "output_type": "execute_result"
    }
   ],
   "source": [
    "# we modify a copy of the dataframe imported from the checkpoint\n",
    "# we import data from the checkpoint 'data_csv/cp_GH_emissions.csv'\n",
    "df2 = pd.read_csv('data_csv/cp_GH_emissions.csv')\n",
    "df2.head()"
   ]
  },
  {
   "cell_type": "code",
   "execution_count": 96,
   "metadata": {},
   "outputs": [],
   "source": [
    "# we convert sector and country to string, year to int and GH emissions to float GH emmissions are currently of the form '123 313.04'\"Web Scrapping CM1.docx\"\n",
    "df2['sector'] = df2['sector'].astype(str)\n",
    "df2['country'] = df2['country'].astype(str)\n",
    "df2['year'] = df2['year'].astype(int)\n",
    "df2['GH emissions'] = df2['GH emissions'].astype(str) "
   ]
  },
  {
   "cell_type": "code",
   "execution_count": 97,
   "metadata": {},
   "outputs": [],
   "source": [
    "df2['GH emissions'] = df2['GH emissions'].replace(\"..\", 'NaN')\n",
    "df2['GH emissions'] = df2['GH emissions'].str.replace('(B)', '')\n",
    "df2['GH emissions'] = df2['GH emissions'].str.replace('\\xa0', '')"
   ]
  },
  {
   "cell_type": "code",
   "execution_count": 98,
   "metadata": {},
   "outputs": [],
   "source": [
    "df2['GH emissions'] = df2['GH emissions'].apply(lambda x: float(x) if x != '' else np.nan)"
   ]
  },
  {
   "cell_type": "code",
   "execution_count": 99,
   "metadata": {},
   "outputs": [
    {
     "name": "stdout",
     "output_type": "stream",
     "text": [
      "<class 'pandas.core.frame.DataFrame'>\n",
      "RangeIndex: 11680 entries, 0 to 11679\n",
      "Data columns (total 4 columns):\n",
      " #   Column        Non-Null Count  Dtype  \n",
      "---  ------        --------------  -----  \n",
      " 0   sector        11680 non-null  object \n",
      " 1   country       11680 non-null  object \n",
      " 2   year          11680 non-null  int32  \n",
      " 3   GH emissions  10268 non-null  float64\n",
      "dtypes: float64(1), int32(1), object(2)\n",
      "memory usage: 319.5+ KB\n"
     ]
    }
   ],
   "source": [
    "df2.info()"
   ]
  }
 ],
 "metadata": {
  "kernelspec": {
   "display_name": "base",
   "language": "python",
   "name": "python3"
  },
  "language_info": {
   "codemirror_mode": {
    "name": "ipython",
    "version": 3
   },
   "file_extension": ".py",
   "mimetype": "text/x-python",
   "name": "python",
   "nbconvert_exporter": "python",
   "pygments_lexer": "ipython3",
   "version": "3.11.7"
  }
 },
 "nbformat": 4,
 "nbformat_minor": 2
}

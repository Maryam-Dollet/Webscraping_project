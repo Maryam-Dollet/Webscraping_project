{
 "cells": [
  {
   "cell_type": "code",
   "execution_count": 2,
   "metadata": {},
   "outputs": [],
   "source": [
    "import pandas as pd\n",
    "import numpy as np\n",
    "import requests\n",
    "import os\n",
    "from dotenv import load_dotenv"
   ]
  },
  {
   "cell_type": "code",
   "execution_count": 3,
   "metadata": {},
   "outputs": [
    {
     "data": {
      "text/plain": [
       "True"
      ]
     },
     "execution_count": 3,
     "metadata": {},
     "output_type": "execute_result"
    }
   ],
   "source": [
    "load_dotenv()"
   ]
  },
  {
   "cell_type": "markdown",
   "metadata": {},
   "source": [
    "### Get the Latitude and Longitude of each city by using an API"
   ]
  },
  {
   "cell_type": "markdown",
   "metadata": {},
   "source": [
    "https://api-ninjas.com/api/geocoding"
   ]
  },
  {
   "cell_type": "markdown",
   "metadata": {},
   "source": [
    "Needs an account to get the API key, 10000 request per month authorized"
   ]
  },
  {
   "cell_type": "code",
   "execution_count": 4,
   "metadata": {},
   "outputs": [],
   "source": [
    "API_KEY = os.getenv('GEO_API_KEY')"
   ]
  },
  {
   "cell_type": "code",
   "execution_count": 5,
   "metadata": {},
   "outputs": [
    {
     "name": "stdout",
     "output_type": "stream",
     "text": [
      "200\n",
      "{'name': 'London', 'latitude': 51.5073219, 'longitude': -0.1276474, 'country': 'GB', 'state': 'England'}\n"
     ]
    }
   ],
   "source": [
    "city = 'london'\n",
    "api_url = f'https://api.api-ninjas.com/v1/geocoding?city={city}'\n",
    "response = requests.get(api_url, headers={'X-Api-Key': API_KEY})\n",
    "print(response.status_code)\n",
    "if response.status_code == requests.codes.ok:\n",
    "    city_position = response.json()[0]\n",
    "    print(response.json()[0])\n",
    "else:\n",
    "    print(\"Error:\", response.status_code, response.text)"
   ]
  },
  {
   "cell_type": "markdown",
   "metadata": {},
   "source": [
    "### Get unique cities in the Dataframe"
   ]
  },
  {
   "cell_type": "code",
   "execution_count": 7,
   "metadata": {},
   "outputs": [
    {
     "data": {
      "text/html": [
       "<div>\n",
       "<style scoped>\n",
       "    .dataframe tbody tr th:only-of-type {\n",
       "        vertical-align: middle;\n",
       "    }\n",
       "\n",
       "    .dataframe tbody tr th {\n",
       "        vertical-align: top;\n",
       "    }\n",
       "\n",
       "    .dataframe thead th {\n",
       "        text-align: right;\n",
       "    }\n",
       "</style>\n",
       "<table border=\"1\" class=\"dataframe\">\n",
       "  <thead>\n",
       "    <tr style=\"text-align: right;\">\n",
       "      <th></th>\n",
       "      <th>Place</th>\n",
       "      <th>Pays</th>\n",
       "      <th>Or</th>\n",
       "      <th>Argent</th>\n",
       "      <th>Bronze</th>\n",
       "      <th>Total</th>\n",
       "      <th>Lieu</th>\n",
       "      <th>Annee</th>\n",
       "    </tr>\n",
       "  </thead>\n",
       "  <tbody>\n",
       "    <tr>\n",
       "      <th>0</th>\n",
       "      <td>1</td>\n",
       "      <td>Etats Unis</td>\n",
       "      <td>38</td>\n",
       "      <td>41</td>\n",
       "      <td>34</td>\n",
       "      <td>113</td>\n",
       "      <td>Tokyo</td>\n",
       "      <td>2021</td>\n",
       "    </tr>\n",
       "    <tr>\n",
       "      <th>1</th>\n",
       "      <td>2</td>\n",
       "      <td>Chine</td>\n",
       "      <td>36</td>\n",
       "      <td>32</td>\n",
       "      <td>18</td>\n",
       "      <td>86</td>\n",
       "      <td>Tokyo</td>\n",
       "      <td>2021</td>\n",
       "    </tr>\n",
       "    <tr>\n",
       "      <th>2</th>\n",
       "      <td>3</td>\n",
       "      <td>Japon</td>\n",
       "      <td>27</td>\n",
       "      <td>12</td>\n",
       "      <td>16</td>\n",
       "      <td>55</td>\n",
       "      <td>Tokyo</td>\n",
       "      <td>2021</td>\n",
       "    </tr>\n",
       "    <tr>\n",
       "      <th>3</th>\n",
       "      <td>4</td>\n",
       "      <td>Grande Bretagne</td>\n",
       "      <td>22</td>\n",
       "      <td>21</td>\n",
       "      <td>22</td>\n",
       "      <td>65</td>\n",
       "      <td>Tokyo</td>\n",
       "      <td>2021</td>\n",
       "    </tr>\n",
       "    <tr>\n",
       "      <th>4</th>\n",
       "      <td>5</td>\n",
       "      <td>Russie</td>\n",
       "      <td>20</td>\n",
       "      <td>28</td>\n",
       "      <td>23</td>\n",
       "      <td>71</td>\n",
       "      <td>Tokyo</td>\n",
       "      <td>2021</td>\n",
       "    </tr>\n",
       "    <tr>\n",
       "      <th>...</th>\n",
       "      <td>...</td>\n",
       "      <td>...</td>\n",
       "      <td>...</td>\n",
       "      <td>...</td>\n",
       "      <td>...</td>\n",
       "      <td>...</td>\n",
       "      <td>...</td>\n",
       "      <td>...</td>\n",
       "    </tr>\n",
       "    <tr>\n",
       "      <th>1377</th>\n",
       "      <td>6</td>\n",
       "      <td>Hongrie</td>\n",
       "      <td>2</td>\n",
       "      <td>1</td>\n",
       "      <td>3</td>\n",
       "      <td>6</td>\n",
       "      <td>Athènes</td>\n",
       "      <td>1896</td>\n",
       "    </tr>\n",
       "    <tr>\n",
       "      <th>1378</th>\n",
       "      <td>7</td>\n",
       "      <td>Autriche</td>\n",
       "      <td>2</td>\n",
       "      <td>1</td>\n",
       "      <td>2</td>\n",
       "      <td>5</td>\n",
       "      <td>Athènes</td>\n",
       "      <td>1896</td>\n",
       "    </tr>\n",
       "    <tr>\n",
       "      <th>1379</th>\n",
       "      <td>8</td>\n",
       "      <td>Australie</td>\n",
       "      <td>2</td>\n",
       "      <td>0</td>\n",
       "      <td>1</td>\n",
       "      <td>3</td>\n",
       "      <td>Athènes</td>\n",
       "      <td>1896</td>\n",
       "    </tr>\n",
       "    <tr>\n",
       "      <th>1380</th>\n",
       "      <td>9</td>\n",
       "      <td>Danemark</td>\n",
       "      <td>1</td>\n",
       "      <td>2</td>\n",
       "      <td>3</td>\n",
       "      <td>6</td>\n",
       "      <td>Athènes</td>\n",
       "      <td>1896</td>\n",
       "    </tr>\n",
       "    <tr>\n",
       "      <th>1381</th>\n",
       "      <td>10</td>\n",
       "      <td>Suisse</td>\n",
       "      <td>1</td>\n",
       "      <td>2</td>\n",
       "      <td>0</td>\n",
       "      <td>3</td>\n",
       "      <td>Athènes</td>\n",
       "      <td>1896</td>\n",
       "    </tr>\n",
       "  </tbody>\n",
       "</table>\n",
       "<p>1382 rows × 8 columns</p>\n",
       "</div>"
      ],
      "text/plain": [
       "      Place             Pays  Or  Argent  Bronze  Total     Lieu  Annee\n",
       "0         1       Etats Unis  38      41      34    113    Tokyo   2021\n",
       "1         2            Chine  36      32      18     86    Tokyo   2021\n",
       "2         3            Japon  27      12      16     55    Tokyo   2021\n",
       "3         4  Grande Bretagne  22      21      22     65    Tokyo   2021\n",
       "4         5           Russie  20      28      23     71    Tokyo   2021\n",
       "...     ...              ...  ..     ...     ...    ...      ...    ...\n",
       "1377      6          Hongrie   2       1       3      6  Athènes   1896\n",
       "1378      7         Autriche   2       1       2      5  Athènes   1896\n",
       "1379      8        Australie   2       0       1      3  Athènes   1896\n",
       "1380      9         Danemark   1       2       3      6  Athènes   1896\n",
       "1381     10           Suisse   1       2       0      3  Athènes   1896\n",
       "\n",
       "[1382 rows x 8 columns]"
      ]
     },
     "execution_count": 7,
     "metadata": {},
     "output_type": "execute_result"
    }
   ],
   "source": [
    "df_results = pd.read_csv(\"data_csv/results.csv\", sep=\",\")\n",
    "df_results"
   ]
  },
  {
   "cell_type": "code",
   "execution_count": 8,
   "metadata": {},
   "outputs": [],
   "source": [
    "df_results = df_results.drop_duplicates()"
   ]
  },
  {
   "cell_type": "code",
   "execution_count": 9,
   "metadata": {},
   "outputs": [
    {
     "data": {
      "text/html": [
       "<div>\n",
       "<style scoped>\n",
       "    .dataframe tbody tr th:only-of-type {\n",
       "        vertical-align: middle;\n",
       "    }\n",
       "\n",
       "    .dataframe tbody tr th {\n",
       "        vertical-align: top;\n",
       "    }\n",
       "\n",
       "    .dataframe thead th {\n",
       "        text-align: right;\n",
       "    }\n",
       "</style>\n",
       "<table border=\"1\" class=\"dataframe\">\n",
       "  <thead>\n",
       "    <tr style=\"text-align: right;\">\n",
       "      <th></th>\n",
       "      <th>Place</th>\n",
       "      <th>Pays</th>\n",
       "      <th>Or</th>\n",
       "      <th>Argent</th>\n",
       "      <th>Bronze</th>\n",
       "      <th>Total</th>\n",
       "      <th>Lieu</th>\n",
       "      <th>Annee</th>\n",
       "    </tr>\n",
       "  </thead>\n",
       "  <tbody>\n",
       "    <tr>\n",
       "      <th>0</th>\n",
       "      <td>1</td>\n",
       "      <td>Etats Unis</td>\n",
       "      <td>38</td>\n",
       "      <td>41</td>\n",
       "      <td>34</td>\n",
       "      <td>113</td>\n",
       "      <td>Tokyo</td>\n",
       "      <td>2021</td>\n",
       "    </tr>\n",
       "    <tr>\n",
       "      <th>1</th>\n",
       "      <td>2</td>\n",
       "      <td>Chine</td>\n",
       "      <td>36</td>\n",
       "      <td>32</td>\n",
       "      <td>18</td>\n",
       "      <td>86</td>\n",
       "      <td>Tokyo</td>\n",
       "      <td>2021</td>\n",
       "    </tr>\n",
       "    <tr>\n",
       "      <th>2</th>\n",
       "      <td>3</td>\n",
       "      <td>Japon</td>\n",
       "      <td>27</td>\n",
       "      <td>12</td>\n",
       "      <td>16</td>\n",
       "      <td>55</td>\n",
       "      <td>Tokyo</td>\n",
       "      <td>2021</td>\n",
       "    </tr>\n",
       "    <tr>\n",
       "      <th>3</th>\n",
       "      <td>4</td>\n",
       "      <td>Grande Bretagne</td>\n",
       "      <td>22</td>\n",
       "      <td>21</td>\n",
       "      <td>22</td>\n",
       "      <td>65</td>\n",
       "      <td>Tokyo</td>\n",
       "      <td>2021</td>\n",
       "    </tr>\n",
       "    <tr>\n",
       "      <th>4</th>\n",
       "      <td>5</td>\n",
       "      <td>Russie</td>\n",
       "      <td>20</td>\n",
       "      <td>28</td>\n",
       "      <td>23</td>\n",
       "      <td>71</td>\n",
       "      <td>Tokyo</td>\n",
       "      <td>2021</td>\n",
       "    </tr>\n",
       "    <tr>\n",
       "      <th>...</th>\n",
       "      <td>...</td>\n",
       "      <td>...</td>\n",
       "      <td>...</td>\n",
       "      <td>...</td>\n",
       "      <td>...</td>\n",
       "      <td>...</td>\n",
       "      <td>...</td>\n",
       "      <td>...</td>\n",
       "    </tr>\n",
       "    <tr>\n",
       "      <th>1377</th>\n",
       "      <td>6</td>\n",
       "      <td>Hongrie</td>\n",
       "      <td>2</td>\n",
       "      <td>1</td>\n",
       "      <td>3</td>\n",
       "      <td>6</td>\n",
       "      <td>Athènes</td>\n",
       "      <td>1896</td>\n",
       "    </tr>\n",
       "    <tr>\n",
       "      <th>1378</th>\n",
       "      <td>7</td>\n",
       "      <td>Autriche</td>\n",
       "      <td>2</td>\n",
       "      <td>1</td>\n",
       "      <td>2</td>\n",
       "      <td>5</td>\n",
       "      <td>Athènes</td>\n",
       "      <td>1896</td>\n",
       "    </tr>\n",
       "    <tr>\n",
       "      <th>1379</th>\n",
       "      <td>8</td>\n",
       "      <td>Australie</td>\n",
       "      <td>2</td>\n",
       "      <td>0</td>\n",
       "      <td>1</td>\n",
       "      <td>3</td>\n",
       "      <td>Athènes</td>\n",
       "      <td>1896</td>\n",
       "    </tr>\n",
       "    <tr>\n",
       "      <th>1380</th>\n",
       "      <td>9</td>\n",
       "      <td>Danemark</td>\n",
       "      <td>1</td>\n",
       "      <td>2</td>\n",
       "      <td>3</td>\n",
       "      <td>6</td>\n",
       "      <td>Athènes</td>\n",
       "      <td>1896</td>\n",
       "    </tr>\n",
       "    <tr>\n",
       "      <th>1381</th>\n",
       "      <td>10</td>\n",
       "      <td>Suisse</td>\n",
       "      <td>1</td>\n",
       "      <td>2</td>\n",
       "      <td>0</td>\n",
       "      <td>3</td>\n",
       "      <td>Athènes</td>\n",
       "      <td>1896</td>\n",
       "    </tr>\n",
       "  </tbody>\n",
       "</table>\n",
       "<p>1372 rows × 8 columns</p>\n",
       "</div>"
      ],
      "text/plain": [
       "      Place             Pays  Or  Argent  Bronze  Total     Lieu  Annee\n",
       "0         1       Etats Unis  38      41      34    113    Tokyo   2021\n",
       "1         2            Chine  36      32      18     86    Tokyo   2021\n",
       "2         3            Japon  27      12      16     55    Tokyo   2021\n",
       "3         4  Grande Bretagne  22      21      22     65    Tokyo   2021\n",
       "4         5           Russie  20      28      23     71    Tokyo   2021\n",
       "...     ...              ...  ..     ...     ...    ...      ...    ...\n",
       "1377      6          Hongrie   2       1       3      6  Athènes   1896\n",
       "1378      7         Autriche   2       1       2      5  Athènes   1896\n",
       "1379      8        Australie   2       0       1      3  Athènes   1896\n",
       "1380      9         Danemark   1       2       3      6  Athènes   1896\n",
       "1381     10           Suisse   1       2       0      3  Athènes   1896\n",
       "\n",
       "[1372 rows x 8 columns]"
      ]
     },
     "execution_count": 9,
     "metadata": {},
     "output_type": "execute_result"
    }
   ],
   "source": [
    "df_results"
   ]
  },
  {
   "cell_type": "code",
   "execution_count": 15,
   "metadata": {},
   "outputs": [
    {
     "data": {
      "text/plain": [
       "array(['Tokyo', 'Rio de Janeiro', 'Londres', 'Pékin', 'Athènes', 'Sydney',\n",
       "       'Atlanta', 'Barcelone', 'Séoul', 'Los Angeles', 'Moscou',\n",
       "       'Montréal', 'Munich', 'Mexico', 'Rome', 'Melbourne', 'Helsinki',\n",
       "       'Berlin', 'Amsterdam', 'Paris', 'Anvers', 'Stockholm',\n",
       "       'Saint Louis'], dtype=object)"
      ]
     },
     "execution_count": 15,
     "metadata": {},
     "output_type": "execute_result"
    }
   ],
   "source": [
    "df_results[\"Lieu\"].unique()"
   ]
  },
  {
   "cell_type": "code",
   "execution_count": 16,
   "metadata": {},
   "outputs": [],
   "source": [
    "def get_position(city_list: list):\n",
    "    city_position_list = []\n",
    "    for city in city_list:\n",
    "        city_info = {\"City\": city}\n",
    "        api_url = f'https://api.api-ninjas.com/v1/geocoding?city={city}'\n",
    "        response = requests.get(api_url, headers={'X-Api-Key': API_KEY})\n",
    "        \n",
    "        if response.status_code == requests.codes.ok:\n",
    "            print(response.json()[0])\n",
    "            city_info.update(response.json()[0])\n",
    "            city_position_list.append(city_info)\n",
    "        else:\n",
    "            print(\"Error:\", response.status_code, response.text)\n",
    "    \n",
    "    return pd.DataFrame(city_position_list).rename(columns={\"name\":\"city_name\"})"
   ]
  },
  {
   "cell_type": "code",
   "execution_count": 18,
   "metadata": {},
   "outputs": [
    {
     "name": "stdout",
     "output_type": "stream",
     "text": [
      "{'name': 'Tokyo', 'latitude': 35.6828387, 'longitude': 139.7594549, 'country': 'JP'}\n"
     ]
    }
   ],
   "source": [
    "city_position_list = get_position(df_results[\"Lieu\"].unique())"
   ]
  },
  {
   "cell_type": "code",
   "execution_count": null,
   "metadata": {},
   "outputs": [],
   "source": []
  }
 ],
 "metadata": {
  "kernelspec": {
   "display_name": "yugioh-api",
   "language": "python",
   "name": "python3"
  },
  "language_info": {
   "codemirror_mode": {
    "name": "ipython",
    "version": 3
   },
   "file_extension": ".py",
   "mimetype": "text/x-python",
   "name": "python",
   "nbconvert_exporter": "python",
   "pygments_lexer": "ipython3",
   "version": "3.10.13"
  }
 },
 "nbformat": 4,
 "nbformat_minor": 2
}
